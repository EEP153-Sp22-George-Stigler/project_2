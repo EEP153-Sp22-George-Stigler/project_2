{
 "cells": [
  {
   "cell_type": "code",
   "execution_count": 1,
   "id": "6cc7ec82",
   "metadata": {},
   "outputs": [
    {
     "name": "stdout",
     "output_type": "stream",
     "text": [
      "Collecting eep153_tools\n",
      "  Using cached eep153_tools-0.11-py2.py3-none-any.whl (4.4 kB)\n",
      "Installing collected packages: eep153-tools\n",
      "Successfully installed eep153-tools-0.11\n"
     ]
    }
   ],
   "source": [
    "!pip install eep153_tools --upgrade"
   ]
  },
  {
   "cell_type": "code",
   "execution_count": 2,
   "id": "2917eb6c",
   "metadata": {},
   "outputs": [
    {
     "name": "stdout",
     "output_type": "stream",
     "text": [
      "Requirement already satisfied: numpy>=1.20.3 in /opt/conda/lib/python3.9/site-packages (from -r requirements.txt (line 4)) (1.21.5)\n",
      "Requirement already satisfied: pandas>=1.2.5 in /opt/conda/lib/python3.9/site-packages (from -r requirements.txt (line 7)) (1.3.5)\n",
      "Collecting pint>=0.18\n",
      "  Using cached Pint-0.18-py2.py3-none-any.whl (209 kB)\n",
      "Requirement already satisfied: requests>=2.26.0 in /opt/conda/lib/python3.9/site-packages (from -r requirements.txt (line 13)) (2.26.0)\n",
      "Requirement already satisfied: eep153_tools in /opt/conda/lib/python3.9/site-packages (from -r requirements.txt (line 15)) (0.11)\n",
      "Processing /home/jovyan/.cache/pip/wheels/20/7e/30/7d702acd6a1e89911301cd9dbf9cb9870ca80c0e64bc2cde23/gnupg-2.3.1-py3-none-any.whl\n",
      "Requirement already satisfied: python-dateutil>=2.7.3 in /opt/conda/lib/python3.9/site-packages (from pandas>=1.2.5->-r requirements.txt (line 7)) (2.8.0)\n",
      "Requirement already satisfied: pytz>=2017.3 in /opt/conda/lib/python3.9/site-packages (from pandas>=1.2.5->-r requirements.txt (line 7)) (2021.1)\n",
      "Requirement already satisfied: packaging in /opt/conda/lib/python3.9/site-packages (from pint>=0.18->-r requirements.txt (line 10)) (21.3)\n",
      "Requirement already satisfied: certifi>=2017.4.17 in /opt/conda/lib/python3.9/site-packages (from requests>=2.26.0->-r requirements.txt (line 13)) (2019.11.28)\n",
      "Requirement already satisfied: idna<4,>=2.5; python_version >= \"3\" in /opt/conda/lib/python3.9/site-packages (from requests>=2.26.0->-r requirements.txt (line 13)) (2.8)\n",
      "Requirement already satisfied: urllib3<1.27,>=1.21.1 in /opt/conda/lib/python3.9/site-packages (from requests>=2.26.0->-r requirements.txt (line 13)) (1.25.7)\n",
      "Requirement already satisfied: charset-normalizer~=2.0.0; python_version >= \"3\" in /opt/conda/lib/python3.9/site-packages (from requests>=2.26.0->-r requirements.txt (line 13)) (2.0.0)\n",
      "Requirement already satisfied: psutil>=1.2.1 in /opt/conda/lib/python3.9/site-packages (from gnupg->-r requirements.txt (line 17)) (5.9.0)\n",
      "Requirement already satisfied: six>=1.5 in /opt/conda/lib/python3.9/site-packages (from python-dateutil>=2.7.3->pandas>=1.2.5->-r requirements.txt (line 7)) (1.16.0)\n",
      "Requirement already satisfied: pyparsing!=3.0.5,>=2.0.2 in /opt/conda/lib/python3.9/site-packages (from packaging->pint>=0.18->-r requirements.txt (line 10)) (3.0.7)\n",
      "Installing collected packages: pint, gnupg\n",
      "  Attempting uninstall: pint\n",
      "    Found existing installation: Pint 0.17\n",
      "    Uninstalling Pint-0.17:\n",
      "      Successfully uninstalled Pint-0.17\n",
      "Successfully installed gnupg-2.3.1 pint-0.18\n"
     ]
    }
   ],
   "source": [
    "!pip install -r requirements.txt"
   ]
  },
  {
   "cell_type": "code",
   "execution_count": 3,
   "id": "abdfeb2e",
   "metadata": {},
   "outputs": [
    {
     "name": "stdout",
     "output_type": "stream",
     "text": [
      "HEAD is now at 64bf06e Update diet_problem2.ipynb\r\n"
     ]
    }
   ],
   "source": [
    "!git reset --hard origin/master"
   ]
  },
  {
   "cell_type": "code",
   "execution_count": 4,
   "id": "6c3c4f3b",
   "metadata": {},
   "outputs": [],
   "source": [
    "#import fooddatacentral as fdc\n",
    "user = \"ligon\"\n",
    "\n",
    "# API key\n",
    "apikey = \"mAWBKrWZVhS4FwD7gC8HJ6RLQcVQieRiwSRFD9a9\"\n",
    "\n",
    "import pandas as pd\n",
    "import numpy as np\n",
    "\n",
    "from  scipy.optimize import linprog as lp\n",
    "import numpy as np\n",
    "import warnings\n",
    "from eep153_tools.sheets import read_sheets"
   ]
  },
  {
   "cell_type": "markdown",
   "id": "92563117",
   "metadata": {},
   "source": [
    "# Dietary Reference Intake - [A]"
   ]
  },
  {
   "cell_type": "markdown",
   "id": "23380b1a",
   "metadata": {},
   "source": [
    "Our dietary reference intake function takes in a specified age and sex and returns the corresponding sex/age group that the inputs belong to. We use this output to index into the diet_minimum and diet_maximum dataframes in order to obtain the minimum or maximum quantity of each nutrient that a person in the age/sex group should be taking in. "
   ]
  },
  {
   "cell_type": "code",
   "execution_count": 74,
   "id": "16a97e3d",
   "metadata": {},
   "outputs": [
    {
     "name": "stdout",
     "output_type": "stream",
     "text": [
      "Key available for students@eep153.iam.gserviceaccount.com.\n"
     ]
    }
   ],
   "source": [
    "DRI_url = \"https://docs.google.com/spreadsheets/d/1y95IsQ4HKspPW3HHDtH7QMtlDA66IUsCHJLutVL-MMc/\"\n",
    "\n",
    "DRIs = read_sheets(DRI_url)\n",
    "\n",
    "# Define *minimums*\n",
    "diet_min = DRIs['diet_minimums'].set_index('Nutrition')\n",
    "\n",
    "# Define *maximums*\n",
    "diet_max = DRIs['diet_maximums'].set_index('Nutrition')"
   ]
  },
  {
   "cell_type": "code",
   "execution_count": 75,
   "id": "7b2159ff",
   "metadata": {},
   "outputs": [
    {
     "data": {
      "text/html": [
       "<div>\n",
       "<style scoped>\n",
       "    .dataframe tbody tr th:only-of-type {\n",
       "        vertical-align: middle;\n",
       "    }\n",
       "\n",
       "    .dataframe tbody tr th {\n",
       "        vertical-align: top;\n",
       "    }\n",
       "\n",
       "    .dataframe thead th {\n",
       "        text-align: right;\n",
       "    }\n",
       "</style>\n",
       "<table border=\"1\" class=\"dataframe\">\n",
       "  <thead>\n",
       "    <tr style=\"text-align: right;\">\n",
       "      <th></th>\n",
       "      <th>Source</th>\n",
       "      <th>C 1-3</th>\n",
       "      <th>F 4-8</th>\n",
       "      <th>M 4-8</th>\n",
       "      <th>F 9-13</th>\n",
       "      <th>M 9-13</th>\n",
       "      <th>F 14-18</th>\n",
       "      <th>M 14-18</th>\n",
       "      <th>F 19-30</th>\n",
       "      <th>M 19-30</th>\n",
       "      <th>F 31-50</th>\n",
       "      <th>M 31-50</th>\n",
       "      <th>F 51+</th>\n",
       "      <th>M 51+</th>\n",
       "    </tr>\n",
       "    <tr>\n",
       "      <th>Nutrition</th>\n",
       "      <th></th>\n",
       "      <th></th>\n",
       "      <th></th>\n",
       "      <th></th>\n",
       "      <th></th>\n",
       "      <th></th>\n",
       "      <th></th>\n",
       "      <th></th>\n",
       "      <th></th>\n",
       "      <th></th>\n",
       "      <th></th>\n",
       "      <th></th>\n",
       "      <th></th>\n",
       "      <th></th>\n",
       "    </tr>\n",
       "  </thead>\n",
       "  <tbody>\n",
       "    <tr>\n",
       "      <th>Energy</th>\n",
       "      <td>---</td>\n",
       "      <td>1000.0</td>\n",
       "      <td>1200.0</td>\n",
       "      <td>1400.0</td>\n",
       "      <td>1600.0</td>\n",
       "      <td>1800.0</td>\n",
       "      <td>1800.0</td>\n",
       "      <td>2200.0</td>\n",
       "      <td>2000.0</td>\n",
       "      <td>2400.0</td>\n",
       "      <td>1800.0</td>\n",
       "      <td>2200.0</td>\n",
       "      <td>1600.0</td>\n",
       "      <td>2000.0</td>\n",
       "    </tr>\n",
       "    <tr>\n",
       "      <th>Protein</th>\n",
       "      <td>RDA</td>\n",
       "      <td>13.0</td>\n",
       "      <td>19.0</td>\n",
       "      <td>19.0</td>\n",
       "      <td>34.0</td>\n",
       "      <td>34.0</td>\n",
       "      <td>46.0</td>\n",
       "      <td>52.0</td>\n",
       "      <td>46.0</td>\n",
       "      <td>56.0</td>\n",
       "      <td>46.0</td>\n",
       "      <td>56.0</td>\n",
       "      <td>46.0</td>\n",
       "      <td>56.0</td>\n",
       "    </tr>\n",
       "    <tr>\n",
       "      <th>Fiber, total dietary</th>\n",
       "      <td>---</td>\n",
       "      <td>14.0</td>\n",
       "      <td>16.8</td>\n",
       "      <td>19.6</td>\n",
       "      <td>22.4</td>\n",
       "      <td>25.2</td>\n",
       "      <td>25.2</td>\n",
       "      <td>30.8</td>\n",
       "      <td>28.0</td>\n",
       "      <td>33.6</td>\n",
       "      <td>25.2</td>\n",
       "      <td>30.8</td>\n",
       "      <td>22.4</td>\n",
       "      <td>28.0</td>\n",
       "    </tr>\n",
       "    <tr>\n",
       "      <th>Folate, DFE</th>\n",
       "      <td>RDA</td>\n",
       "      <td>150.0</td>\n",
       "      <td>200.0</td>\n",
       "      <td>200.0</td>\n",
       "      <td>300.0</td>\n",
       "      <td>300.0</td>\n",
       "      <td>400.0</td>\n",
       "      <td>400.0</td>\n",
       "      <td>400.0</td>\n",
       "      <td>400.0</td>\n",
       "      <td>400.0</td>\n",
       "      <td>400.0</td>\n",
       "      <td>400.0</td>\n",
       "      <td>400.0</td>\n",
       "    </tr>\n",
       "    <tr>\n",
       "      <th>Calcium, Ca</th>\n",
       "      <td>RDA</td>\n",
       "      <td>700.0</td>\n",
       "      <td>1000.0</td>\n",
       "      <td>1000.0</td>\n",
       "      <td>1300.0</td>\n",
       "      <td>1300.0</td>\n",
       "      <td>1300.0</td>\n",
       "      <td>1300.0</td>\n",
       "      <td>1000.0</td>\n",
       "      <td>1000.0</td>\n",
       "      <td>1000.0</td>\n",
       "      <td>1000.0</td>\n",
       "      <td>1200.0</td>\n",
       "      <td>1000.0</td>\n",
       "    </tr>\n",
       "    <tr>\n",
       "      <th>Carbohydrate, by difference</th>\n",
       "      <td>RDA</td>\n",
       "      <td>130.0</td>\n",
       "      <td>130.0</td>\n",
       "      <td>130.0</td>\n",
       "      <td>130.0</td>\n",
       "      <td>130.0</td>\n",
       "      <td>130.0</td>\n",
       "      <td>130.0</td>\n",
       "      <td>130.0</td>\n",
       "      <td>130.0</td>\n",
       "      <td>130.0</td>\n",
       "      <td>130.0</td>\n",
       "      <td>130.0</td>\n",
       "      <td>130.0</td>\n",
       "    </tr>\n",
       "    <tr>\n",
       "      <th>Iron, Fe</th>\n",
       "      <td>RDA</td>\n",
       "      <td>7.0</td>\n",
       "      <td>10.0</td>\n",
       "      <td>10.0</td>\n",
       "      <td>8.0</td>\n",
       "      <td>8.0</td>\n",
       "      <td>15.0</td>\n",
       "      <td>11.0</td>\n",
       "      <td>18.0</td>\n",
       "      <td>8.0</td>\n",
       "      <td>18.0</td>\n",
       "      <td>8.0</td>\n",
       "      <td>8.0</td>\n",
       "      <td>8.0</td>\n",
       "    </tr>\n",
       "    <tr>\n",
       "      <th>Magnesium, Mg</th>\n",
       "      <td>RDA</td>\n",
       "      <td>80.0</td>\n",
       "      <td>130.0</td>\n",
       "      <td>130.0</td>\n",
       "      <td>240.0</td>\n",
       "      <td>240.0</td>\n",
       "      <td>360.0</td>\n",
       "      <td>410.0</td>\n",
       "      <td>310.0</td>\n",
       "      <td>400.0</td>\n",
       "      <td>320.0</td>\n",
       "      <td>420.0</td>\n",
       "      <td>320.0</td>\n",
       "      <td>420.0</td>\n",
       "    </tr>\n",
       "    <tr>\n",
       "      <th>Niacin</th>\n",
       "      <td>RDA</td>\n",
       "      <td>6.0</td>\n",
       "      <td>8.0</td>\n",
       "      <td>8.0</td>\n",
       "      <td>12.0</td>\n",
       "      <td>12.0</td>\n",
       "      <td>14.0</td>\n",
       "      <td>16.0</td>\n",
       "      <td>14.0</td>\n",
       "      <td>16.0</td>\n",
       "      <td>14.0</td>\n",
       "      <td>16.0</td>\n",
       "      <td>14.0</td>\n",
       "      <td>16.0</td>\n",
       "    </tr>\n",
       "    <tr>\n",
       "      <th>Phosphorus, P</th>\n",
       "      <td>RDA</td>\n",
       "      <td>460.0</td>\n",
       "      <td>500.0</td>\n",
       "      <td>500.0</td>\n",
       "      <td>1250.0</td>\n",
       "      <td>1250.0</td>\n",
       "      <td>1250.0</td>\n",
       "      <td>1250.0</td>\n",
       "      <td>700.0</td>\n",
       "      <td>700.0</td>\n",
       "      <td>700.0</td>\n",
       "      <td>700.0</td>\n",
       "      <td>700.0</td>\n",
       "      <td>700.0</td>\n",
       "    </tr>\n",
       "    <tr>\n",
       "      <th>Potassium, K</th>\n",
       "      <td>AI</td>\n",
       "      <td>3000.0</td>\n",
       "      <td>3800.0</td>\n",
       "      <td>3800.0</td>\n",
       "      <td>4500.0</td>\n",
       "      <td>4500.0</td>\n",
       "      <td>4700.0</td>\n",
       "      <td>4700.0</td>\n",
       "      <td>4700.0</td>\n",
       "      <td>4700.0</td>\n",
       "      <td>4700.0</td>\n",
       "      <td>4700.0</td>\n",
       "      <td>4700.0</td>\n",
       "      <td>4700.0</td>\n",
       "    </tr>\n",
       "    <tr>\n",
       "      <th>Riboflavin</th>\n",
       "      <td>RDA</td>\n",
       "      <td>0.5</td>\n",
       "      <td>0.6</td>\n",
       "      <td>0.6</td>\n",
       "      <td>0.9</td>\n",
       "      <td>0.9</td>\n",
       "      <td>1.0</td>\n",
       "      <td>1.3</td>\n",
       "      <td>1.1</td>\n",
       "      <td>1.3</td>\n",
       "      <td>1.1</td>\n",
       "      <td>1.3</td>\n",
       "      <td>1.1</td>\n",
       "      <td>1.3</td>\n",
       "    </tr>\n",
       "    <tr>\n",
       "      <th>Thiamin</th>\n",
       "      <td>RDA</td>\n",
       "      <td>0.5</td>\n",
       "      <td>0.6</td>\n",
       "      <td>0.6</td>\n",
       "      <td>0.9</td>\n",
       "      <td>0.9</td>\n",
       "      <td>1.0</td>\n",
       "      <td>1.2</td>\n",
       "      <td>1.1</td>\n",
       "      <td>1.2</td>\n",
       "      <td>1.1</td>\n",
       "      <td>1.2</td>\n",
       "      <td>1.1</td>\n",
       "      <td>1.2</td>\n",
       "    </tr>\n",
       "    <tr>\n",
       "      <th>Vitamin A, RAE</th>\n",
       "      <td>RDA</td>\n",
       "      <td>300.0</td>\n",
       "      <td>400.0</td>\n",
       "      <td>400.0</td>\n",
       "      <td>600.0</td>\n",
       "      <td>600.0</td>\n",
       "      <td>700.0</td>\n",
       "      <td>900.0</td>\n",
       "      <td>700.0</td>\n",
       "      <td>900.0</td>\n",
       "      <td>700.0</td>\n",
       "      <td>900.0</td>\n",
       "      <td>700.0</td>\n",
       "      <td>900.0</td>\n",
       "    </tr>\n",
       "    <tr>\n",
       "      <th>Vitamin B-12</th>\n",
       "      <td>RDA</td>\n",
       "      <td>0.9</td>\n",
       "      <td>1.2</td>\n",
       "      <td>1.2</td>\n",
       "      <td>1.8</td>\n",
       "      <td>1.8</td>\n",
       "      <td>2.4</td>\n",
       "      <td>2.4</td>\n",
       "      <td>2.4</td>\n",
       "      <td>2.4</td>\n",
       "      <td>2.4</td>\n",
       "      <td>2.4</td>\n",
       "      <td>2.4</td>\n",
       "      <td>2.4</td>\n",
       "    </tr>\n",
       "    <tr>\n",
       "      <th>Vitamin B-6</th>\n",
       "      <td>RDA</td>\n",
       "      <td>0.5</td>\n",
       "      <td>0.6</td>\n",
       "      <td>0.6</td>\n",
       "      <td>1.0</td>\n",
       "      <td>1.0</td>\n",
       "      <td>1.2</td>\n",
       "      <td>1.3</td>\n",
       "      <td>1.3</td>\n",
       "      <td>1.3</td>\n",
       "      <td>1.3</td>\n",
       "      <td>1.3</td>\n",
       "      <td>1.5</td>\n",
       "      <td>1.7</td>\n",
       "    </tr>\n",
       "    <tr>\n",
       "      <th>Vitamin C, total ascorbic acid</th>\n",
       "      <td>RDA</td>\n",
       "      <td>15.0</td>\n",
       "      <td>25.0</td>\n",
       "      <td>25.0</td>\n",
       "      <td>45.0</td>\n",
       "      <td>45.0</td>\n",
       "      <td>65.0</td>\n",
       "      <td>75.0</td>\n",
       "      <td>75.0</td>\n",
       "      <td>90.0</td>\n",
       "      <td>75.0</td>\n",
       "      <td>90.0</td>\n",
       "      <td>75.0</td>\n",
       "      <td>90.0</td>\n",
       "    </tr>\n",
       "    <tr>\n",
       "      <th>Vitamin E (alpha-tocopherol)</th>\n",
       "      <td>RDA</td>\n",
       "      <td>6.0</td>\n",
       "      <td>7.0</td>\n",
       "      <td>7.0</td>\n",
       "      <td>11.0</td>\n",
       "      <td>11.0</td>\n",
       "      <td>15.0</td>\n",
       "      <td>15.0</td>\n",
       "      <td>15.0</td>\n",
       "      <td>15.0</td>\n",
       "      <td>15.0</td>\n",
       "      <td>15.0</td>\n",
       "      <td>15.0</td>\n",
       "      <td>15.0</td>\n",
       "    </tr>\n",
       "    <tr>\n",
       "      <th>Vitamin K (phylloquinone)</th>\n",
       "      <td>AI</td>\n",
       "      <td>30.0</td>\n",
       "      <td>55.0</td>\n",
       "      <td>55.0</td>\n",
       "      <td>60.0</td>\n",
       "      <td>60.0</td>\n",
       "      <td>75.0</td>\n",
       "      <td>75.0</td>\n",
       "      <td>90.0</td>\n",
       "      <td>120.0</td>\n",
       "      <td>90.0</td>\n",
       "      <td>120.0</td>\n",
       "      <td>90.0</td>\n",
       "      <td>120.0</td>\n",
       "    </tr>\n",
       "    <tr>\n",
       "      <th>Zinc, Zn</th>\n",
       "      <td>RDA</td>\n",
       "      <td>3.0</td>\n",
       "      <td>5.0</td>\n",
       "      <td>5.0</td>\n",
       "      <td>8.0</td>\n",
       "      <td>8.0</td>\n",
       "      <td>9.0</td>\n",
       "      <td>11.0</td>\n",
       "      <td>8.0</td>\n",
       "      <td>11.0</td>\n",
       "      <td>8.0</td>\n",
       "      <td>11.0</td>\n",
       "      <td>8.0</td>\n",
       "      <td>11.0</td>\n",
       "    </tr>\n",
       "  </tbody>\n",
       "</table>\n",
       "</div>"
      ],
      "text/plain": [
       "                               Source   C 1-3   F 4-8   M 4-8  F 9-13  M 9-13  \\\n",
       "Nutrition                                                                       \n",
       "Energy                            ---  1000.0  1200.0  1400.0  1600.0  1800.0   \n",
       "Protein                           RDA    13.0    19.0    19.0    34.0    34.0   \n",
       "Fiber, total dietary              ---    14.0    16.8    19.6    22.4    25.2   \n",
       "Folate, DFE                       RDA   150.0   200.0   200.0   300.0   300.0   \n",
       "Calcium, Ca                       RDA   700.0  1000.0  1000.0  1300.0  1300.0   \n",
       "Carbohydrate, by difference       RDA   130.0   130.0   130.0   130.0   130.0   \n",
       "Iron, Fe                          RDA     7.0    10.0    10.0     8.0     8.0   \n",
       "Magnesium, Mg                     RDA    80.0   130.0   130.0   240.0   240.0   \n",
       "Niacin                            RDA     6.0     8.0     8.0    12.0    12.0   \n",
       "Phosphorus, P                     RDA   460.0   500.0   500.0  1250.0  1250.0   \n",
       "Potassium, K                       AI  3000.0  3800.0  3800.0  4500.0  4500.0   \n",
       "Riboflavin                        RDA     0.5     0.6     0.6     0.9     0.9   \n",
       "Thiamin                           RDA     0.5     0.6     0.6     0.9     0.9   \n",
       "Vitamin A, RAE                    RDA   300.0   400.0   400.0   600.0   600.0   \n",
       "Vitamin B-12                      RDA     0.9     1.2     1.2     1.8     1.8   \n",
       "Vitamin B-6                       RDA     0.5     0.6     0.6     1.0     1.0   \n",
       "Vitamin C, total ascorbic acid    RDA    15.0    25.0    25.0    45.0    45.0   \n",
       "Vitamin E (alpha-tocopherol)      RDA     6.0     7.0     7.0    11.0    11.0   \n",
       "Vitamin K (phylloquinone)          AI    30.0    55.0    55.0    60.0    60.0   \n",
       "Zinc, Zn                          RDA     3.0     5.0     5.0     8.0     8.0   \n",
       "\n",
       "                                F 14-18  M 14-18  F 19-30  M 19-30  F 31-50  \\\n",
       "Nutrition                                                                     \n",
       "Energy                           1800.0   2200.0   2000.0   2400.0   1800.0   \n",
       "Protein                            46.0     52.0     46.0     56.0     46.0   \n",
       "Fiber, total dietary               25.2     30.8     28.0     33.6     25.2   \n",
       "Folate, DFE                       400.0    400.0    400.0    400.0    400.0   \n",
       "Calcium, Ca                      1300.0   1300.0   1000.0   1000.0   1000.0   \n",
       "Carbohydrate, by difference       130.0    130.0    130.0    130.0    130.0   \n",
       "Iron, Fe                           15.0     11.0     18.0      8.0     18.0   \n",
       "Magnesium, Mg                     360.0    410.0    310.0    400.0    320.0   \n",
       "Niacin                             14.0     16.0     14.0     16.0     14.0   \n",
       "Phosphorus, P                    1250.0   1250.0    700.0    700.0    700.0   \n",
       "Potassium, K                     4700.0   4700.0   4700.0   4700.0   4700.0   \n",
       "Riboflavin                          1.0      1.3      1.1      1.3      1.1   \n",
       "Thiamin                             1.0      1.2      1.1      1.2      1.1   \n",
       "Vitamin A, RAE                    700.0    900.0    700.0    900.0    700.0   \n",
       "Vitamin B-12                        2.4      2.4      2.4      2.4      2.4   \n",
       "Vitamin B-6                         1.2      1.3      1.3      1.3      1.3   \n",
       "Vitamin C, total ascorbic acid     65.0     75.0     75.0     90.0     75.0   \n",
       "Vitamin E (alpha-tocopherol)       15.0     15.0     15.0     15.0     15.0   \n",
       "Vitamin K (phylloquinone)          75.0     75.0     90.0    120.0     90.0   \n",
       "Zinc, Zn                            9.0     11.0      8.0     11.0      8.0   \n",
       "\n",
       "                                M 31-50   F 51+   M 51+  \n",
       "Nutrition                                                \n",
       "Energy                           2200.0  1600.0  2000.0  \n",
       "Protein                            56.0    46.0    56.0  \n",
       "Fiber, total dietary               30.8    22.4    28.0  \n",
       "Folate, DFE                       400.0   400.0   400.0  \n",
       "Calcium, Ca                      1000.0  1200.0  1000.0  \n",
       "Carbohydrate, by difference       130.0   130.0   130.0  \n",
       "Iron, Fe                            8.0     8.0     8.0  \n",
       "Magnesium, Mg                     420.0   320.0   420.0  \n",
       "Niacin                             16.0    14.0    16.0  \n",
       "Phosphorus, P                     700.0   700.0   700.0  \n",
       "Potassium, K                     4700.0  4700.0  4700.0  \n",
       "Riboflavin                          1.3     1.1     1.3  \n",
       "Thiamin                             1.2     1.1     1.2  \n",
       "Vitamin A, RAE                    900.0   700.0   900.0  \n",
       "Vitamin B-12                        2.4     2.4     2.4  \n",
       "Vitamin B-6                         1.3     1.5     1.7  \n",
       "Vitamin C, total ascorbic acid     90.0    75.0    90.0  \n",
       "Vitamin E (alpha-tocopherol)       15.0    15.0    15.0  \n",
       "Vitamin K (phylloquinone)         120.0    90.0   120.0  \n",
       "Zinc, Zn                           11.0     8.0    11.0  "
      ]
     },
     "execution_count": 75,
     "metadata": {},
     "output_type": "execute_result"
    }
   ],
   "source": [
    "diet_min"
   ]
  },
  {
   "cell_type": "code",
   "execution_count": 76,
   "id": "5b1cc710",
   "metadata": {},
   "outputs": [
    {
     "data": {
      "text/html": [
       "<div>\n",
       "<style scoped>\n",
       "    .dataframe tbody tr th:only-of-type {\n",
       "        vertical-align: middle;\n",
       "    }\n",
       "\n",
       "    .dataframe tbody tr th {\n",
       "        vertical-align: top;\n",
       "    }\n",
       "\n",
       "    .dataframe thead th {\n",
       "        text-align: right;\n",
       "    }\n",
       "</style>\n",
       "<table border=\"1\" class=\"dataframe\">\n",
       "  <thead>\n",
       "    <tr style=\"text-align: right;\">\n",
       "      <th></th>\n",
       "      <th>Source</th>\n",
       "      <th>C 1-3</th>\n",
       "      <th>F 4-8</th>\n",
       "      <th>M 4-8</th>\n",
       "      <th>F 9-13</th>\n",
       "      <th>M 9-13</th>\n",
       "      <th>F 14-18</th>\n",
       "      <th>M 14-18</th>\n",
       "      <th>F 19-30</th>\n",
       "      <th>M 19-30</th>\n",
       "      <th>F 31-50</th>\n",
       "      <th>M 31-50</th>\n",
       "      <th>F 51+</th>\n",
       "      <th>M 51+</th>\n",
       "    </tr>\n",
       "    <tr>\n",
       "      <th>Nutrition</th>\n",
       "      <th></th>\n",
       "      <th></th>\n",
       "      <th></th>\n",
       "      <th></th>\n",
       "      <th></th>\n",
       "      <th></th>\n",
       "      <th></th>\n",
       "      <th></th>\n",
       "      <th></th>\n",
       "      <th></th>\n",
       "      <th></th>\n",
       "      <th></th>\n",
       "      <th></th>\n",
       "      <th></th>\n",
       "    </tr>\n",
       "  </thead>\n",
       "  <tbody>\n",
       "    <tr>\n",
       "      <th>Sodium, Na</th>\n",
       "      <td>UL</td>\n",
       "      <td>1500</td>\n",
       "      <td>1900</td>\n",
       "      <td>1900</td>\n",
       "      <td>2200</td>\n",
       "      <td>2200</td>\n",
       "      <td>2300</td>\n",
       "      <td>2300</td>\n",
       "      <td>2300</td>\n",
       "      <td>2300</td>\n",
       "      <td>2300</td>\n",
       "      <td>2300</td>\n",
       "      <td>2300</td>\n",
       "      <td>2300</td>\n",
       "    </tr>\n",
       "  </tbody>\n",
       "</table>\n",
       "</div>"
      ],
      "text/plain": [
       "           Source  C 1-3  F 4-8  M 4-8  F 9-13  M 9-13  F 14-18  M 14-18  \\\n",
       "Nutrition                                                                  \n",
       "Sodium, Na     UL   1500   1900   1900    2200    2200     2300     2300   \n",
       "\n",
       "            F 19-30  M 19-30  F 31-50  M 31-50  F 51+  M 51+  \n",
       "Nutrition                                                     \n",
       "Sodium, Na     2300     2300     2300     2300   2300   2300  "
      ]
     },
     "execution_count": 76,
     "metadata": {},
     "output_type": "execute_result"
    }
   ],
   "source": [
    "diet_max"
   ]
  },
  {
   "cell_type": "code",
   "execution_count": 77,
   "id": "0b0fac5a",
   "metadata": {},
   "outputs": [],
   "source": [
    "diet_min = diet_min.drop(['Source'], axis=1)\n",
    "diet_max = diet_max.drop(['Source'], axis=1)"
   ]
  },
  {
   "cell_type": "code",
   "execution_count": 9,
   "id": "8bf088be",
   "metadata": {},
   "outputs": [],
   "source": [
    "def DRI(age, sex):\n",
    "    label = ''\n",
    "    if age > 50: \n",
    "        label = sex + ' 51+'\n",
    "    elif age > 30: \n",
    "        label = sex + ' 31-50'\n",
    "    elif age > 18: \n",
    "        label = sex + ' 19-30'\n",
    "    elif age > 13: \n",
    "        label = sex + ' 14-18'\n",
    "    elif age > 8:\n",
    "        label = sex + ' 9-13'\n",
    "    else:\n",
    "        label = sex + ' 4-8'\n",
    "    return label"
   ]
  },
  {
   "cell_type": "code",
   "execution_count": 10,
   "id": "af61360f",
   "metadata": {},
   "outputs": [
    {
     "data": {
      "text/plain": [
       "'F 9-13'"
      ]
     },
     "execution_count": 10,
     "metadata": {},
     "output_type": "execute_result"
    }
   ],
   "source": [
    "DRI(12, 'F')"
   ]
  },
  {
   "cell_type": "code",
   "execution_count": 11,
   "id": "f5ca800c",
   "metadata": {},
   "outputs": [
    {
     "data": {
      "text/plain": [
       "0     2400.0\n",
       "1       56.0\n",
       "2       33.6\n",
       "3      400.0\n",
       "4     1000.0\n",
       "5      130.0\n",
       "6        8.0\n",
       "7      400.0\n",
       "8       16.0\n",
       "9      700.0\n",
       "10    4700.0\n",
       "11       1.3\n",
       "12       1.2\n",
       "13     900.0\n",
       "14       2.4\n",
       "15       1.3\n",
       "16      90.0\n",
       "17      15.0\n",
       "18     120.0\n",
       "19      11.0\n",
       "Name: M 19-30, dtype: float64"
      ]
     },
     "execution_count": 11,
     "metadata": {},
     "output_type": "execute_result"
    }
   ],
   "source": [
    "DRIs['diet_minimums'][DRI(20,'M')]"
   ]
  },
  {
   "cell_type": "code",
   "execution_count": 12,
   "id": "9a8f56e5",
   "metadata": {},
   "outputs": [
    {
     "data": {
      "text/plain": [
       "0     1800.0\n",
       "1       46.0\n",
       "2       25.2\n",
       "3      400.0\n",
       "4     1000.0\n",
       "5      130.0\n",
       "6       18.0\n",
       "7      320.0\n",
       "8       14.0\n",
       "9      700.0\n",
       "10    4700.0\n",
       "11       1.1\n",
       "12       1.1\n",
       "13     700.0\n",
       "14       2.4\n",
       "15       1.3\n",
       "16      75.0\n",
       "17      15.0\n",
       "18      90.0\n",
       "19       8.0\n",
       "Name: F 31-50, dtype: float64"
      ]
     },
     "execution_count": 12,
     "metadata": {},
     "output_type": "execute_result"
    }
   ],
   "source": [
    "DRIs['diet_minimums'][DRI(37,'F')]"
   ]
  },
  {
   "cell_type": "code",
   "execution_count": 13,
   "id": "acf8ff5c",
   "metadata": {},
   "outputs": [
    {
     "data": {
      "text/plain": [
       "0    2300\n",
       "Name: F 31-50, dtype: int64"
      ]
     },
     "execution_count": 13,
     "metadata": {},
     "output_type": "execute_result"
    }
   ],
   "source": [
    "DRIs['diet_maximums'][DRI(37,'F')]"
   ]
  },
  {
   "cell_type": "markdown",
   "id": "6ee7f4be",
   "metadata": {},
   "source": [
    "# Mapping to Nutrients / Nutritional Content of Different Foods - [A]"
   ]
  },
  {
   "cell_type": "markdown",
   "id": "86ad85ec",
   "metadata": {},
   "source": [
    "Below, we imported the data from our spreadsheet and created a dataframe out of that data. This dataframe includes the food items, quantity of each food, unit, and the corresponding prices for CA and AK respectively. \n",
    "\n",
    "All of the prices were obtained from Ralph's in Irvine, California, and Fred Meyer in Anchorage, Alaska. We selected these stores because they are both owned by Kroger, and are essentially the same store in that they offer the same products for similar prices. \n",
    "\n",
    "Please also note that we are specifically looking at Irvine and Anchorage since they have similar population sizes."
   ]
  },
  {
   "cell_type": "code",
   "execution_count": 14,
   "id": "0b7a6f12",
   "metadata": {},
   "outputs": [
    {
     "name": "stdout",
     "output_type": "stream",
     "text": [
      "Key available for students@eep153.iam.gserviceaccount.com.\n"
     ]
    }
   ],
   "source": [
    "food_prices_url = 'https://docs.google.com/spreadsheets/d/1virifSIh2lEqhLCCzSgC2Az0fQN3Lj0ImcxBUUf9-QU/edit?usp=sharing'\n",
    "\n",
    "read_sheets_food_prices = read_sheets(food_prices_url)['Sheet 2']\n",
    "\n",
    "read_sheets_food_prices = read_sheets_food_prices.replace({'Units':{'fluid ounce':'oz'}})"
   ]
  },
  {
   "cell_type": "code",
   "execution_count": 15,
   "id": "4350df15",
   "metadata": {},
   "outputs": [
    {
     "data": {
      "text/html": [
       "<div>\n",
       "<style scoped>\n",
       "    .dataframe tbody tr th:only-of-type {\n",
       "        vertical-align: middle;\n",
       "    }\n",
       "\n",
       "    .dataframe tbody tr th {\n",
       "        vertical-align: top;\n",
       "    }\n",
       "\n",
       "    .dataframe thead th {\n",
       "        text-align: right;\n",
       "    }\n",
       "</style>\n",
       "<table border=\"1\" class=\"dataframe\">\n",
       "  <thead>\n",
       "    <tr style=\"text-align: right;\">\n",
       "      <th></th>\n",
       "      <th>Item</th>\n",
       "      <th>Quantity</th>\n",
       "      <th>Units</th>\n",
       "      <th>Price CA</th>\n",
       "      <th>Price AK</th>\n",
       "      <th>FDC</th>\n",
       "    </tr>\n",
       "  </thead>\n",
       "  <tbody>\n",
       "    <tr>\n",
       "      <th>0</th>\n",
       "      <td>Avocados</td>\n",
       "      <td>150.00</td>\n",
       "      <td>g</td>\n",
       "      <td>1.50</td>\n",
       "      <td>1.67</td>\n",
       "      <td>1102652</td>\n",
       "    </tr>\n",
       "    <tr>\n",
       "      <th>1</th>\n",
       "      <td>Roma Tomatoes</td>\n",
       "      <td>1.00</td>\n",
       "      <td>lb</td>\n",
       "      <td>0.99</td>\n",
       "      <td>1.99</td>\n",
       "      <td>1999634</td>\n",
       "    </tr>\n",
       "    <tr>\n",
       "      <th>2</th>\n",
       "      <td>Sweet Potatoes</td>\n",
       "      <td>3.00</td>\n",
       "      <td>lbs</td>\n",
       "      <td>3.99</td>\n",
       "      <td>4.99</td>\n",
       "      <td>1103233</td>\n",
       "    </tr>\n",
       "    <tr>\n",
       "      <th>3</th>\n",
       "      <td>Spinach</td>\n",
       "      <td>10.00</td>\n",
       "      <td>oz</td>\n",
       "      <td>2.99</td>\n",
       "      <td>2.99</td>\n",
       "      <td>1103136</td>\n",
       "    </tr>\n",
       "    <tr>\n",
       "      <th>4</th>\n",
       "      <td>Broccoli Crown</td>\n",
       "      <td>1.00</td>\n",
       "      <td>lb</td>\n",
       "      <td>1.49</td>\n",
       "      <td>2.79</td>\n",
       "      <td>1103170</td>\n",
       "    </tr>\n",
       "    <tr>\n",
       "      <th>5</th>\n",
       "      <td>Whole Carrots</td>\n",
       "      <td>2.00</td>\n",
       "      <td>lbs</td>\n",
       "      <td>1.99</td>\n",
       "      <td>2.99</td>\n",
       "      <td>1103193</td>\n",
       "    </tr>\n",
       "    <tr>\n",
       "      <th>6</th>\n",
       "      <td>Garlic</td>\n",
       "      <td>5.00</td>\n",
       "      <td>g</td>\n",
       "      <td>0.50</td>\n",
       "      <td>0.99</td>\n",
       "      <td>1103354</td>\n",
       "    </tr>\n",
       "    <tr>\n",
       "      <th>7</th>\n",
       "      <td>White Onions</td>\n",
       "      <td>1.00</td>\n",
       "      <td>lb</td>\n",
       "      <td>0.50</td>\n",
       "      <td>1.79</td>\n",
       "      <td>1103364</td>\n",
       "    </tr>\n",
       "    <tr>\n",
       "      <th>8</th>\n",
       "      <td>Sliced White Mushrooms</td>\n",
       "      <td>8.00</td>\n",
       "      <td>oz</td>\n",
       "      <td>2.39</td>\n",
       "      <td>3.29</td>\n",
       "      <td>169251</td>\n",
       "    </tr>\n",
       "    <tr>\n",
       "      <th>9</th>\n",
       "      <td>Zucchini</td>\n",
       "      <td>1.00</td>\n",
       "      <td>lb</td>\n",
       "      <td>1.75</td>\n",
       "      <td>2.29</td>\n",
       "      <td>169291</td>\n",
       "    </tr>\n",
       "    <tr>\n",
       "      <th>10</th>\n",
       "      <td>Red Peppers</td>\n",
       "      <td>150.00</td>\n",
       "      <td>g</td>\n",
       "      <td>1.49</td>\n",
       "      <td>2.00</td>\n",
       "      <td>170108</td>\n",
       "    </tr>\n",
       "    <tr>\n",
       "      <th>11</th>\n",
       "      <td>Green Onions</td>\n",
       "      <td>1.00</td>\n",
       "      <td>cup</td>\n",
       "      <td>0.99</td>\n",
       "      <td>0.99</td>\n",
       "      <td>1103363</td>\n",
       "    </tr>\n",
       "    <tr>\n",
       "      <th>12</th>\n",
       "      <td>Kale</td>\n",
       "      <td>16.00</td>\n",
       "      <td>oz</td>\n",
       "      <td>1.49</td>\n",
       "      <td>3.00</td>\n",
       "      <td>323505</td>\n",
       "    </tr>\n",
       "    <tr>\n",
       "      <th>13</th>\n",
       "      <td>Lemons</td>\n",
       "      <td>2.00</td>\n",
       "      <td>lbs</td>\n",
       "      <td>3.99</td>\n",
       "      <td>4.99</td>\n",
       "      <td>2072327</td>\n",
       "    </tr>\n",
       "    <tr>\n",
       "      <th>14</th>\n",
       "      <td>Ginger</td>\n",
       "      <td>1.00</td>\n",
       "      <td>lbs</td>\n",
       "      <td>3.49</td>\n",
       "      <td>4.99</td>\n",
       "      <td>2064396</td>\n",
       "    </tr>\n",
       "    <tr>\n",
       "      <th>15</th>\n",
       "      <td>Parsley</td>\n",
       "      <td>2.00</td>\n",
       "      <td>oz</td>\n",
       "      <td>0.99</td>\n",
       "      <td>1.79</td>\n",
       "      <td>2195599</td>\n",
       "    </tr>\n",
       "    <tr>\n",
       "      <th>16</th>\n",
       "      <td>Cilantro</td>\n",
       "      <td>2.00</td>\n",
       "      <td>oz</td>\n",
       "      <td>0.99</td>\n",
       "      <td>1.29</td>\n",
       "      <td>399147</td>\n",
       "    </tr>\n",
       "    <tr>\n",
       "      <th>17</th>\n",
       "      <td>Salmon fillets (Fresh Atlantic Salmon Fillet (...</td>\n",
       "      <td>1.00</td>\n",
       "      <td>lbs</td>\n",
       "      <td>11.99</td>\n",
       "      <td>11.99</td>\n",
       "      <td>175167</td>\n",
       "    </tr>\n",
       "    <tr>\n",
       "      <th>18</th>\n",
       "      <td>shrimp (Extra Large EZ Peel Shrimp 21/25)</td>\n",
       "      <td>1.00</td>\n",
       "      <td>lb</td>\n",
       "      <td>13.99</td>\n",
       "      <td>9.99</td>\n",
       "      <td>175179</td>\n",
       "    </tr>\n",
       "    <tr>\n",
       "      <th>19</th>\n",
       "      <td>Tilapia fillets (Fresh Tilapia Fillet (Service...</td>\n",
       "      <td>1.00</td>\n",
       "      <td>lbs</td>\n",
       "      <td>7.99</td>\n",
       "      <td>8.99</td>\n",
       "      <td>175176</td>\n",
       "    </tr>\n",
       "    <tr>\n",
       "      <th>20</th>\n",
       "      <td>Salmon in a can (Kroger® Wild Caught Canned Al...</td>\n",
       "      <td>14.75</td>\n",
       "      <td>oz</td>\n",
       "      <td>5.79</td>\n",
       "      <td>5.59</td>\n",
       "      <td>175175</td>\n",
       "    </tr>\n",
       "    <tr>\n",
       "      <th>21</th>\n",
       "      <td>Tuna in a can (Kroger Wild Caught Light)</td>\n",
       "      <td>5.00</td>\n",
       "      <td>oz</td>\n",
       "      <td>0.89</td>\n",
       "      <td>0.99</td>\n",
       "      <td>2121489</td>\n",
       "    </tr>\n",
       "    <tr>\n",
       "      <th>22</th>\n",
       "      <td>Sardines in a tin (Chicken of the Sea)</td>\n",
       "      <td>3.75</td>\n",
       "      <td>oz</td>\n",
       "      <td>1.29</td>\n",
       "      <td>1.89</td>\n",
       "      <td>1975775</td>\n",
       "    </tr>\n",
       "    <tr>\n",
       "      <th>23</th>\n",
       "      <td>Rice Vinegar (Nakano All Natural Rice Vinegar)</td>\n",
       "      <td>12.00</td>\n",
       "      <td>oz</td>\n",
       "      <td>3.29</td>\n",
       "      <td>4.19</td>\n",
       "      <td>1126293</td>\n",
       "    </tr>\n",
       "    <tr>\n",
       "      <th>24</th>\n",
       "      <td>Extra Virgin Olive Oil (Kroger® Extra Virgin O...</td>\n",
       "      <td>50.00</td>\n",
       "      <td>oz</td>\n",
       "      <td>10.99</td>\n",
       "      <td>14.99</td>\n",
       "      <td>1978812</td>\n",
       "    </tr>\n",
       "    <tr>\n",
       "      <th>25</th>\n",
       "      <td>Coconut Oil (Kroger® Pure Coconut Oil)</td>\n",
       "      <td>30.00</td>\n",
       "      <td>oz</td>\n",
       "      <td>7.49</td>\n",
       "      <td>6.69</td>\n",
       "      <td>1975293</td>\n",
       "    </tr>\n",
       "    <tr>\n",
       "      <th>26</th>\n",
       "      <td>Sesame Oil (Kroger® Pure Sesame Oil)</td>\n",
       "      <td>7.50</td>\n",
       "      <td>oz</td>\n",
       "      <td>4.99</td>\n",
       "      <td>5.99</td>\n",
       "      <td>1103865</td>\n",
       "    </tr>\n",
       "    <tr>\n",
       "      <th>27</th>\n",
       "      <td>Avocado Oil</td>\n",
       "      <td>25.40</td>\n",
       "      <td>oz</td>\n",
       "      <td>15.99</td>\n",
       "      <td>14.99</td>\n",
       "      <td>2103430</td>\n",
       "    </tr>\n",
       "    <tr>\n",
       "      <th>28</th>\n",
       "      <td>Maple Syrup</td>\n",
       "      <td>8.00</td>\n",
       "      <td>oz</td>\n",
       "      <td>5.49</td>\n",
       "      <td>6.29</td>\n",
       "      <td>1953482</td>\n",
       "    </tr>\n",
       "    <tr>\n",
       "      <th>29</th>\n",
       "      <td>Cacao (Navitas Organics Cacao Powder)</td>\n",
       "      <td>8.00</td>\n",
       "      <td>oz</td>\n",
       "      <td>6.99</td>\n",
       "      <td>13.49</td>\n",
       "      <td>170271</td>\n",
       "    </tr>\n",
       "    <tr>\n",
       "      <th>30</th>\n",
       "      <td>Almond flour</td>\n",
       "      <td>16.00</td>\n",
       "      <td>oz</td>\n",
       "      <td>6.99</td>\n",
       "      <td>7.08</td>\n",
       "      <td>1930734</td>\n",
       "    </tr>\n",
       "    <tr>\n",
       "      <th>31</th>\n",
       "      <td>Tapioca flour</td>\n",
       "      <td>16.00</td>\n",
       "      <td>oz</td>\n",
       "      <td>4.29</td>\n",
       "      <td>4.29</td>\n",
       "      <td>1940161</td>\n",
       "    </tr>\n",
       "    <tr>\n",
       "      <th>32</th>\n",
       "      <td>Vegetable broth</td>\n",
       "      <td>32.00</td>\n",
       "      <td>oz</td>\n",
       "      <td>1.99</td>\n",
       "      <td>2.29</td>\n",
       "      <td>2165737</td>\n",
       "    </tr>\n",
       "    <tr>\n",
       "      <th>33</th>\n",
       "      <td>Nutritional Yeast</td>\n",
       "      <td>4.50</td>\n",
       "      <td>oz</td>\n",
       "      <td>5.29</td>\n",
       "      <td>5.99</td>\n",
       "      <td>2194488</td>\n",
       "    </tr>\n",
       "    <tr>\n",
       "      <th>34</th>\n",
       "      <td>Crushed tomatoes</td>\n",
       "      <td>28.00</td>\n",
       "      <td>oz</td>\n",
       "      <td>1.49</td>\n",
       "      <td>1.69</td>\n",
       "      <td>1972451</td>\n",
       "    </tr>\n",
       "    <tr>\n",
       "      <th>35</th>\n",
       "      <td>Coconut Milk</td>\n",
       "      <td>13.50</td>\n",
       "      <td>oz</td>\n",
       "      <td>1.79</td>\n",
       "      <td>2.49</td>\n",
       "      <td>1910962</td>\n",
       "    </tr>\n",
       "    <tr>\n",
       "      <th>36</th>\n",
       "      <td>Salt (Morton Plain salt)</td>\n",
       "      <td>26.00</td>\n",
       "      <td>oz</td>\n",
       "      <td>1.19</td>\n",
       "      <td>1.49</td>\n",
       "      <td>2120877</td>\n",
       "    </tr>\n",
       "    <tr>\n",
       "      <th>37</th>\n",
       "      <td>Black Pepper (Kroger® Pure Ground Black Pepper)</td>\n",
       "      <td>4.00</td>\n",
       "      <td>oz</td>\n",
       "      <td>3.79</td>\n",
       "      <td>5.79</td>\n",
       "      <td>170931</td>\n",
       "    </tr>\n",
       "    <tr>\n",
       "      <th>38</th>\n",
       "      <td>Soy Sauce (Kroger® Lite Soy Sauce )</td>\n",
       "      <td>10.00</td>\n",
       "      <td>oz</td>\n",
       "      <td>1.49</td>\n",
       "      <td>1.49</td>\n",
       "      <td>174277</td>\n",
       "    </tr>\n",
       "    <tr>\n",
       "      <th>39</th>\n",
       "      <td>Strawberries</td>\n",
       "      <td>1.00</td>\n",
       "      <td>lb</td>\n",
       "      <td>3.99</td>\n",
       "      <td>5.99</td>\n",
       "      <td>1102710</td>\n",
       "    </tr>\n",
       "    <tr>\n",
       "      <th>40</th>\n",
       "      <td>Oranges (navel)</td>\n",
       "      <td>1.00</td>\n",
       "      <td>lb</td>\n",
       "      <td>1.49</td>\n",
       "      <td>1.99</td>\n",
       "      <td>746771</td>\n",
       "    </tr>\n",
       "    <tr>\n",
       "      <th>41</th>\n",
       "      <td>Apples (honeycrisp)</td>\n",
       "      <td>1.00</td>\n",
       "      <td>lb</td>\n",
       "      <td>2.99</td>\n",
       "      <td>3.29</td>\n",
       "      <td>1750343</td>\n",
       "    </tr>\n",
       "    <tr>\n",
       "      <th>42</th>\n",
       "      <td>Bananas</td>\n",
       "      <td>1.00</td>\n",
       "      <td>lb</td>\n",
       "      <td>0.65</td>\n",
       "      <td>0.89</td>\n",
       "      <td>1102653</td>\n",
       "    </tr>\n",
       "    <tr>\n",
       "      <th>43</th>\n",
       "      <td>Almond milk (Silk unsweetened)</td>\n",
       "      <td>0.50</td>\n",
       "      <td>gal</td>\n",
       "      <td>2.99</td>\n",
       "      <td>3.29</td>\n",
       "      <td>1999631</td>\n",
       "    </tr>\n",
       "    <tr>\n",
       "      <th>44</th>\n",
       "      <td>Coconut milk</td>\n",
       "      <td>13.50</td>\n",
       "      <td>oz</td>\n",
       "      <td>1.79</td>\n",
       "      <td>2.49</td>\n",
       "      <td>1950491</td>\n",
       "    </tr>\n",
       "    <tr>\n",
       "      <th>45</th>\n",
       "      <td>Goats cheese (Simple Truth)</td>\n",
       "      <td>4.00</td>\n",
       "      <td>oz</td>\n",
       "      <td>5.99</td>\n",
       "      <td>6.99</td>\n",
       "      <td>1098014</td>\n",
       "    </tr>\n",
       "    <tr>\n",
       "      <th>46</th>\n",
       "      <td>Goats milk (Meyenberg Vitamin D)</td>\n",
       "      <td>1.00</td>\n",
       "      <td>qt</td>\n",
       "      <td>5.49</td>\n",
       "      <td>6.49</td>\n",
       "      <td>171278</td>\n",
       "    </tr>\n",
       "    <tr>\n",
       "      <th>47</th>\n",
       "      <td>Quinoa</td>\n",
       "      <td>16.00</td>\n",
       "      <td>oz</td>\n",
       "      <td>3.79</td>\n",
       "      <td>4.99</td>\n",
       "      <td>2058561</td>\n",
       "    </tr>\n",
       "    <tr>\n",
       "      <th>48</th>\n",
       "      <td>Oatmeal</td>\n",
       "      <td>42.00</td>\n",
       "      <td>oz</td>\n",
       "      <td>2.99</td>\n",
       "      <td>3.79</td>\n",
       "      <td>2017671</td>\n",
       "    </tr>\n",
       "    <tr>\n",
       "      <th>49</th>\n",
       "      <td>Quinoa/Rice Pasta</td>\n",
       "      <td>12.00</td>\n",
       "      <td>oz</td>\n",
       "      <td>4.99</td>\n",
       "      <td>4.69</td>\n",
       "      <td>2013342</td>\n",
       "    </tr>\n",
       "  </tbody>\n",
       "</table>\n",
       "</div>"
      ],
      "text/plain": [
       "                                                 Item  Quantity Units  \\\n",
       "0                                            Avocados    150.00     g   \n",
       "1                                       Roma Tomatoes      1.00    lb   \n",
       "2                                     Sweet Potatoes       3.00   lbs   \n",
       "3                                            Spinach      10.00    oz   \n",
       "4                                      Broccoli Crown      1.00    lb   \n",
       "5                                      Whole Carrots       2.00   lbs   \n",
       "6                                             Garlic       5.00     g   \n",
       "7                                       White Onions       1.00    lb   \n",
       "8                             Sliced White Mushrooms       8.00    oz   \n",
       "9                                            Zucchini      1.00    lb   \n",
       "10                                        Red Peppers    150.00     g   \n",
       "11                                       Green Onions      1.00   cup   \n",
       "12                                               Kale     16.00    oz   \n",
       "13                                             Lemons      2.00   lbs   \n",
       "14                                             Ginger      1.00   lbs   \n",
       "15                                            Parsley      2.00    oz   \n",
       "16                                           Cilantro      2.00    oz   \n",
       "17  Salmon fillets (Fresh Atlantic Salmon Fillet (...      1.00   lbs   \n",
       "18          shrimp (Extra Large EZ Peel Shrimp 21/25)      1.00    lb   \n",
       "19  Tilapia fillets (Fresh Tilapia Fillet (Service...      1.00   lbs   \n",
       "20  Salmon in a can (Kroger® Wild Caught Canned Al...     14.75    oz   \n",
       "21           Tuna in a can (Kroger Wild Caught Light)      5.00    oz   \n",
       "22             Sardines in a tin (Chicken of the Sea)      3.75    oz   \n",
       "23     Rice Vinegar (Nakano All Natural Rice Vinegar)     12.00    oz   \n",
       "24  Extra Virgin Olive Oil (Kroger® Extra Virgin O...     50.00    oz   \n",
       "25             Coconut Oil (Kroger® Pure Coconut Oil)     30.00    oz   \n",
       "26               Sesame Oil (Kroger® Pure Sesame Oil)      7.50    oz   \n",
       "27                                       Avocado Oil      25.40    oz   \n",
       "28                                        Maple Syrup      8.00    oz   \n",
       "29              Cacao (Navitas Organics Cacao Powder)      8.00    oz   \n",
       "30                                      Almond flour      16.00    oz   \n",
       "31                                      Tapioca flour     16.00    oz   \n",
       "32                                    Vegetable broth     32.00    oz   \n",
       "33                                 Nutritional Yeast       4.50    oz   \n",
       "34                                   Crushed tomatoes     28.00    oz   \n",
       "35                                       Coconut Milk     13.50    oz   \n",
       "36                           Salt (Morton Plain salt)     26.00    oz   \n",
       "37    Black Pepper (Kroger® Pure Ground Black Pepper)      4.00    oz   \n",
       "38                Soy Sauce (Kroger® Lite Soy Sauce )     10.00    oz   \n",
       "39                                       Strawberries      1.00    lb   \n",
       "40                                    Oranges (navel)      1.00    lb   \n",
       "41                                Apples (honeycrisp)      1.00    lb   \n",
       "42                                            Bananas      1.00    lb   \n",
       "43                     Almond milk (Silk unsweetened)      0.50   gal   \n",
       "44                                       Coconut milk     13.50    oz   \n",
       "45                        Goats cheese (Simple Truth)      4.00    oz   \n",
       "46                   Goats milk (Meyenberg Vitamin D)      1.00    qt   \n",
       "47                                             Quinoa     16.00    oz   \n",
       "48                                            Oatmeal     42.00    oz   \n",
       "49                                  Quinoa/Rice Pasta     12.00    oz   \n",
       "\n",
       "    Price CA  Price AK      FDC  \n",
       "0       1.50      1.67  1102652  \n",
       "1       0.99      1.99  1999634  \n",
       "2       3.99      4.99  1103233  \n",
       "3       2.99      2.99  1103136  \n",
       "4       1.49      2.79  1103170  \n",
       "5       1.99      2.99  1103193  \n",
       "6       0.50      0.99  1103354  \n",
       "7       0.50      1.79  1103364  \n",
       "8       2.39      3.29   169251  \n",
       "9       1.75      2.29   169291  \n",
       "10      1.49      2.00   170108  \n",
       "11      0.99      0.99  1103363  \n",
       "12      1.49      3.00   323505  \n",
       "13      3.99      4.99  2072327  \n",
       "14      3.49      4.99  2064396  \n",
       "15      0.99      1.79  2195599  \n",
       "16      0.99      1.29   399147  \n",
       "17     11.99     11.99   175167  \n",
       "18     13.99      9.99   175179  \n",
       "19      7.99      8.99   175176  \n",
       "20      5.79      5.59   175175  \n",
       "21      0.89      0.99  2121489  \n",
       "22      1.29      1.89  1975775  \n",
       "23      3.29      4.19  1126293  \n",
       "24     10.99     14.99  1978812  \n",
       "25      7.49      6.69  1975293  \n",
       "26      4.99      5.99  1103865  \n",
       "27     15.99     14.99  2103430  \n",
       "28      5.49      6.29  1953482  \n",
       "29      6.99     13.49   170271  \n",
       "30      6.99      7.08  1930734  \n",
       "31      4.29      4.29  1940161  \n",
       "32      1.99      2.29  2165737  \n",
       "33      5.29      5.99  2194488  \n",
       "34      1.49      1.69  1972451  \n",
       "35      1.79      2.49  1910962  \n",
       "36      1.19      1.49  2120877  \n",
       "37      3.79      5.79   170931  \n",
       "38      1.49      1.49   174277  \n",
       "39      3.99      5.99  1102710  \n",
       "40      1.49      1.99   746771  \n",
       "41      2.99      3.29  1750343  \n",
       "42      0.65      0.89  1102653  \n",
       "43      2.99      3.29  1999631  \n",
       "44      1.79      2.49  1950491  \n",
       "45      5.99      6.99  1098014  \n",
       "46      5.49      6.49   171278  \n",
       "47      3.79      4.99  2058561  \n",
       "48      2.99      3.79  2017671  \n",
       "49      4.99      4.69  2013342  "
      ]
     },
     "execution_count": 15,
     "metadata": {},
     "output_type": "execute_result"
    }
   ],
   "source": [
    "first_10 = read_sheets_food_prices.head(50)\n",
    "first_10"
   ]
  },
  {
   "cell_type": "markdown",
   "id": "f4a93d16",
   "metadata": {},
   "source": [
    "Here, we are mapping each food item from the dataframe we constructed to the nutrients in those food items."
   ]
  },
  {
   "cell_type": "code",
   "execution_count": 78,
   "id": "f059891b",
   "metadata": {},
   "outputs": [
    {
     "data": {
      "text/html": [
       "<div>\n",
       "<style scoped>\n",
       "    .dataframe tbody tr th:only-of-type {\n",
       "        vertical-align: middle;\n",
       "    }\n",
       "\n",
       "    .dataframe tbody tr th {\n",
       "        vertical-align: top;\n",
       "    }\n",
       "\n",
       "    .dataframe thead th {\n",
       "        text-align: right;\n",
       "    }\n",
       "</style>\n",
       "<table border=\"1\" class=\"dataframe\">\n",
       "  <thead>\n",
       "    <tr style=\"text-align: right;\">\n",
       "      <th></th>\n",
       "      <th>Avocados</th>\n",
       "      <th>Roma Tomatoes</th>\n",
       "      <th>Sweet Potatoes</th>\n",
       "      <th>Spinach</th>\n",
       "      <th>Broccoli Crown</th>\n",
       "      <th>Whole Carrots</th>\n",
       "      <th>Garlic</th>\n",
       "      <th>White Onions</th>\n",
       "      <th>Sliced White Mushrooms</th>\n",
       "      <th>Zucchini</th>\n",
       "      <th>...</th>\n",
       "      <th>Lentils (kroger)</th>\n",
       "      <th>Almonds (kroger)</th>\n",
       "      <th>Brazil Nuts (Torn and Glasser)</th>\n",
       "      <th>Chia Seeds</th>\n",
       "      <th>Flax Seeds (NOW foods real food)</th>\n",
       "      <th>Peanut Butter</th>\n",
       "      <th>Mustard (kroger)</th>\n",
       "      <th>Apple Cider Vinegar (kroger)</th>\n",
       "      <th>Kimchi (simple truth)</th>\n",
       "      <th>Mayonaise (kroger)</th>\n",
       "    </tr>\n",
       "  </thead>\n",
       "  <tbody>\n",
       "    <tr>\n",
       "      <th>Alanine</th>\n",
       "      <td>0.00</td>\n",
       "      <td>0.00000</td>\n",
       "      <td>0.00</td>\n",
       "      <td>0.00</td>\n",
       "      <td>0.00</td>\n",
       "      <td>0.00</td>\n",
       "      <td>0.00</td>\n",
       "      <td>0.00</td>\n",
       "      <td>0.199</td>\n",
       "      <td>0.063</td>\n",
       "      <td>...</td>\n",
       "      <td>0.0</td>\n",
       "      <td>0.0</td>\n",
       "      <td>0.00</td>\n",
       "      <td>0.0</td>\n",
       "      <td>0.00</td>\n",
       "      <td>0.0</td>\n",
       "      <td>0.0</td>\n",
       "      <td>0.0</td>\n",
       "      <td>0.00</td>\n",
       "      <td>0.0</td>\n",
       "    </tr>\n",
       "    <tr>\n",
       "      <th>Alcohol, ethyl</th>\n",
       "      <td>0.00</td>\n",
       "      <td>0.00000</td>\n",
       "      <td>0.00</td>\n",
       "      <td>0.00</td>\n",
       "      <td>0.00</td>\n",
       "      <td>0.00</td>\n",
       "      <td>0.00</td>\n",
       "      <td>0.00</td>\n",
       "      <td>0.000</td>\n",
       "      <td>0.000</td>\n",
       "      <td>...</td>\n",
       "      <td>0.0</td>\n",
       "      <td>0.0</td>\n",
       "      <td>0.00</td>\n",
       "      <td>0.0</td>\n",
       "      <td>0.00</td>\n",
       "      <td>0.0</td>\n",
       "      <td>0.0</td>\n",
       "      <td>0.0</td>\n",
       "      <td>0.00</td>\n",
       "      <td>0.0</td>\n",
       "    </tr>\n",
       "    <tr>\n",
       "      <th>Amino acids</th>\n",
       "      <td>0.00</td>\n",
       "      <td>0.00000</td>\n",
       "      <td>0.00</td>\n",
       "      <td>0.00</td>\n",
       "      <td>0.00</td>\n",
       "      <td>0.00</td>\n",
       "      <td>0.00</td>\n",
       "      <td>0.00</td>\n",
       "      <td>0.000</td>\n",
       "      <td>0.000</td>\n",
       "      <td>...</td>\n",
       "      <td>0.0</td>\n",
       "      <td>0.0</td>\n",
       "      <td>0.00</td>\n",
       "      <td>0.0</td>\n",
       "      <td>0.00</td>\n",
       "      <td>0.0</td>\n",
       "      <td>0.0</td>\n",
       "      <td>0.0</td>\n",
       "      <td>0.00</td>\n",
       "      <td>0.0</td>\n",
       "    </tr>\n",
       "    <tr>\n",
       "      <th>Arginine</th>\n",
       "      <td>0.00</td>\n",
       "      <td>0.00000</td>\n",
       "      <td>0.00</td>\n",
       "      <td>0.00</td>\n",
       "      <td>0.00</td>\n",
       "      <td>0.00</td>\n",
       "      <td>0.00</td>\n",
       "      <td>0.00</td>\n",
       "      <td>0.078</td>\n",
       "      <td>0.051</td>\n",
       "      <td>...</td>\n",
       "      <td>0.0</td>\n",
       "      <td>0.0</td>\n",
       "      <td>0.00</td>\n",
       "      <td>0.0</td>\n",
       "      <td>0.00</td>\n",
       "      <td>0.0</td>\n",
       "      <td>0.0</td>\n",
       "      <td>0.0</td>\n",
       "      <td>0.00</td>\n",
       "      <td>0.0</td>\n",
       "    </tr>\n",
       "    <tr>\n",
       "      <th>Ash</th>\n",
       "      <td>0.00</td>\n",
       "      <td>0.31190</td>\n",
       "      <td>0.00</td>\n",
       "      <td>0.00</td>\n",
       "      <td>0.00</td>\n",
       "      <td>0.00</td>\n",
       "      <td>0.00</td>\n",
       "      <td>0.00</td>\n",
       "      <td>0.850</td>\n",
       "      <td>0.580</td>\n",
       "      <td>...</td>\n",
       "      <td>0.0</td>\n",
       "      <td>0.0</td>\n",
       "      <td>0.00</td>\n",
       "      <td>0.0</td>\n",
       "      <td>0.00</td>\n",
       "      <td>0.0</td>\n",
       "      <td>0.0</td>\n",
       "      <td>0.0</td>\n",
       "      <td>1.70</td>\n",
       "      <td>0.0</td>\n",
       "    </tr>\n",
       "    <tr>\n",
       "      <th>...</th>\n",
       "      <td>...</td>\n",
       "      <td>...</td>\n",
       "      <td>...</td>\n",
       "      <td>...</td>\n",
       "      <td>...</td>\n",
       "      <td>...</td>\n",
       "      <td>...</td>\n",
       "      <td>...</td>\n",
       "      <td>...</td>\n",
       "      <td>...</td>\n",
       "      <td>...</td>\n",
       "      <td>...</td>\n",
       "      <td>...</td>\n",
       "      <td>...</td>\n",
       "      <td>...</td>\n",
       "      <td>...</td>\n",
       "      <td>...</td>\n",
       "      <td>...</td>\n",
       "      <td>...</td>\n",
       "      <td>...</td>\n",
       "      <td>...</td>\n",
       "    </tr>\n",
       "    <tr>\n",
       "      <th>Vitamins and Other Components</th>\n",
       "      <td>0.00</td>\n",
       "      <td>0.00000</td>\n",
       "      <td>0.00</td>\n",
       "      <td>0.00</td>\n",
       "      <td>0.00</td>\n",
       "      <td>0.00</td>\n",
       "      <td>0.00</td>\n",
       "      <td>0.00</td>\n",
       "      <td>0.000</td>\n",
       "      <td>0.000</td>\n",
       "      <td>...</td>\n",
       "      <td>0.0</td>\n",
       "      <td>0.0</td>\n",
       "      <td>0.00</td>\n",
       "      <td>0.0</td>\n",
       "      <td>0.00</td>\n",
       "      <td>0.0</td>\n",
       "      <td>0.0</td>\n",
       "      <td>0.0</td>\n",
       "      <td>0.00</td>\n",
       "      <td>0.0</td>\n",
       "    </tr>\n",
       "    <tr>\n",
       "      <th>Water</th>\n",
       "      <td>73.23</td>\n",
       "      <td>94.73000</td>\n",
       "      <td>76.56</td>\n",
       "      <td>91.40</td>\n",
       "      <td>89.30</td>\n",
       "      <td>88.29</td>\n",
       "      <td>58.58</td>\n",
       "      <td>89.11</td>\n",
       "      <td>92.450</td>\n",
       "      <td>94.790</td>\n",
       "      <td>...</td>\n",
       "      <td>0.0</td>\n",
       "      <td>0.0</td>\n",
       "      <td>3.42</td>\n",
       "      <td>0.0</td>\n",
       "      <td>6.96</td>\n",
       "      <td>0.0</td>\n",
       "      <td>0.0</td>\n",
       "      <td>0.0</td>\n",
       "      <td>94.30</td>\n",
       "      <td>0.0</td>\n",
       "    </tr>\n",
       "    <tr>\n",
       "      <th>Zeaxanthin</th>\n",
       "      <td>0.00</td>\n",
       "      <td>0.00000</td>\n",
       "      <td>0.00</td>\n",
       "      <td>0.00</td>\n",
       "      <td>0.00</td>\n",
       "      <td>0.00</td>\n",
       "      <td>0.00</td>\n",
       "      <td>0.00</td>\n",
       "      <td>0.000</td>\n",
       "      <td>0.000</td>\n",
       "      <td>...</td>\n",
       "      <td>0.0</td>\n",
       "      <td>0.0</td>\n",
       "      <td>0.00</td>\n",
       "      <td>0.0</td>\n",
       "      <td>0.00</td>\n",
       "      <td>0.0</td>\n",
       "      <td>0.0</td>\n",
       "      <td>0.0</td>\n",
       "      <td>0.00</td>\n",
       "      <td>0.0</td>\n",
       "    </tr>\n",
       "    <tr>\n",
       "      <th>Zinc, Zn</th>\n",
       "      <td>0.64</td>\n",
       "      <td>0.08245</td>\n",
       "      <td>0.19</td>\n",
       "      <td>0.53</td>\n",
       "      <td>0.41</td>\n",
       "      <td>0.24</td>\n",
       "      <td>1.16</td>\n",
       "      <td>0.17</td>\n",
       "      <td>0.520</td>\n",
       "      <td>0.320</td>\n",
       "      <td>...</td>\n",
       "      <td>0.0</td>\n",
       "      <td>0.0</td>\n",
       "      <td>4.06</td>\n",
       "      <td>0.0</td>\n",
       "      <td>4.34</td>\n",
       "      <td>0.0</td>\n",
       "      <td>0.0</td>\n",
       "      <td>0.0</td>\n",
       "      <td>0.22</td>\n",
       "      <td>0.0</td>\n",
       "    </tr>\n",
       "    <tr>\n",
       "      <th>cis-Lutein/Zeaxanthin</th>\n",
       "      <td>0.00</td>\n",
       "      <td>0.00000</td>\n",
       "      <td>0.00</td>\n",
       "      <td>0.00</td>\n",
       "      <td>0.00</td>\n",
       "      <td>0.00</td>\n",
       "      <td>0.00</td>\n",
       "      <td>0.00</td>\n",
       "      <td>0.000</td>\n",
       "      <td>0.000</td>\n",
       "      <td>...</td>\n",
       "      <td>0.0</td>\n",
       "      <td>0.0</td>\n",
       "      <td>0.00</td>\n",
       "      <td>0.0</td>\n",
       "      <td>0.00</td>\n",
       "      <td>0.0</td>\n",
       "      <td>0.0</td>\n",
       "      <td>0.0</td>\n",
       "      <td>0.00</td>\n",
       "      <td>0.0</td>\n",
       "    </tr>\n",
       "  </tbody>\n",
       "</table>\n",
       "<p>198 rows × 63 columns</p>\n",
       "</div>"
      ],
      "text/plain": [
       "                               Avocados  Roma Tomatoes  Sweet Potatoes   \\\n",
       "Alanine                            0.00        0.00000             0.00   \n",
       "Alcohol, ethyl                     0.00        0.00000             0.00   \n",
       "Amino acids                        0.00        0.00000             0.00   \n",
       "Arginine                           0.00        0.00000             0.00   \n",
       "Ash                                0.00        0.31190             0.00   \n",
       "...                                 ...            ...              ...   \n",
       "Vitamins and Other Components      0.00        0.00000             0.00   \n",
       "Water                             73.23       94.73000            76.56   \n",
       "Zeaxanthin                         0.00        0.00000             0.00   \n",
       "Zinc, Zn                           0.64        0.08245             0.19   \n",
       "cis-Lutein/Zeaxanthin              0.00        0.00000             0.00   \n",
       "\n",
       "                               Spinach   Broccoli Crown  Whole Carrots   \\\n",
       "Alanine                            0.00            0.00            0.00   \n",
       "Alcohol, ethyl                     0.00            0.00            0.00   \n",
       "Amino acids                        0.00            0.00            0.00   \n",
       "Arginine                           0.00            0.00            0.00   \n",
       "Ash                                0.00            0.00            0.00   \n",
       "...                                 ...             ...             ...   \n",
       "Vitamins and Other Components      0.00            0.00            0.00   \n",
       "Water                             91.40           89.30           88.29   \n",
       "Zeaxanthin                         0.00            0.00            0.00   \n",
       "Zinc, Zn                           0.53            0.41            0.24   \n",
       "cis-Lutein/Zeaxanthin              0.00            0.00            0.00   \n",
       "\n",
       "                               Garlic   White Onions   \\\n",
       "Alanine                           0.00           0.00   \n",
       "Alcohol, ethyl                    0.00           0.00   \n",
       "Amino acids                       0.00           0.00   \n",
       "Arginine                          0.00           0.00   \n",
       "Ash                               0.00           0.00   \n",
       "...                                ...            ...   \n",
       "Vitamins and Other Components     0.00           0.00   \n",
       "Water                            58.58          89.11   \n",
       "Zeaxanthin                        0.00           0.00   \n",
       "Zinc, Zn                          1.16           0.17   \n",
       "cis-Lutein/Zeaxanthin             0.00           0.00   \n",
       "\n",
       "                               Sliced White Mushrooms   Zucchini  ...  \\\n",
       "Alanine                                          0.199     0.063  ...   \n",
       "Alcohol, ethyl                                   0.000     0.000  ...   \n",
       "Amino acids                                      0.000     0.000  ...   \n",
       "Arginine                                         0.078     0.051  ...   \n",
       "Ash                                              0.850     0.580  ...   \n",
       "...                                                ...       ...  ...   \n",
       "Vitamins and Other Components                    0.000     0.000  ...   \n",
       "Water                                           92.450    94.790  ...   \n",
       "Zeaxanthin                                       0.000     0.000  ...   \n",
       "Zinc, Zn                                         0.520     0.320  ...   \n",
       "cis-Lutein/Zeaxanthin                            0.000     0.000  ...   \n",
       "\n",
       "                               Lentils (kroger)  Almonds (kroger)  \\\n",
       "Alanine                                     0.0               0.0   \n",
       "Alcohol, ethyl                              0.0               0.0   \n",
       "Amino acids                                 0.0               0.0   \n",
       "Arginine                                    0.0               0.0   \n",
       "Ash                                         0.0               0.0   \n",
       "...                                         ...               ...   \n",
       "Vitamins and Other Components               0.0               0.0   \n",
       "Water                                       0.0               0.0   \n",
       "Zeaxanthin                                  0.0               0.0   \n",
       "Zinc, Zn                                    0.0               0.0   \n",
       "cis-Lutein/Zeaxanthin                       0.0               0.0   \n",
       "\n",
       "                               Brazil Nuts (Torn and Glasser)  Chia Seeds  \\\n",
       "Alanine                                                  0.00         0.0   \n",
       "Alcohol, ethyl                                           0.00         0.0   \n",
       "Amino acids                                              0.00         0.0   \n",
       "Arginine                                                 0.00         0.0   \n",
       "Ash                                                      0.00         0.0   \n",
       "...                                                       ...         ...   \n",
       "Vitamins and Other Components                            0.00         0.0   \n",
       "Water                                                    3.42         0.0   \n",
       "Zeaxanthin                                               0.00         0.0   \n",
       "Zinc, Zn                                                 4.06         0.0   \n",
       "cis-Lutein/Zeaxanthin                                    0.00         0.0   \n",
       "\n",
       "                               Flax Seeds (NOW foods real food)  \\\n",
       "Alanine                                                    0.00   \n",
       "Alcohol, ethyl                                             0.00   \n",
       "Amino acids                                                0.00   \n",
       "Arginine                                                   0.00   \n",
       "Ash                                                        0.00   \n",
       "...                                                         ...   \n",
       "Vitamins and Other Components                              0.00   \n",
       "Water                                                      6.96   \n",
       "Zeaxanthin                                                 0.00   \n",
       "Zinc, Zn                                                   4.34   \n",
       "cis-Lutein/Zeaxanthin                                      0.00   \n",
       "\n",
       "                               Peanut Butter  Mustard (kroger)  \\\n",
       "Alanine                                  0.0               0.0   \n",
       "Alcohol, ethyl                           0.0               0.0   \n",
       "Amino acids                              0.0               0.0   \n",
       "Arginine                                 0.0               0.0   \n",
       "Ash                                      0.0               0.0   \n",
       "...                                      ...               ...   \n",
       "Vitamins and Other Components            0.0               0.0   \n",
       "Water                                    0.0               0.0   \n",
       "Zeaxanthin                               0.0               0.0   \n",
       "Zinc, Zn                                 0.0               0.0   \n",
       "cis-Lutein/Zeaxanthin                    0.0               0.0   \n",
       "\n",
       "                               Apple Cider Vinegar (kroger)  \\\n",
       "Alanine                                                 0.0   \n",
       "Alcohol, ethyl                                          0.0   \n",
       "Amino acids                                             0.0   \n",
       "Arginine                                                0.0   \n",
       "Ash                                                     0.0   \n",
       "...                                                     ...   \n",
       "Vitamins and Other Components                           0.0   \n",
       "Water                                                   0.0   \n",
       "Zeaxanthin                                              0.0   \n",
       "Zinc, Zn                                                0.0   \n",
       "cis-Lutein/Zeaxanthin                                   0.0   \n",
       "\n",
       "                               Kimchi (simple truth)  Mayonaise (kroger)  \n",
       "Alanine                                         0.00                 0.0  \n",
       "Alcohol, ethyl                                  0.00                 0.0  \n",
       "Amino acids                                     0.00                 0.0  \n",
       "Arginine                                        0.00                 0.0  \n",
       "Ash                                             1.70                 0.0  \n",
       "...                                              ...                 ...  \n",
       "Vitamins and Other Components                   0.00                 0.0  \n",
       "Water                                          94.30                 0.0  \n",
       "Zeaxanthin                                      0.00                 0.0  \n",
       "Zinc, Zn                                        0.22                 0.0  \n",
       "cis-Lutein/Zeaxanthin                           0.00                 0.0  \n",
       "\n",
       "[198 rows x 63 columns]"
      ]
     },
     "execution_count": 78,
     "metadata": {},
     "output_type": "execute_result"
    }
   ],
   "source": [
    "import fooddatacentral as fdc\n",
    "\n",
    "D = {}\n",
    "count = 0\n",
    "for food in  read_sheets_food_prices.Item.tolist():\n",
    "    try:\n",
    "        FDC = read_sheets_food_prices.loc[read_sheets_food_prices.Item==food,:].FDC[count]\n",
    "        count+=1\n",
    "        D[food] = fdc.nutrients(apikey,FDC).Quantity\n",
    "    except AttributeError: \n",
    "        warnings.warn(\"Couldn't find FDC Code %s for food %s.\" % (food,FDC))        \n",
    "\n",
    "D = pd.DataFrame(D,dtype=float).fillna(0)\n",
    "\n",
    "D "
   ]
  },
  {
   "cell_type": "code",
   "execution_count": 17,
   "id": "8fe9d73b",
   "metadata": {},
   "outputs": [
    {
     "data": {
      "text/html": [
       "<div>\n",
       "<style scoped>\n",
       "    .dataframe tbody tr th:only-of-type {\n",
       "        vertical-align: middle;\n",
       "    }\n",
       "\n",
       "    .dataframe tbody tr th {\n",
       "        vertical-align: top;\n",
       "    }\n",
       "\n",
       "    .dataframe thead th {\n",
       "        text-align: right;\n",
       "    }\n",
       "</style>\n",
       "<table border=\"1\" class=\"dataframe\">\n",
       "  <thead>\n",
       "    <tr style=\"text-align: right;\">\n",
       "      <th></th>\n",
       "      <th>Avocados</th>\n",
       "      <th>Roma Tomatoes</th>\n",
       "      <th>Sweet Potatoes</th>\n",
       "      <th>Spinach</th>\n",
       "      <th>Broccoli Crown</th>\n",
       "      <th>Whole Carrots</th>\n",
       "      <th>Garlic</th>\n",
       "      <th>White Onions</th>\n",
       "      <th>Sliced White Mushrooms</th>\n",
       "      <th>Zucchini</th>\n",
       "      <th>...</th>\n",
       "      <th>Lentils (kroger)</th>\n",
       "      <th>Almonds (kroger)</th>\n",
       "      <th>Brazil Nuts (Torn and Glasser)</th>\n",
       "      <th>Chia Seeds</th>\n",
       "      <th>Flax Seeds (NOW foods real food)</th>\n",
       "      <th>Peanut Butter</th>\n",
       "      <th>Mustard (kroger)</th>\n",
       "      <th>Apple Cider Vinegar (kroger)</th>\n",
       "      <th>Kimchi (simple truth)</th>\n",
       "      <th>Mayonaise (kroger)</th>\n",
       "    </tr>\n",
       "  </thead>\n",
       "  <tbody>\n",
       "    <tr>\n",
       "      <th>Alanine</th>\n",
       "      <td>0.00</td>\n",
       "      <td>0.000000</td>\n",
       "      <td>0.00</td>\n",
       "      <td>0.00</td>\n",
       "      <td>0.00</td>\n",
       "      <td>0.00</td>\n",
       "      <td>0.00</td>\n",
       "      <td>0.00</td>\n",
       "      <td>0.199</td>\n",
       "      <td>0.063</td>\n",
       "      <td>...</td>\n",
       "      <td>0.00</td>\n",
       "      <td>0.00</td>\n",
       "      <td>0.00</td>\n",
       "      <td>0.0</td>\n",
       "      <td>0.00</td>\n",
       "      <td>0.00</td>\n",
       "      <td>0.0</td>\n",
       "      <td>0.0</td>\n",
       "      <td>0.0</td>\n",
       "      <td>0.0</td>\n",
       "    </tr>\n",
       "    <tr>\n",
       "      <th>Alcohol, ethyl</th>\n",
       "      <td>0.00</td>\n",
       "      <td>0.000000</td>\n",
       "      <td>0.00</td>\n",
       "      <td>0.00</td>\n",
       "      <td>0.00</td>\n",
       "      <td>0.00</td>\n",
       "      <td>0.00</td>\n",
       "      <td>0.00</td>\n",
       "      <td>0.000</td>\n",
       "      <td>0.000</td>\n",
       "      <td>...</td>\n",
       "      <td>0.00</td>\n",
       "      <td>0.00</td>\n",
       "      <td>0.00</td>\n",
       "      <td>0.0</td>\n",
       "      <td>0.00</td>\n",
       "      <td>0.00</td>\n",
       "      <td>0.0</td>\n",
       "      <td>0.0</td>\n",
       "      <td>0.0</td>\n",
       "      <td>0.0</td>\n",
       "    </tr>\n",
       "    <tr>\n",
       "      <th>Amino acids</th>\n",
       "      <td>0.00</td>\n",
       "      <td>0.000000</td>\n",
       "      <td>0.00</td>\n",
       "      <td>0.00</td>\n",
       "      <td>0.00</td>\n",
       "      <td>0.00</td>\n",
       "      <td>0.00</td>\n",
       "      <td>0.00</td>\n",
       "      <td>0.000</td>\n",
       "      <td>0.000</td>\n",
       "      <td>...</td>\n",
       "      <td>0.00</td>\n",
       "      <td>0.00</td>\n",
       "      <td>0.00</td>\n",
       "      <td>0.0</td>\n",
       "      <td>0.00</td>\n",
       "      <td>0.00</td>\n",
       "      <td>0.0</td>\n",
       "      <td>0.0</td>\n",
       "      <td>0.0</td>\n",
       "      <td>0.0</td>\n",
       "    </tr>\n",
       "    <tr>\n",
       "      <th>Arginine</th>\n",
       "      <td>0.00</td>\n",
       "      <td>0.000000</td>\n",
       "      <td>0.00</td>\n",
       "      <td>0.00</td>\n",
       "      <td>0.00</td>\n",
       "      <td>0.00</td>\n",
       "      <td>0.00</td>\n",
       "      <td>0.00</td>\n",
       "      <td>0.078</td>\n",
       "      <td>0.051</td>\n",
       "      <td>...</td>\n",
       "      <td>0.00</td>\n",
       "      <td>0.00</td>\n",
       "      <td>0.00</td>\n",
       "      <td>0.0</td>\n",
       "      <td>0.00</td>\n",
       "      <td>0.00</td>\n",
       "      <td>0.0</td>\n",
       "      <td>0.0</td>\n",
       "      <td>0.0</td>\n",
       "      <td>0.0</td>\n",
       "    </tr>\n",
       "    <tr>\n",
       "      <th>Ash</th>\n",
       "      <td>0.00</td>\n",
       "      <td>0.311900</td>\n",
       "      <td>0.00</td>\n",
       "      <td>0.00</td>\n",
       "      <td>0.00</td>\n",
       "      <td>0.00</td>\n",
       "      <td>0.00</td>\n",
       "      <td>0.00</td>\n",
       "      <td>0.850</td>\n",
       "      <td>0.580</td>\n",
       "      <td>...</td>\n",
       "      <td>0.00</td>\n",
       "      <td>0.00</td>\n",
       "      <td>0.00</td>\n",
       "      <td>0.0</td>\n",
       "      <td>0.00</td>\n",
       "      <td>0.00</td>\n",
       "      <td>0.0</td>\n",
       "      <td>0.0</td>\n",
       "      <td>1.7</td>\n",
       "      <td>0.0</td>\n",
       "    </tr>\n",
       "    <tr>\n",
       "      <th>Aspartic acid</th>\n",
       "      <td>0.00</td>\n",
       "      <td>0.000000</td>\n",
       "      <td>0.00</td>\n",
       "      <td>0.00</td>\n",
       "      <td>0.00</td>\n",
       "      <td>0.00</td>\n",
       "      <td>0.00</td>\n",
       "      <td>0.00</td>\n",
       "      <td>0.195</td>\n",
       "      <td>0.147</td>\n",
       "      <td>...</td>\n",
       "      <td>0.00</td>\n",
       "      <td>0.00</td>\n",
       "      <td>0.00</td>\n",
       "      <td>0.0</td>\n",
       "      <td>0.00</td>\n",
       "      <td>0.00</td>\n",
       "      <td>0.0</td>\n",
       "      <td>0.0</td>\n",
       "      <td>0.0</td>\n",
       "      <td>0.0</td>\n",
       "    </tr>\n",
       "    <tr>\n",
       "      <th>Beta-sitosterol</th>\n",
       "      <td>0.00</td>\n",
       "      <td>0.000000</td>\n",
       "      <td>0.00</td>\n",
       "      <td>0.00</td>\n",
       "      <td>0.00</td>\n",
       "      <td>0.00</td>\n",
       "      <td>0.00</td>\n",
       "      <td>0.00</td>\n",
       "      <td>0.000</td>\n",
       "      <td>0.000</td>\n",
       "      <td>...</td>\n",
       "      <td>0.00</td>\n",
       "      <td>0.00</td>\n",
       "      <td>0.00</td>\n",
       "      <td>0.0</td>\n",
       "      <td>0.00</td>\n",
       "      <td>0.00</td>\n",
       "      <td>0.0</td>\n",
       "      <td>0.0</td>\n",
       "      <td>0.0</td>\n",
       "      <td>0.0</td>\n",
       "    </tr>\n",
       "    <tr>\n",
       "      <th>Betaine</th>\n",
       "      <td>0.00</td>\n",
       "      <td>0.000000</td>\n",
       "      <td>0.00</td>\n",
       "      <td>0.00</td>\n",
       "      <td>0.00</td>\n",
       "      <td>0.00</td>\n",
       "      <td>0.00</td>\n",
       "      <td>0.00</td>\n",
       "      <td>9.400</td>\n",
       "      <td>0.000</td>\n",
       "      <td>...</td>\n",
       "      <td>0.00</td>\n",
       "      <td>0.00</td>\n",
       "      <td>0.00</td>\n",
       "      <td>0.0</td>\n",
       "      <td>0.00</td>\n",
       "      <td>0.00</td>\n",
       "      <td>0.0</td>\n",
       "      <td>0.0</td>\n",
       "      <td>0.0</td>\n",
       "      <td>0.0</td>\n",
       "    </tr>\n",
       "    <tr>\n",
       "      <th>Biotin</th>\n",
       "      <td>0.00</td>\n",
       "      <td>0.468800</td>\n",
       "      <td>0.00</td>\n",
       "      <td>0.00</td>\n",
       "      <td>0.00</td>\n",
       "      <td>0.00</td>\n",
       "      <td>0.00</td>\n",
       "      <td>0.00</td>\n",
       "      <td>0.000</td>\n",
       "      <td>0.000</td>\n",
       "      <td>...</td>\n",
       "      <td>0.00</td>\n",
       "      <td>0.00</td>\n",
       "      <td>0.00</td>\n",
       "      <td>0.0</td>\n",
       "      <td>0.00</td>\n",
       "      <td>0.00</td>\n",
       "      <td>0.0</td>\n",
       "      <td>0.0</td>\n",
       "      <td>0.0</td>\n",
       "      <td>0.0</td>\n",
       "    </tr>\n",
       "    <tr>\n",
       "      <th>Caffeine</th>\n",
       "      <td>0.00</td>\n",
       "      <td>0.000000</td>\n",
       "      <td>0.00</td>\n",
       "      <td>0.00</td>\n",
       "      <td>0.00</td>\n",
       "      <td>0.00</td>\n",
       "      <td>0.00</td>\n",
       "      <td>0.00</td>\n",
       "      <td>0.000</td>\n",
       "      <td>0.000</td>\n",
       "      <td>...</td>\n",
       "      <td>0.00</td>\n",
       "      <td>0.00</td>\n",
       "      <td>0.00</td>\n",
       "      <td>0.0</td>\n",
       "      <td>0.00</td>\n",
       "      <td>0.00</td>\n",
       "      <td>0.0</td>\n",
       "      <td>0.0</td>\n",
       "      <td>0.0</td>\n",
       "      <td>0.0</td>\n",
       "    </tr>\n",
       "    <tr>\n",
       "      <th>Calcium, Ca</th>\n",
       "      <td>12.00</td>\n",
       "      <td>9.963000</td>\n",
       "      <td>26.00</td>\n",
       "      <td>99.00</td>\n",
       "      <td>47.00</td>\n",
       "      <td>33.00</td>\n",
       "      <td>181.00</td>\n",
       "      <td>23.00</td>\n",
       "      <td>3.000</td>\n",
       "      <td>16.000</td>\n",
       "      <td>...</td>\n",
       "      <td>0.00</td>\n",
       "      <td>286.00</td>\n",
       "      <td>160.00</td>\n",
       "      <td>667.0</td>\n",
       "      <td>255.00</td>\n",
       "      <td>61.00</td>\n",
       "      <td>0.0</td>\n",
       "      <td>0.0</td>\n",
       "      <td>33.0</td>\n",
       "      <td>0.0</td>\n",
       "    </tr>\n",
       "    <tr>\n",
       "      <th>Campesterol</th>\n",
       "      <td>0.00</td>\n",
       "      <td>0.000000</td>\n",
       "      <td>0.00</td>\n",
       "      <td>0.00</td>\n",
       "      <td>0.00</td>\n",
       "      <td>0.00</td>\n",
       "      <td>0.00</td>\n",
       "      <td>0.00</td>\n",
       "      <td>2.000</td>\n",
       "      <td>0.000</td>\n",
       "      <td>...</td>\n",
       "      <td>0.00</td>\n",
       "      <td>0.00</td>\n",
       "      <td>0.00</td>\n",
       "      <td>0.0</td>\n",
       "      <td>0.00</td>\n",
       "      <td>0.00</td>\n",
       "      <td>0.0</td>\n",
       "      <td>0.0</td>\n",
       "      <td>0.0</td>\n",
       "      <td>0.0</td>\n",
       "    </tr>\n",
       "    <tr>\n",
       "      <th>Carbohydrate, by difference</th>\n",
       "      <td>8.53</td>\n",
       "      <td>3.837475</td>\n",
       "      <td>16.82</td>\n",
       "      <td>3.63</td>\n",
       "      <td>6.64</td>\n",
       "      <td>9.58</td>\n",
       "      <td>33.06</td>\n",
       "      <td>9.34</td>\n",
       "      <td>3.260</td>\n",
       "      <td>3.110</td>\n",
       "      <td>...</td>\n",
       "      <td>57.14</td>\n",
       "      <td>17.86</td>\n",
       "      <td>11.74</td>\n",
       "      <td>40.0</td>\n",
       "      <td>28.88</td>\n",
       "      <td>24.24</td>\n",
       "      <td>0.0</td>\n",
       "      <td>0.0</td>\n",
       "      <td>2.4</td>\n",
       "      <td>0.0</td>\n",
       "    </tr>\n",
       "    <tr>\n",
       "      <th>Carbohydrate, by summation</th>\n",
       "      <td>0.00</td>\n",
       "      <td>0.000000</td>\n",
       "      <td>0.00</td>\n",
       "      <td>0.00</td>\n",
       "      <td>0.00</td>\n",
       "      <td>0.00</td>\n",
       "      <td>0.00</td>\n",
       "      <td>0.00</td>\n",
       "      <td>0.000</td>\n",
       "      <td>0.000</td>\n",
       "      <td>...</td>\n",
       "      <td>0.00</td>\n",
       "      <td>0.00</td>\n",
       "      <td>0.00</td>\n",
       "      <td>0.0</td>\n",
       "      <td>0.00</td>\n",
       "      <td>0.00</td>\n",
       "      <td>0.0</td>\n",
       "      <td>0.0</td>\n",
       "      <td>0.0</td>\n",
       "      <td>0.0</td>\n",
       "    </tr>\n",
       "    <tr>\n",
       "      <th>Carbohydrates</th>\n",
       "      <td>0.00</td>\n",
       "      <td>0.000000</td>\n",
       "      <td>0.00</td>\n",
       "      <td>0.00</td>\n",
       "      <td>0.00</td>\n",
       "      <td>0.00</td>\n",
       "      <td>0.00</td>\n",
       "      <td>0.00</td>\n",
       "      <td>0.000</td>\n",
       "      <td>0.000</td>\n",
       "      <td>...</td>\n",
       "      <td>0.00</td>\n",
       "      <td>0.00</td>\n",
       "      <td>0.00</td>\n",
       "      <td>0.0</td>\n",
       "      <td>0.00</td>\n",
       "      <td>0.00</td>\n",
       "      <td>0.0</td>\n",
       "      <td>0.0</td>\n",
       "      <td>0.0</td>\n",
       "      <td>0.0</td>\n",
       "    </tr>\n",
       "    <tr>\n",
       "      <th>Carotene, alpha</th>\n",
       "      <td>24.00</td>\n",
       "      <td>0.875000</td>\n",
       "      <td>0.00</td>\n",
       "      <td>0.00</td>\n",
       "      <td>25.00</td>\n",
       "      <td>3477.00</td>\n",
       "      <td>0.00</td>\n",
       "      <td>0.00</td>\n",
       "      <td>0.000</td>\n",
       "      <td>0.000</td>\n",
       "      <td>...</td>\n",
       "      <td>0.00</td>\n",
       "      <td>0.00</td>\n",
       "      <td>0.00</td>\n",
       "      <td>0.0</td>\n",
       "      <td>0.00</td>\n",
       "      <td>0.00</td>\n",
       "      <td>0.0</td>\n",
       "      <td>0.0</td>\n",
       "      <td>1.0</td>\n",
       "      <td>0.0</td>\n",
       "    </tr>\n",
       "    <tr>\n",
       "      <th>Carotene, beta</th>\n",
       "      <td>62.00</td>\n",
       "      <td>275.500000</td>\n",
       "      <td>8968.00</td>\n",
       "      <td>5626.00</td>\n",
       "      <td>361.00</td>\n",
       "      <td>8285.00</td>\n",
       "      <td>5.00</td>\n",
       "      <td>1.00</td>\n",
       "      <td>0.000</td>\n",
       "      <td>120.000</td>\n",
       "      <td>...</td>\n",
       "      <td>0.00</td>\n",
       "      <td>0.00</td>\n",
       "      <td>0.00</td>\n",
       "      <td>0.0</td>\n",
       "      <td>0.00</td>\n",
       "      <td>0.00</td>\n",
       "      <td>0.0</td>\n",
       "      <td>0.0</td>\n",
       "      <td>55.0</td>\n",
       "      <td>0.0</td>\n",
       "    </tr>\n",
       "    <tr>\n",
       "      <th>Carotene, gamma</th>\n",
       "      <td>0.00</td>\n",
       "      <td>2.125000</td>\n",
       "      <td>0.00</td>\n",
       "      <td>0.00</td>\n",
       "      <td>0.00</td>\n",
       "      <td>0.00</td>\n",
       "      <td>0.00</td>\n",
       "      <td>0.00</td>\n",
       "      <td>0.000</td>\n",
       "      <td>0.000</td>\n",
       "      <td>...</td>\n",
       "      <td>0.00</td>\n",
       "      <td>0.00</td>\n",
       "      <td>0.00</td>\n",
       "      <td>0.0</td>\n",
       "      <td>0.00</td>\n",
       "      <td>0.00</td>\n",
       "      <td>0.0</td>\n",
       "      <td>0.0</td>\n",
       "      <td>0.0</td>\n",
       "      <td>0.0</td>\n",
       "    </tr>\n",
       "    <tr>\n",
       "      <th>Cholesterol</th>\n",
       "      <td>0.00</td>\n",
       "      <td>0.000000</td>\n",
       "      <td>3.00</td>\n",
       "      <td>0.00</td>\n",
       "      <td>0.00</td>\n",
       "      <td>0.00</td>\n",
       "      <td>0.00</td>\n",
       "      <td>0.00</td>\n",
       "      <td>0.000</td>\n",
       "      <td>0.000</td>\n",
       "      <td>...</td>\n",
       "      <td>0.00</td>\n",
       "      <td>0.00</td>\n",
       "      <td>0.00</td>\n",
       "      <td>0.0</td>\n",
       "      <td>0.00</td>\n",
       "      <td>0.00</td>\n",
       "      <td>0.0</td>\n",
       "      <td>0.0</td>\n",
       "      <td>0.0</td>\n",
       "      <td>36.0</td>\n",
       "    </tr>\n",
       "    <tr>\n",
       "      <th>Choline, total</th>\n",
       "      <td>14.20</td>\n",
       "      <td>0.000000</td>\n",
       "      <td>10.60</td>\n",
       "      <td>19.30</td>\n",
       "      <td>18.70</td>\n",
       "      <td>8.80</td>\n",
       "      <td>23.20</td>\n",
       "      <td>6.10</td>\n",
       "      <td>17.300</td>\n",
       "      <td>9.500</td>\n",
       "      <td>...</td>\n",
       "      <td>0.00</td>\n",
       "      <td>0.00</td>\n",
       "      <td>28.80</td>\n",
       "      <td>0.0</td>\n",
       "      <td>78.70</td>\n",
       "      <td>0.00</td>\n",
       "      <td>0.0</td>\n",
       "      <td>0.0</td>\n",
       "      <td>15.5</td>\n",
       "      <td>0.0</td>\n",
       "    </tr>\n",
       "  </tbody>\n",
       "</table>\n",
       "<p>20 rows × 63 columns</p>\n",
       "</div>"
      ],
      "text/plain": [
       "                             Avocados  Roma Tomatoes  Sweet Potatoes   \\\n",
       "Alanine                          0.00       0.000000             0.00   \n",
       "Alcohol, ethyl                   0.00       0.000000             0.00   \n",
       "Amino acids                      0.00       0.000000             0.00   \n",
       "Arginine                         0.00       0.000000             0.00   \n",
       "Ash                              0.00       0.311900             0.00   \n",
       "Aspartic acid                    0.00       0.000000             0.00   \n",
       "Beta-sitosterol                  0.00       0.000000             0.00   \n",
       "Betaine                          0.00       0.000000             0.00   \n",
       "Biotin                           0.00       0.468800             0.00   \n",
       "Caffeine                         0.00       0.000000             0.00   \n",
       "Calcium, Ca                     12.00       9.963000            26.00   \n",
       "Campesterol                      0.00       0.000000             0.00   \n",
       "Carbohydrate, by difference      8.53       3.837475            16.82   \n",
       "Carbohydrate, by summation       0.00       0.000000             0.00   \n",
       "Carbohydrates                    0.00       0.000000             0.00   \n",
       "Carotene, alpha                 24.00       0.875000             0.00   \n",
       "Carotene, beta                  62.00     275.500000          8968.00   \n",
       "Carotene, gamma                  0.00       2.125000             0.00   \n",
       "Cholesterol                      0.00       0.000000             3.00   \n",
       "Choline, total                  14.20       0.000000            10.60   \n",
       "\n",
       "                             Spinach   Broccoli Crown  Whole Carrots   \\\n",
       "Alanine                          0.00            0.00            0.00   \n",
       "Alcohol, ethyl                   0.00            0.00            0.00   \n",
       "Amino acids                      0.00            0.00            0.00   \n",
       "Arginine                         0.00            0.00            0.00   \n",
       "Ash                              0.00            0.00            0.00   \n",
       "Aspartic acid                    0.00            0.00            0.00   \n",
       "Beta-sitosterol                  0.00            0.00            0.00   \n",
       "Betaine                          0.00            0.00            0.00   \n",
       "Biotin                           0.00            0.00            0.00   \n",
       "Caffeine                         0.00            0.00            0.00   \n",
       "Calcium, Ca                     99.00           47.00           33.00   \n",
       "Campesterol                      0.00            0.00            0.00   \n",
       "Carbohydrate, by difference      3.63            6.64            9.58   \n",
       "Carbohydrate, by summation       0.00            0.00            0.00   \n",
       "Carbohydrates                    0.00            0.00            0.00   \n",
       "Carotene, alpha                  0.00           25.00         3477.00   \n",
       "Carotene, beta                5626.00          361.00         8285.00   \n",
       "Carotene, gamma                  0.00            0.00            0.00   \n",
       "Cholesterol                      0.00            0.00            0.00   \n",
       "Choline, total                  19.30           18.70            8.80   \n",
       "\n",
       "                             Garlic   White Onions   Sliced White Mushrooms   \\\n",
       "Alanine                         0.00           0.00                    0.199   \n",
       "Alcohol, ethyl                  0.00           0.00                    0.000   \n",
       "Amino acids                     0.00           0.00                    0.000   \n",
       "Arginine                        0.00           0.00                    0.078   \n",
       "Ash                             0.00           0.00                    0.850   \n",
       "Aspartic acid                   0.00           0.00                    0.195   \n",
       "Beta-sitosterol                 0.00           0.00                    0.000   \n",
       "Betaine                         0.00           0.00                    9.400   \n",
       "Biotin                          0.00           0.00                    0.000   \n",
       "Caffeine                        0.00           0.00                    0.000   \n",
       "Calcium, Ca                   181.00          23.00                    3.000   \n",
       "Campesterol                     0.00           0.00                    2.000   \n",
       "Carbohydrate, by difference    33.06           9.34                    3.260   \n",
       "Carbohydrate, by summation      0.00           0.00                    0.000   \n",
       "Carbohydrates                   0.00           0.00                    0.000   \n",
       "Carotene, alpha                 0.00           0.00                    0.000   \n",
       "Carotene, beta                  5.00           1.00                    0.000   \n",
       "Carotene, gamma                 0.00           0.00                    0.000   \n",
       "Cholesterol                     0.00           0.00                    0.000   \n",
       "Choline, total                 23.20           6.10                   17.300   \n",
       "\n",
       "                             Zucchini  ...  Lentils (kroger)  \\\n",
       "Alanine                         0.063  ...              0.00   \n",
       "Alcohol, ethyl                  0.000  ...              0.00   \n",
       "Amino acids                     0.000  ...              0.00   \n",
       "Arginine                        0.051  ...              0.00   \n",
       "Ash                             0.580  ...              0.00   \n",
       "Aspartic acid                   0.147  ...              0.00   \n",
       "Beta-sitosterol                 0.000  ...              0.00   \n",
       "Betaine                         0.000  ...              0.00   \n",
       "Biotin                          0.000  ...              0.00   \n",
       "Caffeine                        0.000  ...              0.00   \n",
       "Calcium, Ca                    16.000  ...              0.00   \n",
       "Campesterol                     0.000  ...              0.00   \n",
       "Carbohydrate, by difference     3.110  ...             57.14   \n",
       "Carbohydrate, by summation      0.000  ...              0.00   \n",
       "Carbohydrates                   0.000  ...              0.00   \n",
       "Carotene, alpha                 0.000  ...              0.00   \n",
       "Carotene, beta                120.000  ...              0.00   \n",
       "Carotene, gamma                 0.000  ...              0.00   \n",
       "Cholesterol                     0.000  ...              0.00   \n",
       "Choline, total                  9.500  ...              0.00   \n",
       "\n",
       "                             Almonds (kroger)  Brazil Nuts (Torn and Glasser)  \\\n",
       "Alanine                                  0.00                            0.00   \n",
       "Alcohol, ethyl                           0.00                            0.00   \n",
       "Amino acids                              0.00                            0.00   \n",
       "Arginine                                 0.00                            0.00   \n",
       "Ash                                      0.00                            0.00   \n",
       "Aspartic acid                            0.00                            0.00   \n",
       "Beta-sitosterol                          0.00                            0.00   \n",
       "Betaine                                  0.00                            0.00   \n",
       "Biotin                                   0.00                            0.00   \n",
       "Caffeine                                 0.00                            0.00   \n",
       "Calcium, Ca                            286.00                          160.00   \n",
       "Campesterol                              0.00                            0.00   \n",
       "Carbohydrate, by difference             17.86                           11.74   \n",
       "Carbohydrate, by summation               0.00                            0.00   \n",
       "Carbohydrates                            0.00                            0.00   \n",
       "Carotene, alpha                          0.00                            0.00   \n",
       "Carotene, beta                           0.00                            0.00   \n",
       "Carotene, gamma                          0.00                            0.00   \n",
       "Cholesterol                              0.00                            0.00   \n",
       "Choline, total                           0.00                           28.80   \n",
       "\n",
       "                             Chia Seeds  Flax Seeds (NOW foods real food)  \\\n",
       "Alanine                             0.0                              0.00   \n",
       "Alcohol, ethyl                      0.0                              0.00   \n",
       "Amino acids                         0.0                              0.00   \n",
       "Arginine                            0.0                              0.00   \n",
       "Ash                                 0.0                              0.00   \n",
       "Aspartic acid                       0.0                              0.00   \n",
       "Beta-sitosterol                     0.0                              0.00   \n",
       "Betaine                             0.0                              0.00   \n",
       "Biotin                              0.0                              0.00   \n",
       "Caffeine                            0.0                              0.00   \n",
       "Calcium, Ca                       667.0                            255.00   \n",
       "Campesterol                         0.0                              0.00   \n",
       "Carbohydrate, by difference        40.0                             28.88   \n",
       "Carbohydrate, by summation          0.0                              0.00   \n",
       "Carbohydrates                       0.0                              0.00   \n",
       "Carotene, alpha                     0.0                              0.00   \n",
       "Carotene, beta                      0.0                              0.00   \n",
       "Carotene, gamma                     0.0                              0.00   \n",
       "Cholesterol                         0.0                              0.00   \n",
       "Choline, total                      0.0                             78.70   \n",
       "\n",
       "                             Peanut Butter  Mustard (kroger)  \\\n",
       "Alanine                               0.00               0.0   \n",
       "Alcohol, ethyl                        0.00               0.0   \n",
       "Amino acids                           0.00               0.0   \n",
       "Arginine                              0.00               0.0   \n",
       "Ash                                   0.00               0.0   \n",
       "Aspartic acid                         0.00               0.0   \n",
       "Beta-sitosterol                       0.00               0.0   \n",
       "Betaine                               0.00               0.0   \n",
       "Biotin                                0.00               0.0   \n",
       "Caffeine                              0.00               0.0   \n",
       "Calcium, Ca                          61.00               0.0   \n",
       "Campesterol                           0.00               0.0   \n",
       "Carbohydrate, by difference          24.24               0.0   \n",
       "Carbohydrate, by summation            0.00               0.0   \n",
       "Carbohydrates                         0.00               0.0   \n",
       "Carotene, alpha                       0.00               0.0   \n",
       "Carotene, beta                        0.00               0.0   \n",
       "Carotene, gamma                       0.00               0.0   \n",
       "Cholesterol                           0.00               0.0   \n",
       "Choline, total                        0.00               0.0   \n",
       "\n",
       "                             Apple Cider Vinegar (kroger)  \\\n",
       "Alanine                                               0.0   \n",
       "Alcohol, ethyl                                        0.0   \n",
       "Amino acids                                           0.0   \n",
       "Arginine                                              0.0   \n",
       "Ash                                                   0.0   \n",
       "Aspartic acid                                         0.0   \n",
       "Beta-sitosterol                                       0.0   \n",
       "Betaine                                               0.0   \n",
       "Biotin                                                0.0   \n",
       "Caffeine                                              0.0   \n",
       "Calcium, Ca                                           0.0   \n",
       "Campesterol                                           0.0   \n",
       "Carbohydrate, by difference                           0.0   \n",
       "Carbohydrate, by summation                            0.0   \n",
       "Carbohydrates                                         0.0   \n",
       "Carotene, alpha                                       0.0   \n",
       "Carotene, beta                                        0.0   \n",
       "Carotene, gamma                                       0.0   \n",
       "Cholesterol                                           0.0   \n",
       "Choline, total                                        0.0   \n",
       "\n",
       "                             Kimchi (simple truth)  Mayonaise (kroger)  \n",
       "Alanine                                        0.0                 0.0  \n",
       "Alcohol, ethyl                                 0.0                 0.0  \n",
       "Amino acids                                    0.0                 0.0  \n",
       "Arginine                                       0.0                 0.0  \n",
       "Ash                                            1.7                 0.0  \n",
       "Aspartic acid                                  0.0                 0.0  \n",
       "Beta-sitosterol                                0.0                 0.0  \n",
       "Betaine                                        0.0                 0.0  \n",
       "Biotin                                         0.0                 0.0  \n",
       "Caffeine                                       0.0                 0.0  \n",
       "Calcium, Ca                                   33.0                 0.0  \n",
       "Campesterol                                    0.0                 0.0  \n",
       "Carbohydrate, by difference                    2.4                 0.0  \n",
       "Carbohydrate, by summation                     0.0                 0.0  \n",
       "Carbohydrates                                  0.0                 0.0  \n",
       "Carotene, alpha                                1.0                 0.0  \n",
       "Carotene, beta                                55.0                 0.0  \n",
       "Carotene, gamma                                0.0                 0.0  \n",
       "Cholesterol                                    0.0                36.0  \n",
       "Choline, total                                15.5                 0.0  \n",
       "\n",
       "[20 rows x 63 columns]"
      ]
     },
     "execution_count": 17,
     "metadata": {},
     "output_type": "execute_result"
    }
   ],
   "source": [
    "D.head(20)"
   ]
  },
  {
   "cell_type": "markdown",
   "id": "c2d13de7",
   "metadata": {},
   "source": [
    "Below, we are showing examples of two different food items, salmon fillets and shrimp. For salmon fillets, we can see how all of the nutrients that are in salmon. For shrimp, we looked at how much cholesterol and protein is in it."
   ]
  },
  {
   "cell_type": "code",
   "execution_count": 18,
   "id": "0a17b35e",
   "metadata": {},
   "outputs": [
    {
     "data": {
      "text/plain": [
       "Alanine                         1.271\n",
       "Alcohol, ethyl                  0.000\n",
       "Amino acids                     0.000\n",
       "Arginine                        1.221\n",
       "Ash                             1.130\n",
       "Aspartic acid                   2.025\n",
       "Beta-sitosterol                 0.000\n",
       "Betaine                         3.000\n",
       "Biotin                          0.000\n",
       "Caffeine                        0.000\n",
       "Calcium, Ca                     9.000\n",
       "Campesterol                     0.000\n",
       "Carbohydrate, by difference     0.000\n",
       "Carbohydrate, by summation      0.000\n",
       "Carbohydrates                   0.000\n",
       "Carotene, alpha                 0.000\n",
       "Carotene, beta                  0.000\n",
       "Carotene, gamma                 0.000\n",
       "Cholesterol                    55.000\n",
       "Choline, total                 78.500\n",
       "Name: Salmon fillets (Fresh Atlantic Salmon Fillet (never frozen)), dtype: float64"
      ]
     },
     "execution_count": 18,
     "metadata": {},
     "output_type": "execute_result"
    }
   ],
   "source": [
    "D['Salmon fillets (Fresh Atlantic Salmon Fillet (never frozen))'].head(20)"
   ]
  },
  {
   "cell_type": "code",
   "execution_count": 19,
   "id": "ca6e3619",
   "metadata": {},
   "outputs": [
    {
     "data": {
      "text/plain": [
       "161.0"
      ]
     },
     "execution_count": 19,
     "metadata": {},
     "output_type": "execute_result"
    }
   ],
   "source": [
    "D['shrimp (Extra Large EZ Peel Shrimp 21/25)']['Cholesterol']"
   ]
  },
  {
   "cell_type": "code",
   "execution_count": 20,
   "id": "c5c48122",
   "metadata": {},
   "outputs": [
    {
     "data": {
      "text/plain": [
       "20.1"
      ]
     },
     "execution_count": 20,
     "metadata": {},
     "output_type": "execute_result"
    }
   ],
   "source": [
    "D['shrimp (Extra Large EZ Peel Shrimp 21/25)']['Protein']"
   ]
  },
  {
   "cell_type": "markdown",
   "id": "b4faf174",
   "metadata": {},
   "source": [
    "# Subsistence Problem - [A]"
   ]
  },
  {
   "cell_type": "markdown",
   "id": "ee4c30f6",
   "metadata": {},
   "source": [
    "Here, we are calculating our solution. We are trying to find the minimum cost diet in Irvine and Anchorage and seeing how it changes with age and sex."
   ]
  },
  {
   "cell_type": "code",
   "execution_count": 21,
   "id": "276b32c0",
   "metadata": {},
   "outputs": [],
   "source": [
    "from  scipy.optimize import linprog as lp\n",
    "import numpy as np\n",
    "import warnings\n",
    "\n",
    "def solve_subsistence_problem(FoodNutrients,Prices,diet_min,diet_max,max_weight=None,tol=1e-6):\n",
    "    \"\"\"Solve Stigler's Subsistence Cost Problem.\n",
    "\n",
    "    Inputs:\n",
    "       - FoodNutrients : A pd.DataFrame with rows corresponding to foods, columns to nutrients.\n",
    "       - Prices : A pd.Series of prices for different foods\n",
    "       - diet_min : A pd.Series of DRIs, with index corresponding to columns of FoodNutrients,\n",
    "                    describing minimum intakes.\n",
    "       - diet_max : A pd.Series of DRIs, with index corresponding to columns of FoodNutrients,\n",
    "                    describing maximum intakes.\n",
    "       - max_weight : Maximum weight (in hectograms) allowed for diet.\n",
    "       - tol : Solution values smaller than this in absolute value treated as zeros.\n",
    "       \n",
    "    \"\"\"\n",
    "    p = Prices.apply(lambda x:x.magnitude).dropna()\n",
    "\n",
    "    # Compile list that we have both prices and nutritional info for; drop if either missing\n",
    "    use = p.index.intersection(FoodNutrients.columns)\n",
    "    p = p[use]\n",
    "\n",
    "    # Drop nutritional information for foods we don't know the price of,\n",
    "    # and replace missing nutrients with zeros.\n",
    "    Aall = FoodNutrients[p.index].fillna(0)\n",
    "\n",
    "    # Drop rows of A that we don't have constraints for.\n",
    "    Amin = Aall.loc[Aall.index.intersection(diet_min.index)]\n",
    "\n",
    "    Amax = Aall.loc[Aall.index.intersection(diet_max.index)]\n",
    "\n",
    "    # Minimum requirements involve multiplying constraint by -1 to make <=.\n",
    "    A = pd.concat([Amin,\n",
    "                   -Amax])\n",
    "\n",
    "    b = pd.concat([diet_min,\n",
    "                   -diet_max]) # Note sign change for max constraints\n",
    "\n",
    "    # Make sure order of p, A, b are consistent\n",
    "    A = A.reindex(p.index,axis=1)\n",
    "    A = A.reindex(b.index,axis=0)\n",
    "\n",
    "    if max_weight is not None:\n",
    "        # Add up weights of foods consumed\n",
    "        A.loc['Hectograms'] = -1\n",
    "        b.loc['Hectograms'] = -max_weight\n",
    "        \n",
    "    # Now solve problem!  (Note that the linear program solver we'll use assumes\n",
    "    # \"less-than-or-equal\" constraints.  We can switch back and forth by\n",
    "    # multiplying $A$ and $b$ by $-1$.)\n",
    "\n",
    "    result = lp(p, -A, -b, method='interior-point')\n",
    "\n",
    "    result.A = A\n",
    "    result.b = b\n",
    "    \n",
    "    if result.success:\n",
    "        result.diet = pd.Series(result.x,index=p.index)\n",
    "    else: # No feasible solution?\n",
    "        warnings.warn(result.message)\n",
    "        result.diet = pd.Series(result.x,index=p.index)*np.nan  \n",
    "\n",
    "    return result"
   ]
  },
  {
   "cell_type": "code",
   "execution_count": 22,
   "id": "607b57ce",
   "metadata": {},
   "outputs": [
    {
     "name": "stderr",
     "output_type": "stream",
     "text": [
      "/opt/conda/lib/python3.9/site-packages/pandas/core/dtypes/cast.py:1990: UnitStrippedWarning: The unit of the quantity is stripped when downcasting to ndarray.\n",
      "  result[:] = values\n"
     ]
    }
   ],
   "source": [
    "# Convert food quantities to FDC units\n",
    "read_sheets_food_prices['FDC Quantity'] = read_sheets_food_prices[['Quantity','Units']].T.apply(lambda x : fdc.units(x['Quantity'],x['Units']))\n",
    "\n",
    "# Now may want to filter df by time or place--need to get a unique set of food names.\n",
    "read_sheets_food_prices['FDC Price CA'] = read_sheets_food_prices['Price CA']/read_sheets_food_prices['FDC Quantity']\n",
    "read_sheets_food_prices['FDC Price AK'] = read_sheets_food_prices['Price AK']/read_sheets_food_prices['FDC Quantity']\n",
    "\n",
    "read_sheets_food_prices.dropna(how='any') # Drop food with any missing data\n",
    "\n",
    "# To use minimum price observed\n",
    "Prices_CA = read_sheets_food_prices.groupby('Item',sort=False)['FDC Price CA'].min()\n",
    "Prices_AK = read_sheets_food_prices.groupby('Item',sort=False)['FDC Price AK'].min()\n",
    "Prices_CA = Prices_CA.dropna(how='any')\n",
    "Prices_AK = Prices_AK.dropna(how='any')\n",
    "\n"
   ]
  },
  {
   "cell_type": "code",
   "execution_count": 34,
   "id": "68322727",
   "metadata": {},
   "outputs": [
    {
     "name": "stdout",
     "output_type": "stream",
     "text": [
      "                               Avocados  Roma Tomatoes  Sweet Potatoes   \\\n",
      "Alanine                            0.00        0.00000             0.00   \n",
      "Alcohol, ethyl                     0.00        0.00000             0.00   \n",
      "Amino acids                        0.00        0.00000             0.00   \n",
      "Arginine                           0.00        0.00000             0.00   \n",
      "Ash                                0.00        0.31190             0.00   \n",
      "...                                 ...            ...              ...   \n",
      "Vitamins and Other Components      0.00        0.00000             0.00   \n",
      "Water                             73.23       94.73000            76.56   \n",
      "Zeaxanthin                         0.00        0.00000             0.00   \n",
      "Zinc, Zn                           0.64        0.08245             0.19   \n",
      "cis-Lutein/Zeaxanthin              0.00        0.00000             0.00   \n",
      "\n",
      "                               Spinach   Broccoli Crown  Whole Carrots   \\\n",
      "Alanine                            0.00            0.00            0.00   \n",
      "Alcohol, ethyl                     0.00            0.00            0.00   \n",
      "Amino acids                        0.00            0.00            0.00   \n",
      "Arginine                           0.00            0.00            0.00   \n",
      "Ash                                0.00            0.00            0.00   \n",
      "...                                 ...             ...             ...   \n",
      "Vitamins and Other Components      0.00            0.00            0.00   \n",
      "Water                             91.40           89.30           88.29   \n",
      "Zeaxanthin                         0.00            0.00            0.00   \n",
      "Zinc, Zn                           0.53            0.41            0.24   \n",
      "cis-Lutein/Zeaxanthin              0.00            0.00            0.00   \n",
      "\n",
      "                               Garlic   White Onions   \\\n",
      "Alanine                           0.00           0.00   \n",
      "Alcohol, ethyl                    0.00           0.00   \n",
      "Amino acids                       0.00           0.00   \n",
      "Arginine                          0.00           0.00   \n",
      "Ash                               0.00           0.00   \n",
      "...                                ...            ...   \n",
      "Vitamins and Other Components     0.00           0.00   \n",
      "Water                            58.58          89.11   \n",
      "Zeaxanthin                        0.00           0.00   \n",
      "Zinc, Zn                          1.16           0.17   \n",
      "cis-Lutein/Zeaxanthin             0.00           0.00   \n",
      "\n",
      "                               Sliced White Mushrooms   Zucchini  ...  \\\n",
      "Alanine                                          0.199     0.063  ...   \n",
      "Alcohol, ethyl                                   0.000     0.000  ...   \n",
      "Amino acids                                      0.000     0.000  ...   \n",
      "Arginine                                         0.078     0.051  ...   \n",
      "Ash                                              0.850     0.580  ...   \n",
      "...                                                ...       ...  ...   \n",
      "Vitamins and Other Components                    0.000     0.000  ...   \n",
      "Water                                           92.450    94.790  ...   \n",
      "Zeaxanthin                                       0.000     0.000  ...   \n",
      "Zinc, Zn                                         0.520     0.320  ...   \n",
      "cis-Lutein/Zeaxanthin                            0.000     0.000  ...   \n",
      "\n",
      "                               Lentils (kroger)  Almonds (kroger)  \\\n",
      "Alanine                                     0.0               0.0   \n",
      "Alcohol, ethyl                              0.0               0.0   \n",
      "Amino acids                                 0.0               0.0   \n",
      "Arginine                                    0.0               0.0   \n",
      "Ash                                         0.0               0.0   \n",
      "...                                         ...               ...   \n",
      "Vitamins and Other Components               0.0               0.0   \n",
      "Water                                       0.0               0.0   \n",
      "Zeaxanthin                                  0.0               0.0   \n",
      "Zinc, Zn                                    0.0               0.0   \n",
      "cis-Lutein/Zeaxanthin                       0.0               0.0   \n",
      "\n",
      "                               Brazil Nuts (Torn and Glasser)  Chia Seeds  \\\n",
      "Alanine                                                  0.00         0.0   \n",
      "Alcohol, ethyl                                           0.00         0.0   \n",
      "Amino acids                                              0.00         0.0   \n",
      "Arginine                                                 0.00         0.0   \n",
      "Ash                                                      0.00         0.0   \n",
      "...                                                       ...         ...   \n",
      "Vitamins and Other Components                            0.00         0.0   \n",
      "Water                                                    3.42         0.0   \n",
      "Zeaxanthin                                               0.00         0.0   \n",
      "Zinc, Zn                                                 4.06         0.0   \n",
      "cis-Lutein/Zeaxanthin                                    0.00         0.0   \n",
      "\n",
      "                               Flax Seeds (NOW foods real food)  \\\n",
      "Alanine                                                    0.00   \n",
      "Alcohol, ethyl                                             0.00   \n",
      "Amino acids                                                0.00   \n",
      "Arginine                                                   0.00   \n",
      "Ash                                                        0.00   \n",
      "...                                                         ...   \n",
      "Vitamins and Other Components                              0.00   \n",
      "Water                                                      6.96   \n",
      "Zeaxanthin                                                 0.00   \n",
      "Zinc, Zn                                                   4.34   \n",
      "cis-Lutein/Zeaxanthin                                      0.00   \n",
      "\n",
      "                               Peanut Butter  Mustard (kroger)  \\\n",
      "Alanine                                  0.0               0.0   \n",
      "Alcohol, ethyl                           0.0               0.0   \n",
      "Amino acids                              0.0               0.0   \n",
      "Arginine                                 0.0               0.0   \n",
      "Ash                                      0.0               0.0   \n",
      "...                                      ...               ...   \n",
      "Vitamins and Other Components            0.0               0.0   \n",
      "Water                                    0.0               0.0   \n",
      "Zeaxanthin                               0.0               0.0   \n",
      "Zinc, Zn                                 0.0               0.0   \n",
      "cis-Lutein/Zeaxanthin                    0.0               0.0   \n",
      "\n",
      "                               Apple Cider Vinegar (kroger)  \\\n",
      "Alanine                                                 0.0   \n",
      "Alcohol, ethyl                                          0.0   \n",
      "Amino acids                                             0.0   \n",
      "Arginine                                                0.0   \n",
      "Ash                                                     0.0   \n",
      "...                                                     ...   \n",
      "Vitamins and Other Components                           0.0   \n",
      "Water                                                   0.0   \n",
      "Zeaxanthin                                              0.0   \n",
      "Zinc, Zn                                                0.0   \n",
      "cis-Lutein/Zeaxanthin                                   0.0   \n",
      "\n",
      "                               Kimchi (simple truth)  Mayonaise (kroger)  \n",
      "Alanine                                         0.00                 0.0  \n",
      "Alcohol, ethyl                                  0.00                 0.0  \n",
      "Amino acids                                     0.00                 0.0  \n",
      "Arginine                                        0.00                 0.0  \n",
      "Ash                                             1.70                 0.0  \n",
      "...                                              ...                 ...  \n",
      "Vitamins and Other Components                   0.00                 0.0  \n",
      "Water                                          94.30                 0.0  \n",
      "Zeaxanthin                                      0.00                 0.0  \n",
      "Zinc, Zn                                        0.22                 0.0  \n",
      "cis-Lutein/Zeaxanthin                           0.00                 0.0  \n",
      "\n",
      "[198 rows x 63 columns] Item\n",
      "Avocados                         1.1133333333333333 / hectogram\n",
      "Roma Tomatoes                    0.4387199017479063 / hectogram\n",
      "Sweet Potatoes                   0.3667022294341797 / hectogram\n",
      "Spinach                          1.0546914622924541 / hectogram\n",
      "Broccoli Crown                   0.6150897114958084 / hectogram\n",
      "                                             ...               \n",
      "Peanut Butter                     0.659182163932784 / hectogram\n",
      "Mustard (kroger)                 0.5247001840000085 / hectogram\n",
      "Apple Cider Vinegar (kroger)    0.37258122309244307 / hectogram\n",
      "Kimchi (simple truth)            1.3881341496628998 / hectogram\n",
      "Mayonaise (kroger)               0.4103537573467854 / hectogram\n",
      "Name: FDC Price AK, Length: 63, dtype: object Nutrition\n",
      "Energy                            2400.0\n",
      "Protein                             56.0\n",
      "Fiber, total dietary                33.6\n",
      "Folate, DFE                        400.0\n",
      "Calcium, Ca                       1000.0\n",
      "Carbohydrate, by difference        130.0\n",
      "Iron, Fe                             8.0\n",
      "Magnesium, Mg                      400.0\n",
      "Niacin                              16.0\n",
      "Phosphorus, P                      700.0\n",
      "Potassium, K                      4700.0\n",
      "Riboflavin                           1.3\n",
      "Thiamin                              1.2\n",
      "Vitamin A, RAE                     900.0\n",
      "Vitamin B-12                         2.4\n",
      "Vitamin B-6                          1.3\n",
      "Vitamin C, total ascorbic acid      90.0\n",
      "Vitamin E (alpha-tocopherol)        15.0\n",
      "Vitamin K (phylloquinone)          120.0\n",
      "Zinc, Zn                            11.0\n",
      "Name: M 19-30, dtype: float64 Nutrition\n",
      "Sodium, Na    2300\n",
      "Name: M 19-30, dtype: int64\n",
      "Cost of diet for M 19-30 is $5.28 per day.\n",
      "\n",
      "\n",
      "Diet (in 100s of grams or milliliters):\n",
      "Spinach                             0.312773\n",
      "Broccoli Crown                      0.175317\n",
      "Whole Carrots                       0.685327\n",
      "Nutritional Yeast                   0.010975\n",
      "Salt (Morton Plain salt)            0.000004\n",
      "Bananas                             6.809844\n",
      "Almond milk (Silk unsweetened)      3.748720\n",
      "Chickpeas (kroger)                  0.308477\n",
      "Flax Seeds (NOW foods real food)    2.058149\n",
      "Mayonaise (kroger)                  0.773624\n",
      "dtype: float64\n",
      "\n",
      "\n",
      "With the following nutritional outcomes of interest:\n",
      "                                    Outcome  Recommendation\n",
      "Nutrition                                                  \n",
      "Energy                          2400.000013          2400.0\n",
      "Protein                           56.000001            56.0\n",
      "Fiber, total dietary              82.450372            33.6\n",
      "Folate, DFE                      400.000001           400.0\n",
      "Calcium, Ca                     1303.267810          1000.0\n",
      "Carbohydrate, by difference      244.052516           130.0\n",
      "Iron, Fe                          17.483130             8.0\n",
      "Magnesium, Mg                   1052.709783           400.0\n",
      "Niacin                            16.000000            16.0\n",
      "Phosphorus, P                   1633.930551           700.0\n",
      "Potassium, K                    4700.000143          4700.0\n",
      "Riboflavin                         1.775448             1.3\n",
      "Thiamin                            3.676777             1.2\n",
      "Vitamin A, RAE                   900.000029           900.0\n",
      "Vitamin B-12                       2.911496             2.4\n",
      "Vitamin B-6                        4.449189             1.3\n",
      "Vitamin C, total ascorbic acid    90.000002            90.0\n",
      "Vitamin E (alpha-tocopherol)      15.000000            15.0\n",
      "Vitamin K (phylloquinone)        190.151706           120.0\n",
      "Zinc, Zn                          11.000000            11.0\n",
      "Sodium, Na                       906.254856          2300.0\n",
      "\n",
      "\n",
      "Constraining nutrients are:\n",
      "['Energy', 'Protein', 'Folate, DFE', 'Niacin', 'Vitamin A, RAE', 'Vitamin C, total ascorbic acid', 'Vitamin E (alpha-tocopherol)', 'Zinc, Zn']\n"
     ]
    }
   ],
   "source": [
    "group = DRI(20,'M')\n",
    "tol = 1e-6\n",
    "\n",
    "result_AK = solve_subsistence_problem(D,Prices_AK,diet_min[group],diet_max[group],tol=tol)\n",
    "print(D, Prices_AK, diet_min[group], diet_max[group])\n",
    "\n",
    "print(\"Cost of diet for %s is $%4.2f per day.\\n\" % (group,result_AK.fun))\n",
    "\n",
    "# Put back into nice series\n",
    "diet_AK = result_AK.diet\n",
    "\n",
    "print(\"\\nDiet (in 100s of grams or milliliters):\")\n",
    "print(diet_AK[diet_AK >= tol])  # Drop items with quantities less than precision of calculation.\n",
    "print()\n",
    "\n",
    "tab_AK = pd.DataFrame({\"Outcome\":np.abs(result_AK.A).dot(diet_AK),\"Recommendation\":np.abs(result_AK.b)})\n",
    "print(\"\\nWith the following nutritional outcomes of interest:\")\n",
    "print(tab)\n",
    "print()\n",
    "\n",
    "print(\"\\nConstraining nutrients are:\")\n",
    "excess_AK = tab_AK.diff(axis=1).iloc[:,1]\n",
    "print(excess_AK.loc[np.abs(excess_AK) < tol*100].index.tolist())"
   ]
  },
  {
   "cell_type": "code",
   "execution_count": 35,
   "id": "667b7c2b",
   "metadata": {},
   "outputs": [
    {
     "name": "stdout",
     "output_type": "stream",
     "text": [
      "Cost of diet for M 19-30 is $5.28 per day.\n"
     ]
    }
   ],
   "source": [
    "print(\"Cost of diet for %s is $%4.2f per day.\" % (group,result_AK.fun))"
   ]
  },
  {
   "cell_type": "code",
   "execution_count": 36,
   "id": "3da26a71",
   "metadata": {},
   "outputs": [
    {
     "name": "stdout",
     "output_type": "stream",
     "text": [
      "\n",
      "You'll be eating (in 100s of grams or milliliters):\n",
      "Item\n",
      "Spinach                             0.312773\n",
      "Broccoli Crown                      0.175317\n",
      "Whole Carrots                       0.685327\n",
      "Nutritional Yeast                   0.010975\n",
      "Salt (Morton Plain salt)            0.000004\n",
      "Bananas                             6.809844\n",
      "Almond milk (Silk unsweetened)      3.748720\n",
      "Chickpeas (kroger)                  0.308477\n",
      "Flax Seeds (NOW foods real food)    2.058149\n",
      "Mayonaise (kroger)                  0.773624\n",
      "dtype: float64\n"
     ]
    }
   ],
   "source": [
    "# Put back into nice series\n",
    "diet_AK = pd.Series(result.x,index=Prices_AK.index)\n",
    "\n",
    "print(\"\\nYou'll be eating (in 100s of grams or milliliters):\")\n",
    "print(diet_AK[diet_AK >= tol])  # Drop items with quantities less than precision of calculation."
   ]
  },
  {
   "cell_type": "markdown",
   "id": "3f0d31e7",
   "metadata": {},
   "source": [
    "Here, we visualize the composition of the diet in Anchorage. "
   ]
  },
  {
   "cell_type": "code",
   "execution_count": 70,
   "id": "03f59a33",
   "metadata": {},
   "outputs": [
    {
     "data": {
      "text/plain": [
       "<AxesSubplot:ylabel='None'>"
      ]
     },
     "execution_count": 70,
     "metadata": {},
     "output_type": "execute_result"
    },
    {
     "data": {
      "image/png": "[encoded data removed]",
      "text/plain": [
       "<Figure size 720x720 with 1 Axes>"
      ]
     },
     "metadata": {},
     "output_type": "display_data"
    }
   ],
   "source": [
    "constrained_diet_AK = diet_AK[diet_AK >= tol] \n",
    "constrained_diet_AK.plot.pie(figsize=(10, 10))"
   ]
  },
  {
   "cell_type": "code",
   "execution_count": 37,
   "id": "958a066c",
   "metadata": {},
   "outputs": [
    {
     "name": "stdout",
     "output_type": "stream",
     "text": [
      "                               Avocados  Roma Tomatoes  Sweet Potatoes   \\\n",
      "Alanine                            0.00        0.00000             0.00   \n",
      "Alcohol, ethyl                     0.00        0.00000             0.00   \n",
      "Amino acids                        0.00        0.00000             0.00   \n",
      "Arginine                           0.00        0.00000             0.00   \n",
      "Ash                                0.00        0.31190             0.00   \n",
      "...                                 ...            ...              ...   \n",
      "Vitamins and Other Components      0.00        0.00000             0.00   \n",
      "Water                             73.23       94.73000            76.56   \n",
      "Zeaxanthin                         0.00        0.00000             0.00   \n",
      "Zinc, Zn                           0.64        0.08245             0.19   \n",
      "cis-Lutein/Zeaxanthin              0.00        0.00000             0.00   \n",
      "\n",
      "                               Spinach   Broccoli Crown  Whole Carrots   \\\n",
      "Alanine                            0.00            0.00            0.00   \n",
      "Alcohol, ethyl                     0.00            0.00            0.00   \n",
      "Amino acids                        0.00            0.00            0.00   \n",
      "Arginine                           0.00            0.00            0.00   \n",
      "Ash                                0.00            0.00            0.00   \n",
      "...                                 ...             ...             ...   \n",
      "Vitamins and Other Components      0.00            0.00            0.00   \n",
      "Water                             91.40           89.30           88.29   \n",
      "Zeaxanthin                         0.00            0.00            0.00   \n",
      "Zinc, Zn                           0.53            0.41            0.24   \n",
      "cis-Lutein/Zeaxanthin              0.00            0.00            0.00   \n",
      "\n",
      "                               Garlic   White Onions   \\\n",
      "Alanine                           0.00           0.00   \n",
      "Alcohol, ethyl                    0.00           0.00   \n",
      "Amino acids                       0.00           0.00   \n",
      "Arginine                          0.00           0.00   \n",
      "Ash                               0.00           0.00   \n",
      "...                                ...            ...   \n",
      "Vitamins and Other Components     0.00           0.00   \n",
      "Water                            58.58          89.11   \n",
      "Zeaxanthin                        0.00           0.00   \n",
      "Zinc, Zn                          1.16           0.17   \n",
      "cis-Lutein/Zeaxanthin             0.00           0.00   \n",
      "\n",
      "                               Sliced White Mushrooms   Zucchini  ...  \\\n",
      "Alanine                                          0.199     0.063  ...   \n",
      "Alcohol, ethyl                                   0.000     0.000  ...   \n",
      "Amino acids                                      0.000     0.000  ...   \n",
      "Arginine                                         0.078     0.051  ...   \n",
      "Ash                                              0.850     0.580  ...   \n",
      "...                                                ...       ...  ...   \n",
      "Vitamins and Other Components                    0.000     0.000  ...   \n",
      "Water                                           92.450    94.790  ...   \n",
      "Zeaxanthin                                       0.000     0.000  ...   \n",
      "Zinc, Zn                                         0.520     0.320  ...   \n",
      "cis-Lutein/Zeaxanthin                            0.000     0.000  ...   \n",
      "\n",
      "                               Lentils (kroger)  Almonds (kroger)  \\\n",
      "Alanine                                     0.0               0.0   \n",
      "Alcohol, ethyl                              0.0               0.0   \n",
      "Amino acids                                 0.0               0.0   \n",
      "Arginine                                    0.0               0.0   \n",
      "Ash                                         0.0               0.0   \n",
      "...                                         ...               ...   \n",
      "Vitamins and Other Components               0.0               0.0   \n",
      "Water                                       0.0               0.0   \n",
      "Zeaxanthin                                  0.0               0.0   \n",
      "Zinc, Zn                                    0.0               0.0   \n",
      "cis-Lutein/Zeaxanthin                       0.0               0.0   \n",
      "\n",
      "                               Brazil Nuts (Torn and Glasser)  Chia Seeds  \\\n",
      "Alanine                                                  0.00         0.0   \n",
      "Alcohol, ethyl                                           0.00         0.0   \n",
      "Amino acids                                              0.00         0.0   \n",
      "Arginine                                                 0.00         0.0   \n",
      "Ash                                                      0.00         0.0   \n",
      "...                                                       ...         ...   \n",
      "Vitamins and Other Components                            0.00         0.0   \n",
      "Water                                                    3.42         0.0   \n",
      "Zeaxanthin                                               0.00         0.0   \n",
      "Zinc, Zn                                                 4.06         0.0   \n",
      "cis-Lutein/Zeaxanthin                                    0.00         0.0   \n",
      "\n",
      "                               Flax Seeds (NOW foods real food)  \\\n",
      "Alanine                                                    0.00   \n",
      "Alcohol, ethyl                                             0.00   \n",
      "Amino acids                                                0.00   \n",
      "Arginine                                                   0.00   \n",
      "Ash                                                        0.00   \n",
      "...                                                         ...   \n",
      "Vitamins and Other Components                              0.00   \n",
      "Water                                                      6.96   \n",
      "Zeaxanthin                                                 0.00   \n",
      "Zinc, Zn                                                   4.34   \n",
      "cis-Lutein/Zeaxanthin                                      0.00   \n",
      "\n",
      "                               Peanut Butter  Mustard (kroger)  \\\n",
      "Alanine                                  0.0               0.0   \n",
      "Alcohol, ethyl                           0.0               0.0   \n",
      "Amino acids                              0.0               0.0   \n",
      "Arginine                                 0.0               0.0   \n",
      "Ash                                      0.0               0.0   \n",
      "...                                      ...               ...   \n",
      "Vitamins and Other Components            0.0               0.0   \n",
      "Water                                    0.0               0.0   \n",
      "Zeaxanthin                               0.0               0.0   \n",
      "Zinc, Zn                                 0.0               0.0   \n",
      "cis-Lutein/Zeaxanthin                    0.0               0.0   \n",
      "\n",
      "                               Apple Cider Vinegar (kroger)  \\\n",
      "Alanine                                                 0.0   \n",
      "Alcohol, ethyl                                          0.0   \n",
      "Amino acids                                             0.0   \n",
      "Arginine                                                0.0   \n",
      "Ash                                                     0.0   \n",
      "...                                                     ...   \n",
      "Vitamins and Other Components                           0.0   \n",
      "Water                                                   0.0   \n",
      "Zeaxanthin                                              0.0   \n",
      "Zinc, Zn                                                0.0   \n",
      "cis-Lutein/Zeaxanthin                                   0.0   \n",
      "\n",
      "                               Kimchi (simple truth)  Mayonaise (kroger)  \n",
      "Alanine                                         0.00                 0.0  \n",
      "Alcohol, ethyl                                  0.00                 0.0  \n",
      "Amino acids                                     0.00                 0.0  \n",
      "Arginine                                        0.00                 0.0  \n",
      "Ash                                             1.70                 0.0  \n",
      "...                                              ...                 ...  \n",
      "Vitamins and Other Components                   0.00                 0.0  \n",
      "Water                                          94.30                 0.0  \n",
      "Zeaxanthin                                      0.00                 0.0  \n",
      "Zinc, Zn                                        0.22                 0.0  \n",
      "cis-Lutein/Zeaxanthin                           0.00                 0.0  \n",
      "\n",
      "[198 rows x 63 columns] Item\n",
      "Avocados                                        1.0 / hectogram\n",
      "Roma Tomatoes                   0.21825763956302877 / hectogram\n",
      "Sweet Potatoes                   0.2932148087058872 / hectogram\n",
      "Spinach                          1.0546914622924541 / hectogram\n",
      "Broccoli Crown                  0.32848877065546755 / hectogram\n",
      "                                             ...               \n",
      "Peanut Butter                     0.659182163932784 / hectogram\n",
      "Mustard (kroger)                0.43651527912605753 / hectogram\n",
      "Apple Cider Vinegar (kroger)    0.32848877065546755 / hectogram\n",
      "Kimchi (simple truth)            1.2428884239881568 / hectogram\n",
      "Mayonaise (kroger)              0.35156382076415144 / hectogram\n",
      "Name: FDC Price CA, Length: 63, dtype: object Nutrition\n",
      "Energy                            2400.0\n",
      "Protein                             56.0\n",
      "Fiber, total dietary                33.6\n",
      "Folate, DFE                        400.0\n",
      "Calcium, Ca                       1000.0\n",
      "Carbohydrate, by difference        130.0\n",
      "Iron, Fe                             8.0\n",
      "Magnesium, Mg                      400.0\n",
      "Niacin                              16.0\n",
      "Phosphorus, P                      700.0\n",
      "Potassium, K                      4700.0\n",
      "Riboflavin                           1.3\n",
      "Thiamin                              1.2\n",
      "Vitamin A, RAE                     900.0\n",
      "Vitamin B-12                         2.4\n",
      "Vitamin B-6                          1.3\n",
      "Vitamin C, total ascorbic acid      90.0\n",
      "Vitamin E (alpha-tocopherol)        15.0\n",
      "Vitamin K (phylloquinone)          120.0\n",
      "Zinc, Zn                            11.0\n",
      "Name: M 19-30, dtype: float64 Nutrition\n",
      "Sodium, Na    2300\n",
      "Name: M 19-30, dtype: int64\n",
      "Cost of diet for M 19-30 is $4.62 per day.\n",
      "\n",
      "\n",
      "Diet (in 100s of grams or milliliters):\n",
      "Broccoli Crown                      0.951698\n",
      "Whole Carrots                       0.831307\n",
      "Nutritional Yeast                   0.008984\n",
      "Bananas                             7.552964\n",
      "Almond milk (Silk unsweetened)      3.712491\n",
      "Chickpeas (kroger)                  0.265127\n",
      "Flax Seeds (NOW foods real food)    1.990677\n",
      "Mayonaise (kroger)                  0.716358\n",
      "dtype: float64\n",
      "\n",
      "\n",
      "With the following nutritional outcomes of interest:\n",
      "                                    Outcome  Recommendation\n",
      "Nutrition                                                  \n",
      "Energy                          2400.000001          2400.0\n",
      "Protein                           56.000000            56.0\n",
      "Fiber, total dietary              83.498630            33.6\n",
      "Folate, DFE                      400.000000           400.0\n",
      "Calcium, Ca                     1288.922100          1000.0\n",
      "Carbohydrate, by difference      261.802171           130.0\n",
      "Iron, Fe                          16.807394             8.0\n",
      "Magnesium, Mg                   1039.426132           400.0\n",
      "Niacin                            16.000000            16.0\n",
      "Phosphorus, P                   1646.905719           700.0\n",
      "Potassium, K                    5023.209762          4700.0\n",
      "Riboflavin                         1.730393             1.3\n",
      "Thiamin                            3.629252             1.2\n",
      "Vitamin A, RAE                   900.000005           900.0\n",
      "Vitamin B-12                       2.600629             2.4\n",
      "Vitamin B-6                        4.641674             1.3\n",
      "Vitamin C, total ascorbic acid   157.602776            90.0\n",
      "Vitamin E (alpha-tocopherol)      15.000000            15.0\n",
      "Vitamin K (phylloquinone)        120.002145           120.0\n",
      "Zinc, Zn                          11.000000            11.0\n",
      "Sodium, Na                       873.122494          2300.0\n",
      "\n",
      "\n",
      "Constraining nutrients are:\n",
      "['Energy', 'Protein', 'Folate, DFE', 'Niacin', 'Vitamin A, RAE', 'Vitamin E (alpha-tocopherol)', 'Zinc, Zn']\n"
     ]
    }
   ],
   "source": [
    "group = DRI(20,'M')\n",
    "tol = 1e-6\n",
    "\n",
    "result_CA = solve_subsistence_problem(D,Prices_CA,diet_min[group],diet_max[group],tol=tol)\n",
    "print(D, Prices_CA, diet_min[group], diet_max[group])\n",
    "\n",
    "print(\"Cost of diet for %s is $%4.2f per day.\\n\" % (group,result_CA.fun))\n",
    "\n",
    "# Put back into nice series\n",
    "diet_CA = result_CA.diet\n",
    "\n",
    "print(\"\\nDiet (in 100s of grams or milliliters):\")\n",
    "print(diet_CA[diet_CA >= tol])  # Drop items with quantities less than precision of calculation.\n",
    "print()\n",
    "\n",
    "tab_CA = pd.DataFrame({\"Outcome\":np.abs(result_CA.A).dot(diet_CA),\"Recommendation\":np.abs(result_CA.b)})\n",
    "print(\"\\nWith the following nutritional outcomes of interest:\")\n",
    "print(tab_CA)\n",
    "print()\n",
    "\n",
    "print(\"\\nConstraining nutrients are:\")\n",
    "excess_CA = tab_CA.diff(axis=1).iloc[:,1]\n",
    "print(excess_CA.loc[np.abs(excess_CA) < tol*100].index.tolist())"
   ]
  },
  {
   "cell_type": "code",
   "execution_count": 38,
   "id": "238a5145",
   "metadata": {},
   "outputs": [
    {
     "name": "stdout",
     "output_type": "stream",
     "text": [
      "\n",
      "You'll be eating (in 100s of grams or milliliters):\n",
      "Item\n",
      "Spinach                             0.312773\n",
      "Broccoli Crown                      0.175317\n",
      "Whole Carrots                       0.685327\n",
      "Nutritional Yeast                   0.010975\n",
      "Salt (Morton Plain salt)            0.000004\n",
      "Bananas                             6.809844\n",
      "Almond milk (Silk unsweetened)      3.748720\n",
      "Chickpeas (kroger)                  0.308477\n",
      "Flax Seeds (NOW foods real food)    2.058149\n",
      "Mayonaise (kroger)                  0.773624\n",
      "dtype: float64\n"
     ]
    }
   ],
   "source": [
    "# Put back into nice series\n",
    "diet_CA = pd.Series(result.x,index=Prices_CA.index)\n",
    "\n",
    "print(\"\\nYou'll be eating (in 100s of grams or milliliters):\")\n",
    "print(diet_CA[diet_CA >= tol])  # Drop items with quantities less than precision of calculation."
   ]
  },
  {
   "cell_type": "markdown",
   "id": "7740cae3",
   "metadata": {},
   "source": [
    "Here, we visualize the composition of the diet in Irvine. "
   ]
  },
  {
   "cell_type": "code",
   "execution_count": 71,
   "id": "c7e43b31",
   "metadata": {},
   "outputs": [
    {
     "data": {
      "text/plain": [
       "<AxesSubplot:ylabel='None'>"
      ]
     },
     "execution_count": 71,
     "metadata": {},
     "output_type": "execute_result"
    },
    {
     "data": {
      "image/png": "[encoded data removed]",
      "text/plain": [
       "<Figure size 720x720 with 1 Axes>"
      ]
     },
     "metadata": {},
     "output_type": "display_data"
    }
   ],
   "source": [
    "constrained_diet_CA = diet_CA[diet_CA >= tol] \n",
    "constrained_diet_CA.plot.pie(figsize=(10, 10))"
   ]
  },
  {
   "cell_type": "markdown",
   "id": "e38dd19f",
   "metadata": {},
   "source": [
    "Here, we are constructing a dataframe to compare the cost per day for each age/sex group by location."
   ]
  },
  {
   "cell_type": "code",
   "execution_count": 64,
   "id": "3563db57",
   "metadata": {},
   "outputs": [],
   "source": [
    "ages = [4, 9, 14, 19, 31, 51]\n",
    "cost_per_day_M_AK = []\n",
    "cost_per_day_F_AK = []\n",
    "cost_per_day_M_CA = []\n",
    "cost_per_day_F_CA = []\n",
    "for age in ages: \n",
    "    group_M = DRI(age, 'M')\n",
    "    group_F = DRI(age, 'F')\n",
    "    result_AK_M = solve_subsistence_problem(D,Prices_AK,diet_min[group_M],diet_max[group_M],tol=tol)\n",
    "    result_AK_F = solve_subsistence_problem(D,Prices_AK,diet_min[group_F],diet_max[group_F],tol=tol)\n",
    "    result_CA_M = solve_subsistence_problem(D,Prices_CA,diet_min[group_M],diet_max[group_M],tol=tol)\n",
    "    result_CA_F = solve_subsistence_problem(D,Prices_CA,diet_min[group_F],diet_max[group_F],tol=tol)\n",
    "    cost_per_day_M_AK.append((group_M,result_AK_M.fun))\n",
    "    cost_per_day_F_AK.append((group_F,result_AK_F.fun))\n",
    "    cost_per_day_M_CA.append((group_M,result_CA_M.fun))\n",
    "    cost_per_day_F_CA.append((group_F,result_CA_F.fun))"
   ]
  },
  {
   "cell_type": "code",
   "execution_count": 65,
   "id": "34b7a87e",
   "metadata": {},
   "outputs": [
    {
     "data": {
      "text/plain": [
       "([('M 4-8', 3.4199702711394666),\n",
       "  ('M 9-13', 4.381487240380212),\n",
       "  ('M 14-18', 5.12164208024859),\n",
       "  ('M 19-30', 5.282976146693817),\n",
       "  ('M 31-50', 5.168031667591678),\n",
       "  ('M 51+', 5.0530851059449615)],\n",
       " [('F 4-8', 3.357491482789585),\n",
       "  ('F 9-13', 4.266542240267038),\n",
       "  ('F 14-18', 4.8318766085495275),\n",
       "  ('F 19-30', 4.8664696708999395),\n",
       "  ('F 31-50', 4.758413336032541),\n",
       "  ('F 51+', 4.626526973111803)],\n",
       " [('M 4-8', 2.705233873653077),\n",
       "  ('M 9-13', 3.7080096363655324),\n",
       "  ('M 14-18', 4.505236136564592),\n",
       "  ('M 19-30', 4.615969814246691),\n",
       "  ('M 31-50', 4.517492520741325),\n",
       "  ('M 51+', 4.419018173812601)],\n",
       " [('F 4-8', 2.6665435313083328),\n",
       "  ('F 9-13', 3.6215964678224255),\n",
       "  ('F 14-18', 4.117377114422913),\n",
       "  ('F 19-30', 4.156084661895371),\n",
       "  ('F 31-50', 4.066436830834816),\n",
       "  ('F 51+', 3.9032587402615695)])"
      ]
     },
     "execution_count": 65,
     "metadata": {},
     "output_type": "execute_result"
    }
   ],
   "source": [
    "cost_per_day_M_AK, cost_per_day_F_AK, cost_per_day_M_CA, cost_per_day_F_CA "
   ]
  },
  {
   "cell_type": "code",
   "execution_count": 66,
   "id": "2414d2e8",
   "metadata": {},
   "outputs": [
    {
     "data": {
      "text/html": [
       "<div>\n",
       "<style scoped>\n",
       "    .dataframe tbody tr th:only-of-type {\n",
       "        vertical-align: middle;\n",
       "    }\n",
       "\n",
       "    .dataframe tbody tr th {\n",
       "        vertical-align: top;\n",
       "    }\n",
       "\n",
       "    .dataframe thead th {\n",
       "        text-align: right;\n",
       "    }\n",
       "</style>\n",
       "<table border=\"1\" class=\"dataframe\">\n",
       "  <thead>\n",
       "    <tr style=\"text-align: right;\">\n",
       "      <th></th>\n",
       "      <th>group</th>\n",
       "      <th>cost per day</th>\n",
       "    </tr>\n",
       "  </thead>\n",
       "  <tbody>\n",
       "    <tr>\n",
       "      <th>0</th>\n",
       "      <td>M 4-8</td>\n",
       "      <td>3.419970</td>\n",
       "    </tr>\n",
       "    <tr>\n",
       "      <th>1</th>\n",
       "      <td>M 9-13</td>\n",
       "      <td>4.381487</td>\n",
       "    </tr>\n",
       "    <tr>\n",
       "      <th>2</th>\n",
       "      <td>M 14-18</td>\n",
       "      <td>5.121642</td>\n",
       "    </tr>\n",
       "    <tr>\n",
       "      <th>3</th>\n",
       "      <td>M 19-30</td>\n",
       "      <td>5.282976</td>\n",
       "    </tr>\n",
       "    <tr>\n",
       "      <th>4</th>\n",
       "      <td>M 31-50</td>\n",
       "      <td>5.168032</td>\n",
       "    </tr>\n",
       "    <tr>\n",
       "      <th>5</th>\n",
       "      <td>M 51+</td>\n",
       "      <td>5.053085</td>\n",
       "    </tr>\n",
       "    <tr>\n",
       "      <th>6</th>\n",
       "      <td>F 4-8</td>\n",
       "      <td>3.357491</td>\n",
       "    </tr>\n",
       "    <tr>\n",
       "      <th>7</th>\n",
       "      <td>F 9-13</td>\n",
       "      <td>4.266542</td>\n",
       "    </tr>\n",
       "    <tr>\n",
       "      <th>8</th>\n",
       "      <td>F 14-18</td>\n",
       "      <td>4.831877</td>\n",
       "    </tr>\n",
       "    <tr>\n",
       "      <th>9</th>\n",
       "      <td>F 19-30</td>\n",
       "      <td>4.866470</td>\n",
       "    </tr>\n",
       "    <tr>\n",
       "      <th>10</th>\n",
       "      <td>F 31-50</td>\n",
       "      <td>4.758413</td>\n",
       "    </tr>\n",
       "    <tr>\n",
       "      <th>11</th>\n",
       "      <td>F 51+</td>\n",
       "      <td>4.626527</td>\n",
       "    </tr>\n",
       "  </tbody>\n",
       "</table>\n",
       "</div>"
      ],
      "text/plain": [
       "      group  cost per day\n",
       "0     M 4-8      3.419970\n",
       "1    M 9-13      4.381487\n",
       "2   M 14-18      5.121642\n",
       "3   M 19-30      5.282976\n",
       "4   M 31-50      5.168032\n",
       "5     M 51+      5.053085\n",
       "6     F 4-8      3.357491\n",
       "7    F 9-13      4.266542\n",
       "8   F 14-18      4.831877\n",
       "9   F 19-30      4.866470\n",
       "10  F 31-50      4.758413\n",
       "11    F 51+      4.626527"
      ]
     },
     "execution_count": 66,
     "metadata": {},
     "output_type": "execute_result"
    }
   ],
   "source": [
    "cost_per_day_AK = pd.DataFrame(cost_per_day_M_AK + cost_per_day_F_AK, columns=['group', 'cost per day'])\n",
    "cost_per_day_AK"
   ]
  },
  {
   "cell_type": "code",
   "execution_count": 67,
   "id": "a2a006b0",
   "metadata": {},
   "outputs": [
    {
     "data": {
      "text/html": [
       "<div>\n",
       "<style scoped>\n",
       "    .dataframe tbody tr th:only-of-type {\n",
       "        vertical-align: middle;\n",
       "    }\n",
       "\n",
       "    .dataframe tbody tr th {\n",
       "        vertical-align: top;\n",
       "    }\n",
       "\n",
       "    .dataframe thead th {\n",
       "        text-align: right;\n",
       "    }\n",
       "</style>\n",
       "<table border=\"1\" class=\"dataframe\">\n",
       "  <thead>\n",
       "    <tr style=\"text-align: right;\">\n",
       "      <th></th>\n",
       "      <th>group</th>\n",
       "      <th>cost per day</th>\n",
       "    </tr>\n",
       "  </thead>\n",
       "  <tbody>\n",
       "    <tr>\n",
       "      <th>0</th>\n",
       "      <td>M 4-8</td>\n",
       "      <td>2.705234</td>\n",
       "    </tr>\n",
       "    <tr>\n",
       "      <th>1</th>\n",
       "      <td>M 9-13</td>\n",
       "      <td>3.708010</td>\n",
       "    </tr>\n",
       "    <tr>\n",
       "      <th>2</th>\n",
       "      <td>M 14-18</td>\n",
       "      <td>4.505236</td>\n",
       "    </tr>\n",
       "    <tr>\n",
       "      <th>3</th>\n",
       "      <td>M 19-30</td>\n",
       "      <td>4.615970</td>\n",
       "    </tr>\n",
       "    <tr>\n",
       "      <th>4</th>\n",
       "      <td>M 31-50</td>\n",
       "      <td>4.517493</td>\n",
       "    </tr>\n",
       "    <tr>\n",
       "      <th>5</th>\n",
       "      <td>M 51+</td>\n",
       "      <td>4.419018</td>\n",
       "    </tr>\n",
       "    <tr>\n",
       "      <th>6</th>\n",
       "      <td>F 4-8</td>\n",
       "      <td>2.666544</td>\n",
       "    </tr>\n",
       "    <tr>\n",
       "      <th>7</th>\n",
       "      <td>F 9-13</td>\n",
       "      <td>3.621596</td>\n",
       "    </tr>\n",
       "    <tr>\n",
       "      <th>8</th>\n",
       "      <td>F 14-18</td>\n",
       "      <td>4.117377</td>\n",
       "    </tr>\n",
       "    <tr>\n",
       "      <th>9</th>\n",
       "      <td>F 19-30</td>\n",
       "      <td>4.156085</td>\n",
       "    </tr>\n",
       "    <tr>\n",
       "      <th>10</th>\n",
       "      <td>F 31-50</td>\n",
       "      <td>4.066437</td>\n",
       "    </tr>\n",
       "    <tr>\n",
       "      <th>11</th>\n",
       "      <td>F 51+</td>\n",
       "      <td>3.903259</td>\n",
       "    </tr>\n",
       "  </tbody>\n",
       "</table>\n",
       "</div>"
      ],
      "text/plain": [
       "      group  cost per day\n",
       "0     M 4-8      2.705234\n",
       "1    M 9-13      3.708010\n",
       "2   M 14-18      4.505236\n",
       "3   M 19-30      4.615970\n",
       "4   M 31-50      4.517493\n",
       "5     M 51+      4.419018\n",
       "6     F 4-8      2.666544\n",
       "7    F 9-13      3.621596\n",
       "8   F 14-18      4.117377\n",
       "9   F 19-30      4.156085\n",
       "10  F 31-50      4.066437\n",
       "11    F 51+      3.903259"
      ]
     },
     "execution_count": 67,
     "metadata": {},
     "output_type": "execute_result"
    }
   ],
   "source": [
    "cost_per_day_CA = pd.DataFrame(cost_per_day_M_CA + cost_per_day_F_CA, columns=['group', 'cost per day'])\n",
    "cost_per_day_CA"
   ]
  },
  {
   "cell_type": "markdown",
   "id": "41376707",
   "metadata": {},
   "source": [
    "# Sensitivity of Solution - [C]"
   ]
  },
  {
   "cell_type": "markdown",
   "id": "ea8dda10",
   "metadata": {},
   "source": [
    "Here, we are looking at the change in log cost per day as it relates to the change in price in Anchorage, Alaska for each food item. Based on our plot,  we can see that flax seeds, bananas, and almond milk exhibit the greatest changes in cost as the price increases for each of these items respectively. "
   ]
  },
  {
   "cell_type": "code",
   "execution_count": 46,
   "id": "a43796c8",
   "metadata": {},
   "outputs": [
    {
     "data": {
      "text/html": [
       "        <script type=\"text/javascript\">\n",
       "        window.PlotlyConfig = {MathJaxConfig: 'local'};\n",
       "        if (window.MathJax) {MathJax.Hub.Config({SVG: {font: \"STIX-Web\"}});}\n",
       "        if (typeof require !== 'undefined') {\n",
       "        require.undef(\"plotly\");\n",
       "        requirejs.config({\n",
       "            paths: {\n",
       "                'plotly': ['https://cdn.plot.ly/plotly-2.3.1.min']\n",
       "            }\n",
       "        });\n",
       "        require(['plotly'], function(Plotly) {\n",
       "            window._Plotly = Plotly;\n",
       "        });\n",
       "        }\n",
       "        </script>\n",
       "        "
      ]
     },
     "metadata": {},
     "output_type": "display_data"
    },
    {
     "data": {
      "application/vnd.plotly.v1+json": {
       "config": {
        "linkText": "Export to plot.ly",
        "plotlyServerURL": "https://plot.ly",
        "showLink": true
       },
       "data": [
        {
         "line": {
          "color": "rgba(255, 153, 51, 1.0)",
          "dash": "solid",
          "shape": "linear",
          "width": 1.3
         },
         "mode": "lines",
         "name": "Avocados",
         "text": "",
         "type": "scatter",
         "x": [
          -0.6931471805599453,
          -0.5108256237659907,
          -0.35667494393873245,
          -0.2231435513142097,
          -0.10536051565782628,
          0,
          0.09531017980432493,
          0.1823215567939546,
          0.26236426446749106,
          0.3364722366212129,
          0.4054651081081644
         ],
         "y": [
          -0.004913560804187787,
          -1.856265419354888e-07,
          -1.8562295669160989e-07,
          3.220097603342571e-08,
          -1.8563866590623524e-07,
          0,
          1.0826812770857282e-07,
          1.2738105047703735e-07,
          -5.817115991564956e-08,
          -4.399856065244715e-08,
          1.4647955930086998e-07
         ]
        },
        {
         "line": {
          "color": "rgba(55, 128, 191, 1.0)",
          "dash": "solid",
          "shape": "linear",
          "width": 1.3
         },
         "mode": "lines",
         "name": "Roma Tomatoes",
         "text": "",
         "type": "scatter",
         "x": [
          -0.6931471805599453,
          -0.5108256237659907,
          -0.35667494393873245,
          -0.2231435513142097,
          -0.10536051565782628,
          0,
          0.09531017980432493,
          0.1823215567939546,
          0.26236426446749106,
          0.3364722366212129,
          0.4054651081081644
         ],
         "y": [
          1.496998069846954e-08,
          2.108177898900874e-08,
          2.5211906022596484e-08,
          2.6564030177982952e-08,
          2.1498226079170132e-08,
          0,
          5.767805327813863e-09,
          9.436593017992674e-09,
          1.1941108697158961e-08,
          1.3737515031096296e-08,
          1.5133290506130933e-08
         ]
        },
        {
         "line": {
          "color": "rgba(50, 171, 96, 1.0)",
          "dash": "solid",
          "shape": "linear",
          "width": 1.3
         },
         "mode": "lines",
         "name": "Sweet Potatoes ",
         "text": "",
         "type": "scatter",
         "x": [
          -0.6931471805599453,
          -0.5108256237659907,
          -0.35667494393873245,
          -0.2231435513142097,
          -0.10536051565782628,
          0,
          0.09531017980432493,
          0.1823215567939546,
          0.26236426446749106,
          0.3364722366212129,
          0.4054651081081644
         ],
         "y": [
          -0.03845886123644955,
          -0.017959754223867284,
          -0.012814621165975799,
          -0.007696092972329315,
          -0.0026036129656529733,
          0,
          -2.2576929217583212e-10,
          -9.953739992929797e-09,
          -1.9967433017640022e-08,
          -3.097975846103708e-08,
          -4.494945261549616e-08
         ]
        },
        {
         "line": {
          "color": "rgba(128, 0, 128, 1.0)",
          "dash": "solid",
          "shape": "linear",
          "width": 1.3
         },
         "mode": "lines",
         "name": "Spinach ",
         "text": "",
         "type": "scatter",
         "x": [
          -0.6931471805599453,
          -0.5108256237659907,
          -0.35667494393873245,
          -0.2231435513142097,
          -0.10536051565782628,
          0,
          0.09531017980432493,
          0.1823215567939546,
          0.26236426446749106,
          0.3364722366212129,
          0.4054651081081644
         ],
         "y": [
          -0.03556254221142995,
          -0.027344974819952857,
          -0.019572335652837624,
          -0.012566989068295942,
          -0.006263746828381994,
          0,
          0.006092742596050015,
          0.00609290627273189,
          0.0060930652790536595,
          0.006092894968121369,
          0.006092864781898338
         ]
        },
        {
         "line": {
          "color": "rgba(219, 64, 82, 1.0)",
          "dash": "solid",
          "shape": "linear",
          "width": 1.3
         },
         "mode": "lines",
         "name": "Broccoli Crown",
         "text": "",
         "type": "scatter",
         "x": [
          -0.6931471805599453,
          -0.5108256237659907,
          -0.35667494393873245,
          -0.2231435513142097,
          -0.10536051565782628,
          0,
          0.09531017980432493,
          0.1823215567939546,
          0.26236426446749106,
          0.3364722366212129,
          0.4054651081081644
         ],
         "y": [
          -0.027304939662804634,
          -0.011352221469350726,
          -0.006142593761576363,
          -0.00409069141196925,
          -0.002043226673459856,
          0,
          0.002038928010419091,
          0.0040740534782324495,
          0.004637839756764153,
          0.004637718710961939,
          0.004637710149710473
         ]
        },
        {
         "line": {
          "color": "rgba(0, 128, 128, 1.0)",
          "dash": "solid",
          "shape": "linear",
          "width": 1.3
         },
         "mode": "lines",
         "name": "Whole Carrots ",
         "text": "",
         "type": "scatter",
         "x": [
          -0.6931471805599453,
          -0.5108256237659907,
          -0.35667494393873245,
          -0.2231435513142097,
          -0.10536051565782628,
          0,
          0.09531017980432493,
          0.1823215567939546,
          0.26236426446749106,
          0.3364722366212129,
          0.4054651081081644
         ],
         "y": [
          -0.05933367490758766,
          -0.017250318021266427,
          -0.01290975086363692,
          -0.008588004409629766,
          -0.004284755709797115,
          0,
          0.002463102101663775,
          0.0024631077745138376,
          0.0024631400259082304,
          0.002463163496016093,
          0.002463169709646706
         ]
        },
        {
         "line": {
          "color": "rgba(255, 255, 51, 1.0)",
          "dash": "solid",
          "shape": "linear",
          "width": 1.3
         },
         "mode": "lines",
         "name": "Garlic ",
         "text": "",
         "type": "scatter",
         "x": [
          -0.6931471805599453,
          -0.5108256237659907,
          -0.35667494393873245,
          -0.2231435513142097,
          -0.10536051565782628,
          0,
          0.09531017980432493,
          0.1823215567939546,
          0.26236426446749106,
          0.3364722366212129,
          0.4054651081081644
         ],
         "y": [
          -1.8563484929183497e-07,
          3.550432906817604e-08,
          5.1533124438835874e-08,
          4.774431536058232e-08,
          4.462236236431427e-08,
          0,
          -1.856389289181186e-07,
          -6.5471548397253294e-09,
          -3.3958976874260476e-08,
          -7.231371152444664e-08,
          -1.8563545136589298e-07
         ]
        },
        {
         "line": {
          "color": "rgba(128, 128, 0, 1.0)",
          "dash": "solid",
          "shape": "linear",
          "width": 1.3
         },
         "mode": "lines",
         "name": "White Onions ",
         "text": "",
         "type": "scatter",
         "x": [
          -0.6931471805599453,
          -0.5108256237659907,
          -0.35667494393873245,
          -0.2231435513142097,
          -0.10536051565782628,
          0,
          0.09531017980432493,
          0.1823215567939546,
          0.26236426446749106,
          0.3364722366212129,
          0.4054651081081644
         ],
         "y": [
          6.542913300844575e-09,
          2.3050735943005824e-08,
          2.477873497884244e-08,
          1.9743154249744183e-08,
          9.707660184109155e-09,
          0,
          3.3436477974879524e-09,
          5.8246558517725094e-09,
          7.759863166347092e-09,
          9.287240044958599e-09,
          1.048192060983794e-08
         ]
        },
        {
         "line": {
          "color": "rgba(251, 128, 114, 1.0)",
          "dash": "solid",
          "shape": "linear",
          "width": 1.3
         },
         "mode": "lines",
         "name": "Sliced White Mushrooms ",
         "text": "",
         "type": "scatter",
         "x": [
          -0.6931471805599453,
          -0.5108256237659907,
          -0.35667494393873245,
          -0.2231435513142097,
          -0.10536051565782628,
          0,
          0.09531017980432493,
          0.1823215567939546,
          0.26236426446749106,
          0.3364722366212129,
          0.4054651081081644
         ],
         "y": [
          -1.856380781540569e-07,
          -1.8562741445992583e-07,
          -9.736709746196524e-08,
          -1.8563810779701714e-07,
          -1.3168449639717805e-08,
          0,
          3.5783731115263266e-08,
          3.915962744003699e-08,
          3.8745595314260236e-08,
          3.775282970476543e-08,
          3.662006208943663e-08
         ]
        },
        {
         "line": {
          "color": "rgba(128, 177, 211, 1.0)",
          "dash": "solid",
          "shape": "linear",
          "width": 1.3
         },
         "mode": "lines",
         "name": "Zucchini",
         "text": "",
         "type": "scatter",
         "x": [
          -0.6931471805599453,
          -0.5108256237659907,
          -0.35667494393873245,
          -0.2231435513142097,
          -0.10536051565782628,
          0,
          0.09531017980432493,
          0.1823215567939546,
          0.26236426446749106,
          0.3364722366212129,
          0.4054651081081644
         ],
         "y": [
          2.1865663262987273e-08,
          -1.8563284123107756e-07,
          2.6369946191854437e-09,
          2.846758810351643e-08,
          3.140133148607552e-08,
          0,
          3.442394141587534e-09,
          1.896771848896828e-09,
          -1.6427021978407763e-09,
          -6.357792312843541e-09,
          -1.8563784467411146e-07
         ]
        },
        {
         "line": {
          "color": "rgba(128, 177, 211, 0.8999999999999999)",
          "dash": "solid",
          "shape": "linear",
          "width": 1.3
         },
         "mode": "lines",
         "name": "Red Peppers",
         "text": "",
         "type": "scatter",
         "x": [
          -0.6931471805599453,
          -0.5108256237659907,
          -0.35667494393873245,
          -0.2231435513142097,
          -0.10536051565782628,
          0,
          0.09531017980432493,
          0.1823215567939546,
          0.26236426446749106,
          0.3364722366212129,
          0.4054651081081644
         ],
         "y": [
          -0.0017920969037706833,
          3.555476183545621e-08,
          2.5545357946866417e-08,
          1.5257084368298455e-08,
          6.584476719944658e-09,
          0,
          -6.71989721683021e-09,
          -1.4098162181578028e-08,
          -2.2921038441267488e-08,
          -3.496119288567215e-08,
          -5.5495611869240564e-08
         ]
        },
        {
         "line": {
          "color": "rgba(255, 153, 51, 0.8999999999999999)",
          "dash": "solid",
          "shape": "linear",
          "width": 1.3
         },
         "mode": "lines",
         "name": "Green Onions",
         "text": "",
         "type": "scatter",
         "x": [
          -0.6931471805599453,
          -0.5108256237659907,
          -0.35667494393873245,
          -0.2231435513142097,
          -0.10536051565782628,
          0,
          0.09531017980432493,
          0.1823215567939546,
          0.26236426446749106,
          0.3364722366212129,
          0.4054651081081644
         ],
         "y": [
          -0.045071506346457804,
          -0.034189683015435186,
          -0.02363622888175556,
          -0.013294405351555095,
          -0.003553625873586529,
          0,
          -5.031075124727762e-09,
          -7.602788649787456e-09,
          -9.338659444941992e-09,
          -1.059456639146481e-08,
          -1.1512683095395496e-08
         ]
        },
        {
         "line": {
          "color": "rgba(55, 128, 191, 0.8999999999999999)",
          "dash": "solid",
          "shape": "linear",
          "width": 1.3
         },
         "mode": "lines",
         "name": "Kale",
         "text": "",
         "type": "scatter",
         "x": [
          -0.6931471805599453,
          -0.5108256237659907,
          -0.35667494393873245,
          -0.2231435513142097,
          -0.10536051565782628,
          0,
          0.09531017980432493,
          0.1823215567939546,
          0.26236426446749106,
          0.3364722366212129,
          0.4054651081081644
         ],
         "y": [
          -0.005065896104507164,
          -0.003117711293473218,
          -0.0011734259346525484,
          9.290050463497031e-09,
          9.435534571434174e-10,
          0,
          1.3701917369096459e-09,
          7.631005576074797e-09,
          1.2605639785819667e-08,
          1.665194257496444e-08,
          1.999142031917704e-08
         ]
        },
        {
         "line": {
          "color": "rgba(50, 171, 96, 0.8999999999999999)",
          "dash": "solid",
          "shape": "linear",
          "width": 1.3
         },
         "mode": "lines",
         "name": "Lemons",
         "text": "",
         "type": "scatter",
         "x": [
          -0.6931471805599453,
          -0.5108256237659907,
          -0.35667494393873245,
          -0.2231435513142097,
          -0.10536051565782628,
          0,
          0.09531017980432493,
          0.1823215567939546,
          0.26236426446749106,
          0.3364722366212129,
          0.4054651081081644
         ],
         "y": [
          2.4078330594808464e-08,
          2.696289022340254e-08,
          2.8389462377628373e-08,
          2.6989695003296785e-08,
          1.9253605191339417e-08,
          0,
          3.978865895504428e-09,
          6.560732602317666e-09,
          8.308761200070036e-09,
          9.526049681442888e-09,
          1.0392847417501954e-08
         ]
        },
        {
         "line": {
          "color": "rgba(128, 0, 128, 0.8999999999999999)",
          "dash": "solid",
          "shape": "linear",
          "width": 1.3
         },
         "mode": "lines",
         "name": "Ginger",
         "text": "",
         "type": "scatter",
         "x": [
          -0.6931471805599453,
          -0.5108256237659907,
          -0.35667494393873245,
          -0.2231435513142097,
          -0.10536051565782628,
          0,
          0.09531017980432493,
          0.1823215567939546,
          0.26236426446749106,
          0.3364722366212129,
          0.4054651081081644
         ],
         "y": [
          3.0938289007271214e-08,
          3.171716683397494e-08,
          3.122828236091383e-08,
          2.812769177983347e-08,
          1.9170346903787073e-08,
          0,
          -1.6684897909129123e-10,
          -1.2661685041792762e-09,
          -3.4481653147841013e-09,
          -6.980066216069207e-09,
          -1.237732290992255e-08
         ]
        },
        {
         "line": {
          "color": "rgba(219, 64, 82, 0.8999999999999999)",
          "dash": "solid",
          "shape": "linear",
          "width": 1.3
         },
         "mode": "lines",
         "name": "Parsley",
         "text": "",
         "type": "scatter",
         "x": [
          -0.6931471805599453,
          -0.5108256237659907,
          -0.35667494393873245,
          -0.2231435513142097,
          -0.10536051565782628,
          0,
          0.09531017980432493,
          0.1823215567939546,
          0.26236426446749106,
          0.3364722366212129,
          0.4054651081081644
         ],
         "y": [
          -1.5980128126320484e-08,
          1.125741360455531e-08,
          2.6461980478666494e-08,
          3.273367256966509e-08,
          2.6171072743982535e-08,
          0,
          1.1566387840805686e-09,
          4.6874282232390285e-11,
          -2.6803139743629947e-09,
          -6.597727608253138e-09,
          -1.1647726628871843e-08
         ]
        },
        {
         "line": {
          "color": "rgba(0, 128, 128, 0.8999999999999999)",
          "dash": "solid",
          "shape": "linear",
          "width": 1.3
         },
         "mode": "lines",
         "name": "Cilantro",
         "text": "",
         "type": "scatter",
         "x": [
          -0.6931471805599453,
          -0.5108256237659907,
          -0.35667494393873245,
          -0.2231435513142097,
          -0.10536051565782628,
          0,
          0.09531017980432493,
          0.1823215567939546,
          0.26236426446749106,
          0.3364722366212129,
          0.4054651081081644
         ],
         "y": [
          0,
          0,
          0,
          0,
          0,
          0,
          0,
          0,
          0,
          0,
          0
         ]
        },
        {
         "line": {
          "color": "rgba(255, 255, 51, 0.8999999999999999)",
          "dash": "solid",
          "shape": "linear",
          "width": 1.3
         },
         "mode": "lines",
         "name": "Salmon fillets (Fresh Atlantic Salmon Fillet (never frozen))",
         "text": "",
         "type": "scatter",
         "x": [
          -0.6931471805599453,
          -0.5108256237659907,
          -0.35667494393873245,
          -0.2231435513142097,
          -0.10536051565782628,
          0,
          0.09531017980432493,
          0.1823215567939546,
          0.26236426446749106,
          0.3364722366212129,
          0.4054651081081644
         ],
         "y": [
          5.912473447018533e-08,
          5.966351834456335e-08,
          5.3190122224318605e-08,
          4.396284439775468e-08,
          2.973798163466464e-08,
          0,
          -5.114484293611824e-09,
          -1.1084224710668214e-08,
          -1.8206716633536858e-08,
          -2.710942851422598e-08,
          -3.9199255277305535e-08
         ]
        },
        {
         "line": {
          "color": "rgba(128, 128, 0, 0.8999999999999999)",
          "dash": "solid",
          "shape": "linear",
          "width": 1.3
         },
         "mode": "lines",
         "name": "shrimp (Extra Large EZ Peel Shrimp 21/25)",
         "text": "",
         "type": "scatter",
         "x": [
          -0.6931471805599453,
          -0.5108256237659907,
          -0.35667494393873245,
          -0.2231435513142097,
          -0.10536051565782628,
          0,
          0.09531017980432493,
          0.1823215567939546,
          0.26236426446749106,
          0.3364722366212129,
          0.4054651081081644
         ],
         "y": [
          -1.9651413848844515e-09,
          -2.0091693884371994e-09,
          -1.7561699887524651e-09,
          -1.3060341705541827e-09,
          -7.094924650304945e-10,
          0,
          7.904730200609596e-10,
          1.6122325683702666e-09,
          2.4236566058039426e-09,
          3.1607543199427137e-09,
          3.749837988639549e-09
         ]
        },
        {
         "line": {
          "color": "rgba(251, 128, 114, 0.8999999999999999)",
          "dash": "solid",
          "shape": "linear",
          "width": 1.3
         },
         "mode": "lines",
         "name": "Tilapia fillets (Fresh Tilapia Fillet (Service Counter))",
         "text": "",
         "type": "scatter",
         "x": [
          -0.6931471805599453,
          -0.5108256237659907,
          -0.35667494393873245,
          -0.2231435513142097,
          -0.10536051565782628,
          0,
          0.09531017980432493,
          0.1823215567939546,
          0.26236426446749106,
          0.3364722366212129,
          0.4054651081081644
         ],
         "y": [
          3.98877629631113e-08,
          3.46215903281588e-08,
          2.8687100727538416e-08,
          2.1588278709248107e-08,
          1.1404855217357739e-08,
          0,
          -5.353238964656675e-10,
          -1.1873163570484751e-09,
          -2.0775517994218767e-09,
          -3.2899228950828007e-09,
          -4.874118232022456e-09
         ]
        },
        {
         "line": {
          "color": "rgba(251, 128, 114, 0.7999999999999998)",
          "dash": "solid",
          "shape": "linear",
          "width": 1.3
         },
         "mode": "lines",
         "name": "Salmon in a can (Kroger® Wild Caught Canned Alaskan Pink Salmon)",
         "text": "",
         "type": "scatter",
         "x": [
          -0.6931471805599453,
          -0.5108256237659907,
          -0.35667494393873245,
          -0.2231435513142097,
          -0.10536051565782628,
          0,
          0.09531017980432493,
          0.1823215567939546,
          0.26236426446749106,
          0.3364722366212129,
          0.4054651081081644
         ],
         "y": [
          -0.0010458105278106846,
          -3.7320034537440906e-08,
          -1.6531701576903102e-09,
          3.302365930811285e-09,
          2.4172674943572943e-09,
          0,
          -2.816323622725337e-09,
          -5.7186007204366715e-09,
          -8.637554042678807e-09,
          -1.1587246895835858e-08,
          -1.461296450085891e-08
         ]
        },
        {
         "line": {
          "color": "rgba(128, 177, 211, 0.7999999999999998)",
          "dash": "solid",
          "shape": "linear",
          "width": 1.3
         },
         "mode": "lines",
         "name": "Tuna in a can (Kroger Wild Caught Light)",
         "text": "",
         "type": "scatter",
         "x": [
          -0.6931471805599453,
          -0.5108256237659907,
          -0.35667494393873245,
          -0.2231435513142097,
          -0.10536051565782628,
          0,
          0.09531017980432493,
          0.1823215567939546,
          0.26236426446749106,
          0.3364722366212129,
          0.4054651081081644
         ],
         "y": [
          -1.6717308788229282e-08,
          -4.619688438582587e-08,
          -1.4812002845151402e-08,
          1.9567285550477684e-09,
          3.453598956402627e-09,
          0,
          -5.50120406298466e-09,
          -5.407758477871405e-09,
          -6.098250367734573e-09,
          -7.367533166264577e-09,
          -9.109697482327746e-09
         ]
        },
        {
         "line": {
          "color": "rgba(255, 153, 51, 0.7999999999999998)",
          "dash": "solid",
          "shape": "linear",
          "width": 1.3
         },
         "mode": "lines",
         "name": "Sardines in a tin (Chicken of the Sea)",
         "text": "",
         "type": "scatter",
         "x": [
          -0.6931471805599453,
          -0.5108256237659907,
          -0.35667494393873245,
          -0.2231435513142097,
          -0.10536051565782628,
          0,
          0.09531017980432493,
          0.1823215567939546,
          0.26236426446749106,
          0.3364722366212129,
          0.4054651081081644
         ],
         "y": [
          -1.2787397815477082e-09,
          -1.3987448986631218e-09,
          -8.328713278076309e-10,
          4.3784975644208363e-11,
          6.336577927026027e-10,
          0,
          2.4990688317333047e-08,
          3.316299357869618e-08,
          3.516714013665748e-08,
          3.511966633565909e-08,
          3.438994851931268e-08
         ]
        },
        {
         "line": {
          "color": "rgba(55, 128, 191, 0.7999999999999998)",
          "dash": "solid",
          "shape": "linear",
          "width": 1.3
         },
         "mode": "lines",
         "name": "Rice Vinegar (Nakano All Natural Rice Vinegar)",
         "text": "",
         "type": "scatter",
         "x": [
          -0.6931471805599453,
          -0.5108256237659907,
          -0.35667494393873245,
          -0.2231435513142097,
          -0.10536051565782628,
          0,
          0.09531017980432493,
          0.1823215567939546,
          0.26236426446749106,
          0.3364722366212129,
          0.4054651081081644
         ],
         "y": [
          0,
          0,
          0,
          0,
          0,
          0,
          0,
          0,
          0,
          0,
          0
         ]
        },
        {
         "line": {
          "color": "rgba(50, 171, 96, 0.7999999999999998)",
          "dash": "solid",
          "shape": "linear",
          "width": 1.3
         },
         "mode": "lines",
         "name": "Extra Virgin Olive Oil (Kroger® Extra Virgin Olive Oil)",
         "text": "",
         "type": "scatter",
         "x": [
          -0.6931471805599453,
          -0.5108256237659907,
          -0.35667494393873245,
          -0.2231435513142097,
          -0.10536051565782628,
          0,
          0.09531017980432493,
          0.1823215567939546,
          0.26236426446749106,
          0.3364722366212129,
          0.4054651081081644
         ],
         "y": [
          -2.8769923191303844e-08,
          -1.156189928264495e-08,
          -4.535137164987951e-09,
          -7.158301731710839e-10,
          4.1320524771027566e-10,
          0,
          7.175307655608253e-09,
          1.476573763460261e-08,
          1.9236998475656677e-08,
          2.195275737078109e-08,
          2.3598226205573632e-08
         ]
        },
        {
         "line": {
          "color": "rgba(128, 0, 128, 0.7999999999999998)",
          "dash": "solid",
          "shape": "linear",
          "width": 1.3
         },
         "mode": "lines",
         "name": "Coconut Oil (Kroger® Pure Coconut Oil)",
         "text": "",
         "type": "scatter",
         "x": [
          -0.6931471805599453,
          -0.5108256237659907,
          -0.35667494393873245,
          -0.2231435513142097,
          -0.10536051565782628,
          0,
          0.09531017980432493,
          0.1823215567939546,
          0.26236426446749106,
          0.3364722366212129,
          0.4054651081081644
         ],
         "y": [
          -0.008726163435009131,
          -7.146060998477098e-08,
          -2.1313805281351912e-08,
          -9.286254697245619e-09,
          -3.152960009164095e-09,
          0,
          8.715642614053958e-09,
          1.7611905556500162e-08,
          2.3089418332737408e-08,
          2.6542558021167647e-08,
          2.8608722314914332e-08
         ]
        },
        {
         "line": {
          "color": "rgba(219, 64, 82, 0.7999999999999998)",
          "dash": "solid",
          "shape": "linear",
          "width": 1.3
         },
         "mode": "lines",
         "name": "Sesame Oil (Kroger® Pure Sesame Oil)",
         "text": "",
         "type": "scatter",
         "x": [
          -0.6931471805599453,
          -0.5108256237659907,
          -0.35667494393873245,
          -0.2231435513142097,
          -0.10536051565782628,
          0,
          0.09531017980432493,
          0.1823215567939546,
          0.26236426446749106,
          0.3364722366212129,
          0.4054651081081644
         ],
         "y": [
          3.161662637231632e-08,
          2.9198213420458324e-08,
          2.4783761180394968e-08,
          1.836015700383358e-08,
          8.844140047840485e-09,
          0,
          -1.8890725668265245e-09,
          -3.894789609528364e-09,
          -6.0783465112725175e-09,
          -8.489626815387937e-09,
          -1.1175724852484114e-08
         ]
        },
        {
         "line": {
          "color": "rgba(0, 128, 128, 0.7999999999999998)",
          "dash": "solid",
          "shape": "linear",
          "width": 1.3
         },
         "mode": "lines",
         "name": "Avocado Oil ",
         "text": "",
         "type": "scatter",
         "x": [
          -0.6931471805599453,
          -0.5108256237659907,
          -0.35667494393873245,
          -0.2231435513142097,
          -0.10536051565782628,
          0,
          0.09531017980432493,
          0.1823215567939546,
          0.26236426446749106,
          0.3364722366212129,
          0.4054651081081644
         ],
         "y": [
          5.119712640716988e-09,
          6.340385973907855e-09,
          5.500222484550742e-09,
          3.892540948653658e-09,
          1.991687923711963e-09,
          0,
          -1.4105243649709406e-09,
          3.55909301966664e-10,
          -2.4995872041981636e-10,
          -2.8092803678373034e-09,
          -7.44153619274195e-09
         ]
        },
        {
         "line": {
          "color": "rgba(255, 255, 51, 0.7999999999999998)",
          "dash": "solid",
          "shape": "linear",
          "width": 1.3
         },
         "mode": "lines",
         "name": "Maple Syrup",
         "text": "",
         "type": "scatter",
         "x": [
          -0.6931471805599453,
          -0.5108256237659907,
          -0.35667494393873245,
          -0.2231435513142097,
          -0.10536051565782628,
          0,
          0.09531017980432493,
          0.1823215567939546,
          0.26236426446749106,
          0.3364722366212129,
          0.4054651081081644
         ],
         "y": [
          1.794742716102969e-08,
          1.7047047183998494e-08,
          1.5118859605430533e-08,
          1.1575377478375064e-08,
          5.232054997774312e-09,
          0,
          6.758082979833191e-10,
          1.2237661987385841e-09,
          1.4575118878959813e-09,
          1.1899023981269406e-09,
          2.3009683045156036e-10
         ]
        },
        {
         "line": {
          "color": "rgba(128, 128, 0, 0.7999999999999998)",
          "dash": "solid",
          "shape": "linear",
          "width": 1.3
         },
         "mode": "lines",
         "name": "Cacao (Navitas Organics Cacao Powder)",
         "text": "",
         "type": "scatter",
         "x": [
          -0.6931471805599453,
          -0.5108256237659907,
          -0.35667494393873245,
          -0.2231435513142097,
          -0.10536051565782628,
          0,
          0.09531017980432493,
          0.1823215567939546,
          0.26236426446749106,
          0.3364722366212129,
          0.4054651081081644
         ],
         "y": [
          2.852253970077743e-08,
          3.5010126850909256e-08,
          3.5310399535948545e-08,
          3.2165825263374326e-08,
          2.303657460456385e-08,
          0,
          -5.605338653402991e-09,
          -1.6456442899452932e-08,
          -4.160569886345442e-08,
          -1.856372497054821e-07,
          -2.9110078660503116e-08
         ]
        },
        {
         "line": {
          "color": "rgba(128, 128, 0, 0.7)",
          "dash": "solid",
          "shape": "linear",
          "width": 1.3
         },
         "mode": "lines",
         "name": "Almond flour ",
         "text": "",
         "type": "scatter",
         "x": [
          -0.6931471805599453,
          -0.5108256237659907,
          -0.35667494393873245,
          -0.2231435513142097,
          -0.10536051565782628,
          0,
          0.09531017980432493,
          0.1823215567939546,
          0.26236426446749106,
          0.3364722366212129,
          0.4054651081081644
         ],
         "y": [
          1.8990491383606172e-09,
          2.5153292909710455e-08,
          3.205589942070075e-08,
          3.413654256511515e-08,
          2.9614753765970956e-08,
          0,
          -4.2018966093184146e-10,
          -4.18056323766679e-09,
          -9.925908921871856e-09,
          -1.7340662389811575e-08,
          -1.856331184538183e-07
         ]
        },
        {
         "line": {
          "color": "rgba(251, 128, 114, 0.7)",
          "dash": "solid",
          "shape": "linear",
          "width": 1.3
         },
         "mode": "lines",
         "name": "Tapioca flour",
         "text": "",
         "type": "scatter",
         "x": [
          -0.6931471805599453,
          -0.5108256237659907,
          -0.35667494393873245,
          -0.2231435513142097,
          -0.10536051565782628,
          0,
          0.09531017980432493,
          0.1823215567939546,
          0.26236426446749106,
          0.3364722366212129,
          0.4054651081081644
         ],
         "y": [
          2.5905792064583205e-08,
          2.2594440507547666e-08,
          1.8311116677378235e-08,
          1.2663393586830977e-08,
          4.874312275249186e-09,
          0,
          -1.2843106586478115e-09,
          -2.63479305387555e-09,
          -4.103830839135796e-09,
          -5.75426663530735e-09,
          -7.663647967837491e-09
         ]
        },
        {
         "line": {
          "color": "rgba(128, 177, 211, 0.7)",
          "dash": "solid",
          "shape": "linear",
          "width": 1.3
         },
         "mode": "lines",
         "name": "Vegetable broth",
         "text": "",
         "type": "scatter",
         "x": [
          -0.6931471805599453,
          -0.5108256237659907,
          -0.35667494393873245,
          -0.2231435513142097,
          -0.10536051565782628,
          0,
          0.09531017980432493,
          0.1823215567939546,
          0.26236426446749106,
          0.3364722366212129,
          0.4054651081081644
         ],
         "y": [
          -1.329660825976768e-10,
          -2.7768456461714974e-09,
          -4.861809633377728e-09,
          -6.253363513243488e-09,
          -3.4388195683529273e-09,
          0,
          2.9552162895317366e-09,
          5.494650275220781e-09,
          7.6749157845411e-09,
          9.544358369167405e-09,
          1.1145294847089557e-08
         ]
        },
        {
         "line": {
          "color": "rgba(255, 153, 51, 0.7)",
          "dash": "solid",
          "shape": "linear",
          "width": 1.3
         },
         "mode": "lines",
         "name": "Nutritional Yeast ",
         "text": "",
         "type": "scatter",
         "x": [
          -0.6931471805599453,
          -0.5108256237659907,
          -0.35667494393873245,
          -0.2231435513142097,
          -0.10536051565782628,
          0,
          0.09531017980432493,
          0.1823215567939546,
          0.26236426446749106,
          0.3364722366212129,
          0.4054651081081644
         ],
         "y": [
          -0.00488919031284536,
          -0.00390941910804595,
          -0.0029306102839512325,
          -0.0019527614107744714,
          -0.0009758780264813496,
          0,
          0.0009747969770161068,
          0.0019488299120061024,
          0.0029219150374977165,
          0.003894299344999716,
          0.004802594542206542
         ]
        },
        {
         "line": {
          "color": "rgba(55, 128, 191, 0.7)",
          "dash": "solid",
          "shape": "linear",
          "width": 1.3
         },
         "mode": "lines",
         "name": "Crushed tomatoes",
         "text": "",
         "type": "scatter",
         "x": [
          -0.6931471805599453,
          -0.5108256237659907,
          -0.35667494393873245,
          -0.2231435513142097,
          -0.10536051565782628,
          0,
          0.09531017980432493,
          0.1823215567939546,
          0.26236426446749106,
          0.3364722366212129,
          0.4054651081081644
         ],
         "y": [
          9.839435137755439e-08,
          4.3104302752938496e-08,
          3.871615597554567e-08,
          5.6095264414481734e-08,
          3.401561174832331e-08,
          0,
          1.0160309875116277e-08,
          -8.704424885455562e-09,
          -5.082363348318636e-08,
          -1.8563401806770214e-07,
          -1.8563236361304372e-07
         ]
        },
        {
         "line": {
          "color": "rgba(50, 171, 96, 0.7)",
          "dash": "solid",
          "shape": "linear",
          "width": 1.3
         },
         "mode": "lines",
         "name": "Coconut Milk",
         "text": "",
         "type": "scatter",
         "x": [
          -0.6931471805599453,
          -0.5108256237659907,
          -0.35667494393873245,
          -0.2231435513142097,
          -0.10536051565782628,
          0,
          0.09531017980432493,
          0.1823215567939546,
          0.26236426446749106,
          0.3364722366212129,
          0.4054651081081644
         ],
         "y": [
          1.0890326803223061e-08,
          8.249511262271588e-09,
          5.9386118068850475e-09,
          3.845419753001803e-09,
          1.883552645412208e-09,
          0,
          -1.8391361783757302e-09,
          -1.490677582483839e-09,
          4.46616743488191e-10,
          1.9579737811897507e-09,
          3.0852862439456925e-09
         ]
        },
        {
         "line": {
          "color": "rgba(128, 0, 128, 0.7)",
          "dash": "solid",
          "shape": "linear",
          "width": 1.3
         },
         "mode": "lines",
         "name": "Salt (Morton Plain salt)",
         "text": "",
         "type": "scatter",
         "x": [
          -0.6931471805599453,
          -0.5108256237659907,
          -0.35667494393873245,
          -0.2231435513142097,
          -0.10536051565782628,
          0,
          0.09531017980432493,
          0.1823215567939546,
          0.26236426446749106,
          0.3364722366212129,
          0.4054651081081644
         ],
         "y": [
          -3.963421591752495e-08,
          -3.378711167969165e-08,
          -2.7345986294036742e-08,
          -1.9298580808657552e-08,
          -9.412120349657208e-09,
          0,
          7.828435868883994e-09,
          1.2224929660458402e-08,
          9.626351891463714e-09,
          -8.736940653595135e-09,
          -7.527230455795329e-08
         ]
        },
        {
         "line": {
          "color": "rgba(219, 64, 82, 0.7)",
          "dash": "solid",
          "shape": "linear",
          "width": 1.3
         },
         "mode": "lines",
         "name": "Black Pepper (Kroger® Pure Ground Black Pepper)",
         "text": "",
         "type": "scatter",
         "x": [
          -0.6931471805599453,
          -0.5108256237659907,
          -0.35667494393873245,
          -0.2231435513142097,
          -0.10536051565782628,
          0,
          0.09531017980432493,
          0.1823215567939546,
          0.26236426446749106,
          0.3364722366212129,
          0.4054651081081644
         ],
         "y": [
          2.699861231438986e-08,
          3.006763925933048e-08,
          3.2286267582274805e-08,
          3.3247213540235475e-08,
          2.910235055005768e-08,
          0,
          1.1370659968498976e-10,
          -4.142708518150121e-09,
          -1.205379414663208e-08,
          -1.8563307559920158e-07,
          -1.8563578398877292e-07
         ]
        },
        {
         "line": {
          "color": "rgba(0, 128, 128, 0.7)",
          "dash": "solid",
          "shape": "linear",
          "width": 1.3
         },
         "mode": "lines",
         "name": "Soy Sauce (Kroger® Lite Soy Sauce )",
         "text": "",
         "type": "scatter",
         "x": [
          -0.6931471805599453,
          -0.5108256237659907,
          -0.35667494393873245,
          -0.2231435513142097,
          -0.10536051565782628,
          0,
          0.09531017980432493,
          0.1823215567939546,
          0.26236426446749106,
          0.3364722366212129,
          0.4054651081081644
         ],
         "y": [
          -0.002681938589319202,
          -0.0001592263108568331,
          1.201673026604239e-07,
          3.0186433307391198e-09,
          -2.2638768640068815e-10,
          0,
          1.1693410677351373e-09,
          5.667652775468887e-09,
          1.1294391580374936e-08,
          1.6360192844298563e-08,
          2.0887783728782603e-08
         ]
        },
        {
         "line": {
          "color": "rgba(255, 255, 51, 0.7)",
          "dash": "solid",
          "shape": "linear",
          "width": 1.3
         },
         "mode": "lines",
         "name": "Strawberries",
         "text": "",
         "type": "scatter",
         "x": [
          -0.6931471805599453,
          -0.5108256237659907,
          -0.35667494393873245,
          -0.2231435513142097,
          -0.10536051565782628,
          0,
          0.09531017980432493,
          0.1823215567939546,
          0.26236426446749106,
          0.3364722366212129,
          0.4054651081081644
         ],
         "y": [
          3.1511061263441083e-08,
          3.232534565512232e-08,
          3.173489087786695e-08,
          2.8279364449975723e-08,
          1.8747535570309217e-08,
          0,
          5.51841239218978e-10,
          1.8613399708699785e-10,
          -9.134626392801455e-10,
          -2.6482066574722005e-09,
          -4.9771302758697e-09
         ]
        },
        {
         "line": {
          "color": "rgba(255, 255, 51, 0.5999999999999999)",
          "dash": "solid",
          "shape": "linear",
          "width": 1.3
         },
         "mode": "lines",
         "name": "Oranges (navel)",
         "text": "",
         "type": "scatter",
         "x": [
          -0.6931471805599453,
          -0.5108256237659907,
          -0.35667494393873245,
          -0.2231435513142097,
          -0.10536051565782628,
          0,
          0.09531017980432493,
          0.1823215567939546,
          0.26236426446749106,
          0.3364722366212129,
          0.4054651081081644
         ],
         "y": [
          -0.004327819349097601,
          -0.002293476159742647,
          -0.0002631915714638573,
          1.7068400325111477e-08,
          5.278201417550351e-09,
          0,
          1.7420398455573517e-10,
          3.2601699112803366e-10,
          4.3911541060333076e-10,
          5.189153549952976e-10,
          5.740949936012463e-10
         ]
        },
        {
         "line": {
          "color": "rgba(128, 128, 0, 0.5999999999999999)",
          "dash": "solid",
          "shape": "linear",
          "width": 1.3
         },
         "mode": "lines",
         "name": "Apples (honeycrisp)",
         "text": "",
         "type": "scatter",
         "x": [
          -0.6931471805599453,
          -0.5108256237659907,
          -0.35667494393873245,
          -0.2231435513142097,
          -0.10536051565782628,
          0,
          0.09531017980432493,
          0.1823215567939546,
          0.26236426446749106,
          0.3364722366212129,
          0.4054651081081644
         ],
         "y": [
          1.203522163569438e-08,
          1.9931506024626097e-08,
          2.5786358271483815e-08,
          2.790268910298512e-08,
          2.171745959465965e-08,
          0,
          4.635450013082895e-09,
          7.671206751488892e-09,
          9.955291208469723e-09,
          1.1833300713678876e-08,
          1.345829949531494e-08
         ]
        },
        {
         "line": {
          "color": "rgba(251, 128, 114, 0.5999999999999999)",
          "dash": "solid",
          "shape": "linear",
          "width": 1.3
         },
         "mode": "lines",
         "name": "Bananas",
         "text": "",
         "type": "scatter",
         "x": [
          -0.6931471805599453,
          -0.5108256237659907,
          -0.35667494393873245,
          -0.2231435513142097,
          -0.10536051565782628,
          0,
          0.09531017980432493,
          0.1823215567939546,
          0.26236426446749106,
          0.3364722366212129,
          0.4054651081081644
         ],
         "y": [
          -0.17305977573600503,
          -0.13164410662173043,
          -0.09524725188263355,
          -0.0601282459960409,
          -0.026751128769721973,
          0,
          0.0249774536565969,
          0.04934614473169666,
          0.07313509163786383,
          0.09637147513246568,
          0.11907983955582034
         ]
        },
        {
         "line": {
          "color": "rgba(128, 177, 211, 0.5999999999999999)",
          "dash": "solid",
          "shape": "linear",
          "width": 1.3
         },
         "mode": "lines",
         "name": "Almond milk (Silk unsweetened)",
         "text": "",
         "type": "scatter",
         "x": [
          -0.6931471805599453,
          -0.5108256237659907,
          -0.35667494393873245,
          -0.2231435513142097,
          -0.10536051565782628,
          0,
          0.09531017980432493,
          0.1823215567939546,
          0.26236426446749106,
          0.3364722366212129,
          0.4054651081081644
         ],
         "y": [
          -0.06365558351142227,
          -0.05059616335939775,
          -0.03770510180731025,
          -0.024978111200504007,
          -0.012411067271015626,
          0,
          0.012258934560290875,
          0.024369399124760334,
          0.036334954252210956,
          0.048158833243423856,
          0.05930840803470183
         ]
        },
        {
         "line": {
          "color": "rgba(255, 153, 51, 0.5999999999999999)",
          "dash": "solid",
          "shape": "linear",
          "width": 1.3
         },
         "mode": "lines",
         "name": "Coconut milk",
         "text": "",
         "type": "scatter",
         "x": [
          -0.6931471805599453,
          -0.5108256237659907,
          -0.35667494393873245,
          -0.2231435513142097,
          -0.10536051565782628,
          0,
          0.09531017980432493,
          0.1823215567939546,
          0.26236426446749106,
          0.3364722366212129,
          0.4054651081081644
         ],
         "y": [
          -6.167055756859203e-10,
          4.329061552739145e-10,
          7.887692718087152e-10,
          7.5193673481673e-10,
          4.603903923700492e-10,
          0,
          8.71403393507577e-10,
          6.567290467636475e-09,
          1.0828540005993777e-08,
          1.4020548401683252e-08,
          1.6403066104093576e-08
         ]
        },
        {
         "line": {
          "color": "rgba(55, 128, 191, 0.5999999999999999)",
          "dash": "solid",
          "shape": "linear",
          "width": 1.3
         },
         "mode": "lines",
         "name": "Goats cheese (Simple Truth)",
         "text": "",
         "type": "scatter",
         "x": [
          -0.6931471805599453,
          -0.5108256237659907,
          -0.35667494393873245,
          -0.2231435513142097,
          -0.10536051565782628,
          0,
          0.09531017980432493,
          0.1823215567939546,
          0.26236426446749106,
          0.3364722366212129,
          0.4054651081081644
         ],
         "y": [
          4.470160563938075e-08,
          4.14099193021612e-08,
          3.826129295692714e-08,
          3.4283606032595024e-08,
          2.5791107583416078e-08,
          0,
          1.8691415064904037e-09,
          1.4890122457272626e-09,
          -1.4018897154342579e-11,
          -2.0720122306067134e-09,
          -4.620406068427788e-09
         ]
        },
        {
         "line": {
          "color": "rgba(50, 171, 96, 0.5999999999999999)",
          "dash": "solid",
          "shape": "linear",
          "width": 1.3
         },
         "mode": "lines",
         "name": "Goats milk (Meyenberg Vitamin D)",
         "text": "",
         "type": "scatter",
         "x": [
          -0.6931471805599453,
          -0.5108256237659907,
          -0.35667494393873245,
          -0.2231435513142097,
          -0.10536051565782628,
          0,
          0.09531017980432493,
          0.1823215567939546,
          0.26236426446749106,
          0.3364722366212129,
          0.4054651081081644
         ],
         "y": [
          1.0116853525926984e-08,
          7.926245850449173e-09,
          5.285371903939322e-09,
          3.105065533201984e-09,
          1.3986278792000026e-09,
          0,
          8.228902414479877e-09,
          1.780290410342709e-08,
          2.4281358628724713e-08,
          2.8779102020365754e-08,
          3.195490176924925e-08
         ]
        },
        {
         "line": {
          "color": "rgba(128, 0, 128, 0.5999999999999999)",
          "dash": "solid",
          "shape": "linear",
          "width": 1.3
         },
         "mode": "lines",
         "name": "Quinoa",
         "text": "",
         "type": "scatter",
         "x": [
          -0.6931471805599453,
          -0.5108256237659907,
          -0.35667494393873245,
          -0.2231435513142097,
          -0.10536051565782628,
          0,
          0.09531017980432493,
          0.1823215567939546,
          0.26236426446749106,
          0.3364722366212129,
          0.4054651081081644
         ],
         "y": [
          3.537899666150191e-08,
          3.2513011531872047e-08,
          2.7282149278373712e-08,
          2.0040849223600818e-08,
          9.807665742522493e-09,
          0,
          -2.2619977028174606e-09,
          -4.515520301210169e-09,
          -6.900198214413311e-09,
          -9.56191019827076e-09,
          -1.2669144036399096e-08
         ]
        },
        {
         "line": {
          "color": "rgba(219, 64, 82, 0.5999999999999999)",
          "dash": "solid",
          "shape": "linear",
          "width": 1.3
         },
         "mode": "lines",
         "name": "Oatmeal",
         "text": "",
         "type": "scatter",
         "x": [
          -0.6931471805599453,
          -0.5108256237659907,
          -0.35667494393873245,
          -0.2231435513142097,
          -0.10536051565782628,
          0,
          0.09531017980432493,
          0.1823215567939546,
          0.26236426446749106,
          0.3364722366212129,
          0.4054651081081644
         ],
         "y": [
          -0.02482029903588814,
          -0.014176417451459637,
          -0.0054773551609906225,
          -0.002992789429406281,
          -0.0005138513436790257,
          0,
          -5.535806606228711e-09,
          2.573730114604241e-09,
          -7.842046154333922e-09,
          -1.8562596983745802e-07,
          -1.8564045414279297e-07
         ]
        },
        {
         "line": {
          "color": "rgba(0, 128, 128, 0.5999999999999999)",
          "dash": "solid",
          "shape": "linear",
          "width": 1.3
         },
         "mode": "lines",
         "name": "Quinoa/Rice Pasta",
         "text": "",
         "type": "scatter",
         "x": [
          -0.6931471805599453,
          -0.5108256237659907,
          -0.35667494393873245,
          -0.2231435513142097,
          -0.10536051565782628,
          0,
          0.09531017980432493,
          0.1823215567939546,
          0.26236426446749106,
          0.3364722366212129,
          0.4054651081081644
         ],
         "y": [
          1.580808071938956e-08,
          9.775704420357935e-09,
          5.9743032564681025e-09,
          3.3637044204497523e-09,
          1.4552774530398749e-09,
          0,
          2.388762740313146e-09,
          8.265797567774538e-09,
          1.2267582208096117e-08,
          1.508071589559405e-08,
          1.7089904234508174e-08
         ]
        },
        {
         "line": {
          "color": "rgba(0, 128, 128, 0.49999999999999983)",
          "dash": "solid",
          "shape": "linear",
          "width": 1.3
         },
         "mode": "lines",
         "name": "Eggs",
         "text": "",
         "type": "scatter",
         "x": [
          -0.6931471805599453,
          -0.5108256237659907,
          -0.35667494393873245,
          -0.2231435513142097,
          -0.10536051565782628,
          0,
          0.09531017980432493,
          0.1823215567939546,
          0.26236426446749106,
          0.3364722366212129,
          0.4054651081081644
         ],
         "y": [
          -1.0102511282684322e-07,
          8.000167874563945e-08,
          -1.8563871642139224e-07,
          -5.313777292808762e-08,
          9.974213183379067e-09,
          0,
          -1.8563537376128916e-07,
          -6.52176524068959e-08,
          1.6495372173278144e-07,
          -1.8557202919770608e-07,
          -6.434821338530362e-08
         ]
        },
        {
         "line": {
          "color": "rgba(255, 255, 51, 0.49999999999999983)",
          "dash": "solid",
          "shape": "linear",
          "width": 1.3
         },
         "mode": "lines",
         "name": "Black Beans (kroger)",
         "text": "",
         "type": "scatter",
         "x": [
          -0.6931471805599453,
          -0.5108256237659907,
          -0.35667494393873245,
          -0.2231435513142097,
          -0.10536051565782628,
          0,
          0.09531017980432493,
          0.1823215567939546,
          0.26236426446749106,
          0.3364722366212129,
          0.4054651081081644
         ],
         "y": [
          -0.013601959316871413,
          -0.005432250070189424,
          -0.003925846245311638,
          -0.002421708260826787,
          -0.0009198293048119288,
          0,
          -2.3309521029686057e-08,
          -1.8562813288537842e-07,
          -1.8562596273202934e-07,
          -1.856280515060156e-07,
          -2.2247850476234954e-08
         ]
        },
        {
         "line": {
          "color": "rgba(128, 128, 0, 0.49999999999999983)",
          "dash": "solid",
          "shape": "linear",
          "width": 1.3
         },
         "mode": "lines",
         "name": "Chickpeas (kroger)",
         "text": "",
         "type": "scatter",
         "x": [
          -0.6931471805599453,
          -0.5108256237659907,
          -0.35667494393873245,
          -0.2231435513142097,
          -0.10536051565782628,
          0,
          0.09531017980432493,
          0.1823215567939546,
          0.26236426446749106,
          0.3364722366212129,
          0.4054651081081644
         ],
         "y": [
          -0.02334074338368227,
          -0.011680267616210707,
          -0.005162692126411862,
          -0.003438851361619137,
          -0.0017180615526713257,
          0,
          0.0005798597366793852,
          0.0005797973894341409,
          0.0005797973902487942,
          0.0005797973882732988,
          0.0005799491141658938
         ]
        },
        {
         "line": {
          "color": "rgba(251, 128, 114, 0.49999999999999983)",
          "dash": "solid",
          "shape": "linear",
          "width": 1.3
         },
         "mode": "lines",
         "name": "Lentils (kroger)",
         "text": "",
         "type": "scatter",
         "x": [
          -0.6931471805599453,
          -0.5108256237659907,
          -0.35667494393873245,
          -0.2231435513142097,
          -0.10536051565782628,
          0,
          0.09531017980432493,
          0.1823215567939546,
          0.26236426446749106,
          0.3364722366212129,
          0.4054651081081644
         ],
         "y": [
          -0.0032948663523423944,
          -0.0014961098396429158,
          -1.855648754743194e-07,
          1.0540071282073712e-07,
          5.003841772847842e-09,
          0,
          1.08436421475895e-08,
          -3.290838733485424e-08,
          -1.8563426087352268e-07,
          1.8998985023415268e-07,
          -6.769737466602053e-08
         ]
        },
        {
         "line": {
          "color": "rgba(128, 177, 211, 0.49999999999999983)",
          "dash": "solid",
          "shape": "linear",
          "width": 1.3
         },
         "mode": "lines",
         "name": "Almonds (kroger)",
         "text": "",
         "type": "scatter",
         "x": [
          -0.6931471805599453,
          -0.5108256237659907,
          -0.35667494393873245,
          -0.2231435513142097,
          -0.10536051565782628,
          0,
          0.09531017980432493,
          0.1823215567939546,
          0.26236426446749106,
          0.3364722366212129,
          0.4054651081081644
         ],
         "y": [
          6.223685506463896e-08,
          6.109416519243544e-08,
          5.4225865437619875e-08,
          5.076014790673192e-08,
          4.434866331307656e-08,
          0,
          -1.4417581565967307e-08,
          -4.0999272262785225e-08,
          -9.44438187674475e-09,
          -2.8314861856357477e-08,
          -1.0075924758129021e-07
         ]
        },
        {
         "line": {
          "color": "rgba(255, 153, 51, 0.49999999999999983)",
          "dash": "solid",
          "shape": "linear",
          "width": 1.3
         },
         "mode": "lines",
         "name": "Brazil Nuts (Torn and Glasser)",
         "text": "",
         "type": "scatter",
         "x": [
          -0.6931471805599453,
          -0.5108256237659907,
          -0.35667494393873245,
          -0.2231435513142097,
          -0.10536051565782628,
          0,
          0.09531017980432493,
          0.1823215567939546,
          0.26236426446749106,
          0.3364722366212129,
          0.4054651081081644
         ],
         "y": [
          -2.002895813720376e-08,
          -7.981428105862518e-09,
          9.536521304911344e-09,
          1.2641946742801838e-08,
          -9.832674278721885e-09,
          0,
          3.794167819001756e-08,
          5.6245971630494156e-08,
          6.221388410759963e-08,
          7.576785001027573e-08,
          8.83184060186712e-08
         ]
        },
        {
         "line": {
          "color": "rgba(55, 128, 191, 0.49999999999999983)",
          "dash": "solid",
          "shape": "linear",
          "width": 1.3
         },
         "mode": "lines",
         "name": "Chia Seeds",
         "text": "",
         "type": "scatter",
         "x": [
          -0.6931471805599453,
          -0.5108256237659907,
          -0.35667494393873245,
          -0.2231435513142097,
          -0.10536051565782628,
          0,
          0.09531017980432493,
          0.1823215567939546,
          0.26236426446749106,
          0.3364722366212129,
          0.4054651081081644
         ],
         "y": [
          -1.856341887090127e-07,
          -1.8563311145941194e-07,
          -2.5240186370855647e-08,
          -1.1726848227958706e-08,
          -3.7178854508659076e-09,
          0,
          3.205050462515241e-08,
          4.088340404800284e-08,
          4.430828761208521e-08,
          4.633689680070108e-08,
          4.8003881272465706e-08
         ]
        },
        {
         "line": {
          "color": "rgba(50, 171, 96, 0.49999999999999983)",
          "dash": "solid",
          "shape": "linear",
          "width": 1.3
         },
         "mode": "lines",
         "name": "Flax Seeds (NOW foods real food)",
         "text": "",
         "type": "scatter",
         "x": [
          -0.6931471805599453,
          -0.5108256237659907,
          -0.35667494393873245,
          -0.2231435513142097,
          -0.10536051565782628,
          0,
          0.09531017980432493,
          0.1823215567939546,
          0.26236426446749106,
          0.3364722366212129,
          0.4054651081081644
         ],
         "y": [
          -0.30150652538913286,
          -0.20975329129408105,
          -0.1398309740435523,
          -0.08580149467948328,
          -0.04198070853032263,
          0,
          0.040288914756756035,
          0.07901758076019119,
          0.11630205149214073,
          0.15224602732341241,
          0.18694290432267902
         ]
        },
        {
         "line": {
          "color": "rgba(128, 0, 128, 0.49999999999999983)",
          "dash": "solid",
          "shape": "linear",
          "width": 1.3
         },
         "mode": "lines",
         "name": "Peanut Butter",
         "text": "",
         "type": "scatter",
         "x": [
          -0.6931471805599453,
          -0.5108256237659907,
          -0.35667494393873245,
          -0.2231435513142097,
          -0.10536051565782628,
          0,
          0.09531017980432493,
          0.1823215567939546,
          0.26236426446749106,
          0.3364722366212129,
          0.4054651081081644
         ],
         "y": [
          -0.009140270946758153,
          -0.0051454846561447476,
          -0.002191883084636203,
          -0.0009759812591448777,
          8.449105502461359e-08,
          0,
          -8.017618794314855e-10,
          -3.580723723944165e-09,
          -1.0320901853125619e-08,
          -1.9861516184669267e-08,
          -1.551596696505399e-08
         ]
        },
        {
         "line": {
          "color": "rgba(219, 64, 82, 0.49999999999999983)",
          "dash": "solid",
          "shape": "linear",
          "width": 1.3
         },
         "mode": "lines",
         "name": "Mustard (kroger)",
         "text": "",
         "type": "scatter",
         "x": [
          -0.6931471805599453,
          -0.5108256237659907,
          -0.35667494393873245,
          -0.2231435513142097,
          -0.10536051565782628,
          0,
          0.09531017980432493,
          0.1823215567939546,
          0.26236426446749106,
          0.3364722366212129,
          0.4054651081081644
         ],
         "y": [
          6.098450631514332e-10,
          -3.01458580775099e-09,
          -6.431842967814253e-09,
          -8.628287455101472e-09,
          -4.5652234319360736e-09,
          0,
          4.242951758706517e-09,
          8.233282688365178e-09,
          1.2007863964339659e-08,
          1.558533134838493e-08,
          1.96535952246471e-08
         ]
        },
        {
         "line": {
          "color": "rgba(219, 64, 82, 0.39999999999999974)",
          "dash": "solid",
          "shape": "linear",
          "width": 1.3
         },
         "mode": "lines",
         "name": "Apple Cider Vinegar (kroger)",
         "text": "",
         "type": "scatter",
         "x": [
          -0.6931471805599453,
          -0.5108256237659907,
          -0.35667494393873245,
          -0.2231435513142097,
          -0.10536051565782628,
          0,
          0.09531017980432493,
          0.1823215567939546,
          0.26236426446749106,
          0.3364722366212129,
          0.4054651081081644
         ],
         "y": [
          0,
          0,
          0,
          0,
          0,
          0,
          0,
          0,
          0,
          0,
          0
         ]
        },
        {
         "line": {
          "color": "rgba(0, 128, 128, 0.39999999999999974)",
          "dash": "solid",
          "shape": "linear",
          "width": 1.3
         },
         "mode": "lines",
         "name": "Kimchi (simple truth)",
         "text": "",
         "type": "scatter",
         "x": [
          -0.6931471805599453,
          -0.5108256237659907,
          -0.35667494393873245,
          -0.2231435513142097,
          -0.10536051565782628,
          0,
          0.09531017980432493,
          0.1823215567939546,
          0.26236426446749106,
          0.3364722366212129,
          0.4054651081081644
         ],
         "y": [
          -4.2945303458495294e-08,
          -2.998137016965242e-08,
          -1.5616948967165238e-08,
          -7.687259303128026e-09,
          -2.756002874161037e-09,
          0,
          2.7849448581367963e-08,
          3.675793113388854e-08,
          3.9884655226944726e-08,
          4.1149282023391567e-08,
          4.17415500112563e-08
         ]
        },
        {
         "line": {
          "color": "rgba(255, 255, 51, 0.39999999999999974)",
          "dash": "solid",
          "shape": "linear",
          "width": 1.3
         },
         "mode": "lines",
         "name": "Mayonaise (kroger)",
         "text": "",
         "type": "scatter",
         "x": [
          -0.6931471805599453,
          -0.5108256237659907,
          -0.35667494393873245,
          -0.2231435513142097,
          -0.10536051565782628,
          0,
          0.09531017980432493,
          0.1823215567939546,
          0.26236426446749106,
          0.3364722366212129,
          0.4054651081081644
         ],
         "y": [
          -0.03104383099426775,
          -0.024638594760143188,
          -0.018274124595190358,
          -0.01209103603955631,
          -0.006027213491311114,
          0,
          0.005990934037583659,
          0.011946373841781488,
          0.01786655628529271,
          0.02313020677807496,
          0.02596795035126117
         ]
        }
       ],
       "layout": {
        "legend": {
         "bgcolor": "#F5F6F9",
         "font": {
          "color": "#4D5663"
         }
        },
        "paper_bgcolor": "#F5F6F9",
        "plot_bgcolor": "#F5F6F9",
        "template": {
         "data": {
          "bar": [
           {
            "error_x": {
             "color": "#2a3f5f"
            },
            "error_y": {
             "color": "#2a3f5f"
            },
            "marker": {
             "line": {
              "color": "#E5ECF6",
              "width": 0.5
             },
             "pattern": {
              "fillmode": "overlay",
              "size": 10,
              "solidity": 0.2
             }
            },
            "type": "bar"
           }
          ],
          "barpolar": [
           {
            "marker": {
             "line": {
              "color": "#E5ECF6",
              "width": 0.5
             },
             "pattern": {
              "fillmode": "overlay",
              "size": 10,
              "solidity": 0.2
             }
            },
            "type": "barpolar"
           }
          ],
          "carpet": [
           {
            "aaxis": {
             "endlinecolor": "#2a3f5f",
             "gridcolor": "white",
             "linecolor": "white",
             "minorgridcolor": "white",
             "startlinecolor": "#2a3f5f"
            },
            "baxis": {
             "endlinecolor": "#2a3f5f",
             "gridcolor": "white",
             "linecolor": "white",
             "minorgridcolor": "white",
             "startlinecolor": "#2a3f5f"
            },
            "type": "carpet"
           }
          ],
          "choropleth": [
           {
            "colorbar": {
             "outlinewidth": 0,
             "ticks": ""
            },
            "type": "choropleth"
           }
          ],
          "contour": [
           {
            "colorbar": {
             "outlinewidth": 0,
             "ticks": ""
            },
            "colorscale": [
             [
              0,
              "#0d0887"
             ],
             [
              0.1111111111111111,
              "#46039f"
             ],
             [
              0.2222222222222222,
              "#7201a8"
             ],
             [
              0.3333333333333333,
              "#9c179e"
             ],
             [
              0.4444444444444444,
              "#bd3786"
             ],
             [
              0.5555555555555556,
              "#d8576b"
             ],
             [
              0.6666666666666666,
              "#ed7953"
             ],
             [
              0.7777777777777778,
              "#fb9f3a"
             ],
             [
              0.8888888888888888,
              "#fdca26"
             ],
             [
              1,
              "#f0f921"
             ]
            ],
            "type": "contour"
           }
          ],
          "contourcarpet": [
           {
            "colorbar": {
             "outlinewidth": 0,
             "ticks": ""
            },
            "type": "contourcarpet"
           }
          ],
          "heatmap": [
           {
            "colorbar": {
             "outlinewidth": 0,
             "ticks": ""
            },
            "colorscale": [
             [
              0,
              "#0d0887"
             ],
             [
              0.1111111111111111,
              "#46039f"
             ],
             [
              0.2222222222222222,
              "#7201a8"
             ],
             [
              0.3333333333333333,
              "#9c179e"
             ],
             [
              0.4444444444444444,
              "#bd3786"
             ],
             [
              0.5555555555555556,
              "#d8576b"
             ],
             [
              0.6666666666666666,
              "#ed7953"
             ],
             [
              0.7777777777777778,
              "#fb9f3a"
             ],
             [
              0.8888888888888888,
              "#fdca26"
             ],
             [
              1,
              "#f0f921"
             ]
            ],
            "type": "heatmap"
           }
          ],
          "heatmapgl": [
           {
            "colorbar": {
             "outlinewidth": 0,
             "ticks": ""
            },
            "colorscale": [
             [
              0,
              "#0d0887"
             ],
             [
              0.1111111111111111,
              "#46039f"
             ],
             [
              0.2222222222222222,
              "#7201a8"
             ],
             [
              0.3333333333333333,
              "#9c179e"
             ],
             [
              0.4444444444444444,
              "#bd3786"
             ],
             [
              0.5555555555555556,
              "#d8576b"
             ],
             [
              0.6666666666666666,
              "#ed7953"
             ],
             [
              0.7777777777777778,
              "#fb9f3a"
             ],
             [
              0.8888888888888888,
              "#fdca26"
             ],
             [
              1,
              "#f0f921"
             ]
            ],
            "type": "heatmapgl"
           }
          ],
          "histogram": [
           {
            "marker": {
             "pattern": {
              "fillmode": "overlay",
              "size": 10,
              "solidity": 0.2
             }
            },
            "type": "histogram"
           }
          ],
          "histogram2d": [
           {
            "colorbar": {
             "outlinewidth": 0,
             "ticks": ""
            },
            "colorscale": [
             [
              0,
              "#0d0887"
             ],
             [
              0.1111111111111111,
              "#46039f"
             ],
             [
              0.2222222222222222,
              "#7201a8"
             ],
             [
              0.3333333333333333,
              "#9c179e"
             ],
             [
              0.4444444444444444,
              "#bd3786"
             ],
             [
              0.5555555555555556,
              "#d8576b"
             ],
             [
              0.6666666666666666,
              "#ed7953"
             ],
             [
              0.7777777777777778,
              "#fb9f3a"
             ],
             [
              0.8888888888888888,
              "#fdca26"
             ],
             [
              1,
              "#f0f921"
             ]
            ],
            "type": "histogram2d"
           }
          ],
          "histogram2dcontour": [
           {
            "colorbar": {
             "outlinewidth": 0,
             "ticks": ""
            },
            "colorscale": [
             [
              0,
              "#0d0887"
             ],
             [
              0.1111111111111111,
              "#46039f"
             ],
             [
              0.2222222222222222,
              "#7201a8"
             ],
             [
              0.3333333333333333,
              "#9c179e"
             ],
             [
              0.4444444444444444,
              "#bd3786"
             ],
             [
              0.5555555555555556,
              "#d8576b"
             ],
             [
              0.6666666666666666,
              "#ed7953"
             ],
             [
              0.7777777777777778,
              "#fb9f3a"
             ],
             [
              0.8888888888888888,
              "#fdca26"
             ],
             [
              1,
              "#f0f921"
             ]
            ],
            "type": "histogram2dcontour"
           }
          ],
          "mesh3d": [
           {
            "colorbar": {
             "outlinewidth": 0,
             "ticks": ""
            },
            "type": "mesh3d"
           }
          ],
          "parcoords": [
           {
            "line": {
             "colorbar": {
              "outlinewidth": 0,
              "ticks": ""
             }
            },
            "type": "parcoords"
           }
          ],
          "pie": [
           {
            "automargin": true,
            "type": "pie"
           }
          ],
          "scatter": [
           {
            "marker": {
             "colorbar": {
              "outlinewidth": 0,
              "ticks": ""
             }
            },
            "type": "scatter"
           }
          ],
          "scatter3d": [
           {
            "line": {
             "colorbar": {
              "outlinewidth": 0,
              "ticks": ""
             }
            },
            "marker": {
             "colorbar": {
              "outlinewidth": 0,
              "ticks": ""
             }
            },
            "type": "scatter3d"
           }
          ],
          "scattercarpet": [
           {
            "marker": {
             "colorbar": {
              "outlinewidth": 0,
              "ticks": ""
             }
            },
            "type": "scattercarpet"
           }
          ],
          "scattergeo": [
           {
            "marker": {
             "colorbar": {
              "outlinewidth": 0,
              "ticks": ""
             }
            },
            "type": "scattergeo"
           }
          ],
          "scattergl": [
           {
            "marker": {
             "colorbar": {
              "outlinewidth": 0,
              "ticks": ""
             }
            },
            "type": "scattergl"
           }
          ],
          "scattermapbox": [
           {
            "marker": {
             "colorbar": {
              "outlinewidth": 0,
              "ticks": ""
             }
            },
            "type": "scattermapbox"
           }
          ],
          "scatterpolar": [
           {
            "marker": {
             "colorbar": {
              "outlinewidth": 0,
              "ticks": ""
             }
            },
            "type": "scatterpolar"
           }
          ],
          "scatterpolargl": [
           {
            "marker": {
             "colorbar": {
              "outlinewidth": 0,
              "ticks": ""
             }
            },
            "type": "scatterpolargl"
           }
          ],
          "scatterternary": [
           {
            "marker": {
             "colorbar": {
              "outlinewidth": 0,
              "ticks": ""
             }
            },
            "type": "scatterternary"
           }
          ],
          "surface": [
           {
            "colorbar": {
             "outlinewidth": 0,
             "ticks": ""
            },
            "colorscale": [
             [
              0,
              "#0d0887"
             ],
             [
              0.1111111111111111,
              "#46039f"
             ],
             [
              0.2222222222222222,
              "#7201a8"
             ],
             [
              0.3333333333333333,
              "#9c179e"
             ],
             [
              0.4444444444444444,
              "#bd3786"
             ],
             [
              0.5555555555555556,
              "#d8576b"
             ],
             [
              0.6666666666666666,
              "#ed7953"
             ],
             [
              0.7777777777777778,
              "#fb9f3a"
             ],
             [
              0.8888888888888888,
              "#fdca26"
             ],
             [
              1,
              "#f0f921"
             ]
            ],
            "type": "surface"
           }
          ],
          "table": [
           {
            "cells": {
             "fill": {
              "color": "#EBF0F8"
             },
             "line": {
              "color": "white"
             }
            },
            "header": {
             "fill": {
              "color": "#C8D4E3"
             },
             "line": {
              "color": "white"
             }
            },
            "type": "table"
           }
          ]
         },
         "layout": {
          "annotationdefaults": {
           "arrowcolor": "#2a3f5f",
           "arrowhead": 0,
           "arrowwidth": 1
          },
          "autotypenumbers": "strict",
          "coloraxis": {
           "colorbar": {
            "outlinewidth": 0,
            "ticks": ""
           }
          },
          "colorscale": {
           "diverging": [
            [
             0,
             "#8e0152"
            ],
            [
             0.1,
             "#c51b7d"
            ],
            [
             0.2,
             "#de77ae"
            ],
            [
             0.3,
             "#f1b6da"
            ],
            [
             0.4,
             "#fde0ef"
            ],
            [
             0.5,
             "#f7f7f7"
            ],
            [
             0.6,
             "#e6f5d0"
            ],
            [
             0.7,
             "#b8e186"
            ],
            [
             0.8,
             "#7fbc41"
            ],
            [
             0.9,
             "#4d9221"
            ],
            [
             1,
             "#276419"
            ]
           ],
           "sequential": [
            [
             0,
             "#0d0887"
            ],
            [
             0.1111111111111111,
             "#46039f"
            ],
            [
             0.2222222222222222,
             "#7201a8"
            ],
            [
             0.3333333333333333,
             "#9c179e"
            ],
            [
             0.4444444444444444,
             "#bd3786"
            ],
            [
             0.5555555555555556,
             "#d8576b"
            ],
            [
             0.6666666666666666,
             "#ed7953"
            ],
            [
             0.7777777777777778,
             "#fb9f3a"
            ],
            [
             0.8888888888888888,
             "#fdca26"
            ],
            [
             1,
             "#f0f921"
            ]
           ],
           "sequentialminus": [
            [
             0,
             "#0d0887"
            ],
            [
             0.1111111111111111,
             "#46039f"
            ],
            [
             0.2222222222222222,
             "#7201a8"
            ],
            [
             0.3333333333333333,
             "#9c179e"
            ],
            [
             0.4444444444444444,
             "#bd3786"
            ],
            [
             0.5555555555555556,
             "#d8576b"
            ],
            [
             0.6666666666666666,
             "#ed7953"
            ],
            [
             0.7777777777777778,
             "#fb9f3a"
            ],
            [
             0.8888888888888888,
             "#fdca26"
            ],
            [
             1,
             "#f0f921"
            ]
           ]
          },
          "colorway": [
           "#636efa",
           "#EF553B",
           "#00cc96",
           "#ab63fa",
           "#FFA15A",
           "#19d3f3",
           "#FF6692",
           "#B6E880",
           "#FF97FF",
           "#FECB52"
          ],
          "font": {
           "color": "#2a3f5f"
          },
          "geo": {
           "bgcolor": "white",
           "lakecolor": "white",
           "landcolor": "#E5ECF6",
           "showlakes": true,
           "showland": true,
           "subunitcolor": "white"
          },
          "hoverlabel": {
           "align": "left"
          },
          "hovermode": "closest",
          "mapbox": {
           "style": "light"
          },
          "paper_bgcolor": "white",
          "plot_bgcolor": "#E5ECF6",
          "polar": {
           "angularaxis": {
            "gridcolor": "white",
            "linecolor": "white",
            "ticks": ""
           },
           "bgcolor": "#E5ECF6",
           "radialaxis": {
            "gridcolor": "white",
            "linecolor": "white",
            "ticks": ""
           }
          },
          "scene": {
           "xaxis": {
            "backgroundcolor": "#E5ECF6",
            "gridcolor": "white",
            "gridwidth": 2,
            "linecolor": "white",
            "showbackground": true,
            "ticks": "",
            "zerolinecolor": "white"
           },
           "yaxis": {
            "backgroundcolor": "#E5ECF6",
            "gridcolor": "white",
            "gridwidth": 2,
            "linecolor": "white",
            "showbackground": true,
            "ticks": "",
            "zerolinecolor": "white"
           },
           "zaxis": {
            "backgroundcolor": "#E5ECF6",
            "gridcolor": "white",
            "gridwidth": 2,
            "linecolor": "white",
            "showbackground": true,
            "ticks": "",
            "zerolinecolor": "white"
           }
          },
          "shapedefaults": {
           "line": {
            "color": "#2a3f5f"
           }
          },
          "ternary": {
           "aaxis": {
            "gridcolor": "white",
            "linecolor": "white",
            "ticks": ""
           },
           "baxis": {
            "gridcolor": "white",
            "linecolor": "white",
            "ticks": ""
           },
           "bgcolor": "#E5ECF6",
           "caxis": {
            "gridcolor": "white",
            "linecolor": "white",
            "ticks": ""
           }
          },
          "title": {
           "x": 0.05
          },
          "xaxis": {
           "automargin": true,
           "gridcolor": "white",
           "linecolor": "white",
           "ticks": "",
           "title": {
            "standoff": 15
           },
           "zerolinecolor": "white",
           "zerolinewidth": 2
          },
          "yaxis": {
           "automargin": true,
           "gridcolor": "white",
           "linecolor": "white",
           "ticks": "",
           "title": {
            "standoff": 15
           },
           "zerolinecolor": "white",
           "zerolinewidth": 2
          }
         }
        },
        "title": {
         "font": {
          "color": "#4D5663"
         }
        },
        "xaxis": {
         "gridcolor": "#E1E5ED",
         "showgrid": true,
         "tickfont": {
          "color": "#4D5663"
         },
         "title": {
          "font": {
           "color": "#4D5663"
          },
          "text": "change in log price"
         },
         "zerolinecolor": "#E1E5ED"
        },
        "yaxis": {
         "gridcolor": "#E1E5ED",
         "showgrid": true,
         "tickfont": {
          "color": "#4D5663"
         },
         "title": {
          "font": {
           "color": "#4D5663"
          },
          "text": "change in log cost"
         },
         "zerolinecolor": "#E1E5ED"
        }
       }
      },
      "text/html": [
       "<div>                            <div id=\"170c0f89-6f8e-4e0f-aa12-9a44df923b7d\" class=\"plotly-graph-div\" style=\"height:525px; width:100%;\"></div>            <script type=\"text/javascript\">                require([\"plotly\"], function(Plotly) {                    window.PLOTLYENV=window.PLOTLYENV || {};\n",
       "                    window.PLOTLYENV.BASE_URL='https://plot.ly';                                    if (document.getElementById(\"170c0f89-6f8e-4e0f-aa12-9a44df923b7d\")) {                    Plotly.newPlot(                        \"170c0f89-6f8e-4e0f-aa12-9a44df923b7d\",                        [{\"line\":{\"color\":\"rgba(255, 153, 51, 1.0)\",\"dash\":\"solid\",\"shape\":\"linear\",\"width\":1.3},\"mode\":\"lines\",\"name\":\"Avocados\",\"text\":\"\",\"type\":\"scatter\",\"x\":[-0.6931471805599453,-0.5108256237659907,-0.35667494393873245,-0.2231435513142097,-0.10536051565782628,0.0,0.09531017980432493,0.1823215567939546,0.26236426446749106,0.3364722366212129,0.4054651081081644],\"y\":[-0.004913560804187787,-1.856265419354888e-07,-1.8562295669160989e-07,3.220097603342571e-08,-1.8563866590623524e-07,0.0,1.0826812770857282e-07,1.2738105047703735e-07,-5.817115991564956e-08,-4.399856065244715e-08,1.4647955930086998e-07]},{\"line\":{\"color\":\"rgba(55, 128, 191, 1.0)\",\"dash\":\"solid\",\"shape\":\"linear\",\"width\":1.3},\"mode\":\"lines\",\"name\":\"Roma Tomatoes\",\"text\":\"\",\"type\":\"scatter\",\"x\":[-0.6931471805599453,-0.5108256237659907,-0.35667494393873245,-0.2231435513142097,-0.10536051565782628,0.0,0.09531017980432493,0.1823215567939546,0.26236426446749106,0.3364722366212129,0.4054651081081644],\"y\":[1.496998069846954e-08,2.108177898900874e-08,2.5211906022596484e-08,2.6564030177982952e-08,2.1498226079170132e-08,0.0,5.767805327813863e-09,9.436593017992674e-09,1.1941108697158961e-08,1.3737515031096296e-08,1.5133290506130933e-08]},{\"line\":{\"color\":\"rgba(50, 171, 96, 1.0)\",\"dash\":\"solid\",\"shape\":\"linear\",\"width\":1.3},\"mode\":\"lines\",\"name\":\"Sweet Potatoes \",\"text\":\"\",\"type\":\"scatter\",\"x\":[-0.6931471805599453,-0.5108256237659907,-0.35667494393873245,-0.2231435513142097,-0.10536051565782628,0.0,0.09531017980432493,0.1823215567939546,0.26236426446749106,0.3364722366212129,0.4054651081081644],\"y\":[-0.03845886123644955,-0.017959754223867284,-0.012814621165975799,-0.007696092972329315,-0.0026036129656529733,0.0,-2.2576929217583212e-10,-9.953739992929797e-09,-1.9967433017640022e-08,-3.097975846103708e-08,-4.494945261549616e-08]},{\"line\":{\"color\":\"rgba(128, 0, 128, 1.0)\",\"dash\":\"solid\",\"shape\":\"linear\",\"width\":1.3},\"mode\":\"lines\",\"name\":\"Spinach \",\"text\":\"\",\"type\":\"scatter\",\"x\":[-0.6931471805599453,-0.5108256237659907,-0.35667494393873245,-0.2231435513142097,-0.10536051565782628,0.0,0.09531017980432493,0.1823215567939546,0.26236426446749106,0.3364722366212129,0.4054651081081644],\"y\":[-0.03556254221142995,-0.027344974819952857,-0.019572335652837624,-0.012566989068295942,-0.006263746828381994,0.0,0.006092742596050015,0.00609290627273189,0.0060930652790536595,0.006092894968121369,0.006092864781898338]},{\"line\":{\"color\":\"rgba(219, 64, 82, 1.0)\",\"dash\":\"solid\",\"shape\":\"linear\",\"width\":1.3},\"mode\":\"lines\",\"name\":\"Broccoli Crown\",\"text\":\"\",\"type\":\"scatter\",\"x\":[-0.6931471805599453,-0.5108256237659907,-0.35667494393873245,-0.2231435513142097,-0.10536051565782628,0.0,0.09531017980432493,0.1823215567939546,0.26236426446749106,0.3364722366212129,0.4054651081081644],\"y\":[-0.027304939662804634,-0.011352221469350726,-0.006142593761576363,-0.00409069141196925,-0.002043226673459856,0.0,0.002038928010419091,0.0040740534782324495,0.004637839756764153,0.004637718710961939,0.004637710149710473]},{\"line\":{\"color\":\"rgba(0, 128, 128, 1.0)\",\"dash\":\"solid\",\"shape\":\"linear\",\"width\":1.3},\"mode\":\"lines\",\"name\":\"Whole Carrots \",\"text\":\"\",\"type\":\"scatter\",\"x\":[-0.6931471805599453,-0.5108256237659907,-0.35667494393873245,-0.2231435513142097,-0.10536051565782628,0.0,0.09531017980432493,0.1823215567939546,0.26236426446749106,0.3364722366212129,0.4054651081081644],\"y\":[-0.05933367490758766,-0.017250318021266427,-0.01290975086363692,-0.008588004409629766,-0.004284755709797115,0.0,0.002463102101663775,0.0024631077745138376,0.0024631400259082304,0.002463163496016093,0.002463169709646706]},{\"line\":{\"color\":\"rgba(255, 255, 51, 1.0)\",\"dash\":\"solid\",\"shape\":\"linear\",\"width\":1.3},\"mode\":\"lines\",\"name\":\"Garlic \",\"text\":\"\",\"type\":\"scatter\",\"x\":[-0.6931471805599453,-0.5108256237659907,-0.35667494393873245,-0.2231435513142097,-0.10536051565782628,0.0,0.09531017980432493,0.1823215567939546,0.26236426446749106,0.3364722366212129,0.4054651081081644],\"y\":[-1.8563484929183497e-07,3.550432906817604e-08,5.1533124438835874e-08,4.774431536058232e-08,4.462236236431427e-08,0.0,-1.856389289181186e-07,-6.5471548397253294e-09,-3.3958976874260476e-08,-7.231371152444664e-08,-1.8563545136589298e-07]},{\"line\":{\"color\":\"rgba(128, 128, 0, 1.0)\",\"dash\":\"solid\",\"shape\":\"linear\",\"width\":1.3},\"mode\":\"lines\",\"name\":\"White Onions \",\"text\":\"\",\"type\":\"scatter\",\"x\":[-0.6931471805599453,-0.5108256237659907,-0.35667494393873245,-0.2231435513142097,-0.10536051565782628,0.0,0.09531017980432493,0.1823215567939546,0.26236426446749106,0.3364722366212129,0.4054651081081644],\"y\":[6.542913300844575e-09,2.3050735943005824e-08,2.477873497884244e-08,1.9743154249744183e-08,9.707660184109155e-09,0.0,3.3436477974879524e-09,5.8246558517725094e-09,7.759863166347092e-09,9.287240044958599e-09,1.048192060983794e-08]},{\"line\":{\"color\":\"rgba(251, 128, 114, 1.0)\",\"dash\":\"solid\",\"shape\":\"linear\",\"width\":1.3},\"mode\":\"lines\",\"name\":\"Sliced White Mushrooms \",\"text\":\"\",\"type\":\"scatter\",\"x\":[-0.6931471805599453,-0.5108256237659907,-0.35667494393873245,-0.2231435513142097,-0.10536051565782628,0.0,0.09531017980432493,0.1823215567939546,0.26236426446749106,0.3364722366212129,0.4054651081081644],\"y\":[-1.856380781540569e-07,-1.8562741445992583e-07,-9.736709746196524e-08,-1.8563810779701714e-07,-1.3168449639717805e-08,0.0,3.5783731115263266e-08,3.915962744003699e-08,3.8745595314260236e-08,3.775282970476543e-08,3.662006208943663e-08]},{\"line\":{\"color\":\"rgba(128, 177, 211, 1.0)\",\"dash\":\"solid\",\"shape\":\"linear\",\"width\":1.3},\"mode\":\"lines\",\"name\":\"Zucchini\",\"text\":\"\",\"type\":\"scatter\",\"x\":[-0.6931471805599453,-0.5108256237659907,-0.35667494393873245,-0.2231435513142097,-0.10536051565782628,0.0,0.09531017980432493,0.1823215567939546,0.26236426446749106,0.3364722366212129,0.4054651081081644],\"y\":[2.1865663262987273e-08,-1.8563284123107756e-07,2.6369946191854437e-09,2.846758810351643e-08,3.140133148607552e-08,0.0,3.442394141587534e-09,1.896771848896828e-09,-1.6427021978407763e-09,-6.357792312843541e-09,-1.8563784467411146e-07]},{\"line\":{\"color\":\"rgba(128, 177, 211, 0.8999999999999999)\",\"dash\":\"solid\",\"shape\":\"linear\",\"width\":1.3},\"mode\":\"lines\",\"name\":\"Red Peppers\",\"text\":\"\",\"type\":\"scatter\",\"x\":[-0.6931471805599453,-0.5108256237659907,-0.35667494393873245,-0.2231435513142097,-0.10536051565782628,0.0,0.09531017980432493,0.1823215567939546,0.26236426446749106,0.3364722366212129,0.4054651081081644],\"y\":[-0.0017920969037706833,3.555476183545621e-08,2.5545357946866417e-08,1.5257084368298455e-08,6.584476719944658e-09,0.0,-6.71989721683021e-09,-1.4098162181578028e-08,-2.2921038441267488e-08,-3.496119288567215e-08,-5.5495611869240564e-08]},{\"line\":{\"color\":\"rgba(255, 153, 51, 0.8999999999999999)\",\"dash\":\"solid\",\"shape\":\"linear\",\"width\":1.3},\"mode\":\"lines\",\"name\":\"Green Onions\",\"text\":\"\",\"type\":\"scatter\",\"x\":[-0.6931471805599453,-0.5108256237659907,-0.35667494393873245,-0.2231435513142097,-0.10536051565782628,0.0,0.09531017980432493,0.1823215567939546,0.26236426446749106,0.3364722366212129,0.4054651081081644],\"y\":[-0.045071506346457804,-0.034189683015435186,-0.02363622888175556,-0.013294405351555095,-0.003553625873586529,0.0,-5.031075124727762e-09,-7.602788649787456e-09,-9.338659444941992e-09,-1.059456639146481e-08,-1.1512683095395496e-08]},{\"line\":{\"color\":\"rgba(55, 128, 191, 0.8999999999999999)\",\"dash\":\"solid\",\"shape\":\"linear\",\"width\":1.3},\"mode\":\"lines\",\"name\":\"Kale\",\"text\":\"\",\"type\":\"scatter\",\"x\":[-0.6931471805599453,-0.5108256237659907,-0.35667494393873245,-0.2231435513142097,-0.10536051565782628,0.0,0.09531017980432493,0.1823215567939546,0.26236426446749106,0.3364722366212129,0.4054651081081644],\"y\":[-0.005065896104507164,-0.003117711293473218,-0.0011734259346525484,9.290050463497031e-09,9.435534571434174e-10,0.0,1.3701917369096459e-09,7.631005576074797e-09,1.2605639785819667e-08,1.665194257496444e-08,1.999142031917704e-08]},{\"line\":{\"color\":\"rgba(50, 171, 96, 0.8999999999999999)\",\"dash\":\"solid\",\"shape\":\"linear\",\"width\":1.3},\"mode\":\"lines\",\"name\":\"Lemons\",\"text\":\"\",\"type\":\"scatter\",\"x\":[-0.6931471805599453,-0.5108256237659907,-0.35667494393873245,-0.2231435513142097,-0.10536051565782628,0.0,0.09531017980432493,0.1823215567939546,0.26236426446749106,0.3364722366212129,0.4054651081081644],\"y\":[2.4078330594808464e-08,2.696289022340254e-08,2.8389462377628373e-08,2.6989695003296785e-08,1.9253605191339417e-08,0.0,3.978865895504428e-09,6.560732602317666e-09,8.308761200070036e-09,9.526049681442888e-09,1.0392847417501954e-08]},{\"line\":{\"color\":\"rgba(128, 0, 128, 0.8999999999999999)\",\"dash\":\"solid\",\"shape\":\"linear\",\"width\":1.3},\"mode\":\"lines\",\"name\":\"Ginger\",\"text\":\"\",\"type\":\"scatter\",\"x\":[-0.6931471805599453,-0.5108256237659907,-0.35667494393873245,-0.2231435513142097,-0.10536051565782628,0.0,0.09531017980432493,0.1823215567939546,0.26236426446749106,0.3364722366212129,0.4054651081081644],\"y\":[3.0938289007271214e-08,3.171716683397494e-08,3.122828236091383e-08,2.812769177983347e-08,1.9170346903787073e-08,0.0,-1.6684897909129123e-10,-1.2661685041792762e-09,-3.4481653147841013e-09,-6.980066216069207e-09,-1.237732290992255e-08]},{\"line\":{\"color\":\"rgba(219, 64, 82, 0.8999999999999999)\",\"dash\":\"solid\",\"shape\":\"linear\",\"width\":1.3},\"mode\":\"lines\",\"name\":\"Parsley\",\"text\":\"\",\"type\":\"scatter\",\"x\":[-0.6931471805599453,-0.5108256237659907,-0.35667494393873245,-0.2231435513142097,-0.10536051565782628,0.0,0.09531017980432493,0.1823215567939546,0.26236426446749106,0.3364722366212129,0.4054651081081644],\"y\":[-1.5980128126320484e-08,1.125741360455531e-08,2.6461980478666494e-08,3.273367256966509e-08,2.6171072743982535e-08,0.0,1.1566387840805686e-09,4.6874282232390285e-11,-2.6803139743629947e-09,-6.597727608253138e-09,-1.1647726628871843e-08]},{\"line\":{\"color\":\"rgba(0, 128, 128, 0.8999999999999999)\",\"dash\":\"solid\",\"shape\":\"linear\",\"width\":1.3},\"mode\":\"lines\",\"name\":\"Cilantro\",\"text\":\"\",\"type\":\"scatter\",\"x\":[-0.6931471805599453,-0.5108256237659907,-0.35667494393873245,-0.2231435513142097,-0.10536051565782628,0.0,0.09531017980432493,0.1823215567939546,0.26236426446749106,0.3364722366212129,0.4054651081081644],\"y\":[0.0,0.0,0.0,0.0,0.0,0.0,0.0,0.0,0.0,0.0,0.0]},{\"line\":{\"color\":\"rgba(255, 255, 51, 0.8999999999999999)\",\"dash\":\"solid\",\"shape\":\"linear\",\"width\":1.3},\"mode\":\"lines\",\"name\":\"Salmon fillets (Fresh Atlantic Salmon Fillet (never frozen))\",\"text\":\"\",\"type\":\"scatter\",\"x\":[-0.6931471805599453,-0.5108256237659907,-0.35667494393873245,-0.2231435513142097,-0.10536051565782628,0.0,0.09531017980432493,0.1823215567939546,0.26236426446749106,0.3364722366212129,0.4054651081081644],\"y\":[5.912473447018533e-08,5.966351834456335e-08,5.3190122224318605e-08,4.396284439775468e-08,2.973798163466464e-08,0.0,-5.114484293611824e-09,-1.1084224710668214e-08,-1.8206716633536858e-08,-2.710942851422598e-08,-3.9199255277305535e-08]},{\"line\":{\"color\":\"rgba(128, 128, 0, 0.8999999999999999)\",\"dash\":\"solid\",\"shape\":\"linear\",\"width\":1.3},\"mode\":\"lines\",\"name\":\"shrimp (Extra Large EZ Peel Shrimp 21/25)\",\"text\":\"\",\"type\":\"scatter\",\"x\":[-0.6931471805599453,-0.5108256237659907,-0.35667494393873245,-0.2231435513142097,-0.10536051565782628,0.0,0.09531017980432493,0.1823215567939546,0.26236426446749106,0.3364722366212129,0.4054651081081644],\"y\":[-1.9651413848844515e-09,-2.0091693884371994e-09,-1.7561699887524651e-09,-1.3060341705541827e-09,-7.094924650304945e-10,0.0,7.904730200609596e-10,1.6122325683702666e-09,2.4236566058039426e-09,3.1607543199427137e-09,3.749837988639549e-09]},{\"line\":{\"color\":\"rgba(251, 128, 114, 0.8999999999999999)\",\"dash\":\"solid\",\"shape\":\"linear\",\"width\":1.3},\"mode\":\"lines\",\"name\":\"Tilapia fillets (Fresh Tilapia Fillet (Service Counter))\",\"text\":\"\",\"type\":\"scatter\",\"x\":[-0.6931471805599453,-0.5108256237659907,-0.35667494393873245,-0.2231435513142097,-0.10536051565782628,0.0,0.09531017980432493,0.1823215567939546,0.26236426446749106,0.3364722366212129,0.4054651081081644],\"y\":[3.98877629631113e-08,3.46215903281588e-08,2.8687100727538416e-08,2.1588278709248107e-08,1.1404855217357739e-08,0.0,-5.353238964656675e-10,-1.1873163570484751e-09,-2.0775517994218767e-09,-3.2899228950828007e-09,-4.874118232022456e-09]},{\"line\":{\"color\":\"rgba(251, 128, 114, 0.7999999999999998)\",\"dash\":\"solid\",\"shape\":\"linear\",\"width\":1.3},\"mode\":\"lines\",\"name\":\"Salmon in a can (Kroger\\u00ae Wild Caught Canned Alaskan Pink Salmon)\",\"text\":\"\",\"type\":\"scatter\",\"x\":[-0.6931471805599453,-0.5108256237659907,-0.35667494393873245,-0.2231435513142097,-0.10536051565782628,0.0,0.09531017980432493,0.1823215567939546,0.26236426446749106,0.3364722366212129,0.4054651081081644],\"y\":[-0.0010458105278106846,-3.7320034537440906e-08,-1.6531701576903102e-09,3.302365930811285e-09,2.4172674943572943e-09,0.0,-2.816323622725337e-09,-5.7186007204366715e-09,-8.637554042678807e-09,-1.1587246895835858e-08,-1.461296450085891e-08]},{\"line\":{\"color\":\"rgba(128, 177, 211, 0.7999999999999998)\",\"dash\":\"solid\",\"shape\":\"linear\",\"width\":1.3},\"mode\":\"lines\",\"name\":\"Tuna in a can (Kroger Wild Caught Light)\",\"text\":\"\",\"type\":\"scatter\",\"x\":[-0.6931471805599453,-0.5108256237659907,-0.35667494393873245,-0.2231435513142097,-0.10536051565782628,0.0,0.09531017980432493,0.1823215567939546,0.26236426446749106,0.3364722366212129,0.4054651081081644],\"y\":[-1.6717308788229282e-08,-4.619688438582587e-08,-1.4812002845151402e-08,1.9567285550477684e-09,3.453598956402627e-09,0.0,-5.50120406298466e-09,-5.407758477871405e-09,-6.098250367734573e-09,-7.367533166264577e-09,-9.109697482327746e-09]},{\"line\":{\"color\":\"rgba(255, 153, 51, 0.7999999999999998)\",\"dash\":\"solid\",\"shape\":\"linear\",\"width\":1.3},\"mode\":\"lines\",\"name\":\"Sardines in a tin (Chicken of the Sea)\",\"text\":\"\",\"type\":\"scatter\",\"x\":[-0.6931471805599453,-0.5108256237659907,-0.35667494393873245,-0.2231435513142097,-0.10536051565782628,0.0,0.09531017980432493,0.1823215567939546,0.26236426446749106,0.3364722366212129,0.4054651081081644],\"y\":[-1.2787397815477082e-09,-1.3987448986631218e-09,-8.328713278076309e-10,4.3784975644208363e-11,6.336577927026027e-10,0.0,2.4990688317333047e-08,3.316299357869618e-08,3.516714013665748e-08,3.511966633565909e-08,3.438994851931268e-08]},{\"line\":{\"color\":\"rgba(55, 128, 191, 0.7999999999999998)\",\"dash\":\"solid\",\"shape\":\"linear\",\"width\":1.3},\"mode\":\"lines\",\"name\":\"Rice Vinegar (Nakano All Natural Rice Vinegar)\",\"text\":\"\",\"type\":\"scatter\",\"x\":[-0.6931471805599453,-0.5108256237659907,-0.35667494393873245,-0.2231435513142097,-0.10536051565782628,0.0,0.09531017980432493,0.1823215567939546,0.26236426446749106,0.3364722366212129,0.4054651081081644],\"y\":[0.0,0.0,0.0,0.0,0.0,0.0,0.0,0.0,0.0,0.0,0.0]},{\"line\":{\"color\":\"rgba(50, 171, 96, 0.7999999999999998)\",\"dash\":\"solid\",\"shape\":\"linear\",\"width\":1.3},\"mode\":\"lines\",\"name\":\"Extra Virgin Olive Oil (Kroger\\u00ae Extra Virgin Olive Oil)\",\"text\":\"\",\"type\":\"scatter\",\"x\":[-0.6931471805599453,-0.5108256237659907,-0.35667494393873245,-0.2231435513142097,-0.10536051565782628,0.0,0.09531017980432493,0.1823215567939546,0.26236426446749106,0.3364722366212129,0.4054651081081644],\"y\":[-2.8769923191303844e-08,-1.156189928264495e-08,-4.535137164987951e-09,-7.158301731710839e-10,4.1320524771027566e-10,0.0,7.175307655608253e-09,1.476573763460261e-08,1.9236998475656677e-08,2.195275737078109e-08,2.3598226205573632e-08]},{\"line\":{\"color\":\"rgba(128, 0, 128, 0.7999999999999998)\",\"dash\":\"solid\",\"shape\":\"linear\",\"width\":1.3},\"mode\":\"lines\",\"name\":\"Coconut Oil (Kroger\\u00ae Pure Coconut Oil)\",\"text\":\"\",\"type\":\"scatter\",\"x\":[-0.6931471805599453,-0.5108256237659907,-0.35667494393873245,-0.2231435513142097,-0.10536051565782628,0.0,0.09531017980432493,0.1823215567939546,0.26236426446749106,0.3364722366212129,0.4054651081081644],\"y\":[-0.008726163435009131,-7.146060998477098e-08,-2.1313805281351912e-08,-9.286254697245619e-09,-3.152960009164095e-09,0.0,8.715642614053958e-09,1.7611905556500162e-08,2.3089418332737408e-08,2.6542558021167647e-08,2.8608722314914332e-08]},{\"line\":{\"color\":\"rgba(219, 64, 82, 0.7999999999999998)\",\"dash\":\"solid\",\"shape\":\"linear\",\"width\":1.3},\"mode\":\"lines\",\"name\":\"Sesame Oil (Kroger\\u00ae Pure Sesame Oil)\",\"text\":\"\",\"type\":\"scatter\",\"x\":[-0.6931471805599453,-0.5108256237659907,-0.35667494393873245,-0.2231435513142097,-0.10536051565782628,0.0,0.09531017980432493,0.1823215567939546,0.26236426446749106,0.3364722366212129,0.4054651081081644],\"y\":[3.161662637231632e-08,2.9198213420458324e-08,2.4783761180394968e-08,1.836015700383358e-08,8.844140047840485e-09,0.0,-1.8890725668265245e-09,-3.894789609528364e-09,-6.0783465112725175e-09,-8.489626815387937e-09,-1.1175724852484114e-08]},{\"line\":{\"color\":\"rgba(0, 128, 128, 0.7999999999999998)\",\"dash\":\"solid\",\"shape\":\"linear\",\"width\":1.3},\"mode\":\"lines\",\"name\":\"Avocado Oil \",\"text\":\"\",\"type\":\"scatter\",\"x\":[-0.6931471805599453,-0.5108256237659907,-0.35667494393873245,-0.2231435513142097,-0.10536051565782628,0.0,0.09531017980432493,0.1823215567939546,0.26236426446749106,0.3364722366212129,0.4054651081081644],\"y\":[5.119712640716988e-09,6.340385973907855e-09,5.500222484550742e-09,3.892540948653658e-09,1.991687923711963e-09,0.0,-1.4105243649709406e-09,3.55909301966664e-10,-2.4995872041981636e-10,-2.8092803678373034e-09,-7.44153619274195e-09]},{\"line\":{\"color\":\"rgba(255, 255, 51, 0.7999999999999998)\",\"dash\":\"solid\",\"shape\":\"linear\",\"width\":1.3},\"mode\":\"lines\",\"name\":\"Maple Syrup\",\"text\":\"\",\"type\":\"scatter\",\"x\":[-0.6931471805599453,-0.5108256237659907,-0.35667494393873245,-0.2231435513142097,-0.10536051565782628,0.0,0.09531017980432493,0.1823215567939546,0.26236426446749106,0.3364722366212129,0.4054651081081644],\"y\":[1.794742716102969e-08,1.7047047183998494e-08,1.5118859605430533e-08,1.1575377478375064e-08,5.232054997774312e-09,0.0,6.758082979833191e-10,1.2237661987385841e-09,1.4575118878959813e-09,1.1899023981269406e-09,2.3009683045156036e-10]},{\"line\":{\"color\":\"rgba(128, 128, 0, 0.7999999999999998)\",\"dash\":\"solid\",\"shape\":\"linear\",\"width\":1.3},\"mode\":\"lines\",\"name\":\"Cacao (Navitas Organics Cacao Powder)\",\"text\":\"\",\"type\":\"scatter\",\"x\":[-0.6931471805599453,-0.5108256237659907,-0.35667494393873245,-0.2231435513142097,-0.10536051565782628,0.0,0.09531017980432493,0.1823215567939546,0.26236426446749106,0.3364722366212129,0.4054651081081644],\"y\":[2.852253970077743e-08,3.5010126850909256e-08,3.5310399535948545e-08,3.2165825263374326e-08,2.303657460456385e-08,0.0,-5.605338653402991e-09,-1.6456442899452932e-08,-4.160569886345442e-08,-1.856372497054821e-07,-2.9110078660503116e-08]},{\"line\":{\"color\":\"rgba(128, 128, 0, 0.7)\",\"dash\":\"solid\",\"shape\":\"linear\",\"width\":1.3},\"mode\":\"lines\",\"name\":\"Almond flour \",\"text\":\"\",\"type\":\"scatter\",\"x\":[-0.6931471805599453,-0.5108256237659907,-0.35667494393873245,-0.2231435513142097,-0.10536051565782628,0.0,0.09531017980432493,0.1823215567939546,0.26236426446749106,0.3364722366212129,0.4054651081081644],\"y\":[1.8990491383606172e-09,2.5153292909710455e-08,3.205589942070075e-08,3.413654256511515e-08,2.9614753765970956e-08,0.0,-4.2018966093184146e-10,-4.18056323766679e-09,-9.925908921871856e-09,-1.7340662389811575e-08,-1.856331184538183e-07]},{\"line\":{\"color\":\"rgba(251, 128, 114, 0.7)\",\"dash\":\"solid\",\"shape\":\"linear\",\"width\":1.3},\"mode\":\"lines\",\"name\":\"Tapioca flour\",\"text\":\"\",\"type\":\"scatter\",\"x\":[-0.6931471805599453,-0.5108256237659907,-0.35667494393873245,-0.2231435513142097,-0.10536051565782628,0.0,0.09531017980432493,0.1823215567939546,0.26236426446749106,0.3364722366212129,0.4054651081081644],\"y\":[2.5905792064583205e-08,2.2594440507547666e-08,1.8311116677378235e-08,1.2663393586830977e-08,4.874312275249186e-09,0.0,-1.2843106586478115e-09,-2.63479305387555e-09,-4.103830839135796e-09,-5.75426663530735e-09,-7.663647967837491e-09]},{\"line\":{\"color\":\"rgba(128, 177, 211, 0.7)\",\"dash\":\"solid\",\"shape\":\"linear\",\"width\":1.3},\"mode\":\"lines\",\"name\":\"Vegetable broth\",\"text\":\"\",\"type\":\"scatter\",\"x\":[-0.6931471805599453,-0.5108256237659907,-0.35667494393873245,-0.2231435513142097,-0.10536051565782628,0.0,0.09531017980432493,0.1823215567939546,0.26236426446749106,0.3364722366212129,0.4054651081081644],\"y\":[-1.329660825976768e-10,-2.7768456461714974e-09,-4.861809633377728e-09,-6.253363513243488e-09,-3.4388195683529273e-09,0.0,2.9552162895317366e-09,5.494650275220781e-09,7.6749157845411e-09,9.544358369167405e-09,1.1145294847089557e-08]},{\"line\":{\"color\":\"rgba(255, 153, 51, 0.7)\",\"dash\":\"solid\",\"shape\":\"linear\",\"width\":1.3},\"mode\":\"lines\",\"name\":\"Nutritional Yeast \",\"text\":\"\",\"type\":\"scatter\",\"x\":[-0.6931471805599453,-0.5108256237659907,-0.35667494393873245,-0.2231435513142097,-0.10536051565782628,0.0,0.09531017980432493,0.1823215567939546,0.26236426446749106,0.3364722366212129,0.4054651081081644],\"y\":[-0.00488919031284536,-0.00390941910804595,-0.0029306102839512325,-0.0019527614107744714,-0.0009758780264813496,0.0,0.0009747969770161068,0.0019488299120061024,0.0029219150374977165,0.003894299344999716,0.004802594542206542]},{\"line\":{\"color\":\"rgba(55, 128, 191, 0.7)\",\"dash\":\"solid\",\"shape\":\"linear\",\"width\":1.3},\"mode\":\"lines\",\"name\":\"Crushed tomatoes\",\"text\":\"\",\"type\":\"scatter\",\"x\":[-0.6931471805599453,-0.5108256237659907,-0.35667494393873245,-0.2231435513142097,-0.10536051565782628,0.0,0.09531017980432493,0.1823215567939546,0.26236426446749106,0.3364722366212129,0.4054651081081644],\"y\":[9.839435137755439e-08,4.3104302752938496e-08,3.871615597554567e-08,5.6095264414481734e-08,3.401561174832331e-08,0.0,1.0160309875116277e-08,-8.704424885455562e-09,-5.082363348318636e-08,-1.8563401806770214e-07,-1.8563236361304372e-07]},{\"line\":{\"color\":\"rgba(50, 171, 96, 0.7)\",\"dash\":\"solid\",\"shape\":\"linear\",\"width\":1.3},\"mode\":\"lines\",\"name\":\"Coconut Milk\",\"text\":\"\",\"type\":\"scatter\",\"x\":[-0.6931471805599453,-0.5108256237659907,-0.35667494393873245,-0.2231435513142097,-0.10536051565782628,0.0,0.09531017980432493,0.1823215567939546,0.26236426446749106,0.3364722366212129,0.4054651081081644],\"y\":[1.0890326803223061e-08,8.249511262271588e-09,5.9386118068850475e-09,3.845419753001803e-09,1.883552645412208e-09,0.0,-1.8391361783757302e-09,-1.490677582483839e-09,4.46616743488191e-10,1.9579737811897507e-09,3.0852862439456925e-09]},{\"line\":{\"color\":\"rgba(128, 0, 128, 0.7)\",\"dash\":\"solid\",\"shape\":\"linear\",\"width\":1.3},\"mode\":\"lines\",\"name\":\"Salt (Morton Plain salt)\",\"text\":\"\",\"type\":\"scatter\",\"x\":[-0.6931471805599453,-0.5108256237659907,-0.35667494393873245,-0.2231435513142097,-0.10536051565782628,0.0,0.09531017980432493,0.1823215567939546,0.26236426446749106,0.3364722366212129,0.4054651081081644],\"y\":[-3.963421591752495e-08,-3.378711167969165e-08,-2.7345986294036742e-08,-1.9298580808657552e-08,-9.412120349657208e-09,0.0,7.828435868883994e-09,1.2224929660458402e-08,9.626351891463714e-09,-8.736940653595135e-09,-7.527230455795329e-08]},{\"line\":{\"color\":\"rgba(219, 64, 82, 0.7)\",\"dash\":\"solid\",\"shape\":\"linear\",\"width\":1.3},\"mode\":\"lines\",\"name\":\"Black Pepper (Kroger\\u00ae Pure Ground Black Pepper)\",\"text\":\"\",\"type\":\"scatter\",\"x\":[-0.6931471805599453,-0.5108256237659907,-0.35667494393873245,-0.2231435513142097,-0.10536051565782628,0.0,0.09531017980432493,0.1823215567939546,0.26236426446749106,0.3364722366212129,0.4054651081081644],\"y\":[2.699861231438986e-08,3.006763925933048e-08,3.2286267582274805e-08,3.3247213540235475e-08,2.910235055005768e-08,0.0,1.1370659968498976e-10,-4.142708518150121e-09,-1.205379414663208e-08,-1.8563307559920158e-07,-1.8563578398877292e-07]},{\"line\":{\"color\":\"rgba(0, 128, 128, 0.7)\",\"dash\":\"solid\",\"shape\":\"linear\",\"width\":1.3},\"mode\":\"lines\",\"name\":\"Soy Sauce (Kroger\\u00ae Lite Soy Sauce )\",\"text\":\"\",\"type\":\"scatter\",\"x\":[-0.6931471805599453,-0.5108256237659907,-0.35667494393873245,-0.2231435513142097,-0.10536051565782628,0.0,0.09531017980432493,0.1823215567939546,0.26236426446749106,0.3364722366212129,0.4054651081081644],\"y\":[-0.002681938589319202,-0.0001592263108568331,1.201673026604239e-07,3.0186433307391198e-09,-2.2638768640068815e-10,0.0,1.1693410677351373e-09,5.667652775468887e-09,1.1294391580374936e-08,1.6360192844298563e-08,2.0887783728782603e-08]},{\"line\":{\"color\":\"rgba(255, 255, 51, 0.7)\",\"dash\":\"solid\",\"shape\":\"linear\",\"width\":1.3},\"mode\":\"lines\",\"name\":\"Strawberries\",\"text\":\"\",\"type\":\"scatter\",\"x\":[-0.6931471805599453,-0.5108256237659907,-0.35667494393873245,-0.2231435513142097,-0.10536051565782628,0.0,0.09531017980432493,0.1823215567939546,0.26236426446749106,0.3364722366212129,0.4054651081081644],\"y\":[3.1511061263441083e-08,3.232534565512232e-08,3.173489087786695e-08,2.8279364449975723e-08,1.8747535570309217e-08,0.0,5.51841239218978e-10,1.8613399708699785e-10,-9.134626392801455e-10,-2.6482066574722005e-09,-4.9771302758697e-09]},{\"line\":{\"color\":\"rgba(255, 255, 51, 0.5999999999999999)\",\"dash\":\"solid\",\"shape\":\"linear\",\"width\":1.3},\"mode\":\"lines\",\"name\":\"Oranges (navel)\",\"text\":\"\",\"type\":\"scatter\",\"x\":[-0.6931471805599453,-0.5108256237659907,-0.35667494393873245,-0.2231435513142097,-0.10536051565782628,0.0,0.09531017980432493,0.1823215567939546,0.26236426446749106,0.3364722366212129,0.4054651081081644],\"y\":[-0.004327819349097601,-0.002293476159742647,-0.0002631915714638573,1.7068400325111477e-08,5.278201417550351e-09,0.0,1.7420398455573517e-10,3.2601699112803366e-10,4.3911541060333076e-10,5.189153549952976e-10,5.740949936012463e-10]},{\"line\":{\"color\":\"rgba(128, 128, 0, 0.5999999999999999)\",\"dash\":\"solid\",\"shape\":\"linear\",\"width\":1.3},\"mode\":\"lines\",\"name\":\"Apples (honeycrisp)\",\"text\":\"\",\"type\":\"scatter\",\"x\":[-0.6931471805599453,-0.5108256237659907,-0.35667494393873245,-0.2231435513142097,-0.10536051565782628,0.0,0.09531017980432493,0.1823215567939546,0.26236426446749106,0.3364722366212129,0.4054651081081644],\"y\":[1.203522163569438e-08,1.9931506024626097e-08,2.5786358271483815e-08,2.790268910298512e-08,2.171745959465965e-08,0.0,4.635450013082895e-09,7.671206751488892e-09,9.955291208469723e-09,1.1833300713678876e-08,1.345829949531494e-08]},{\"line\":{\"color\":\"rgba(251, 128, 114, 0.5999999999999999)\",\"dash\":\"solid\",\"shape\":\"linear\",\"width\":1.3},\"mode\":\"lines\",\"name\":\"Bananas\",\"text\":\"\",\"type\":\"scatter\",\"x\":[-0.6931471805599453,-0.5108256237659907,-0.35667494393873245,-0.2231435513142097,-0.10536051565782628,0.0,0.09531017980432493,0.1823215567939546,0.26236426446749106,0.3364722366212129,0.4054651081081644],\"y\":[-0.17305977573600503,-0.13164410662173043,-0.09524725188263355,-0.0601282459960409,-0.026751128769721973,0.0,0.0249774536565969,0.04934614473169666,0.07313509163786383,0.09637147513246568,0.11907983955582034]},{\"line\":{\"color\":\"rgba(128, 177, 211, 0.5999999999999999)\",\"dash\":\"solid\",\"shape\":\"linear\",\"width\":1.3},\"mode\":\"lines\",\"name\":\"Almond milk (Silk unsweetened)\",\"text\":\"\",\"type\":\"scatter\",\"x\":[-0.6931471805599453,-0.5108256237659907,-0.35667494393873245,-0.2231435513142097,-0.10536051565782628,0.0,0.09531017980432493,0.1823215567939546,0.26236426446749106,0.3364722366212129,0.4054651081081644],\"y\":[-0.06365558351142227,-0.05059616335939775,-0.03770510180731025,-0.024978111200504007,-0.012411067271015626,0.0,0.012258934560290875,0.024369399124760334,0.036334954252210956,0.048158833243423856,0.05930840803470183]},{\"line\":{\"color\":\"rgba(255, 153, 51, 0.5999999999999999)\",\"dash\":\"solid\",\"shape\":\"linear\",\"width\":1.3},\"mode\":\"lines\",\"name\":\"Coconut milk\",\"text\":\"\",\"type\":\"scatter\",\"x\":[-0.6931471805599453,-0.5108256237659907,-0.35667494393873245,-0.2231435513142097,-0.10536051565782628,0.0,0.09531017980432493,0.1823215567939546,0.26236426446749106,0.3364722366212129,0.4054651081081644],\"y\":[-6.167055756859203e-10,4.329061552739145e-10,7.887692718087152e-10,7.5193673481673e-10,4.603903923700492e-10,0.0,8.71403393507577e-10,6.567290467636475e-09,1.0828540005993777e-08,1.4020548401683252e-08,1.6403066104093576e-08]},{\"line\":{\"color\":\"rgba(55, 128, 191, 0.5999999999999999)\",\"dash\":\"solid\",\"shape\":\"linear\",\"width\":1.3},\"mode\":\"lines\",\"name\":\"Goats cheese (Simple Truth)\",\"text\":\"\",\"type\":\"scatter\",\"x\":[-0.6931471805599453,-0.5108256237659907,-0.35667494393873245,-0.2231435513142097,-0.10536051565782628,0.0,0.09531017980432493,0.1823215567939546,0.26236426446749106,0.3364722366212129,0.4054651081081644],\"y\":[4.470160563938075e-08,4.14099193021612e-08,3.826129295692714e-08,3.4283606032595024e-08,2.5791107583416078e-08,0.0,1.8691415064904037e-09,1.4890122457272626e-09,-1.4018897154342579e-11,-2.0720122306067134e-09,-4.620406068427788e-09]},{\"line\":{\"color\":\"rgba(50, 171, 96, 0.5999999999999999)\",\"dash\":\"solid\",\"shape\":\"linear\",\"width\":1.3},\"mode\":\"lines\",\"name\":\"Goats milk (Meyenberg Vitamin D)\",\"text\":\"\",\"type\":\"scatter\",\"x\":[-0.6931471805599453,-0.5108256237659907,-0.35667494393873245,-0.2231435513142097,-0.10536051565782628,0.0,0.09531017980432493,0.1823215567939546,0.26236426446749106,0.3364722366212129,0.4054651081081644],\"y\":[1.0116853525926984e-08,7.926245850449173e-09,5.285371903939322e-09,3.105065533201984e-09,1.3986278792000026e-09,0.0,8.228902414479877e-09,1.780290410342709e-08,2.4281358628724713e-08,2.8779102020365754e-08,3.195490176924925e-08]},{\"line\":{\"color\":\"rgba(128, 0, 128, 0.5999999999999999)\",\"dash\":\"solid\",\"shape\":\"linear\",\"width\":1.3},\"mode\":\"lines\",\"name\":\"Quinoa\",\"text\":\"\",\"type\":\"scatter\",\"x\":[-0.6931471805599453,-0.5108256237659907,-0.35667494393873245,-0.2231435513142097,-0.10536051565782628,0.0,0.09531017980432493,0.1823215567939546,0.26236426446749106,0.3364722366212129,0.4054651081081644],\"y\":[3.537899666150191e-08,3.2513011531872047e-08,2.7282149278373712e-08,2.0040849223600818e-08,9.807665742522493e-09,0.0,-2.2619977028174606e-09,-4.515520301210169e-09,-6.900198214413311e-09,-9.56191019827076e-09,-1.2669144036399096e-08]},{\"line\":{\"color\":\"rgba(219, 64, 82, 0.5999999999999999)\",\"dash\":\"solid\",\"shape\":\"linear\",\"width\":1.3},\"mode\":\"lines\",\"name\":\"Oatmeal\",\"text\":\"\",\"type\":\"scatter\",\"x\":[-0.6931471805599453,-0.5108256237659907,-0.35667494393873245,-0.2231435513142097,-0.10536051565782628,0.0,0.09531017980432493,0.1823215567939546,0.26236426446749106,0.3364722366212129,0.4054651081081644],\"y\":[-0.02482029903588814,-0.014176417451459637,-0.0054773551609906225,-0.002992789429406281,-0.0005138513436790257,0.0,-5.535806606228711e-09,2.573730114604241e-09,-7.842046154333922e-09,-1.8562596983745802e-07,-1.8564045414279297e-07]},{\"line\":{\"color\":\"rgba(0, 128, 128, 0.5999999999999999)\",\"dash\":\"solid\",\"shape\":\"linear\",\"width\":1.3},\"mode\":\"lines\",\"name\":\"Quinoa/Rice Pasta\",\"text\":\"\",\"type\":\"scatter\",\"x\":[-0.6931471805599453,-0.5108256237659907,-0.35667494393873245,-0.2231435513142097,-0.10536051565782628,0.0,0.09531017980432493,0.1823215567939546,0.26236426446749106,0.3364722366212129,0.4054651081081644],\"y\":[1.580808071938956e-08,9.775704420357935e-09,5.9743032564681025e-09,3.3637044204497523e-09,1.4552774530398749e-09,0.0,2.388762740313146e-09,8.265797567774538e-09,1.2267582208096117e-08,1.508071589559405e-08,1.7089904234508174e-08]},{\"line\":{\"color\":\"rgba(0, 128, 128, 0.49999999999999983)\",\"dash\":\"solid\",\"shape\":\"linear\",\"width\":1.3},\"mode\":\"lines\",\"name\":\"Eggs\",\"text\":\"\",\"type\":\"scatter\",\"x\":[-0.6931471805599453,-0.5108256237659907,-0.35667494393873245,-0.2231435513142097,-0.10536051565782628,0.0,0.09531017980432493,0.1823215567939546,0.26236426446749106,0.3364722366212129,0.4054651081081644],\"y\":[-1.0102511282684322e-07,8.000167874563945e-08,-1.8563871642139224e-07,-5.313777292808762e-08,9.974213183379067e-09,0.0,-1.8563537376128916e-07,-6.52176524068959e-08,1.6495372173278144e-07,-1.8557202919770608e-07,-6.434821338530362e-08]},{\"line\":{\"color\":\"rgba(255, 255, 51, 0.49999999999999983)\",\"dash\":\"solid\",\"shape\":\"linear\",\"width\":1.3},\"mode\":\"lines\",\"name\":\"Black Beans (kroger)\",\"text\":\"\",\"type\":\"scatter\",\"x\":[-0.6931471805599453,-0.5108256237659907,-0.35667494393873245,-0.2231435513142097,-0.10536051565782628,0.0,0.09531017980432493,0.1823215567939546,0.26236426446749106,0.3364722366212129,0.4054651081081644],\"y\":[-0.013601959316871413,-0.005432250070189424,-0.003925846245311638,-0.002421708260826787,-0.0009198293048119288,0.0,-2.3309521029686057e-08,-1.8562813288537842e-07,-1.8562596273202934e-07,-1.856280515060156e-07,-2.2247850476234954e-08]},{\"line\":{\"color\":\"rgba(128, 128, 0, 0.49999999999999983)\",\"dash\":\"solid\",\"shape\":\"linear\",\"width\":1.3},\"mode\":\"lines\",\"name\":\"Chickpeas (kroger)\",\"text\":\"\",\"type\":\"scatter\",\"x\":[-0.6931471805599453,-0.5108256237659907,-0.35667494393873245,-0.2231435513142097,-0.10536051565782628,0.0,0.09531017980432493,0.1823215567939546,0.26236426446749106,0.3364722366212129,0.4054651081081644],\"y\":[-0.02334074338368227,-0.011680267616210707,-0.005162692126411862,-0.003438851361619137,-0.0017180615526713257,0.0,0.0005798597366793852,0.0005797973894341409,0.0005797973902487942,0.0005797973882732988,0.0005799491141658938]},{\"line\":{\"color\":\"rgba(251, 128, 114, 0.49999999999999983)\",\"dash\":\"solid\",\"shape\":\"linear\",\"width\":1.3},\"mode\":\"lines\",\"name\":\"Lentils (kroger)\",\"text\":\"\",\"type\":\"scatter\",\"x\":[-0.6931471805599453,-0.5108256237659907,-0.35667494393873245,-0.2231435513142097,-0.10536051565782628,0.0,0.09531017980432493,0.1823215567939546,0.26236426446749106,0.3364722366212129,0.4054651081081644],\"y\":[-0.0032948663523423944,-0.0014961098396429158,-1.855648754743194e-07,1.0540071282073712e-07,5.003841772847842e-09,0.0,1.08436421475895e-08,-3.290838733485424e-08,-1.8563426087352268e-07,1.8998985023415268e-07,-6.769737466602053e-08]},{\"line\":{\"color\":\"rgba(128, 177, 211, 0.49999999999999983)\",\"dash\":\"solid\",\"shape\":\"linear\",\"width\":1.3},\"mode\":\"lines\",\"name\":\"Almonds (kroger)\",\"text\":\"\",\"type\":\"scatter\",\"x\":[-0.6931471805599453,-0.5108256237659907,-0.35667494393873245,-0.2231435513142097,-0.10536051565782628,0.0,0.09531017980432493,0.1823215567939546,0.26236426446749106,0.3364722366212129,0.4054651081081644],\"y\":[6.223685506463896e-08,6.109416519243544e-08,5.4225865437619875e-08,5.076014790673192e-08,4.434866331307656e-08,0.0,-1.4417581565967307e-08,-4.0999272262785225e-08,-9.44438187674475e-09,-2.8314861856357477e-08,-1.0075924758129021e-07]},{\"line\":{\"color\":\"rgba(255, 153, 51, 0.49999999999999983)\",\"dash\":\"solid\",\"shape\":\"linear\",\"width\":1.3},\"mode\":\"lines\",\"name\":\"Brazil Nuts (Torn and Glasser)\",\"text\":\"\",\"type\":\"scatter\",\"x\":[-0.6931471805599453,-0.5108256237659907,-0.35667494393873245,-0.2231435513142097,-0.10536051565782628,0.0,0.09531017980432493,0.1823215567939546,0.26236426446749106,0.3364722366212129,0.4054651081081644],\"y\":[-2.002895813720376e-08,-7.981428105862518e-09,9.536521304911344e-09,1.2641946742801838e-08,-9.832674278721885e-09,0.0,3.794167819001756e-08,5.6245971630494156e-08,6.221388410759963e-08,7.576785001027573e-08,8.83184060186712e-08]},{\"line\":{\"color\":\"rgba(55, 128, 191, 0.49999999999999983)\",\"dash\":\"solid\",\"shape\":\"linear\",\"width\":1.3},\"mode\":\"lines\",\"name\":\"Chia Seeds\",\"text\":\"\",\"type\":\"scatter\",\"x\":[-0.6931471805599453,-0.5108256237659907,-0.35667494393873245,-0.2231435513142097,-0.10536051565782628,0.0,0.09531017980432493,0.1823215567939546,0.26236426446749106,0.3364722366212129,0.4054651081081644],\"y\":[-1.856341887090127e-07,-1.8563311145941194e-07,-2.5240186370855647e-08,-1.1726848227958706e-08,-3.7178854508659076e-09,0.0,3.205050462515241e-08,4.088340404800284e-08,4.430828761208521e-08,4.633689680070108e-08,4.8003881272465706e-08]},{\"line\":{\"color\":\"rgba(50, 171, 96, 0.49999999999999983)\",\"dash\":\"solid\",\"shape\":\"linear\",\"width\":1.3},\"mode\":\"lines\",\"name\":\"Flax Seeds (NOW foods real food)\",\"text\":\"\",\"type\":\"scatter\",\"x\":[-0.6931471805599453,-0.5108256237659907,-0.35667494393873245,-0.2231435513142097,-0.10536051565782628,0.0,0.09531017980432493,0.1823215567939546,0.26236426446749106,0.3364722366212129,0.4054651081081644],\"y\":[-0.30150652538913286,-0.20975329129408105,-0.1398309740435523,-0.08580149467948328,-0.04198070853032263,0.0,0.040288914756756035,0.07901758076019119,0.11630205149214073,0.15224602732341241,0.18694290432267902]},{\"line\":{\"color\":\"rgba(128, 0, 128, 0.49999999999999983)\",\"dash\":\"solid\",\"shape\":\"linear\",\"width\":1.3},\"mode\":\"lines\",\"name\":\"Peanut Butter\",\"text\":\"\",\"type\":\"scatter\",\"x\":[-0.6931471805599453,-0.5108256237659907,-0.35667494393873245,-0.2231435513142097,-0.10536051565782628,0.0,0.09531017980432493,0.1823215567939546,0.26236426446749106,0.3364722366212129,0.4054651081081644],\"y\":[-0.009140270946758153,-0.0051454846561447476,-0.002191883084636203,-0.0009759812591448777,8.449105502461359e-08,0.0,-8.017618794314855e-10,-3.580723723944165e-09,-1.0320901853125619e-08,-1.9861516184669267e-08,-1.551596696505399e-08]},{\"line\":{\"color\":\"rgba(219, 64, 82, 0.49999999999999983)\",\"dash\":\"solid\",\"shape\":\"linear\",\"width\":1.3},\"mode\":\"lines\",\"name\":\"Mustard (kroger)\",\"text\":\"\",\"type\":\"scatter\",\"x\":[-0.6931471805599453,-0.5108256237659907,-0.35667494393873245,-0.2231435513142097,-0.10536051565782628,0.0,0.09531017980432493,0.1823215567939546,0.26236426446749106,0.3364722366212129,0.4054651081081644],\"y\":[6.098450631514332e-10,-3.01458580775099e-09,-6.431842967814253e-09,-8.628287455101472e-09,-4.5652234319360736e-09,0.0,4.242951758706517e-09,8.233282688365178e-09,1.2007863964339659e-08,1.558533134838493e-08,1.96535952246471e-08]},{\"line\":{\"color\":\"rgba(219, 64, 82, 0.39999999999999974)\",\"dash\":\"solid\",\"shape\":\"linear\",\"width\":1.3},\"mode\":\"lines\",\"name\":\"Apple Cider Vinegar (kroger)\",\"text\":\"\",\"type\":\"scatter\",\"x\":[-0.6931471805599453,-0.5108256237659907,-0.35667494393873245,-0.2231435513142097,-0.10536051565782628,0.0,0.09531017980432493,0.1823215567939546,0.26236426446749106,0.3364722366212129,0.4054651081081644],\"y\":[0.0,0.0,0.0,0.0,0.0,0.0,0.0,0.0,0.0,0.0,0.0]},{\"line\":{\"color\":\"rgba(0, 128, 128, 0.39999999999999974)\",\"dash\":\"solid\",\"shape\":\"linear\",\"width\":1.3},\"mode\":\"lines\",\"name\":\"Kimchi (simple truth)\",\"text\":\"\",\"type\":\"scatter\",\"x\":[-0.6931471805599453,-0.5108256237659907,-0.35667494393873245,-0.2231435513142097,-0.10536051565782628,0.0,0.09531017980432493,0.1823215567939546,0.26236426446749106,0.3364722366212129,0.4054651081081644],\"y\":[-4.2945303458495294e-08,-2.998137016965242e-08,-1.5616948967165238e-08,-7.687259303128026e-09,-2.756002874161037e-09,0.0,2.7849448581367963e-08,3.675793113388854e-08,3.9884655226944726e-08,4.1149282023391567e-08,4.17415500112563e-08]},{\"line\":{\"color\":\"rgba(255, 255, 51, 0.39999999999999974)\",\"dash\":\"solid\",\"shape\":\"linear\",\"width\":1.3},\"mode\":\"lines\",\"name\":\"Mayonaise (kroger)\",\"text\":\"\",\"type\":\"scatter\",\"x\":[-0.6931471805599453,-0.5108256237659907,-0.35667494393873245,-0.2231435513142097,-0.10536051565782628,0.0,0.09531017980432493,0.1823215567939546,0.26236426446749106,0.3364722366212129,0.4054651081081644],\"y\":[-0.03104383099426775,-0.024638594760143188,-0.018274124595190358,-0.01209103603955631,-0.006027213491311114,0.0,0.005990934037583659,0.011946373841781488,0.01786655628529271,0.02313020677807496,0.02596795035126117]}],                        {\"legend\":{\"bgcolor\":\"#F5F6F9\",\"font\":{\"color\":\"#4D5663\"}},\"paper_bgcolor\":\"#F5F6F9\",\"plot_bgcolor\":\"#F5F6F9\",\"template\":{\"data\":{\"bar\":[{\"error_x\":{\"color\":\"#2a3f5f\"},\"error_y\":{\"color\":\"#2a3f5f\"},\"marker\":{\"line\":{\"color\":\"#E5ECF6\",\"width\":0.5},\"pattern\":{\"fillmode\":\"overlay\",\"size\":10,\"solidity\":0.2}},\"type\":\"bar\"}],\"barpolar\":[{\"marker\":{\"line\":{\"color\":\"#E5ECF6\",\"width\":0.5},\"pattern\":{\"fillmode\":\"overlay\",\"size\":10,\"solidity\":0.2}},\"type\":\"barpolar\"}],\"carpet\":[{\"aaxis\":{\"endlinecolor\":\"#2a3f5f\",\"gridcolor\":\"white\",\"linecolor\":\"white\",\"minorgridcolor\":\"white\",\"startlinecolor\":\"#2a3f5f\"},\"baxis\":{\"endlinecolor\":\"#2a3f5f\",\"gridcolor\":\"white\",\"linecolor\":\"white\",\"minorgridcolor\":\"white\",\"startlinecolor\":\"#2a3f5f\"},\"type\":\"carpet\"}],\"choropleth\":[{\"colorbar\":{\"outlinewidth\":0,\"ticks\":\"\"},\"type\":\"choropleth\"}],\"contour\":[{\"colorbar\":{\"outlinewidth\":0,\"ticks\":\"\"},\"colorscale\":[[0.0,\"#0d0887\"],[0.1111111111111111,\"#46039f\"],[0.2222222222222222,\"#7201a8\"],[0.3333333333333333,\"#9c179e\"],[0.4444444444444444,\"#bd3786\"],[0.5555555555555556,\"#d8576b\"],[0.6666666666666666,\"#ed7953\"],[0.7777777777777778,\"#fb9f3a\"],[0.8888888888888888,\"#fdca26\"],[1.0,\"#f0f921\"]],\"type\":\"contour\"}],\"contourcarpet\":[{\"colorbar\":{\"outlinewidth\":0,\"ticks\":\"\"},\"type\":\"contourcarpet\"}],\"heatmap\":[{\"colorbar\":{\"outlinewidth\":0,\"ticks\":\"\"},\"colorscale\":[[0.0,\"#0d0887\"],[0.1111111111111111,\"#46039f\"],[0.2222222222222222,\"#7201a8\"],[0.3333333333333333,\"#9c179e\"],[0.4444444444444444,\"#bd3786\"],[0.5555555555555556,\"#d8576b\"],[0.6666666666666666,\"#ed7953\"],[0.7777777777777778,\"#fb9f3a\"],[0.8888888888888888,\"#fdca26\"],[1.0,\"#f0f921\"]],\"type\":\"heatmap\"}],\"heatmapgl\":[{\"colorbar\":{\"outlinewidth\":0,\"ticks\":\"\"},\"colorscale\":[[0.0,\"#0d0887\"],[0.1111111111111111,\"#46039f\"],[0.2222222222222222,\"#7201a8\"],[0.3333333333333333,\"#9c179e\"],[0.4444444444444444,\"#bd3786\"],[0.5555555555555556,\"#d8576b\"],[0.6666666666666666,\"#ed7953\"],[0.7777777777777778,\"#fb9f3a\"],[0.8888888888888888,\"#fdca26\"],[1.0,\"#f0f921\"]],\"type\":\"heatmapgl\"}],\"histogram\":[{\"marker\":{\"pattern\":{\"fillmode\":\"overlay\",\"size\":10,\"solidity\":0.2}},\"type\":\"histogram\"}],\"histogram2d\":[{\"colorbar\":{\"outlinewidth\":0,\"ticks\":\"\"},\"colorscale\":[[0.0,\"#0d0887\"],[0.1111111111111111,\"#46039f\"],[0.2222222222222222,\"#7201a8\"],[0.3333333333333333,\"#9c179e\"],[0.4444444444444444,\"#bd3786\"],[0.5555555555555556,\"#d8576b\"],[0.6666666666666666,\"#ed7953\"],[0.7777777777777778,\"#fb9f3a\"],[0.8888888888888888,\"#fdca26\"],[1.0,\"#f0f921\"]],\"type\":\"histogram2d\"}],\"histogram2dcontour\":[{\"colorbar\":{\"outlinewidth\":0,\"ticks\":\"\"},\"colorscale\":[[0.0,\"#0d0887\"],[0.1111111111111111,\"#46039f\"],[0.2222222222222222,\"#7201a8\"],[0.3333333333333333,\"#9c179e\"],[0.4444444444444444,\"#bd3786\"],[0.5555555555555556,\"#d8576b\"],[0.6666666666666666,\"#ed7953\"],[0.7777777777777778,\"#fb9f3a\"],[0.8888888888888888,\"#fdca26\"],[1.0,\"#f0f921\"]],\"type\":\"histogram2dcontour\"}],\"mesh3d\":[{\"colorbar\":{\"outlinewidth\":0,\"ticks\":\"\"},\"type\":\"mesh3d\"}],\"parcoords\":[{\"line\":{\"colorbar\":{\"outlinewidth\":0,\"ticks\":\"\"}},\"type\":\"parcoords\"}],\"pie\":[{\"automargin\":true,\"type\":\"pie\"}],\"scatter\":[{\"marker\":{\"colorbar\":{\"outlinewidth\":0,\"ticks\":\"\"}},\"type\":\"scatter\"}],\"scatter3d\":[{\"line\":{\"colorbar\":{\"outlinewidth\":0,\"ticks\":\"\"}},\"marker\":{\"colorbar\":{\"outlinewidth\":0,\"ticks\":\"\"}},\"type\":\"scatter3d\"}],\"scattercarpet\":[{\"marker\":{\"colorbar\":{\"outlinewidth\":0,\"ticks\":\"\"}},\"type\":\"scattercarpet\"}],\"scattergeo\":[{\"marker\":{\"colorbar\":{\"outlinewidth\":0,\"ticks\":\"\"}},\"type\":\"scattergeo\"}],\"scattergl\":[{\"marker\":{\"colorbar\":{\"outlinewidth\":0,\"ticks\":\"\"}},\"type\":\"scattergl\"}],\"scattermapbox\":[{\"marker\":{\"colorbar\":{\"outlinewidth\":0,\"ticks\":\"\"}},\"type\":\"scattermapbox\"}],\"scatterpolar\":[{\"marker\":{\"colorbar\":{\"outlinewidth\":0,\"ticks\":\"\"}},\"type\":\"scatterpolar\"}],\"scatterpolargl\":[{\"marker\":{\"colorbar\":{\"outlinewidth\":0,\"ticks\":\"\"}},\"type\":\"scatterpolargl\"}],\"scatterternary\":[{\"marker\":{\"colorbar\":{\"outlinewidth\":0,\"ticks\":\"\"}},\"type\":\"scatterternary\"}],\"surface\":[{\"colorbar\":{\"outlinewidth\":0,\"ticks\":\"\"},\"colorscale\":[[0.0,\"#0d0887\"],[0.1111111111111111,\"#46039f\"],[0.2222222222222222,\"#7201a8\"],[0.3333333333333333,\"#9c179e\"],[0.4444444444444444,\"#bd3786\"],[0.5555555555555556,\"#d8576b\"],[0.6666666666666666,\"#ed7953\"],[0.7777777777777778,\"#fb9f3a\"],[0.8888888888888888,\"#fdca26\"],[1.0,\"#f0f921\"]],\"type\":\"surface\"}],\"table\":[{\"cells\":{\"fill\":{\"color\":\"#EBF0F8\"},\"line\":{\"color\":\"white\"}},\"header\":{\"fill\":{\"color\":\"#C8D4E3\"},\"line\":{\"color\":\"white\"}},\"type\":\"table\"}]},\"layout\":{\"annotationdefaults\":{\"arrowcolor\":\"#2a3f5f\",\"arrowhead\":0,\"arrowwidth\":1},\"autotypenumbers\":\"strict\",\"coloraxis\":{\"colorbar\":{\"outlinewidth\":0,\"ticks\":\"\"}},\"colorscale\":{\"diverging\":[[0,\"#8e0152\"],[0.1,\"#c51b7d\"],[0.2,\"#de77ae\"],[0.3,\"#f1b6da\"],[0.4,\"#fde0ef\"],[0.5,\"#f7f7f7\"],[0.6,\"#e6f5d0\"],[0.7,\"#b8e186\"],[0.8,\"#7fbc41\"],[0.9,\"#4d9221\"],[1,\"#276419\"]],\"sequential\":[[0.0,\"#0d0887\"],[0.1111111111111111,\"#46039f\"],[0.2222222222222222,\"#7201a8\"],[0.3333333333333333,\"#9c179e\"],[0.4444444444444444,\"#bd3786\"],[0.5555555555555556,\"#d8576b\"],[0.6666666666666666,\"#ed7953\"],[0.7777777777777778,\"#fb9f3a\"],[0.8888888888888888,\"#fdca26\"],[1.0,\"#f0f921\"]],\"sequentialminus\":[[0.0,\"#0d0887\"],[0.1111111111111111,\"#46039f\"],[0.2222222222222222,\"#7201a8\"],[0.3333333333333333,\"#9c179e\"],[0.4444444444444444,\"#bd3786\"],[0.5555555555555556,\"#d8576b\"],[0.6666666666666666,\"#ed7953\"],[0.7777777777777778,\"#fb9f3a\"],[0.8888888888888888,\"#fdca26\"],[1.0,\"#f0f921\"]]},\"colorway\":[\"#636efa\",\"#EF553B\",\"#00cc96\",\"#ab63fa\",\"#FFA15A\",\"#19d3f3\",\"#FF6692\",\"#B6E880\",\"#FF97FF\",\"#FECB52\"],\"font\":{\"color\":\"#2a3f5f\"},\"geo\":{\"bgcolor\":\"white\",\"lakecolor\":\"white\",\"landcolor\":\"#E5ECF6\",\"showlakes\":true,\"showland\":true,\"subunitcolor\":\"white\"},\"hoverlabel\":{\"align\":\"left\"},\"hovermode\":\"closest\",\"mapbox\":{\"style\":\"light\"},\"paper_bgcolor\":\"white\",\"plot_bgcolor\":\"#E5ECF6\",\"polar\":{\"angularaxis\":{\"gridcolor\":\"white\",\"linecolor\":\"white\",\"ticks\":\"\"},\"bgcolor\":\"#E5ECF6\",\"radialaxis\":{\"gridcolor\":\"white\",\"linecolor\":\"white\",\"ticks\":\"\"}},\"scene\":{\"xaxis\":{\"backgroundcolor\":\"#E5ECF6\",\"gridcolor\":\"white\",\"gridwidth\":2,\"linecolor\":\"white\",\"showbackground\":true,\"ticks\":\"\",\"zerolinecolor\":\"white\"},\"yaxis\":{\"backgroundcolor\":\"#E5ECF6\",\"gridcolor\":\"white\",\"gridwidth\":2,\"linecolor\":\"white\",\"showbackground\":true,\"ticks\":\"\",\"zerolinecolor\":\"white\"},\"zaxis\":{\"backgroundcolor\":\"#E5ECF6\",\"gridcolor\":\"white\",\"gridwidth\":2,\"linecolor\":\"white\",\"showbackground\":true,\"ticks\":\"\",\"zerolinecolor\":\"white\"}},\"shapedefaults\":{\"line\":{\"color\":\"#2a3f5f\"}},\"ternary\":{\"aaxis\":{\"gridcolor\":\"white\",\"linecolor\":\"white\",\"ticks\":\"\"},\"baxis\":{\"gridcolor\":\"white\",\"linecolor\":\"white\",\"ticks\":\"\"},\"bgcolor\":\"#E5ECF6\",\"caxis\":{\"gridcolor\":\"white\",\"linecolor\":\"white\",\"ticks\":\"\"}},\"title\":{\"x\":0.05},\"xaxis\":{\"automargin\":true,\"gridcolor\":\"white\",\"linecolor\":\"white\",\"ticks\":\"\",\"title\":{\"standoff\":15},\"zerolinecolor\":\"white\",\"zerolinewidth\":2},\"yaxis\":{\"automargin\":true,\"gridcolor\":\"white\",\"linecolor\":\"white\",\"ticks\":\"\",\"title\":{\"standoff\":15},\"zerolinecolor\":\"white\",\"zerolinewidth\":2}}},\"title\":{\"font\":{\"color\":\"#4D5663\"}},\"xaxis\":{\"gridcolor\":\"#E1E5ED\",\"showgrid\":true,\"tickfont\":{\"color\":\"#4D5663\"},\"title\":{\"font\":{\"color\":\"#4D5663\"},\"text\":\"change in log price\"},\"zerolinecolor\":\"#E1E5ED\"},\"yaxis\":{\"gridcolor\":\"#E1E5ED\",\"showgrid\":true,\"tickfont\":{\"color\":\"#4D5663\"},\"title\":{\"font\":{\"color\":\"#4D5663\"},\"text\":\"change in log cost\"},\"zerolinecolor\":\"#E1E5ED\"}},                        {\"showLink\": true, \"linkText\": \"Export to plot.ly\", \"plotlyServerURL\": \"https://plot.ly\", \"responsive\": true}                    ).then(function(){\n",
       "                            \n",
       "var gd = document.getElementById('170c0f89-6f8e-4e0f-aa12-9a44df923b7d');\n",
       "var x = new MutationObserver(function (mutations, observer) {{\n",
       "        var display = window.getComputedStyle(gd).display;\n",
       "        if (!display || display === 'none') {{\n",
       "            console.log([gd, 'removed!']);\n",
       "            Plotly.purge(gd);\n",
       "            observer.disconnect();\n",
       "        }}\n",
       "}});\n",
       "\n",
       "// Listen for the removal of the full notebook cells\n",
       "var notebookContainer = gd.closest('#notebook-container');\n",
       "if (notebookContainer) {{\n",
       "    x.observe(notebookContainer, {childList: true});\n",
       "}}\n",
       "\n",
       "// Listen for the clearing of the current output cell\n",
       "var outputEl = gd.closest('.output');\n",
       "if (outputEl) {{\n",
       "    x.observe(outputEl, {childList: true});\n",
       "}}\n",
       "\n",
       "                        })                };                });            </script>        </div>"
      ]
     },
     "metadata": {},
     "output_type": "display_data"
    }
   ],
   "source": [
    "import cufflinks as cf\n",
    "cf.go_offline()\n",
    "\n",
    "scale = [.5,.6,.7,.8,.9,1.,1.1,1.2,1.3,1.4,1.5]\n",
    "\n",
    "cost0_AK = solve_subsistence_problem(D,Prices_AK,diet_min[group],diet_max[group],tol=tol).fun\n",
    "\n",
    "Prices_AK_response={}\n",
    "for s in scale:\n",
    "    cost = {}\n",
    "    for i,p in enumerate(Prices_AK):\n",
    "        my_p_AK = Prices_AK.copy()\n",
    "        my_p_AK[i] = p*s\n",
    "        result_AK = solve_subsistence_problem(D,my_p_AK,diet_min[group],diet_max[group],tol=tol)\n",
    "        cost[Prices_AK.index[i]] = np.log(result_AK.fun/cost0_AK)\n",
    "    Prices_AK_response[np.log(s)] = cost\n",
    "\n",
    "Prices_AK_response = pd.DataFrame(Prices_AK_response).T\n",
    "Prices_AK_response.iplot(xTitle='change in log price',yTitle='change in log cost')"
   ]
  },
  {
   "cell_type": "markdown",
   "id": "64283218",
   "metadata": {},
   "source": [
    "We selected flax seeds, whose cost changed the most with price above, as our reference good. This plot shows how the composition of the other food items changes with respect to the price of flax seeds."
   ]
  },
  {
   "cell_type": "code",
   "execution_count": 48,
   "id": "b9d3e499",
   "metadata": {},
   "outputs": [
    {
     "data": {
      "text/html": [
       "        <script type=\"text/javascript\">\n",
       "        window.PlotlyConfig = {MathJaxConfig: 'local'};\n",
       "        if (window.MathJax) {MathJax.Hub.Config({SVG: {font: \"STIX-Web\"}});}\n",
       "        if (typeof require !== 'undefined') {\n",
       "        require.undef(\"plotly\");\n",
       "        requirejs.config({\n",
       "            paths: {\n",
       "                'plotly': ['https://cdn.plot.ly/plotly-2.3.1.min']\n",
       "            }\n",
       "        });\n",
       "        require(['plotly'], function(Plotly) {\n",
       "            window._Plotly = Plotly;\n",
       "        });\n",
       "        }\n",
       "        </script>\n",
       "        "
      ]
     },
     "metadata": {},
     "output_type": "display_data"
    },
    {
     "name": "stderr",
     "output_type": "stream",
     "text": [
      "/opt/conda/lib/python3.9/site-packages/pandas/core/dtypes/cast.py:1990: UnitStrippedWarning:\n",
      "\n",
      "The unit of the quantity is stripped when downcasting to ndarray.\n",
      "\n"
     ]
    },
    {
     "data": {
      "application/vnd.plotly.v1+json": {
       "config": {
        "linkText": "Export to plot.ly",
        "plotlyServerURL": "https://plot.ly",
        "showLink": true
       },
       "data": [
        {
         "line": {
          "color": "rgba(255, 153, 51, 1.0)",
          "dash": "solid",
          "shape": "linear",
          "width": 1.3
         },
         "mode": "lines",
         "name": "Sweet Potatoes ",
         "text": "",
         "type": "scatter",
         "x": [
          0.5276396808291403,
          0.7914595212437103,
          0.9497514254924525,
          1.0552793616582805,
          1.1608072978241086,
          1.2663352339899365,
          1.3718631701557646,
          1.4773911063215925,
          1.5829190424874207,
          2.110558723316561,
          4.221117446633122
         ],
         "y": [
          0.04084126418733527,
          2.4553965597458524e-07,
          2.762353555572041e-07,
          2.68426092368595e-07,
          3.6979915398461716e-11,
          1.3098481615692638e-07,
          2.0784612460443246e-07,
          1.1803688047854872e-07,
          9.90030548898754e-08,
          3.2881701492953e-10,
          9.871651119963747e-10
         ]
        },
        {
         "line": {
          "color": "rgba(55, 128, 191, 1.0)",
          "dash": "solid",
          "shape": "linear",
          "width": 1.3
         },
         "mode": "lines",
         "name": "Spinach ",
         "text": "",
         "type": "scatter",
         "x": [
          0.5276396808291403,
          0.7914595212437103,
          0.9497514254924525,
          1.0552793616582805,
          1.1608072978241086,
          1.2663352339899365,
          1.3718631701557646,
          1.4773911063215925,
          1.5829190424874207,
          2.110558723316561,
          4.221117446633122
         ],
         "y": [
          1.7458131385246194e-07,
          0.17495902821048645,
          0.31277319188154223,
          0.31277318207625043,
          0.31277322702644855,
          0.3127731600400273,
          0.3127730383848408,
          0.31277295930772814,
          0.3127726364653315,
          0.9808275324055534,
          2.332260101815243e-10
         ]
        },
        {
         "line": {
          "color": "rgba(50, 171, 96, 1.0)",
          "dash": "solid",
          "shape": "linear",
          "width": 1.3
         },
         "mode": "lines",
         "name": "Broccoli Crown",
         "text": "",
         "type": "scatter",
         "x": [
          0.5276396808291403,
          0.7914595212437103,
          0.9497514254924525,
          1.0552793616582805,
          1.1608072978241086,
          1.2663352339899365,
          1.3718631701557646,
          1.4773911063215925,
          1.5829190424874207,
          2.110558723316561,
          4.221117446633122
         ],
         "y": [
          2.70913597487372e-07,
          0.3053237511060373,
          0.17531706246780432,
          0.17531704224443537,
          0.1753171487482369,
          0.17531705598359565,
          0.17531693255696912,
          0.1753168775201619,
          0.17531660920152908,
          1.0045210126452585e-10,
          2.63169560476804e-10
         ]
        },
        {
         "line": {
          "color": "rgba(128, 0, 128, 1.0)",
          "dash": "solid",
          "shape": "linear",
          "width": 1.3
         },
         "mode": "lines",
         "name": "Whole Carrots ",
         "text": "",
         "type": "scatter",
         "x": [
          0.5276396808291403,
          0.7914595212437103,
          0.9497514254924525,
          1.0552793616582805,
          1.1608072978241086,
          1.2663352339899365,
          1.3718631701557646,
          1.4773911063215925,
          1.5829190424874207,
          2.110558723316561,
          4.221117446633122
         ],
         "y": [
          0.6644505385541428,
          0.7595602869653387,
          0.6853267106330824,
          0.6853267227393396,
          0.6853269264592212,
          0.685326850175042,
          0.6853268427939486,
          0.6853269623423814,
          0.6853271268042035,
          0.3217938064146014,
          0.8051171744422759
         ]
        },
        {
         "line": {
          "color": "rgba(219, 64, 82, 1.0)",
          "dash": "solid",
          "shape": "linear",
          "width": 1.3
         },
         "mode": "lines",
         "name": "Green Onions",
         "text": "",
         "type": "scatter",
         "x": [
          0.5276396808291403,
          0.7914595212437103,
          0.9497514254924525,
          1.0552793616582805,
          1.1608072978241086,
          1.2663352339899365,
          1.3718631701557646,
          1.4773911063215925,
          1.5829190424874207,
          2.110558723316561,
          4.221117446633122
         ],
         "y": [
          1.0267432389530041e-07,
          1.1831980005704843e-07,
          1.4020865043882523e-07,
          1.7723967821627103e-07,
          3.1659034210080865e-11,
          1.727906473974527e-07,
          4.242396657267939e-07,
          3.7275269237155775e-07,
          8.073894215303407e-07,
          1.872967499961997e-08,
          0.4817412474579226
         ]
        },
        {
         "line": {
          "color": "rgba(0, 128, 128, 1.0)",
          "dash": "solid",
          "shape": "linear",
          "width": 1.3
         },
         "mode": "lines",
         "name": "Kale",
         "text": "",
         "type": "scatter",
         "x": [
          0.5276396808291403,
          0.7914595212437103,
          0.9497514254924525,
          1.0552793616582805,
          1.1608072978241086,
          1.2663352339899365,
          1.3718631701557646,
          1.4773911063215925,
          1.5829190424874207,
          2.110558723316561,
          4.221117446633122
         ],
         "y": [
          0.6122278282136562,
          1.6539492482318495e-08,
          2.9227039673741967e-08,
          3.1123966051312406e-08,
          4.677215302049147e-12,
          1.8192021409320683e-08,
          3.113599763107427e-08,
          1.737819943463957e-08,
          1.637052308379476e-08,
          4.553162013900798e-11,
          3.8575456209076857e-10
         ]
        },
        {
         "line": {
          "color": "rgba(255, 255, 51, 1.0)",
          "dash": "solid",
          "shape": "linear",
          "width": 1.3
         },
         "mode": "lines",
         "name": "Nutritional Yeast ",
         "text": "",
         "type": "scatter",
         "x": [
          0.5276396808291403,
          0.7914595212437103,
          0.9497514254924525,
          1.0552793616582805,
          1.1608072978241086,
          1.2663352339899365,
          1.3718631701557646,
          1.4773911063215925,
          1.5829190424874207,
          2.110558723316561,
          4.221117446633122
         ],
         "y": [
          0.007444702349618166,
          0.008971589190620846,
          0.010975353761273001,
          0.01097535353746062,
          0.010975356032886336,
          0.010975354031400842,
          0.010975351761979977,
          0.010975351042346688,
          0.01097534634125587,
          0.022402772346113996,
          0.008111703808557674
         ]
        },
        {
         "line": {
          "color": "rgba(128, 128, 0, 1.0)",
          "dash": "solid",
          "shape": "linear",
          "width": 1.3
         },
         "mode": "lines",
         "name": "Salt (Morton Plain salt)",
         "text": "",
         "type": "scatter",
         "x": [
          0.5276396808291403,
          0.7914595212437103,
          0.9497514254924525,
          1.0552793616582805,
          1.1608072978241086,
          1.2663352339899365,
          1.3718631701557646,
          1.4773911063215925,
          1.5829190424874207,
          2.110558723316561,
          4.221117446633122
         ],
         "y": [
          8.6952973886827e-07,
          6.007332467786413e-06,
          3.264398535364898e-06,
          3.5153875186694094e-06,
          4.1784955999905377e-10,
          2.250395176042381e-06,
          3.5304713259789935e-06,
          1.7220468231983092e-08,
          1.5709997709968878e-06,
          2.0622523901990897e-12,
          1.2496525522558004e-09
         ]
        },
        {
         "line": {
          "color": "rgba(251, 128, 114, 1.0)",
          "dash": "solid",
          "shape": "linear",
          "width": 1.3
         },
         "mode": "lines",
         "name": "Bananas",
         "text": "",
         "type": "scatter",
         "x": [
          0.5276396808291403,
          0.7914595212437103,
          0.9497514254924525,
          1.0552793616582805,
          1.1608072978241086,
          1.2663352339899365,
          1.3718631701557646,
          1.4773911063215925,
          1.5829190424874207,
          2.110558723316561,
          4.221117446633122
         ],
         "y": [
          3.0055286374041423,
          5.965264389586656,
          6.809843703014327,
          6.809843855440496,
          6.809843556756972,
          6.809844047868726,
          6.809844942821567,
          6.809846063181663,
          6.809848879167395,
          7.912761237199424,
          16.045210388028032
         ]
        },
        {
         "line": {
          "color": "rgba(128, 177, 211, 1.0)",
          "dash": "solid",
          "shape": "linear",
          "width": 1.3
         },
         "mode": "lines",
         "name": "Almond milk (Silk unsweetened)",
         "text": "",
         "type": "scatter",
         "x": [
          0.5276396808291403,
          0.7914595212437103,
          0.9497514254924525,
          1.0552793616582805,
          1.1608072978241086,
          1.2663352339899365,
          1.3718631701557646,
          1.4773911063215925,
          1.5829190424874207,
          2.110558723316561,
          4.221117446633122
         ],
         "y": [
          3.802357803516792,
          3.7765794415710565,
          3.74872000704718,
          3.748720011407047,
          3.748720063342876,
          3.748720048324563,
          3.748720058260015,
          3.748720110217646,
          3.7487201959954812,
          3.564149134071106,
          3.756146516376847
         ]
        },
        {
         "line": {
          "color": "rgba(128, 177, 211, 0.8999999999999999)",
          "dash": "solid",
          "shape": "linear",
          "width": 1.3
         },
         "mode": "lines",
         "name": "Eggs",
         "text": "",
         "type": "scatter",
         "x": [
          0.5276396808291403,
          0.7914595212437103,
          0.9497514254924525,
          1.0552793616582805,
          1.1608072978241086,
          1.2663352339899365,
          1.3718631701557646,
          1.4773911063215925,
          1.5829190424874207,
          2.110558723316561,
          4.221117446633122
         ],
         "y": [
          4.7040580295925905e-08,
          1.2987976950341957e-08,
          1.3130169163809057e-08,
          1.561373728868423e-08,
          2.547411799328904e-12,
          1.2388466952315875e-08,
          2.3602494125169834e-08,
          2.1220652870391367e-08,
          2.247776017592909e-08,
          4.66279486620195,
          4.3545869597093
         ]
        },
        {
         "line": {
          "color": "rgba(255, 153, 51, 0.8999999999999999)",
          "dash": "solid",
          "shape": "linear",
          "width": 1.3
         },
         "mode": "lines",
         "name": "Chickpeas (kroger)",
         "text": "",
         "type": "scatter",
         "x": [
          0.5276396808291403,
          0.7914595212437103,
          0.9497514254924525,
          1.0552793616582805,
          1.1608072978241086,
          1.2663352339899365,
          1.3718631701557646,
          1.4773911063215925,
          1.5829190424874207,
          2.110558723316561,
          4.221117446633122
         ],
         "y": [
          1.724234717728792e-07,
          3.182060522564491e-08,
          0.3084773100000114,
          0.30847726285143695,
          0.30847813589730555,
          0.308477626671775,
          0.3084773038069656,
          0.3084775887374916,
          0.3084775892395033,
          1.5473663523534108e-10,
          3.740737224995373e-10
         ]
        },
        {
         "line": {
          "color": "rgba(55, 128, 191, 0.8999999999999999)",
          "dash": "solid",
          "shape": "linear",
          "width": 1.3
         },
         "mode": "lines",
         "name": "Flax Seeds (NOW foods real food)",
         "text": "",
         "type": "scatter",
         "x": [
          0.5276396808291403,
          0.7914595212437103,
          0.9497514254924525,
          1.0552793616582805,
          1.1608072978241086,
          1.2663352339899365,
          1.3718631701557646,
          1.4773911063215925,
          1.5829190424874207,
          2.110558723316561,
          4.221117446633122
         ],
         "y": [
          3.758848222044338,
          2.4492598611294776,
          2.058148650504358,
          2.058148621992694,
          2.0581486304112615,
          2.0581486066953705,
          2.0581485685818497,
          2.0581485413760205,
          2.058148457196779,
          0.5212660961096202,
          0.3789324646576451
         ]
        },
        {
         "line": {
          "color": "rgba(50, 171, 96, 0.8999999999999999)",
          "dash": "solid",
          "shape": "linear",
          "width": 1.3
         },
         "mode": "lines",
         "name": "Mayonaise (kroger)",
         "text": "",
         "type": "scatter",
         "x": [
          0.5276396808291403,
          0.7914595212437103,
          0.9497514254924525,
          1.0552793616582805,
          1.1608072978241086,
          1.2663352339899365,
          1.3718631701557646,
          1.4773911063215925,
          1.5829190424874207,
          2.110558723316561,
          4.221117446633122
         ],
         "y": [
          9.344732728322075e-07,
          0.717158071927028,
          0.7736235428536922,
          0.7736235334380632,
          0.773623678444843,
          0.7736235669419272,
          0.7736234502266183,
          0.773623367324424,
          0.7736231004691353,
          1.0343898630544568,
          0.1760956311978949
         ]
        }
       ],
       "layout": {
        "legend": {
         "bgcolor": "#F5F6F9",
         "font": {
          "color": "#4D5663"
         }
        },
        "paper_bgcolor": "#F5F6F9",
        "plot_bgcolor": "#F5F6F9",
        "template": {
         "data": {
          "bar": [
           {
            "error_x": {
             "color": "#2a3f5f"
            },
            "error_y": {
             "color": "#2a3f5f"
            },
            "marker": {
             "line": {
              "color": "#E5ECF6",
              "width": 0.5
             },
             "pattern": {
              "fillmode": "overlay",
              "size": 10,
              "solidity": 0.2
             }
            },
            "type": "bar"
           }
          ],
          "barpolar": [
           {
            "marker": {
             "line": {
              "color": "#E5ECF6",
              "width": 0.5
             },
             "pattern": {
              "fillmode": "overlay",
              "size": 10,
              "solidity": 0.2
             }
            },
            "type": "barpolar"
           }
          ],
          "carpet": [
           {
            "aaxis": {
             "endlinecolor": "#2a3f5f",
             "gridcolor": "white",
             "linecolor": "white",
             "minorgridcolor": "white",
             "startlinecolor": "#2a3f5f"
            },
            "baxis": {
             "endlinecolor": "#2a3f5f",
             "gridcolor": "white",
             "linecolor": "white",
             "minorgridcolor": "white",
             "startlinecolor": "#2a3f5f"
            },
            "type": "carpet"
           }
          ],
          "choropleth": [
           {
            "colorbar": {
             "outlinewidth": 0,
             "ticks": ""
            },
            "type": "choropleth"
           }
          ],
          "contour": [
           {
            "colorbar": {
             "outlinewidth": 0,
             "ticks": ""
            },
            "colorscale": [
             [
              0,
              "#0d0887"
             ],
             [
              0.1111111111111111,
              "#46039f"
             ],
             [
              0.2222222222222222,
              "#7201a8"
             ],
             [
              0.3333333333333333,
              "#9c179e"
             ],
             [
              0.4444444444444444,
              "#bd3786"
             ],
             [
              0.5555555555555556,
              "#d8576b"
             ],
             [
              0.6666666666666666,
              "#ed7953"
             ],
             [
              0.7777777777777778,
              "#fb9f3a"
             ],
             [
              0.8888888888888888,
              "#fdca26"
             ],
             [
              1,
              "#f0f921"
             ]
            ],
            "type": "contour"
           }
          ],
          "contourcarpet": [
           {
            "colorbar": {
             "outlinewidth": 0,
             "ticks": ""
            },
            "type": "contourcarpet"
           }
          ],
          "heatmap": [
           {
            "colorbar": {
             "outlinewidth": 0,
             "ticks": ""
            },
            "colorscale": [
             [
              0,
              "#0d0887"
             ],
             [
              0.1111111111111111,
              "#46039f"
             ],
             [
              0.2222222222222222,
              "#7201a8"
             ],
             [
              0.3333333333333333,
              "#9c179e"
             ],
             [
              0.4444444444444444,
              "#bd3786"
             ],
             [
              0.5555555555555556,
              "#d8576b"
             ],
             [
              0.6666666666666666,
              "#ed7953"
             ],
             [
              0.7777777777777778,
              "#fb9f3a"
             ],
             [
              0.8888888888888888,
              "#fdca26"
             ],
             [
              1,
              "#f0f921"
             ]
            ],
            "type": "heatmap"
           }
          ],
          "heatmapgl": [
           {
            "colorbar": {
             "outlinewidth": 0,
             "ticks": ""
            },
            "colorscale": [
             [
              0,
              "#0d0887"
             ],
             [
              0.1111111111111111,
              "#46039f"
             ],
             [
              0.2222222222222222,
              "#7201a8"
             ],
             [
              0.3333333333333333,
              "#9c179e"
             ],
             [
              0.4444444444444444,
              "#bd3786"
             ],
             [
              0.5555555555555556,
              "#d8576b"
             ],
             [
              0.6666666666666666,
              "#ed7953"
             ],
             [
              0.7777777777777778,
              "#fb9f3a"
             ],
             [
              0.8888888888888888,
              "#fdca26"
             ],
             [
              1,
              "#f0f921"
             ]
            ],
            "type": "heatmapgl"
           }
          ],
          "histogram": [
           {
            "marker": {
             "pattern": {
              "fillmode": "overlay",
              "size": 10,
              "solidity": 0.2
             }
            },
            "type": "histogram"
           }
          ],
          "histogram2d": [
           {
            "colorbar": {
             "outlinewidth": 0,
             "ticks": ""
            },
            "colorscale": [
             [
              0,
              "#0d0887"
             ],
             [
              0.1111111111111111,
              "#46039f"
             ],
             [
              0.2222222222222222,
              "#7201a8"
             ],
             [
              0.3333333333333333,
              "#9c179e"
             ],
             [
              0.4444444444444444,
              "#bd3786"
             ],
             [
              0.5555555555555556,
              "#d8576b"
             ],
             [
              0.6666666666666666,
              "#ed7953"
             ],
             [
              0.7777777777777778,
              "#fb9f3a"
             ],
             [
              0.8888888888888888,
              "#fdca26"
             ],
             [
              1,
              "#f0f921"
             ]
            ],
            "type": "histogram2d"
           }
          ],
          "histogram2dcontour": [
           {
            "colorbar": {
             "outlinewidth": 0,
             "ticks": ""
            },
            "colorscale": [
             [
              0,
              "#0d0887"
             ],
             [
              0.1111111111111111,
              "#46039f"
             ],
             [
              0.2222222222222222,
              "#7201a8"
             ],
             [
              0.3333333333333333,
              "#9c179e"
             ],
             [
              0.4444444444444444,
              "#bd3786"
             ],
             [
              0.5555555555555556,
              "#d8576b"
             ],
             [
              0.6666666666666666,
              "#ed7953"
             ],
             [
              0.7777777777777778,
              "#fb9f3a"
             ],
             [
              0.8888888888888888,
              "#fdca26"
             ],
             [
              1,
              "#f0f921"
             ]
            ],
            "type": "histogram2dcontour"
           }
          ],
          "mesh3d": [
           {
            "colorbar": {
             "outlinewidth": 0,
             "ticks": ""
            },
            "type": "mesh3d"
           }
          ],
          "parcoords": [
           {
            "line": {
             "colorbar": {
              "outlinewidth": 0,
              "ticks": ""
             }
            },
            "type": "parcoords"
           }
          ],
          "pie": [
           {
            "automargin": true,
            "type": "pie"
           }
          ],
          "scatter": [
           {
            "marker": {
             "colorbar": {
              "outlinewidth": 0,
              "ticks": ""
             }
            },
            "type": "scatter"
           }
          ],
          "scatter3d": [
           {
            "line": {
             "colorbar": {
              "outlinewidth": 0,
              "ticks": ""
             }
            },
            "marker": {
             "colorbar": {
              "outlinewidth": 0,
              "ticks": ""
             }
            },
            "type": "scatter3d"
           }
          ],
          "scattercarpet": [
           {
            "marker": {
             "colorbar": {
              "outlinewidth": 0,
              "ticks": ""
             }
            },
            "type": "scattercarpet"
           }
          ],
          "scattergeo": [
           {
            "marker": {
             "colorbar": {
              "outlinewidth": 0,
              "ticks": ""
             }
            },
            "type": "scattergeo"
           }
          ],
          "scattergl": [
           {
            "marker": {
             "colorbar": {
              "outlinewidth": 0,
              "ticks": ""
             }
            },
            "type": "scattergl"
           }
          ],
          "scattermapbox": [
           {
            "marker": {
             "colorbar": {
              "outlinewidth": 0,
              "ticks": ""
             }
            },
            "type": "scattermapbox"
           }
          ],
          "scatterpolar": [
           {
            "marker": {
             "colorbar": {
              "outlinewidth": 0,
              "ticks": ""
             }
            },
            "type": "scatterpolar"
           }
          ],
          "scatterpolargl": [
           {
            "marker": {
             "colorbar": {
              "outlinewidth": 0,
              "ticks": ""
             }
            },
            "type": "scatterpolargl"
           }
          ],
          "scatterternary": [
           {
            "marker": {
             "colorbar": {
              "outlinewidth": 0,
              "ticks": ""
             }
            },
            "type": "scatterternary"
           }
          ],
          "surface": [
           {
            "colorbar": {
             "outlinewidth": 0,
             "ticks": ""
            },
            "colorscale": [
             [
              0,
              "#0d0887"
             ],
             [
              0.1111111111111111,
              "#46039f"
             ],
             [
              0.2222222222222222,
              "#7201a8"
             ],
             [
              0.3333333333333333,
              "#9c179e"
             ],
             [
              0.4444444444444444,
              "#bd3786"
             ],
             [
              0.5555555555555556,
              "#d8576b"
             ],
             [
              0.6666666666666666,
              "#ed7953"
             ],
             [
              0.7777777777777778,
              "#fb9f3a"
             ],
             [
              0.8888888888888888,
              "#fdca26"
             ],
             [
              1,
              "#f0f921"
             ]
            ],
            "type": "surface"
           }
          ],
          "table": [
           {
            "cells": {
             "fill": {
              "color": "#EBF0F8"
             },
             "line": {
              "color": "white"
             }
            },
            "header": {
             "fill": {
              "color": "#C8D4E3"
             },
             "line": {
              "color": "white"
             }
            },
            "type": "table"
           }
          ]
         },
         "layout": {
          "annotationdefaults": {
           "arrowcolor": "#2a3f5f",
           "arrowhead": 0,
           "arrowwidth": 1
          },
          "autotypenumbers": "strict",
          "coloraxis": {
           "colorbar": {
            "outlinewidth": 0,
            "ticks": ""
           }
          },
          "colorscale": {
           "diverging": [
            [
             0,
             "#8e0152"
            ],
            [
             0.1,
             "#c51b7d"
            ],
            [
             0.2,
             "#de77ae"
            ],
            [
             0.3,
             "#f1b6da"
            ],
            [
             0.4,
             "#fde0ef"
            ],
            [
             0.5,
             "#f7f7f7"
            ],
            [
             0.6,
             "#e6f5d0"
            ],
            [
             0.7,
             "#b8e186"
            ],
            [
             0.8,
             "#7fbc41"
            ],
            [
             0.9,
             "#4d9221"
            ],
            [
             1,
             "#276419"
            ]
           ],
           "sequential": [
            [
             0,
             "#0d0887"
            ],
            [
             0.1111111111111111,
             "#46039f"
            ],
            [
             0.2222222222222222,
             "#7201a8"
            ],
            [
             0.3333333333333333,
             "#9c179e"
            ],
            [
             0.4444444444444444,
             "#bd3786"
            ],
            [
             0.5555555555555556,
             "#d8576b"
            ],
            [
             0.6666666666666666,
             "#ed7953"
            ],
            [
             0.7777777777777778,
             "#fb9f3a"
            ],
            [
             0.8888888888888888,
             "#fdca26"
            ],
            [
             1,
             "#f0f921"
            ]
           ],
           "sequentialminus": [
            [
             0,
             "#0d0887"
            ],
            [
             0.1111111111111111,
             "#46039f"
            ],
            [
             0.2222222222222222,
             "#7201a8"
            ],
            [
             0.3333333333333333,
             "#9c179e"
            ],
            [
             0.4444444444444444,
             "#bd3786"
            ],
            [
             0.5555555555555556,
             "#d8576b"
            ],
            [
             0.6666666666666666,
             "#ed7953"
            ],
            [
             0.7777777777777778,
             "#fb9f3a"
            ],
            [
             0.8888888888888888,
             "#fdca26"
            ],
            [
             1,
             "#f0f921"
            ]
           ]
          },
          "colorway": [
           "#636efa",
           "#EF553B",
           "#00cc96",
           "#ab63fa",
           "#FFA15A",
           "#19d3f3",
           "#FF6692",
           "#B6E880",
           "#FF97FF",
           "#FECB52"
          ],
          "font": {
           "color": "#2a3f5f"
          },
          "geo": {
           "bgcolor": "white",
           "lakecolor": "white",
           "landcolor": "#E5ECF6",
           "showlakes": true,
           "showland": true,
           "subunitcolor": "white"
          },
          "hoverlabel": {
           "align": "left"
          },
          "hovermode": "closest",
          "mapbox": {
           "style": "light"
          },
          "paper_bgcolor": "white",
          "plot_bgcolor": "#E5ECF6",
          "polar": {
           "angularaxis": {
            "gridcolor": "white",
            "linecolor": "white",
            "ticks": ""
           },
           "bgcolor": "#E5ECF6",
           "radialaxis": {
            "gridcolor": "white",
            "linecolor": "white",
            "ticks": ""
           }
          },
          "scene": {
           "xaxis": {
            "backgroundcolor": "#E5ECF6",
            "gridcolor": "white",
            "gridwidth": 2,
            "linecolor": "white",
            "showbackground": true,
            "ticks": "",
            "zerolinecolor": "white"
           },
           "yaxis": {
            "backgroundcolor": "#E5ECF6",
            "gridcolor": "white",
            "gridwidth": 2,
            "linecolor": "white",
            "showbackground": true,
            "ticks": "",
            "zerolinecolor": "white"
           },
           "zaxis": {
            "backgroundcolor": "#E5ECF6",
            "gridcolor": "white",
            "gridwidth": 2,
            "linecolor": "white",
            "showbackground": true,
            "ticks": "",
            "zerolinecolor": "white"
           }
          },
          "shapedefaults": {
           "line": {
            "color": "#2a3f5f"
           }
          },
          "ternary": {
           "aaxis": {
            "gridcolor": "white",
            "linecolor": "white",
            "ticks": ""
           },
           "baxis": {
            "gridcolor": "white",
            "linecolor": "white",
            "ticks": ""
           },
           "bgcolor": "#E5ECF6",
           "caxis": {
            "gridcolor": "white",
            "linecolor": "white",
            "ticks": ""
           }
          },
          "title": {
           "x": 0.05
          },
          "xaxis": {
           "automargin": true,
           "gridcolor": "white",
           "linecolor": "white",
           "ticks": "",
           "title": {
            "standoff": 15
           },
           "zerolinecolor": "white",
           "zerolinewidth": 2
          },
          "yaxis": {
           "automargin": true,
           "gridcolor": "white",
           "linecolor": "white",
           "ticks": "",
           "title": {
            "standoff": 15
           },
           "zerolinecolor": "white",
           "zerolinewidth": 2
          }
         }
        },
        "title": {
         "font": {
          "color": "#4D5663"
         }
        },
        "xaxis": {
         "gridcolor": "#E1E5ED",
         "showgrid": true,
         "tickfont": {
          "color": "#4D5663"
         },
         "title": {
          "font": {
           "color": "#4D5663"
          },
          "text": "Flax Seeds (NOW foods real food) Price"
         },
         "zerolinecolor": "#E1E5ED"
        },
        "yaxis": {
         "gridcolor": "#E1E5ED",
         "showgrid": true,
         "tickfont": {
          "color": "#4D5663"
         },
         "title": {
          "font": {
           "color": "#4D5663"
          },
          "text": "Hectograms"
         },
         "zerolinecolor": "#E1E5ED"
        }
       }
      },
      "text/html": [
       "<div>                            <div id=\"434e845a-eb04-4386-bff5-cfb8b2bf2b4d\" class=\"plotly-graph-div\" style=\"height:525px; width:100%;\"></div>            <script type=\"text/javascript\">                require([\"plotly\"], function(Plotly) {                    window.PLOTLYENV=window.PLOTLYENV || {};\n",
       "                    window.PLOTLYENV.BASE_URL='https://plot.ly';                                    if (document.getElementById(\"434e845a-eb04-4386-bff5-cfb8b2bf2b4d\")) {                    Plotly.newPlot(                        \"434e845a-eb04-4386-bff5-cfb8b2bf2b4d\",                        [{\"line\":{\"color\":\"rgba(255, 153, 51, 1.0)\",\"dash\":\"solid\",\"shape\":\"linear\",\"width\":1.3},\"mode\":\"lines\",\"name\":\"Sweet Potatoes \",\"text\":\"\",\"type\":\"scatter\",\"x\":[0.5276396808291403,0.7914595212437103,0.9497514254924525,1.0552793616582805,1.1608072978241086,1.2663352339899365,1.3718631701557646,1.4773911063215925,1.5829190424874207,2.110558723316561,4.221117446633122],\"y\":[0.04084126418733527,2.4553965597458524e-07,2.762353555572041e-07,2.68426092368595e-07,3.6979915398461716e-11,1.3098481615692638e-07,2.0784612460443246e-07,1.1803688047854872e-07,9.90030548898754e-08,3.2881701492953e-10,9.871651119963747e-10]},{\"line\":{\"color\":\"rgba(55, 128, 191, 1.0)\",\"dash\":\"solid\",\"shape\":\"linear\",\"width\":1.3},\"mode\":\"lines\",\"name\":\"Spinach \",\"text\":\"\",\"type\":\"scatter\",\"x\":[0.5276396808291403,0.7914595212437103,0.9497514254924525,1.0552793616582805,1.1608072978241086,1.2663352339899365,1.3718631701557646,1.4773911063215925,1.5829190424874207,2.110558723316561,4.221117446633122],\"y\":[1.7458131385246194e-07,0.17495902821048645,0.31277319188154223,0.31277318207625043,0.31277322702644855,0.3127731600400273,0.3127730383848408,0.31277295930772814,0.3127726364653315,0.9808275324055534,2.332260101815243e-10]},{\"line\":{\"color\":\"rgba(50, 171, 96, 1.0)\",\"dash\":\"solid\",\"shape\":\"linear\",\"width\":1.3},\"mode\":\"lines\",\"name\":\"Broccoli Crown\",\"text\":\"\",\"type\":\"scatter\",\"x\":[0.5276396808291403,0.7914595212437103,0.9497514254924525,1.0552793616582805,1.1608072978241086,1.2663352339899365,1.3718631701557646,1.4773911063215925,1.5829190424874207,2.110558723316561,4.221117446633122],\"y\":[2.70913597487372e-07,0.3053237511060373,0.17531706246780432,0.17531704224443537,0.1753171487482369,0.17531705598359565,0.17531693255696912,0.1753168775201619,0.17531660920152908,1.0045210126452585e-10,2.63169560476804e-10]},{\"line\":{\"color\":\"rgba(128, 0, 128, 1.0)\",\"dash\":\"solid\",\"shape\":\"linear\",\"width\":1.3},\"mode\":\"lines\",\"name\":\"Whole Carrots \",\"text\":\"\",\"type\":\"scatter\",\"x\":[0.5276396808291403,0.7914595212437103,0.9497514254924525,1.0552793616582805,1.1608072978241086,1.2663352339899365,1.3718631701557646,1.4773911063215925,1.5829190424874207,2.110558723316561,4.221117446633122],\"y\":[0.6644505385541428,0.7595602869653387,0.6853267106330824,0.6853267227393396,0.6853269264592212,0.685326850175042,0.6853268427939486,0.6853269623423814,0.6853271268042035,0.3217938064146014,0.8051171744422759]},{\"line\":{\"color\":\"rgba(219, 64, 82, 1.0)\",\"dash\":\"solid\",\"shape\":\"linear\",\"width\":1.3},\"mode\":\"lines\",\"name\":\"Green Onions\",\"text\":\"\",\"type\":\"scatter\",\"x\":[0.5276396808291403,0.7914595212437103,0.9497514254924525,1.0552793616582805,1.1608072978241086,1.2663352339899365,1.3718631701557646,1.4773911063215925,1.5829190424874207,2.110558723316561,4.221117446633122],\"y\":[1.0267432389530041e-07,1.1831980005704843e-07,1.4020865043882523e-07,1.7723967821627103e-07,3.1659034210080865e-11,1.727906473974527e-07,4.242396657267939e-07,3.7275269237155775e-07,8.073894215303407e-07,1.872967499961997e-08,0.4817412474579226]},{\"line\":{\"color\":\"rgba(0, 128, 128, 1.0)\",\"dash\":\"solid\",\"shape\":\"linear\",\"width\":1.3},\"mode\":\"lines\",\"name\":\"Kale\",\"text\":\"\",\"type\":\"scatter\",\"x\":[0.5276396808291403,0.7914595212437103,0.9497514254924525,1.0552793616582805,1.1608072978241086,1.2663352339899365,1.3718631701557646,1.4773911063215925,1.5829190424874207,2.110558723316561,4.221117446633122],\"y\":[0.6122278282136562,1.6539492482318495e-08,2.9227039673741967e-08,3.1123966051312406e-08,4.677215302049147e-12,1.8192021409320683e-08,3.113599763107427e-08,1.737819943463957e-08,1.637052308379476e-08,4.553162013900798e-11,3.8575456209076857e-10]},{\"line\":{\"color\":\"rgba(255, 255, 51, 1.0)\",\"dash\":\"solid\",\"shape\":\"linear\",\"width\":1.3},\"mode\":\"lines\",\"name\":\"Nutritional Yeast \",\"text\":\"\",\"type\":\"scatter\",\"x\":[0.5276396808291403,0.7914595212437103,0.9497514254924525,1.0552793616582805,1.1608072978241086,1.2663352339899365,1.3718631701557646,1.4773911063215925,1.5829190424874207,2.110558723316561,4.221117446633122],\"y\":[0.007444702349618166,0.008971589190620846,0.010975353761273001,0.01097535353746062,0.010975356032886336,0.010975354031400842,0.010975351761979977,0.010975351042346688,0.01097534634125587,0.022402772346113996,0.008111703808557674]},{\"line\":{\"color\":\"rgba(128, 128, 0, 1.0)\",\"dash\":\"solid\",\"shape\":\"linear\",\"width\":1.3},\"mode\":\"lines\",\"name\":\"Salt (Morton Plain salt)\",\"text\":\"\",\"type\":\"scatter\",\"x\":[0.5276396808291403,0.7914595212437103,0.9497514254924525,1.0552793616582805,1.1608072978241086,1.2663352339899365,1.3718631701557646,1.4773911063215925,1.5829190424874207,2.110558723316561,4.221117446633122],\"y\":[8.6952973886827e-07,6.007332467786413e-06,3.264398535364898e-06,3.5153875186694094e-06,4.1784955999905377e-10,2.250395176042381e-06,3.5304713259789935e-06,1.7220468231983092e-08,1.5709997709968878e-06,2.0622523901990897e-12,1.2496525522558004e-09]},{\"line\":{\"color\":\"rgba(251, 128, 114, 1.0)\",\"dash\":\"solid\",\"shape\":\"linear\",\"width\":1.3},\"mode\":\"lines\",\"name\":\"Bananas\",\"text\":\"\",\"type\":\"scatter\",\"x\":[0.5276396808291403,0.7914595212437103,0.9497514254924525,1.0552793616582805,1.1608072978241086,1.2663352339899365,1.3718631701557646,1.4773911063215925,1.5829190424874207,2.110558723316561,4.221117446633122],\"y\":[3.0055286374041423,5.965264389586656,6.809843703014327,6.809843855440496,6.809843556756972,6.809844047868726,6.809844942821567,6.809846063181663,6.809848879167395,7.912761237199424,16.045210388028032]},{\"line\":{\"color\":\"rgba(128, 177, 211, 1.0)\",\"dash\":\"solid\",\"shape\":\"linear\",\"width\":1.3},\"mode\":\"lines\",\"name\":\"Almond milk (Silk unsweetened)\",\"text\":\"\",\"type\":\"scatter\",\"x\":[0.5276396808291403,0.7914595212437103,0.9497514254924525,1.0552793616582805,1.1608072978241086,1.2663352339899365,1.3718631701557646,1.4773911063215925,1.5829190424874207,2.110558723316561,4.221117446633122],\"y\":[3.802357803516792,3.7765794415710565,3.74872000704718,3.748720011407047,3.748720063342876,3.748720048324563,3.748720058260015,3.748720110217646,3.7487201959954812,3.564149134071106,3.756146516376847]},{\"line\":{\"color\":\"rgba(128, 177, 211, 0.8999999999999999)\",\"dash\":\"solid\",\"shape\":\"linear\",\"width\":1.3},\"mode\":\"lines\",\"name\":\"Eggs\",\"text\":\"\",\"type\":\"scatter\",\"x\":[0.5276396808291403,0.7914595212437103,0.9497514254924525,1.0552793616582805,1.1608072978241086,1.2663352339899365,1.3718631701557646,1.4773911063215925,1.5829190424874207,2.110558723316561,4.221117446633122],\"y\":[4.7040580295925905e-08,1.2987976950341957e-08,1.3130169163809057e-08,1.561373728868423e-08,2.547411799328904e-12,1.2388466952315875e-08,2.3602494125169834e-08,2.1220652870391367e-08,2.247776017592909e-08,4.66279486620195,4.3545869597093]},{\"line\":{\"color\":\"rgba(255, 153, 51, 0.8999999999999999)\",\"dash\":\"solid\",\"shape\":\"linear\",\"width\":1.3},\"mode\":\"lines\",\"name\":\"Chickpeas (kroger)\",\"text\":\"\",\"type\":\"scatter\",\"x\":[0.5276396808291403,0.7914595212437103,0.9497514254924525,1.0552793616582805,1.1608072978241086,1.2663352339899365,1.3718631701557646,1.4773911063215925,1.5829190424874207,2.110558723316561,4.221117446633122],\"y\":[1.724234717728792e-07,3.182060522564491e-08,0.3084773100000114,0.30847726285143695,0.30847813589730555,0.308477626671775,0.3084773038069656,0.3084775887374916,0.3084775892395033,1.5473663523534108e-10,3.740737224995373e-10]},{\"line\":{\"color\":\"rgba(55, 128, 191, 0.8999999999999999)\",\"dash\":\"solid\",\"shape\":\"linear\",\"width\":1.3},\"mode\":\"lines\",\"name\":\"Flax Seeds (NOW foods real food)\",\"text\":\"\",\"type\":\"scatter\",\"x\":[0.5276396808291403,0.7914595212437103,0.9497514254924525,1.0552793616582805,1.1608072978241086,1.2663352339899365,1.3718631701557646,1.4773911063215925,1.5829190424874207,2.110558723316561,4.221117446633122],\"y\":[3.758848222044338,2.4492598611294776,2.058148650504358,2.058148621992694,2.0581486304112615,2.0581486066953705,2.0581485685818497,2.0581485413760205,2.058148457196779,0.5212660961096202,0.3789324646576451]},{\"line\":{\"color\":\"rgba(50, 171, 96, 0.8999999999999999)\",\"dash\":\"solid\",\"shape\":\"linear\",\"width\":1.3},\"mode\":\"lines\",\"name\":\"Mayonaise (kroger)\",\"text\":\"\",\"type\":\"scatter\",\"x\":[0.5276396808291403,0.7914595212437103,0.9497514254924525,1.0552793616582805,1.1608072978241086,1.2663352339899365,1.3718631701557646,1.4773911063215925,1.5829190424874207,2.110558723316561,4.221117446633122],\"y\":[9.344732728322075e-07,0.717158071927028,0.7736235428536922,0.7736235334380632,0.773623678444843,0.7736235669419272,0.7736234502266183,0.773623367324424,0.7736231004691353,1.0343898630544568,0.1760956311978949]}],                        {\"legend\":{\"bgcolor\":\"#F5F6F9\",\"font\":{\"color\":\"#4D5663\"}},\"paper_bgcolor\":\"#F5F6F9\",\"plot_bgcolor\":\"#F5F6F9\",\"template\":{\"data\":{\"bar\":[{\"error_x\":{\"color\":\"#2a3f5f\"},\"error_y\":{\"color\":\"#2a3f5f\"},\"marker\":{\"line\":{\"color\":\"#E5ECF6\",\"width\":0.5},\"pattern\":{\"fillmode\":\"overlay\",\"size\":10,\"solidity\":0.2}},\"type\":\"bar\"}],\"barpolar\":[{\"marker\":{\"line\":{\"color\":\"#E5ECF6\",\"width\":0.5},\"pattern\":{\"fillmode\":\"overlay\",\"size\":10,\"solidity\":0.2}},\"type\":\"barpolar\"}],\"carpet\":[{\"aaxis\":{\"endlinecolor\":\"#2a3f5f\",\"gridcolor\":\"white\",\"linecolor\":\"white\",\"minorgridcolor\":\"white\",\"startlinecolor\":\"#2a3f5f\"},\"baxis\":{\"endlinecolor\":\"#2a3f5f\",\"gridcolor\":\"white\",\"linecolor\":\"white\",\"minorgridcolor\":\"white\",\"startlinecolor\":\"#2a3f5f\"},\"type\":\"carpet\"}],\"choropleth\":[{\"colorbar\":{\"outlinewidth\":0,\"ticks\":\"\"},\"type\":\"choropleth\"}],\"contour\":[{\"colorbar\":{\"outlinewidth\":0,\"ticks\":\"\"},\"colorscale\":[[0.0,\"#0d0887\"],[0.1111111111111111,\"#46039f\"],[0.2222222222222222,\"#7201a8\"],[0.3333333333333333,\"#9c179e\"],[0.4444444444444444,\"#bd3786\"],[0.5555555555555556,\"#d8576b\"],[0.6666666666666666,\"#ed7953\"],[0.7777777777777778,\"#fb9f3a\"],[0.8888888888888888,\"#fdca26\"],[1.0,\"#f0f921\"]],\"type\":\"contour\"}],\"contourcarpet\":[{\"colorbar\":{\"outlinewidth\":0,\"ticks\":\"\"},\"type\":\"contourcarpet\"}],\"heatmap\":[{\"colorbar\":{\"outlinewidth\":0,\"ticks\":\"\"},\"colorscale\":[[0.0,\"#0d0887\"],[0.1111111111111111,\"#46039f\"],[0.2222222222222222,\"#7201a8\"],[0.3333333333333333,\"#9c179e\"],[0.4444444444444444,\"#bd3786\"],[0.5555555555555556,\"#d8576b\"],[0.6666666666666666,\"#ed7953\"],[0.7777777777777778,\"#fb9f3a\"],[0.8888888888888888,\"#fdca26\"],[1.0,\"#f0f921\"]],\"type\":\"heatmap\"}],\"heatmapgl\":[{\"colorbar\":{\"outlinewidth\":0,\"ticks\":\"\"},\"colorscale\":[[0.0,\"#0d0887\"],[0.1111111111111111,\"#46039f\"],[0.2222222222222222,\"#7201a8\"],[0.3333333333333333,\"#9c179e\"],[0.4444444444444444,\"#bd3786\"],[0.5555555555555556,\"#d8576b\"],[0.6666666666666666,\"#ed7953\"],[0.7777777777777778,\"#fb9f3a\"],[0.8888888888888888,\"#fdca26\"],[1.0,\"#f0f921\"]],\"type\":\"heatmapgl\"}],\"histogram\":[{\"marker\":{\"pattern\":{\"fillmode\":\"overlay\",\"size\":10,\"solidity\":0.2}},\"type\":\"histogram\"}],\"histogram2d\":[{\"colorbar\":{\"outlinewidth\":0,\"ticks\":\"\"},\"colorscale\":[[0.0,\"#0d0887\"],[0.1111111111111111,\"#46039f\"],[0.2222222222222222,\"#7201a8\"],[0.3333333333333333,\"#9c179e\"],[0.4444444444444444,\"#bd3786\"],[0.5555555555555556,\"#d8576b\"],[0.6666666666666666,\"#ed7953\"],[0.7777777777777778,\"#fb9f3a\"],[0.8888888888888888,\"#fdca26\"],[1.0,\"#f0f921\"]],\"type\":\"histogram2d\"}],\"histogram2dcontour\":[{\"colorbar\":{\"outlinewidth\":0,\"ticks\":\"\"},\"colorscale\":[[0.0,\"#0d0887\"],[0.1111111111111111,\"#46039f\"],[0.2222222222222222,\"#7201a8\"],[0.3333333333333333,\"#9c179e\"],[0.4444444444444444,\"#bd3786\"],[0.5555555555555556,\"#d8576b\"],[0.6666666666666666,\"#ed7953\"],[0.7777777777777778,\"#fb9f3a\"],[0.8888888888888888,\"#fdca26\"],[1.0,\"#f0f921\"]],\"type\":\"histogram2dcontour\"}],\"mesh3d\":[{\"colorbar\":{\"outlinewidth\":0,\"ticks\":\"\"},\"type\":\"mesh3d\"}],\"parcoords\":[{\"line\":{\"colorbar\":{\"outlinewidth\":0,\"ticks\":\"\"}},\"type\":\"parcoords\"}],\"pie\":[{\"automargin\":true,\"type\":\"pie\"}],\"scatter\":[{\"marker\":{\"colorbar\":{\"outlinewidth\":0,\"ticks\":\"\"}},\"type\":\"scatter\"}],\"scatter3d\":[{\"line\":{\"colorbar\":{\"outlinewidth\":0,\"ticks\":\"\"}},\"marker\":{\"colorbar\":{\"outlinewidth\":0,\"ticks\":\"\"}},\"type\":\"scatter3d\"}],\"scattercarpet\":[{\"marker\":{\"colorbar\":{\"outlinewidth\":0,\"ticks\":\"\"}},\"type\":\"scattercarpet\"}],\"scattergeo\":[{\"marker\":{\"colorbar\":{\"outlinewidth\":0,\"ticks\":\"\"}},\"type\":\"scattergeo\"}],\"scattergl\":[{\"marker\":{\"colorbar\":{\"outlinewidth\":0,\"ticks\":\"\"}},\"type\":\"scattergl\"}],\"scattermapbox\":[{\"marker\":{\"colorbar\":{\"outlinewidth\":0,\"ticks\":\"\"}},\"type\":\"scattermapbox\"}],\"scatterpolar\":[{\"marker\":{\"colorbar\":{\"outlinewidth\":0,\"ticks\":\"\"}},\"type\":\"scatterpolar\"}],\"scatterpolargl\":[{\"marker\":{\"colorbar\":{\"outlinewidth\":0,\"ticks\":\"\"}},\"type\":\"scatterpolargl\"}],\"scatterternary\":[{\"marker\":{\"colorbar\":{\"outlinewidth\":0,\"ticks\":\"\"}},\"type\":\"scatterternary\"}],\"surface\":[{\"colorbar\":{\"outlinewidth\":0,\"ticks\":\"\"},\"colorscale\":[[0.0,\"#0d0887\"],[0.1111111111111111,\"#46039f\"],[0.2222222222222222,\"#7201a8\"],[0.3333333333333333,\"#9c179e\"],[0.4444444444444444,\"#bd3786\"],[0.5555555555555556,\"#d8576b\"],[0.6666666666666666,\"#ed7953\"],[0.7777777777777778,\"#fb9f3a\"],[0.8888888888888888,\"#fdca26\"],[1.0,\"#f0f921\"]],\"type\":\"surface\"}],\"table\":[{\"cells\":{\"fill\":{\"color\":\"#EBF0F8\"},\"line\":{\"color\":\"white\"}},\"header\":{\"fill\":{\"color\":\"#C8D4E3\"},\"line\":{\"color\":\"white\"}},\"type\":\"table\"}]},\"layout\":{\"annotationdefaults\":{\"arrowcolor\":\"#2a3f5f\",\"arrowhead\":0,\"arrowwidth\":1},\"autotypenumbers\":\"strict\",\"coloraxis\":{\"colorbar\":{\"outlinewidth\":0,\"ticks\":\"\"}},\"colorscale\":{\"diverging\":[[0,\"#8e0152\"],[0.1,\"#c51b7d\"],[0.2,\"#de77ae\"],[0.3,\"#f1b6da\"],[0.4,\"#fde0ef\"],[0.5,\"#f7f7f7\"],[0.6,\"#e6f5d0\"],[0.7,\"#b8e186\"],[0.8,\"#7fbc41\"],[0.9,\"#4d9221\"],[1,\"#276419\"]],\"sequential\":[[0.0,\"#0d0887\"],[0.1111111111111111,\"#46039f\"],[0.2222222222222222,\"#7201a8\"],[0.3333333333333333,\"#9c179e\"],[0.4444444444444444,\"#bd3786\"],[0.5555555555555556,\"#d8576b\"],[0.6666666666666666,\"#ed7953\"],[0.7777777777777778,\"#fb9f3a\"],[0.8888888888888888,\"#fdca26\"],[1.0,\"#f0f921\"]],\"sequentialminus\":[[0.0,\"#0d0887\"],[0.1111111111111111,\"#46039f\"],[0.2222222222222222,\"#7201a8\"],[0.3333333333333333,\"#9c179e\"],[0.4444444444444444,\"#bd3786\"],[0.5555555555555556,\"#d8576b\"],[0.6666666666666666,\"#ed7953\"],[0.7777777777777778,\"#fb9f3a\"],[0.8888888888888888,\"#fdca26\"],[1.0,\"#f0f921\"]]},\"colorway\":[\"#636efa\",\"#EF553B\",\"#00cc96\",\"#ab63fa\",\"#FFA15A\",\"#19d3f3\",\"#FF6692\",\"#B6E880\",\"#FF97FF\",\"#FECB52\"],\"font\":{\"color\":\"#2a3f5f\"},\"geo\":{\"bgcolor\":\"white\",\"lakecolor\":\"white\",\"landcolor\":\"#E5ECF6\",\"showlakes\":true,\"showland\":true,\"subunitcolor\":\"white\"},\"hoverlabel\":{\"align\":\"left\"},\"hovermode\":\"closest\",\"mapbox\":{\"style\":\"light\"},\"paper_bgcolor\":\"white\",\"plot_bgcolor\":\"#E5ECF6\",\"polar\":{\"angularaxis\":{\"gridcolor\":\"white\",\"linecolor\":\"white\",\"ticks\":\"\"},\"bgcolor\":\"#E5ECF6\",\"radialaxis\":{\"gridcolor\":\"white\",\"linecolor\":\"white\",\"ticks\":\"\"}},\"scene\":{\"xaxis\":{\"backgroundcolor\":\"#E5ECF6\",\"gridcolor\":\"white\",\"gridwidth\":2,\"linecolor\":\"white\",\"showbackground\":true,\"ticks\":\"\",\"zerolinecolor\":\"white\"},\"yaxis\":{\"backgroundcolor\":\"#E5ECF6\",\"gridcolor\":\"white\",\"gridwidth\":2,\"linecolor\":\"white\",\"showbackground\":true,\"ticks\":\"\",\"zerolinecolor\":\"white\"},\"zaxis\":{\"backgroundcolor\":\"#E5ECF6\",\"gridcolor\":\"white\",\"gridwidth\":2,\"linecolor\":\"white\",\"showbackground\":true,\"ticks\":\"\",\"zerolinecolor\":\"white\"}},\"shapedefaults\":{\"line\":{\"color\":\"#2a3f5f\"}},\"ternary\":{\"aaxis\":{\"gridcolor\":\"white\",\"linecolor\":\"white\",\"ticks\":\"\"},\"baxis\":{\"gridcolor\":\"white\",\"linecolor\":\"white\",\"ticks\":\"\"},\"bgcolor\":\"#E5ECF6\",\"caxis\":{\"gridcolor\":\"white\",\"linecolor\":\"white\",\"ticks\":\"\"}},\"title\":{\"x\":0.05},\"xaxis\":{\"automargin\":true,\"gridcolor\":\"white\",\"linecolor\":\"white\",\"ticks\":\"\",\"title\":{\"standoff\":15},\"zerolinecolor\":\"white\",\"zerolinewidth\":2},\"yaxis\":{\"automargin\":true,\"gridcolor\":\"white\",\"linecolor\":\"white\",\"ticks\":\"\",\"title\":{\"standoff\":15},\"zerolinecolor\":\"white\",\"zerolinewidth\":2}}},\"title\":{\"font\":{\"color\":\"#4D5663\"}},\"xaxis\":{\"gridcolor\":\"#E1E5ED\",\"showgrid\":true,\"tickfont\":{\"color\":\"#4D5663\"},\"title\":{\"font\":{\"color\":\"#4D5663\"},\"text\":\"Flax Seeds (NOW foods real food) Price\"},\"zerolinecolor\":\"#E1E5ED\"},\"yaxis\":{\"gridcolor\":\"#E1E5ED\",\"showgrid\":true,\"tickfont\":{\"color\":\"#4D5663\"},\"title\":{\"font\":{\"color\":\"#4D5663\"},\"text\":\"Hectograms\"},\"zerolinecolor\":\"#E1E5ED\"}},                        {\"showLink\": true, \"linkText\": \"Export to plot.ly\", \"plotlyServerURL\": \"https://plot.ly\", \"responsive\": true}                    ).then(function(){\n",
       "                            \n",
       "var gd = document.getElementById('434e845a-eb04-4386-bff5-cfb8b2bf2b4d');\n",
       "var x = new MutationObserver(function (mutations, observer) {{\n",
       "        var display = window.getComputedStyle(gd).display;\n",
       "        if (!display || display === 'none') {{\n",
       "            console.log([gd, 'removed!']);\n",
       "            Plotly.purge(gd);\n",
       "            observer.disconnect();\n",
       "        }}\n",
       "}});\n",
       "\n",
       "// Listen for the removal of the full notebook cells\n",
       "var notebookContainer = gd.closest('#notebook-container');\n",
       "if (notebookContainer) {{\n",
       "    x.observe(notebookContainer, {childList: true});\n",
       "}}\n",
       "\n",
       "// Listen for the clearing of the current output cell\n",
       "var outputEl = gd.closest('.output');\n",
       "if (outputEl) {{\n",
       "    x.observe(outputEl, {childList: true});\n",
       "}}\n",
       "\n",
       "                        })                };                });            </script>        </div>"
      ]
     },
     "metadata": {},
     "output_type": "display_data"
    }
   ],
   "source": [
    "import cufflinks as cf\n",
    "cf.go_offline()\n",
    "\n",
    "ReferenceGood = 'Flax Seeds (NOW foods real food)'\n",
    "\n",
    "scale = [0.5,0.75,0.9,1.,1.1,1.2,1.3,1.4,1.5,2,4]\n",
    "\n",
    "cost0_AK = solve_subsistence_problem(D,Prices_AK,diet_min[group],diet_max[group],tol=tol).fun\n",
    "\n",
    "my_p_AK = Prices_AK.copy()\n",
    "\n",
    "diet = {}\n",
    "for s in scale:\n",
    "\n",
    "    my_p_AK[ReferenceGood] = Prices_AK[ReferenceGood]*s\n",
    "    result_AK = solve_subsistence_problem(D,my_p_AK,diet_min[group],diet_max[group],tol=tol)\n",
    "    diet[my_p_AK[ReferenceGood]] = result_AK.diet\n",
    "\n",
    "Diet_response = pd.DataFrame(diet).T\n",
    "Diet_response.index.name = '%s Price' % ReferenceGood\n",
    "\n",
    "Diet_response.reset_index(inplace=True)\n",
    "\n",
    "# Get rid of units for index (cufflinks chokes)\n",
    "Diet_response['%s Price' % ReferenceGood] = Diet_response['%s Price' % ReferenceGood].apply(lambda x: x.magnitude)\n",
    "\n",
    "Diet_response = Diet_response.set_index('%s Price' % ReferenceGood)\n",
    "\n",
    "# Just look at goods consumed in quantities greater than error tolerance\n",
    "Diet_response.loc[:,(Diet_response>tol).sum()>0].iplot(xTitle='%s Price' % ReferenceGood,yTitle='Hectograms')"
   ]
  },
  {
   "cell_type": "markdown",
   "id": "986b49af",
   "metadata": {},
   "source": [
    "This plot shows how the composition of nutrients in each of the other food items changes with respect to the price of flax seeds."
   ]
  },
  {
   "cell_type": "code",
   "execution_count": 49,
   "id": "063dcb63",
   "metadata": {},
   "outputs": [
    {
     "data": {
      "application/vnd.plotly.v1+json": {
       "config": {
        "linkText": "Export to plot.ly",
        "plotlyServerURL": "https://plot.ly",
        "showLink": true
       },
       "data": [
        {
         "line": {
          "color": "rgba(255, 153, 51, 1.0)",
          "dash": "solid",
          "shape": "linear",
          "width": 1.3
         },
         "mode": "lines",
         "name": "Alanine",
         "text": "",
         "type": "scatter",
         "x": [
          0.5276396808291403,
          0.7914595212437103,
          0.9497514254924525,
          1.0552793616582805,
          1.1608072978241086,
          1.2663352339899365,
          1.3718631701557646,
          1.4773911063215925,
          1.5829190424874207,
          2.110558723316561,
          4.221117446633122
         ],
         "y": [
          1.2665629857305203e-07,
          2.913023220599789e-08,
          2.336640697913047e-08,
          2.5040814312176404e-08,
          3.281358627077771e-12,
          1.4961228430013948e-08,
          2.5197310776283452e-08,
          2.40419512272023e-08,
          2.3965569458201486e-08,
          1.7098445706696135e-09,
          3.371764030666573e-08
         ]
        },
        {
         "line": {
          "color": "rgba(55, 128, 191, 1.0)",
          "dash": "solid",
          "shape": "linear",
          "width": 1.3
         },
         "mode": "lines",
         "name": "Alcohol, ethyl",
         "text": "",
         "type": "scatter",
         "x": [
          0.5276396808291403,
          0.7914595212437103,
          0.9497514254924525,
          1.0552793616582805,
          1.1608072978241086,
          1.2663352339899365,
          1.3718631701557646,
          1.4773911063215925,
          1.5829190424874207,
          2.110558723316561,
          4.221117446633122
         ],
         "y": [
          0,
          0,
          0,
          0,
          0,
          0,
          0,
          0,
          0,
          0,
          0
         ]
        },
        {
         "line": {
          "color": "rgba(50, 171, 96, 1.0)",
          "dash": "solid",
          "shape": "linear",
          "width": 1.3
         },
         "mode": "lines",
         "name": "Amino acids",
         "text": "",
         "type": "scatter",
         "x": [
          0.5276396808291403,
          0.7914595212437103,
          0.9497514254924525,
          1.0552793616582805,
          1.1608072978241086,
          1.2663352339899365,
          1.3718631701557646,
          1.4773911063215925,
          1.5829190424874207,
          2.110558723316561,
          4.221117446633122
         ],
         "y": [
          0,
          0,
          0,
          0,
          0,
          0,
          0,
          0,
          0,
          0,
          0
         ]
        },
        {
         "line": {
          "color": "rgba(128, 0, 128, 1.0)",
          "dash": "solid",
          "shape": "linear",
          "width": 1.3
         },
         "mode": "lines",
         "name": "Arginine",
         "text": "",
         "type": "scatter",
         "x": [
          0.5276396808291403,
          0.7914595212437103,
          0.9497514254924525,
          1.0552793616582805,
          1.1608072978241086,
          1.2663352339899365,
          1.3718631701557646,
          1.4773911063215925,
          1.5829190424874207,
          2.110558723316561,
          4.221117446633122
         ],
         "y": [
          1.7920302079872736e-07,
          3.272628705965972e-08,
          2.6827691073185984e-08,
          2.862579455467172e-08,
          3.598253109033917e-12,
          1.7038383549763895e-08,
          2.8538446285394358e-08,
          2.997159829184568e-08,
          3.107497632477493e-08,
          2.6384470817694005e-09,
          5.297166183588975e-08
         ]
        },
        {
         "line": {
          "color": "rgba(219, 64, 82, 1.0)",
          "dash": "solid",
          "shape": "linear",
          "width": 1.3
         },
         "mode": "lines",
         "name": "Ash",
         "text": "",
         "type": "scatter",
         "x": [
          0.5276396808291403,
          0.7914595212437103,
          0.9497514254924525,
          1.0552793616582805,
          1.1608072978241086,
          1.2663352339899365,
          1.3718631701557646,
          1.4773911063215925,
          1.5829190424874207,
          2.110558723316561,
          4.221117446633122
         ],
         "y": [
          2.795341256325727,
          1.8399497402855127,
          1.826376670651232,
          1.8263766885910862,
          1.82637641488583,
          1.8263765886661398,
          1.8263767110915026,
          1.826376982692876,
          1.8263771262892228,
          1.7364535420720946,
          1.829996316652991
         ]
        },
        {
         "line": {
          "color": "rgba(0, 128, 128, 1.0)",
          "dash": "solid",
          "shape": "linear",
          "width": 1.3
         },
         "mode": "lines",
         "name": "Aspartic acid",
         "text": "",
         "type": "scatter",
         "x": [
          0.5276396808291403,
          0.7914595212437103,
          0.9497514254924525,
          1.0552793616582805,
          1.1608072978241086,
          1.2663352339899365,
          1.3718631701557646,
          1.4773911063215925,
          1.5829190424874207,
          2.110558723316561,
          4.221117446633122
         ],
         "y": [
          3.019722793292662e-07,
          6.191052986454733e-08,
          4.9709488225099167e-08,
          5.3135879677038263e-08,
          6.846769773094752e-12,
          3.165752012676062e-08,
          5.313877425510844e-08,
          5.2776137506608086e-08,
          5.349841995595569e-08,
          4.137146584579129e-09,
          8.235222710116293e-08
         ]
        },
        {
         "line": {
          "color": "rgba(255, 255, 51, 1.0)",
          "dash": "solid",
          "shape": "linear",
          "width": 1.3
         },
         "mode": "lines",
         "name": "Beta-sitosterol",
         "text": "",
         "type": "scatter",
         "x": [
          0.5276396808291403,
          0.7914595212437103,
          0.9497514254924525,
          1.0552793616582805,
          1.1608072978241086,
          1.2663352339899365,
          1.3718631701557646,
          1.4773911063215925,
          1.5829190424874207,
          2.110558723316561,
          4.221117446633122
         ],
         "y": [
          3.0159384340138356e-07,
          9.369142631726649e-08,
          6.043799334728867e-08,
          6.449532187018078e-08,
          9.156699347586096e-12,
          3.8372079925613e-08,
          6.366501817851666e-08,
          4.6765711916351365e-08,
          3.706321374667258e-08,
          2.9846385538507783e-10,
          7.93901101771372e-10
         ]
        },
        {
         "line": {
          "color": "rgba(128, 128, 0, 1.0)",
          "dash": "solid",
          "shape": "linear",
          "width": 1.3
         },
         "mode": "lines",
         "name": "Betaine",
         "text": "",
         "type": "scatter",
         "x": [
          0.5276396808291403,
          0.7914595212437103,
          0.9497514254924525,
          1.0552793616582805,
          1.1608072978241086,
          1.2663352339899365,
          1.3718631701557646,
          1.4773911063215925,
          1.5829190424874207,
          2.110558723316561,
          4.221117446633122
         ],
         "y": [
          2.9268005190903885e-06,
          4.1914113820829496e-07,
          4.790837019893935e-07,
          5.064030899733984e-07,
          3.72605308857671e-11,
          3.097021513142192e-07,
          5.092850214652797e-07,
          1.0296539003357833e-06,
          1.2298640256701586e-06,
          1.645012910413872e-07,
          3.396189628032158e-06
         ]
        },
        {
         "line": {
          "color": "rgba(251, 128, 114, 1.0)",
          "dash": "solid",
          "shape": "linear",
          "width": 1.3
         },
         "mode": "lines",
         "name": "Biotin",
         "text": "",
         "type": "scatter",
         "x": [
          0.5276396808291403,
          0.7914595212437103,
          0.9497514254924525,
          1.0552793616582805,
          1.1608072978241086,
          1.2663352339899365,
          1.3718631701557646,
          1.4773911063215925,
          1.5829190424874207,
          2.110558723316561,
          4.221117446633122
         ],
         "y": [
          3.8746026361101764,
          3.848334459197732,
          3.8199456925839,
          3.8199456973152484,
          3.8199457445471974,
          3.8199457325151625,
          3.8199457447692775,
          3.819945796076668,
          3.819945882776325,
          3.631867967639898,
          3.827513300245051
         ]
        },
        {
         "line": {
          "color": "rgba(128, 177, 211, 1.0)",
          "dash": "solid",
          "shape": "linear",
          "width": 1.3
         },
         "mode": "lines",
         "name": "Caffeine",
         "text": "",
         "type": "scatter",
         "x": [
          0.5276396808291403,
          0.7914595212437103,
          0.9497514254924525,
          1.0552793616582805,
          1.1608072978241086,
          1.2663352339899365,
          1.3718631701557646,
          1.4773911063215925,
          1.5829190424874207,
          2.110558723316561,
          4.221117446633122
         ],
         "y": [
          1.964929585796893e-07,
          6.104138381276452e-08,
          3.93762683929305e-08,
          4.20196794002693e-08,
          5.9657283628212455e-12,
          2.4999991466687254e-08,
          4.147872396479116e-08,
          3.046856988489559e-08,
          2.4147245319801832e-08,
          1.9445372396300524e-10,
          5.172385966086211e-10
         ]
        },
        {
         "line": {
          "color": "rgba(128, 177, 211, 0.9595959595959596)",
          "dash": "solid",
          "shape": "linear",
          "width": 1.3
         },
         "mode": "lines",
         "name": "Calcium, Ca",
         "text": "",
         "type": "scatter",
         "x": [
          0.5276396808291403,
          0.7914595212437103,
          0.9497514254924525,
          1.0552793616582805,
          1.1608072978241086,
          1.2663352339899365,
          1.3718631701557646,
          1.4773911063215925,
          1.5829190424874207,
          2.110558723316561,
          4.221117446633122
         ],
         "y": [
          1808.6959022263359,
          1363.339549879967,
          1303.2678134383825,
          1303.2678100367773,
          1303.267825026535,
          1303.2678163673247,
          1303.2678124966956,
          1303.267808142543,
          1303.267804074273,
          1105.5621080922128,
          1082.7509877062132
         ]
        },
        {
         "line": {
          "color": "rgba(255, 153, 51, 0.9595959595959596)",
          "dash": "solid",
          "shape": "linear",
          "width": 1.3
         },
         "mode": "lines",
         "name": "Campesterol",
         "text": "",
         "type": "scatter",
         "x": [
          0.5276396808291403,
          0.7914595212437103,
          0.9497514254924525,
          1.0552793616582805,
          1.1608072978241086,
          1.2663352339899365,
          1.3718631701557646,
          1.4773911063215925,
          1.5829190424874207,
          2.110558723316561,
          4.221117446633122
         ],
         "y": [
          8.407445317205104e-08,
          2.59039508721815e-08,
          1.6704636951520053e-08,
          1.7806005092888176e-08,
          2.5253958335530206e-12,
          1.0552238548894083e-08,
          1.7521963777535827e-08,
          1.2737238838164987e-08,
          1.018246478888076e-08,
          8.184727458720623e-11,
          2.1065526132678644e-10
         ]
        },
        {
         "line": {
          "color": "rgba(55, 128, 191, 0.9595959595959596)",
          "dash": "solid",
          "shape": "linear",
          "width": 1.3
         },
         "mode": "lines",
         "name": "Carbohydrate, by difference",
         "text": "",
         "type": "scatter",
         "x": [
          0.5276396808291403,
          0.7914595212437103,
          0.9497514254924525,
          1.0552793616582805,
          1.1608072978241086,
          1.2663352339899365,
          1.3718631701557646,
          1.4773911063215925,
          1.5829190424874207,
          2.110558723316561,
          4.221117446633122
         ],
         "y": [
          188.53991662289806,
          218.55231446542155,
          244.05251246736591,
          244.05251617107558,
          244.05250671588826,
          244.052519229906,
          244.0525388615259,
          244.0525622241791,
          244.05262330947548,
          204.5224504592452,
          390.2558909224271
         ]
        },
        {
         "line": {
          "color": "rgba(50, 171, 96, 0.9595959595959596)",
          "dash": "solid",
          "shape": "linear",
          "width": 1.3
         },
         "mode": "lines",
         "name": "Carbohydrate, by summation",
         "text": "",
         "type": "scatter",
         "x": [
          0.5276396808291403,
          0.7914595212437103,
          0.9497514254924525,
          1.0552793616582805,
          1.1608072978241086,
          1.2663352339899365,
          1.3718631701557646,
          1.4773911063215925,
          1.5829190424874207,
          2.110558723316561,
          4.221117446633122
         ],
         "y": [
          7.127781116903087e-06,
          6.996592522761538e-07,
          4.666384875273628e-07,
          4.861539849842074e-07,
          7.02077069903052e-11,
          2.714802537538037e-07,
          4.422031046682565e-07,
          2.7704946461958996e-07,
          2.379474231491884e-07,
          1.0512140912957215e-09,
          3.1155168946615073e-09
         ]
        },
        {
         "line": {
          "color": "rgba(128, 0, 128, 0.9595959595959596)",
          "dash": "solid",
          "shape": "linear",
          "width": 1.3
         },
         "mode": "lines",
         "name": "Carbohydrates",
         "text": "",
         "type": "scatter",
         "x": [
          0.5276396808291403,
          0.7914595212437103,
          0.9497514254924525,
          1.0552793616582805,
          1.1608072978241086,
          1.2663352339899365,
          1.3718631701557646,
          1.4773911063215925,
          1.5829190424874207,
          2.110558723316561,
          4.221117446633122
         ],
         "y": [
          0,
          0,
          0,
          0,
          0,
          0,
          0,
          0,
          0,
          0,
          0
         ]
        },
        {
         "line": {
          "color": "rgba(219, 64, 82, 0.9595959595959596)",
          "dash": "solid",
          "shape": "linear",
          "width": 1.3
         },
         "mode": "lines",
         "name": "Carotene, alpha",
         "text": "",
         "type": "scatter",
         "x": [
          0.5276396808291403,
          0.7914595212437103,
          0.9497514254924525,
          1.0552793616582805,
          1.1608072978241086,
          1.2663352339899365,
          1.3718631701557646,
          1.4773911063215925,
          1.5829190424874207,
          2.110558723316561,
          4.221117446633122
         ],
         "y": [
          2385.4327479352933,
          2797.7558219038137,
          2557.509992367024,
          2557.5100377840436,
          2557.51074093639,
          2557.5104858829877,
          2557.5104796387295,
          2557.5109219151786,
          2557.511557321203,
          1316.6960958368331,
          3200.5226752465087
         ]
        },
        {
         "line": {
          "color": "rgba(0, 128, 128, 0.9595959595959596)",
          "dash": "solid",
          "shape": "linear",
          "width": 1.3
         },
         "mode": "lines",
         "name": "Carotene, beta",
         "text": "",
         "type": "scatter",
         "x": [
          0.5276396808291403,
          0.7914595212437103,
          0.9497514254924525,
          1.0552793616582805,
          1.1608072978241086,
          1.2663352339899365,
          1.3718631701557646,
          1.4773911063215925,
          1.5829190424874207,
          2.110558723316561,
          4.221117446633122
         ],
         "y": [
          7706.476027904467,
          7542.597567936986,
          7677.941833902723,
          7677.941834129139,
          7677.941184505867,
          7677.941495539089,
          7677.941612233115,
          7677.94128633198,
          7677.9408926693595,
          8389.929189997607,
          7375.652537832637
         ]
        },
        {
         "line": {
          "color": "rgba(255, 255, 51, 0.9595959595959596)",
          "dash": "solid",
          "shape": "linear",
          "width": 1.3
         },
         "mode": "lines",
         "name": "Carotene, gamma",
         "text": "",
         "type": "scatter",
         "x": [
          0.5276396808291403,
          0.7914595212437103,
          0.9497514254924525,
          1.0552793616582805,
          1.1608072978241086,
          1.2663352339899365,
          1.3718631701557646,
          1.4773911063215925,
          1.5829190424874207,
          2.110558723316561,
          4.221117446633122
         ],
         "y": [
          1.555971679971115e-07,
          3.7336295176764284e-08,
          2.44901915886208e-08,
          2.5798569293226663e-08,
          3.659718688591972e-12,
          1.4833448392251725e-08,
          2.448791562529361e-08,
          1.706566555099132e-08,
          1.3856604382672003e-08,
          9.719274518177332e-11,
          2.5857490815055595e-10
         ]
        },
        {
         "line": {
          "color": "rgba(128, 128, 0, 0.9595959595959596)",
          "dash": "solid",
          "shape": "linear",
          "width": 1.3
         },
         "mode": "lines",
         "name": "Cholesterol",
         "text": "",
         "type": "scatter",
         "x": [
          0.5276396808291403,
          0.7914595212437103,
          0.9497514254924525,
          1.0552793616582805,
          1.1608072978241086,
          1.2663352339899365,
          1.3718631701557646,
          1.4773911063215925,
          1.5829190424874207,
          2.110558723316561,
          4.221117446633122
         ],
         "y": [
          0.12258473012247549,
          25.81769889258462,
          27.850455388747545,
          27.850456105186296,
          27.850452425400615,
          27.850454764444933,
          27.850455904373824,
          27.85045107880651,
          27.850441635700445,
          1785.78610990611,
          1639.3095526392049
         ]
        },
        {
         "line": {
          "color": "rgba(251, 128, 114, 0.9595959595959596)",
          "dash": "solid",
          "shape": "linear",
          "width": 1.3
         },
         "mode": "lines",
         "name": "Choline, total",
         "text": "",
         "type": "scatter",
         "x": [
          0.5276396808291403,
          0.7914595212437103,
          0.9497514254924525,
          1.0552793616582805,
          1.1608072978241086,
          1.2663352339899365,
          1.3718631701557646,
          1.4773911063215925,
          1.5829190424874207,
          2.110558723316561,
          4.221117446633122
         ],
         "y": [
          331.5556361239762,
          266.9867416561196,
          244.05859932563752,
          244.05859837043064,
          244.05859498645285,
          244.05859775692835,
          244.05860182973993,
          244.05860779820168,
          244.05862114862921,
          140.33045898022291,
          196.8960051401048
         ]
        },
        {
         "line": {
          "color": "rgba(251, 128, 114, 0.9191919191919191)",
          "dash": "solid",
          "shape": "linear",
          "width": 1.3
         },
         "mode": "lines",
         "name": "Copper, Cu",
         "text": "",
         "type": "scatter",
         "x": [
          0.5276396808291403,
          0.7914595212437103,
          0.9497514254924525,
          1.0552793616582805,
          1.1608072978241086,
          1.2663352339899365,
          1.3718631701557646,
          1.4773911063215925,
          1.5829190424874207,
          2.110558723316561,
          4.221117446633122
         ],
         "y": [
          4.967047580851987,
          3.6055635397347605,
          3.2018977572805936,
          3.20189773628482,
          3.2018976865768303,
          3.2018977164184688,
          3.201897752992031,
          3.201897784131756,
          3.201897887152397,
          1.470902126741656,
          1.8698944937223643
         ]
        },
        {
         "line": {
          "color": "rgba(128, 177, 211, 0.9191919191919191)",
          "dash": "solid",
          "shape": "linear",
          "width": 1.3
         },
         "mode": "lines",
         "name": "Cryptoxanthin, alpha",
         "text": "",
         "type": "scatter",
         "x": [
          0.5276396808291403,
          0.7914595212437103,
          0.9497514254924525,
          1.0552793616582805,
          1.1608072978241086,
          1.2663352339899365,
          1.3718631701557646,
          1.4773911063215925,
          1.5829190424874207,
          2.110558723316561,
          4.221117446633122
         ],
         "y": [
          7.047636432810345e-07,
          1.6911145462416766e-07,
          1.1092616190140009e-07,
          1.1685234326932076e-07,
          1.657637288362246e-11,
          6.718679565902253e-08,
          1.1091585312632988e-07,
          7.729742631919598e-08,
          6.276226690974966e-08,
          4.4022596347038506e-10,
          1.171192231034871e-09
         ]
        },
        {
         "line": {
          "color": "rgba(255, 153, 51, 0.9191919191919191)",
          "dash": "solid",
          "shape": "linear",
          "width": 1.3
         },
         "mode": "lines",
         "name": "Cryptoxanthin, beta",
         "text": "",
         "type": "scatter",
         "x": [
          0.5276396808291403,
          0.7914595212437103,
          0.9497514254924525,
          1.0552793616582805,
          1.1608072978241086,
          1.2663352339899365,
          1.3718631701557646,
          1.4773911063215925,
          1.5829190424874207,
          2.110558723316561,
          4.221117446633122
         ],
         "y": [
          16.530175930880553,
          0.30533089870103575,
          0.17532188113262026,
          0.17532208950720088,
          0.17531714945622862,
          0.17531994755871622,
          0.17532164214650262,
          0.17532014477402474,
          0.17531922057514213,
          1.191923285096936e-08,
          3.877107996549973e-08
         ]
        },
        {
         "line": {
          "color": "rgba(55, 128, 191, 0.9191919191919191)",
          "dash": "solid",
          "shape": "linear",
          "width": 1.3
         },
         "mode": "lines",
         "name": "Cystine",
         "text": "",
         "type": "scatter",
         "x": [
          0.5276396808291403,
          0.7914595212437103,
          0.9497514254924525,
          1.0552793616582805,
          1.1608072978241086,
          1.2663352339899365,
          1.3718631701557646,
          1.4773911063215925,
          1.5829190424874207,
          2.110558723316561,
          4.221117446633122
         ],
         "y": [
          2.9089306072045603e-08,
          5.6461537763433905e-09,
          4.769483960724204e-09,
          5.077066006173453e-09,
          5.924282720374234e-13,
          3.0325239222322936e-09,
          5.053529837267666e-09,
          6.1516562156677685e-09,
          6.6291562268541625e-09,
          6.638247236077622e-10,
          1.3479311702823122e-08
         ]
        },
        {
         "line": {
          "color": "rgba(50, 171, 96, 0.9191919191919191)",
          "dash": "solid",
          "shape": "linear",
          "width": 1.3
         },
         "mode": "lines",
         "name": "Energy",
         "text": "",
         "type": "scatter",
         "x": [
          0.5276396808291403,
          0.7914595212437103,
          0.9497514254924525,
          1.0552793616582805,
          1.1608072978241086,
          1.2663352339899365,
          1.3718631701557646,
          1.4773911063215925,
          1.5829190424874207,
          2.110558723316561,
          4.221117446633122
         ],
         "y": [
          2400.0000679562163,
          2400.0000191800023,
          2400.000011965362,
          2400.0000127122116,
          2400.000000005039,
          2400.0000075567345,
          2400.000012300547,
          2400.00000649278,
          2400.000006638811,
          2400.0000000466166,
          2400.000000088401
         ]
        },
        {
         "line": {
          "color": "rgba(128, 0, 128, 0.9191919191919191)",
          "dash": "solid",
          "shape": "linear",
          "width": 1.3
         },
         "mode": "lines",
         "name": "Energy (Atwater General Factors)",
         "text": "",
         "type": "scatter",
         "x": [
          0.5276396808291403,
          0.7914595212437103,
          0.9497514254924525,
          1.0552793616582805,
          1.1608072978241086,
          1.2663352339899365,
          1.3718631701557646,
          1.4773911063215925,
          1.5829190424874207,
          2.110558723316561,
          4.221117446633122
         ],
         "y": [
          55.347884115487204,
          54.972646583890274,
          54.56711876206259,
          54.567118857978066,
          54.56711898612058,
          54.56711912873572,
          54.567119508276576,
          54.56712008719758,
          54.56712125538578,
          51.88046762787557,
          54.675219927872575
         ]
        },
        {
         "line": {
          "color": "rgba(219, 64, 82, 0.9191919191919191)",
          "dash": "solid",
          "shape": "linear",
          "width": 1.3
         },
         "mode": "lines",
         "name": "Energy (Atwater Specific Factors)",
         "text": "",
         "type": "scatter",
         "x": [
          0.5276396808291403,
          0.7914595212437103,
          0.9497514254924525,
          1.0552793616582805,
          1.1608072978241086,
          1.2663352339899365,
          1.3718631701557646,
          1.4773911063215925,
          1.5829190424874207,
          2.110558723316561,
          4.221117446633122
         ],
         "y": [
          55.347883710862185,
          54.97264647807985,
          54.56711869322536,
          54.567118785399366,
          54.567118986110295,
          54.56711908697813,
          54.56711943936528,
          54.567120038840095,
          54.56712121628648,
          51.880467627587734,
          54.6752199271557
         ]
        },
        {
         "line": {
          "color": "rgba(0, 128, 128, 0.9191919191919191)",
          "dash": "solid",
          "shape": "linear",
          "width": 1.3
         },
         "mode": "lines",
         "name": "Fatty acids, total monounsaturated",
         "text": "",
         "type": "scatter",
         "x": [
          0.5276396808291403,
          0.7914595212437103,
          0.9497514254924525,
          1.0552793616582805,
          1.1608072978241086,
          1.2663352339899365,
          1.3718631701557646,
          1.4773911063215925,
          1.5829190424874207,
          2.110558723316561,
          4.221117446633122
         ],
         "y": [
          31.230322971589057,
          21.39916914121436,
          18.458454983253077,
          18.45845483662919,
          18.45845340430895,
          18.458454109272022,
          18.45845432261907,
          18.458453821762163,
          18.45845319880654,
          28.003716599954366,
          25.939190079482675
         ]
        },
        {
         "line": {
          "color": "rgba(255, 255, 51, 0.9191919191919191)",
          "dash": "solid",
          "shape": "linear",
          "width": 1.3
         },
         "mode": "lines",
         "name": "Fatty acids, total polyunsaturated",
         "text": "",
         "type": "scatter",
         "x": [
          0.5276396808291403,
          0.7914595212437103,
          0.9497514254924525,
          1.0552793616582805,
          1.1608072978241086,
          1.2663352339899365,
          1.3718631701557646,
          1.4773911063215925,
          1.5829190424874207,
          2.110558723316561,
          4.221117446633122
         ],
         "y": [
          109.38355399150574,
          71.986709441625,
          60.80464820771702,
          60.804647441961514,
          60.80464653465424,
          60.80464653438816,
          60.80464581497728,
          60.80464482853779,
          60.804642520782,
          27.317584779345104,
          23.09853658811584
         ]
        },
        {
         "line": {
          "color": "rgba(128, 128, 0, 0.9191919191919191)",
          "dash": "solid",
          "shape": "linear",
          "width": 1.3
         },
         "mode": "lines",
         "name": "Fatty acids, total saturated",
         "text": "",
         "type": "scatter",
         "x": [
          0.5276396808291403,
          0.7914595212437103,
          0.9497514254924525,
          1.0552793616582805,
          1.1608072978241086,
          1.2663352339899365,
          1.3718631701557646,
          1.4773911063215925,
          1.5829190424874207,
          2.110558723316561,
          4.221117446633122
         ],
         "y": [
          14.570540537793006,
          17.78265909145774,
          17.037950327296684,
          17.037950284666774,
          17.03794898059622,
          17.03794940694035,
          17.037949192943078,
          17.037947316817014,
          17.037944234341605,
          30.216121121700446,
          20.351286431336316
         ]
        },
        {
         "line": {
          "color": "rgba(128, 128, 0, 0.8787878787878787)",
          "dash": "solid",
          "shape": "linear",
          "width": 1.3
         },
         "mode": "lines",
         "name": "Fatty acids, total trans",
         "text": "",
         "type": "scatter",
         "x": [
          0.5276396808291403,
          0.7914595212437103,
          0.9497514254924525,
          1.0552793616582805,
          1.1608072978241086,
          1.2663352339899365,
          1.3718631701557646,
          1.4773911063215925,
          1.5829190424874207,
          2.110558723316561,
          4.221117446633122
         ],
         "y": [
          1.2847441046865236e-09,
          3.695448024515481e-10,
          2.7833906713080424e-10,
          3.0154335097364406e-10,
          4.4080677735300864e-14,
          1.8225989504474806e-10,
          3.1089690025782535e-10,
          2.1935545401775487e-10,
          1.8547316182762007e-10,
          1.4370484754210858e-12,
          3.4614100835621662e-12
         ]
        },
        {
         "line": {
          "color": "rgba(251, 128, 114, 0.8787878787878787)",
          "dash": "solid",
          "shape": "linear",
          "width": 1.3
         },
         "mode": "lines",
         "name": "Fatty acids, total trans-monoenoic",
         "text": "",
         "type": "scatter",
         "x": [
          0.5276396808291403,
          0.7914595212437103,
          0.9497514254924525,
          1.0552793616582805,
          1.1608072978241086,
          1.2663352339899365,
          1.3718631701557646,
          1.4773911063215925,
          1.5829190424874207,
          2.110558723316561,
          4.221117446633122
         ],
         "y": [
          8.939927052813313e-10,
          2.590044339471542e-10,
          1.9233065039761409e-10,
          2.080971650591027e-10,
          3.034605491019865e-14,
          1.2560752998567895e-10,
          2.1377508777132974e-10,
          1.513228971709021e-10,
          1.2728252021633795e-10,
          9.893528613672962e-13,
          2.402114459193602e-12
         ]
        },
        {
         "line": {
          "color": "rgba(128, 177, 211, 0.8787878787878787)",
          "dash": "solid",
          "shape": "linear",
          "width": 1.3
         },
         "mode": "lines",
         "name": "Fatty acids, total trans-polyenoic",
         "text": "",
         "type": "scatter",
         "x": [
          0.5276396808291403,
          0.7914595212437103,
          0.9497514254924525,
          1.0552793616582805,
          1.1608072978241086,
          1.2663352339899365,
          1.3718631701557646,
          1.4773911063215925,
          1.5829190424874207,
          2.110558723316561,
          4.221117446633122
         ],
         "y": [
          3.6372254156360437e-10,
          1.0320731122649866e-10,
          7.982793715220444e-11,
          8.668644574309466e-11,
          1.2728652096828897e-14,
          5.2525296782320065e-11,
          8.996609760272562e-11,
          6.310087102743678e-11,
          5.386183960113955e-11,
          4.1491954829788046e-13,
          9.848161407478882e-13
         ]
        },
        {
         "line": {
          "color": "rgba(255, 153, 51, 0.8787878787878787)",
          "dash": "solid",
          "shape": "linear",
          "width": 1.3
         },
         "mode": "lines",
         "name": "Fiber, insoluble",
         "text": "",
         "type": "scatter",
         "x": [
          0.5276396808291403,
          0.7914595212437103,
          0.9497514254924525,
          1.0552793616582805,
          1.1608072978241086,
          1.2663352339899365,
          1.3718631701557646,
          1.4773911063215925,
          1.5829190424874207,
          2.110558723316561,
          4.221117446633122
         ],
         "y": [
          1.9361120761538984e-06,
          2.677369043595295e-07,
          1.0901249883238852e-06,
          1.1565561313448528e-06,
          1.8199128764937712e-10,
          6.916570330238106e-07,
          9.284187405284377e-07,
          6.824684388886566e-07,
          6.190882358825214e-07,
          9.902419057202766e-10,
          2.506793692744343e-09
         ]
        },
        {
         "line": {
          "color": "rgba(55, 128, 191, 0.8787878787878787)",
          "dash": "solid",
          "shape": "linear",
          "width": 1.3
         },
         "mode": "lines",
         "name": "Fiber, soluble",
         "text": "",
         "type": "scatter",
         "x": [
          0.5276396808291403,
          0.7914595212437103,
          0.9497514254924525,
          1.0552793616582805,
          1.1608072978241086,
          1.2663352339899365,
          1.3718631701557646,
          1.4773911063215925,
          1.5829190424874207,
          2.110558723316561,
          4.221117446633122
         ],
         "y": [
          9.256992592329788e-07,
          1.8093017983832307e-07,
          1.031820860609251e-06,
          1.0959770466440056e-06,
          1.732076858338731e-10,
          6.580495710903559e-07,
          8.738303672791259e-07,
          6.492415253243372e-07,
          5.900894187464101e-07,
          8.849047374648128e-10,
          2.161098550342767e-09
         ]
        },
        {
         "line": {
          "color": "rgba(50, 171, 96, 0.8787878787878787)",
          "dash": "solid",
          "shape": "linear",
          "width": 1.3
         },
         "mode": "lines",
         "name": "Fiber, total dietary",
         "text": "",
         "type": "scatter",
         "x": [
          0.5276396808291403,
          0.7914595212437103,
          0.9497514254924525,
          1.0552793616582805,
          1.1608072978241086,
          1.2663352339899365,
          1.3718631701557646,
          1.4773911063215925,
          1.5829190424874207,
          2.110558723316561,
          4.221117446633122
         ],
         "y": [
          115.04845434292332,
          85.85943720702664,
          82.45037243081428,
          82.45037209624199,
          82.45037518436942,
          82.45037376366795,
          82.45037374062703,
          82.45037662775819,
          82.45038122157733,
          38.31064238151424,
          55.73149282391874
         ]
        },
        {
         "line": {
          "color": "rgba(128, 0, 128, 0.8787878787878787)",
          "dash": "solid",
          "shape": "linear",
          "width": 1.3
         },
         "mode": "lines",
         "name": "Fluoride, F",
         "text": "",
         "type": "scatter",
         "x": [
          0.5276396808291403,
          0.7914595212437103,
          0.9497514254924525,
          1.0552793616582805,
          1.1608072978241086,
          1.2663352339899365,
          1.3718631701557646,
          1.4773911063215925,
          1.5829190424874207,
          2.110558723316561,
          4.221117446633122
         ],
         "y": [
          1.8113151828647462e-07,
          5.0525999631696454e-08,
          3.344424042273695e-08,
          3.550370962762788e-08,
          5.061570230569836e-12,
          2.0674452637973128e-08,
          3.429602917164812e-08,
          2.4273976272625265e-08,
          1.965300646269255e-08,
          1.5480499683647863e-10,
          3.707553523303814e-10
         ]
        },
        {
         "line": {
          "color": "rgba(219, 64, 82, 0.8787878787878787)",
          "dash": "solid",
          "shape": "linear",
          "width": 1.3
         },
         "mode": "lines",
         "name": "Folate, DFE",
         "text": "",
         "type": "scatter",
         "x": [
          0.5276396808291403,
          0.7914595212437103,
          0.9497514254924525,
          1.0552793616582805,
          1.1608072978241086,
          1.2663352339899365,
          1.3718631701557646,
          1.4773911063215925,
          1.5829190424874207,
          2.110558723316561,
          4.221117446633122
         ],
         "y": [
          400.0000477824344,
          400.0000015867899,
          400.00000125675655,
          400.00000133888955,
          400.00000000047584,
          400.00000078055876,
          400.0000013112586,
          400.0000008655429,
          400.0000007321084,
          400.0000000053271,
          400.0000000229576
         ]
        },
        {
         "line": {
          "color": "rgba(0, 128, 128, 0.8787878787878787)",
          "dash": "solid",
          "shape": "linear",
          "width": 1.3
         },
         "mode": "lines",
         "name": "Folate, food",
         "text": "",
         "type": "scatter",
         "x": [
          0.5276396808291403,
          0.7914595212437103,
          0.9497514254924525,
          1.0552793616582805,
          1.1608072978241086,
          1.2663352339899365,
          1.3718631701557646,
          1.4773911063215925,
          1.5829190424874207,
          2.110558723316561,
          4.221117446633122
         ],
         "y": [
          400.0000477824344,
          400.0000015867899,
          400.00000125675655,
          400.00000133888955,
          400.00000000047584,
          400.00000078055876,
          400.0000013112586,
          400.0000008655429,
          400.0000007321084,
          400.0000000053271,
          400.0000000229576
         ]
        },
        {
         "line": {
          "color": "rgba(255, 255, 51, 0.8787878787878787)",
          "dash": "solid",
          "shape": "linear",
          "width": 1.3
         },
         "mode": "lines",
         "name": "Folate, total",
         "text": "",
         "type": "scatter",
         "x": [
          0.5276396808291403,
          0.7914595212437103,
          0.9497514254924525,
          1.0552793616582805,
          1.1608072978241086,
          1.2663352339899365,
          1.3718631701557646,
          1.4773911063215925,
          1.5829190424874207,
          2.110558723316561,
          4.221117446633122
         ],
         "y": [
          437.958189651164,
          400.0000041441883,
          400.0000040950138,
          400.00000433645585,
          400.0000000009203,
          400.00000250334324,
          400.0000042098019,
          400.0000025424226,
          400.00000226535576,
          400.000000010253,
          400.00000005349193
         ]
        },
        {
         "line": {
          "color": "rgba(255, 255, 51, 0.8383838383838382)",
          "dash": "solid",
          "shape": "linear",
          "width": 1.3
         },
         "mode": "lines",
         "name": "Folic acid",
         "text": "",
         "type": "scatter",
         "x": [
          0.5276396808291403,
          0.7914595212437103,
          0.9497514254924525,
          1.0552793616582805,
          1.1608072978241086,
          1.2663352339899365,
          1.3718631701557646,
          1.4773911063215925,
          1.5829190424874207,
          2.110558723316561,
          4.221117446633122
         ],
         "y": [
          34.99010104320538,
          42.166469195917976,
          51.58416267798311,
          51.58416162606491,
          51.58417335456578,
          51.58416394758395,
          51.584153281305895,
          51.584149899029434,
          51.58412780390259,
          105.29303002673578,
          38.125007900221064
         ]
        },
        {
         "line": {
          "color": "rgba(128, 128, 0, 0.8383838383838382)",
          "dash": "solid",
          "shape": "linear",
          "width": 1.3
         },
         "mode": "lines",
         "name": "Fructose",
         "text": "",
         "type": "scatter",
         "x": [
          0.5276396808291403,
          0.7914595212437103,
          0.9497514254924525,
          1.0552793616582805,
          1.1608072978241086,
          1.2663352339899365,
          1.3718631701557646,
          1.4773911063215925,
          1.5829190424874207,
          2.110558723316561,
          4.221117446633122
         ],
         "y": [
          0.24489309100666415,
          2.723256689403998e-07,
          1.8526254092477496e-07,
          1.943906617495372e-07,
          2.7982574550299147e-11,
          1.1040516808259829e-07,
          1.8133536014328704e-07,
          1.1834009728712794e-07,
          9.986942101191232e-08,
          5.365096532903697e-10,
          1.518659753480337e-09
         ]
        },
        {
         "line": {
          "color": "rgba(251, 128, 114, 0.8383838383838382)",
          "dash": "solid",
          "shape": "linear",
          "width": 1.3
         },
         "mode": "lines",
         "name": "Galactose",
         "text": "",
         "type": "scatter",
         "x": [
          0.5276396808291403,
          0.7914595212437103,
          0.9497514254924525,
          1.0552793616582805,
          1.1608072978241086,
          1.2663352339899365,
          1.3718631701557646,
          1.4773911063215925,
          1.5829190424874207,
          2.110558723316561,
          4.221117446633122
         ],
         "y": [
          7.944364837126079e-10,
          2.2160526154252827e-10,
          1.4668526501200414e-10,
          1.5571802468257838e-10,
          2.2199869432323838e-14,
          9.067742385075931e-11,
          1.5042118057740404e-10,
          1.0646480821326869e-10,
          8.61973967661954e-11,
          6.789692843705202e-13,
          1.6261199663613216e-12
         ]
        },
        {
         "line": {
          "color": "rgba(128, 177, 211, 0.8383838383838382)",
          "dash": "solid",
          "shape": "linear",
          "width": 1.3
         },
         "mode": "lines",
         "name": "Glucose",
         "text": "",
         "type": "scatter",
         "x": [
          0.5276396808291403,
          0.7914595212437103,
          0.9497514254924525,
          1.0552793616582805,
          1.1608072978241086,
          1.2663352339899365,
          1.3718631701557646,
          1.4773911063215925,
          1.5829190424874207,
          2.110558723316561,
          4.221117446633122
         ],
         "y": [
          0.24489268580219173,
          1.9460240903999196e-07,
          1.3671369161160615e-07,
          1.433226656624366e-07,
          2.0340968353693283e-11,
          8.142205238098411e-08,
          1.3365288027660674e-07,
          9.259017130544647e-08,
          8.258620556824748e-08,
          1.993932913818129e-09,
          3.5224520718920086e-08
         ]
        },
        {
         "line": {
          "color": "rgba(255, 153, 51, 0.8383838383838382)",
          "dash": "solid",
          "shape": "linear",
          "width": 1.3
         },
         "mode": "lines",
         "name": "Glutamic acid",
         "text": "",
         "type": "scatter",
         "x": [
          0.5276396808291403,
          0.7914595212437103,
          0.9497514254924525,
          1.0552793616582805,
          1.1608072978241086,
          1.2663352339899365,
          1.3718631701557646,
          1.4773911063215925,
          1.5829190424874207,
          2.110558723316561,
          4.221117446633122
         ],
         "y": [
          4.890590473786383e-07,
          8.843279166393055e-08,
          7.364000834763757e-08,
          7.843772919677422e-08,
          9.472588149976771e-12,
          4.673453893997476e-08,
          7.802512870684619e-08,
          8.914394221013905e-08,
          9.469446150422963e-08,
          8.920066445073137e-09,
          1.8046353136755103e-07
         ]
        },
        {
         "line": {
          "color": "rgba(55, 128, 191, 0.8383838383838382)",
          "dash": "solid",
          "shape": "linear",
          "width": 1.3
         },
         "mode": "lines",
         "name": "Glycine",
         "text": "",
         "type": "scatter",
         "x": [
          0.5276396808291403,
          0.7914595212437103,
          0.9497514254924525,
          1.0552793616582805,
          1.1608072978241086,
          1.2663352339899365,
          1.3718631701557646,
          1.4773911063215925,
          1.5829190424874207,
          2.110558723316561,
          4.221117446633122
         ],
         "y": [
          1.0766823453236793e-07,
          2.4390385501666095e-08,
          2.0112022925893315e-08,
          2.157480470912999e-08,
          2.7805512859791883e-12,
          1.2936513738482226e-08,
          2.181720175541656e-08,
          2.1781981643346666e-08,
          2.2117404514166282e-08,
          1.7119522769047595e-09,
          3.402223961808072e-08
         ]
        },
        {
         "line": {
          "color": "rgba(50, 171, 96, 0.8383838383838382)",
          "dash": "solid",
          "shape": "linear",
          "width": 1.3
         },
         "mode": "lines",
         "name": "Histidine",
         "text": "",
         "type": "scatter",
         "x": [
          0.5276396808291403,
          0.7914595212437103,
          0.9497514254924525,
          1.0552793616582805,
          1.1608072978241086,
          1.2663352339899365,
          1.3718631701557646,
          1.4773911063215925,
          1.5829190424874207,
          2.110558723316561,
          4.221117446633122
         ],
         "y": [
          5.6821155349809244e-08,
          1.2653704987852465e-08,
          1.0406580008385297e-08,
          1.1141417703257045e-08,
          1.408378596967798e-12,
          6.6705874250839524e-09,
          1.1213537087076641e-08,
          1.1677695682453775e-08,
          1.2014292444913674e-08,
          9.960168834066774e-10,
          1.9917224220637396e-08
         ]
        },
        {
         "line": {
          "color": "rgba(128, 0, 128, 0.8383838383838382)",
          "dash": "solid",
          "shape": "linear",
          "width": 1.3
         },
         "mode": "lines",
         "name": "Hydroxyproline",
         "text": "",
         "type": "scatter",
         "x": [
          0.5276396808291403,
          0.7914595212437103,
          0.9497514254924525,
          1.0552793616582805,
          1.1608072978241086,
          1.2663352339899365,
          1.3718631701557646,
          1.4773911063215925,
          1.5829190424874207,
          2.110558723316561,
          4.221117446633122
         ],
         "y": [
          4.826578740482943e-10,
          1.5826658225507432e-10,
          1.0757733014533747e-10,
          1.1371725604409268e-10,
          1.586223021757635e-14,
          6.596656472743214e-11,
          1.0888228551989448e-10,
          7.596976060671606e-11,
          6.170509960473421e-11,
          4.4921150685062503e-13,
          1.3229293409416026e-12
         ]
        },
        {
         "line": {
          "color": "rgba(219, 64, 82, 0.8383838383838382)",
          "dash": "solid",
          "shape": "linear",
          "width": 1.3
         },
         "mode": "lines",
         "name": "Iodine, I",
         "text": "",
         "type": "scatter",
         "x": [
          0.5276396808291403,
          0.7914595212437103,
          0.9497514254924525,
          1.0552793616582805,
          1.1608072978241086,
          1.2663352339899365,
          1.3718631701557646,
          1.4773911063215925,
          1.5829190424874207,
          2.110558723316561,
          4.221117446633122
         ],
         "y": [
          0,
          0,
          0,
          0,
          0,
          0,
          0,
          0,
          0,
          0,
          0
         ]
        },
        {
         "line": {
          "color": "rgba(0, 128, 128, 0.8383838383838382)",
          "dash": "solid",
          "shape": "linear",
          "width": 1.3
         },
         "mode": "lines",
         "name": "Iron, Fe",
         "text": "",
         "type": "scatter",
         "x": [
          0.5276396808291403,
          0.7914595212437103,
          0.9497514254924525,
          1.0552793616582805,
          1.1608072978241086,
          1.2663352339899365,
          1.3718631701557646,
          1.4773911063215925,
          1.5829190424874207,
          2.110558723316561,
          4.221117446633122
         ],
         "y": [
          24.673694834488927,
          17.658782241979807,
          17.483129649484297,
          17.483129603211154,
          17.483129720529607,
          17.483129607826104,
          17.483129439361214,
          17.483129317850718,
          17.48312901633694,
          16.613400495425203,
          15.576649809848051
         ]
        },
        {
         "line": {
          "color": "rgba(0, 128, 128, 0.797979797979798)",
          "dash": "solid",
          "shape": "linear",
          "width": 1.3
         },
         "mode": "lines",
         "name": "Isoleucine",
         "text": "",
         "type": "scatter",
         "x": [
          0.5276396808291403,
          0.7914595212437103,
          0.9497514254924525,
          1.0552793616582805,
          1.1608072978241086,
          1.2663352339899365,
          1.3718631701557646,
          1.4773911063215925,
          1.5829190424874207,
          2.110558723316561,
          4.221117446633122
         ],
         "y": [
          1.0057147313254938e-07,
          2.2981291524687048e-08,
          1.8902963338127263e-08,
          2.0240648720743074e-08,
          2.5563907727312575e-12,
          1.2120791325335774e-08,
          2.0376484808414887e-08,
          2.12716020401105e-08,
          2.189140780137776e-08,
          1.8204239381831592e-09,
          3.640074290171512e-08
         ]
        },
        {
         "line": {
          "color": "rgba(255, 255, 51, 0.797979797979798)",
          "dash": "solid",
          "shape": "linear",
          "width": 1.3
         },
         "mode": "lines",
         "name": "Lactose",
         "text": "",
         "type": "scatter",
         "x": [
          0.5276396808291403,
          0.7914595212437103,
          0.9497514254924525,
          1.0552793616582805,
          1.1608072978241086,
          1.2663352339899365,
          1.3718631701557646,
          1.4773911063215925,
          1.5829190424874207,
          2.110558723316561,
          4.221117446633122
         ],
         "y": [
          7.53984608503459e-09,
          2.342285657931662e-09,
          1.5109498336822165e-09,
          1.6123830467545195e-09,
          2.289174836896524e-13,
          9.59301998140325e-10,
          1.5916254544629165e-09,
          1.169142797908784e-09,
          9.265803436668144e-10,
          7.461596384626945e-12,
          1.98475275442843e-11
         ]
        },
        {
         "line": {
          "color": "rgba(128, 128, 0, 0.797979797979798)",
          "dash": "solid",
          "shape": "linear",
          "width": 1.3
         },
         "mode": "lines",
         "name": "Leucine",
         "text": "",
         "type": "scatter",
         "x": [
          0.5276396808291403,
          0.7914595212437103,
          0.9497514254924525,
          1.0552793616582805,
          1.1608072978241086,
          1.2663352339899365,
          1.3718631701557646,
          1.4773911063215925,
          1.5829190424874207,
          2.110558723316561,
          4.221117446633122
         ],
         "y": [
          1.6955692982887e-07,
          3.854098136782117e-08,
          3.166321119880113e-08,
          3.3890192519655775e-08,
          4.27210186806517e-12,
          2.028401552160711e-08,
          3.4081102620856686e-08,
          3.569785009471616e-08,
          3.676170085862736e-08,
          3.072441638343186e-09,
          6.146491627864684e-08
         ]
        },
        {
         "line": {
          "color": "rgba(251, 128, 114, 0.797979797979798)",
          "dash": "solid",
          "shape": "linear",
          "width": 1.3
         },
         "mode": "lines",
         "name": "Lipids",
         "text": "",
         "type": "scatter",
         "x": [
          0.5276396808291403,
          0.7914595212437103,
          0.9497514254924525,
          1.0552793616582805,
          1.1608072978241086,
          1.2663352339899365,
          1.3718631701557646,
          1.4773911063215925,
          1.5829190424874207,
          2.110558723316561,
          4.221117446633122
         ],
         "y": [
          0,
          0,
          0,
          0,
          0,
          0,
          0,
          0,
          0,
          0,
          0
         ]
        },
        {
         "line": {
          "color": "rgba(128, 177, 211, 0.797979797979798)",
          "dash": "solid",
          "shape": "linear",
          "width": 1.3
         },
         "mode": "lines",
         "name": "Lutein",
         "text": "",
         "type": "scatter",
         "x": [
          0.5276396808291403,
          0.7914595212437103,
          0.9497514254924525,
          1.0552793616582805,
          1.1608072978241086,
          1.2663352339899365,
          1.3718631701557646,
          1.4773911063215925,
          1.5829190424874207,
          2.110558723316561,
          4.221117446633122
         ],
         "y": [
          4.100443015453291e-06,
          9.839211905406118e-07,
          6.453885783354188e-07,
          6.798681790215026e-07,
          9.644435132289431e-11,
          3.9090499292522197e-07,
          6.453286000077374e-07,
          4.497304804025948e-07,
          3.6516228020217986e-07,
          2.5613146965549677e-09,
          6.814209344202886e-09
         ]
        },
        {
         "line": {
          "color": "rgba(255, 153, 51, 0.797979797979798)",
          "dash": "solid",
          "shape": "linear",
          "width": 1.3
         },
         "mode": "lines",
         "name": "Lutein + zeaxanthin",
         "text": "",
         "type": "scatter",
         "x": [
          0.5276396808291403,
          0.7914595212437103,
          0.9497514254924525,
          1.0552793616582805,
          1.1608072978241086,
          1.2663352339899365,
          1.3718631701557646,
          1.4773911063215925,
          1.5829190424874207,
          2.110558723316561,
          4.221117446633122
         ],
         "y": [
          6515.780174164155,
          4482.671161728705,
          5726.292581739634,
          5726.29247816377,
          5726.292792853032,
          5726.29215425168,
          5726.290872076005,
          5726.289713121374,
          5726.285930448604,
          12559.93845239143,
          1353.5294640658362
         ]
        },
        {
         "line": {
          "color": "rgba(55, 128, 191, 0.797979797979798)",
          "dash": "solid",
          "shape": "linear",
          "width": 1.3
         },
         "mode": "lines",
         "name": "Lycopene",
         "text": "",
         "type": "scatter",
         "x": [
          0.5276396808291403,
          0.7914595212437103,
          0.9497514254924525,
          1.0552793616582805,
          1.1608072978241086,
          1.2663352339899365,
          1.3718631701557646,
          1.4773911063215925,
          1.5829190424874207,
          2.110558723316561,
          4.221117446633122
         ],
         "y": [
          0.6646602796281724,
          0.7596106194835733,
          0.6853597256821851,
          0.6853615017623953,
          0.6853269313928987,
          0.6853468472831286,
          0.6853598552747814,
          0.6853499690084998,
          0.685345807218765,
          0.3217939374523445,
          0.8051175230355446
         ]
        },
        {
         "line": {
          "color": "rgba(50, 171, 96, 0.797979797979798)",
          "dash": "solid",
          "shape": "linear",
          "width": 1.3
         },
         "mode": "lines",
         "name": "Lysine",
         "text": "",
         "type": "scatter",
         "x": [
          0.5276396808291403,
          0.7914595212437103,
          0.9497514254924525,
          1.0552793616582805,
          1.1608072978241086,
          1.2663352339899365,
          1.3718631701557646,
          1.4773911063215925,
          1.5829190424874207,
          2.110558723316561,
          4.221117446633122
         ],
         "y": [
          1.6858358940921484e-07,
          3.971080761267536e-08,
          3.180002778569237e-08,
          3.40880723610272e-08,
          4.4914735853761444e-12,
          2.0358193853345812e-08,
          3.430102656387896e-08,
          3.22717326178432e-08,
          3.2019732737503605e-08,
          2.2232856709035323e-09,
          4.3715234707324855e-08
         ]
        },
        {
         "line": {
          "color": "rgba(128, 0, 128, 0.797979797979798)",
          "dash": "solid",
          "shape": "linear",
          "width": 1.3
         },
         "mode": "lines",
         "name": "MUFA 12:1",
         "text": "",
         "type": "scatter",
         "x": [
          0.5276396808291403,
          0.7914595212437103,
          0.9497514254924525,
          1.0552793616582805,
          1.1608072978241086,
          1.2663352339899365,
          1.3718631701557646,
          1.4773911063215925,
          1.5829190424874207,
          2.110558723316561,
          4.221117446633122
         ],
         "y": [
          0,
          0,
          0,
          0,
          0,
          0,
          0,
          0,
          0,
          0,
          0
         ]
        },
        {
         "line": {
          "color": "rgba(219, 64, 82, 0.797979797979798)",
          "dash": "solid",
          "shape": "linear",
          "width": 1.3
         },
         "mode": "lines",
         "name": "MUFA 14:1",
         "text": "",
         "type": "scatter",
         "x": [
          0.5276396808291403,
          0.7914595212437103,
          0.9497514254924525,
          1.0552793616582805,
          1.1608072978241086,
          1.2663352339899365,
          1.3718631701557646,
          1.4773911063215925,
          1.5829190424874207,
          2.110558723316561,
          4.221117446633122
         ],
         "y": [
          3.701545628058068e-10,
          1.110899570583516e-10,
          7.495529598779377e-11,
          8.042372553407183e-11,
          1.1621186189188036e-14,
          4.783149323862396e-11,
          8.030616239158043e-11,
          5.7113690909675446e-11,
          4.719392483264531e-11,
          3.641096124170556e-13,
          8.795401318127903e-13
         ]
        },
        {
         "line": {
          "color": "rgba(219, 64, 82, 0.7575757575757576)",
          "dash": "solid",
          "shape": "linear",
          "width": 1.3
         },
         "mode": "lines",
         "name": "MUFA 14:1 c",
         "text": "",
         "type": "scatter",
         "x": [
          0.5276396808291403,
          0.7914595212437103,
          0.9497514254924525,
          1.0552793616582805,
          1.1608072978241086,
          1.2663352339899365,
          1.3718631701557646,
          1.4773911063215925,
          1.5829190424874207,
          2.110558723316561,
          4.221117446633122
         ],
         "y": [
          0,
          0,
          0,
          0,
          0,
          0,
          0,
          0,
          0,
          0,
          0
         ]
        },
        {
         "line": {
          "color": "rgba(0, 128, 128, 0.7575757575757576)",
          "dash": "solid",
          "shape": "linear",
          "width": 1.3
         },
         "mode": "lines",
         "name": "MUFA 15:1",
         "text": "",
         "type": "scatter",
         "x": [
          0.5276396808291403,
          0.7914595212437103,
          0.9497514254924525,
          1.0552793616582805,
          1.1608072978241086,
          1.2663352339899365,
          1.3718631701557646,
          1.4773911063215925,
          1.5829190424874207,
          2.110558723316561,
          4.221117446633122
         ],
         "y": [
          0,
          0,
          0,
          0,
          0,
          0,
          0,
          0,
          0,
          0,
          0
         ]
        },
        {
         "line": {
          "color": "rgba(255, 255, 51, 0.7575757575757576)",
          "dash": "solid",
          "shape": "linear",
          "width": 1.3
         },
         "mode": "lines",
         "name": "MUFA 16:1",
         "text": "",
         "type": "scatter",
         "x": [
          0.5276396808291403,
          0.7914595212437103,
          0.9497514254924525,
          1.0552793616582805,
          1.1608072978241086,
          1.2663352339899365,
          1.3718631701557646,
          1.4773911063215925,
          1.5829190424874207,
          2.110558723316561,
          4.221117446633122
         ],
         "y": [
          0.12253596829372851,
          0.12082881878374635,
          0.1204285409746118,
          0.120428542269893,
          0.12042852268778284,
          0.12042853646749885,
          0.12042854981908639,
          0.12042855721151735,
          0.12042857815842666,
          0.09718572399282584,
          0.17115671753485365
         ]
        },
        {
         "line": {
          "color": "rgba(128, 128, 0, 0.7575757575757576)",
          "dash": "solid",
          "shape": "linear",
          "width": 1.3
         },
         "mode": "lines",
         "name": "MUFA 16:1 c",
         "text": "",
         "type": "scatter",
         "x": [
          0.5276396808291403,
          0.7914595212437103,
          0.9497514254924525,
          1.0552793616582805,
          1.1608072978241086,
          1.2663352339899365,
          1.3718631701557646,
          1.4773911063215925,
          1.5829190424874207,
          2.110558723316561,
          4.221117446633122
         ],
         "y": [
          0.02210311022455611,
          0.021953257489458294,
          0.021791310369831805,
          0.02179131048280498,
          0.021791309728368534,
          0.02179131028379066,
          0.0217913108076482,
          0.02179131077023849,
          0.021791311167402277,
          0.020718398921441682,
          0.021834479711446985
         ]
        },
        {
         "line": {
          "color": "rgba(251, 128, 114, 0.7575757575757576)",
          "dash": "solid",
          "shape": "linear",
          "width": 1.3
         },
         "mode": "lines",
         "name": "MUFA 17:1",
         "text": "",
         "type": "scatter",
         "x": [
          0.5276396808291403,
          0.7914595212437103,
          0.9497514254924525,
          1.0552793616582805,
          1.1608072978241086,
          1.2663352339899365,
          1.3718631701557646,
          1.4773911063215925,
          1.5829190424874207,
          2.110558723316561,
          4.221117446633122
         ],
         "y": [
          0.004752947551713426,
          0.0047207243826274505,
          0.0046859000767942504,
          0.00468590008861595,
          0.004685900079189661,
          0.004685900105803455,
          0.004685900151537883,
          0.0046859001920206015,
          0.004685900292611174,
          0.004455186417949419,
          0.004695183146290333
         ]
        },
        {
         "line": {
          "color": "rgba(128, 177, 211, 0.7575757575757576)",
          "dash": "solid",
          "shape": "linear",
          "width": 1.3
         },
         "mode": "lines",
         "name": "MUFA 17:1 c",
         "text": "",
         "type": "scatter",
         "x": [
          0.5276396808291403,
          0.7914595212437103,
          0.9497514254924525,
          1.0552793616582805,
          1.1608072978241086,
          1.2663352339899365,
          1.3718631701557646,
          1.4773911063215925,
          1.5829190424874207,
          2.110558723316561,
          4.221117446633122
         ],
         "y": [
          0.00475294725439599,
          0.004720724301963821,
          0.004685900008808975,
          0.004685900014258808,
          0.004685900079178595,
          0.004685900060405704,
          0.004685900072825019,
          0.0046859001377720574,
          0.004685900244994352,
          0.004455186417588883,
          0.004695183145471058
         ]
        },
        {
         "line": {
          "color": "rgba(255, 153, 51, 0.7575757575757576)",
          "dash": "solid",
          "shape": "linear",
          "width": 1.3
         },
         "mode": "lines",
         "name": "MUFA 18:1",
         "text": "",
         "type": "scatter",
         "x": [
          0.5276396808291403,
          0.7914595212437103,
          0.9497514254924525,
          1.0552793616582805,
          1.1608072978241086,
          1.2663352339899365,
          1.3718631701557646,
          1.4773911063215925,
          1.5829190424874207,
          2.110558723316561,
          4.221117446633122
         ],
         "y": [
          27.795486077971233,
          18.173424179043497,
          15.309919756226762,
          15.309919551717554,
          15.309918989170098,
          15.3099191538354,
          15.309919092499186,
          15.30991875060136,
          15.309918114969532,
          4.018521820220357,
          3.1634219518139917
         ]
        },
        {
         "line": {
          "color": "rgba(55, 128, 191, 0.7575757575757576)",
          "dash": "solid",
          "shape": "linear",
          "width": 1.3
         },
         "mode": "lines",
         "name": "MUFA 18:1 c",
         "text": "",
         "type": "scatter",
         "x": [
          0.5276396808291403,
          0.7914595212437103,
          0.9497514254924525,
          1.0552793616582805,
          1.1608072978241086,
          1.2663352339899365,
          1.3718631701557646,
          1.4773911063215925,
          1.5829190424874207,
          2.110558723316561,
          4.221117446633122
         ],
         "y": [
          2.7403593308958105,
          2.7217808220657025,
          2.701702521858767,
          2.7017025259481415,
          2.701702549653186,
          2.7017025470446563,
          2.7017025597955144,
          2.7017025933733785,
          2.701702653378494,
          2.56868228098921,
          2.7070547945153094
         ]
        },
        {
         "line": {
          "color": "rgba(50, 171, 96, 0.7575757575757576)",
          "dash": "solid",
          "shape": "linear",
          "width": 1.3
         },
         "mode": "lines",
         "name": "MUFA 20:1",
         "text": "",
         "type": "scatter",
         "x": [
          0.5276396808291403,
          0.7914595212437103,
          0.9497514254924525,
          1.0552793616582805,
          1.1608072978241086,
          1.2663352339899365,
          1.3718631701557646,
          1.4773911063215925,
          1.5829190424874207,
          2.110558723316561,
          4.221117446633122
         ],
         "y": [
          0.25237378579434916,
          0.16410041905788272,
          0.13789596713758903,
          0.13789596544902968,
          0.13789595823865633,
          0.1378959609361172,
          0.1378959611954483,
          0.13789595693697315,
          0.13789595054151038,
          0.03492482846273551,
          0.02538847519235727
         ]
        },
        {
         "line": {
          "color": "rgba(128, 0, 128, 0.7575757575757576)",
          "dash": "solid",
          "shape": "linear",
          "width": 1.3
         },
         "mode": "lines",
         "name": "MUFA 20:1 c",
         "text": "",
         "type": "scatter",
         "x": [
          0.5276396808291403,
          0.7914595212437103,
          0.9497514254924525,
          1.0552793616582805,
          1.1608072978241086,
          1.2663352339899365,
          1.3718631701557646,
          1.4773911063215925,
          1.5829190424874207,
          2.110558723316561,
          4.221117446633122
         ],
         "y": [
          0.003327063078077193,
          0.0033045070113746746,
          0.0032801300061662824,
          0.003280130009981166,
          0.0032801300554250166,
          0.0032801300422839927,
          0.0032801300509775135,
          0.0032801300964404403,
          0.003280130171496046,
          0.0031186304923122177,
          0.003286628201829741
         ]
        },
        {
         "line": {
          "color": "rgba(128, 0, 128, 0.7171717171717171)",
          "dash": "solid",
          "shape": "linear",
          "width": 1.3
         },
         "mode": "lines",
         "name": "MUFA 22:1",
         "text": "",
         "type": "scatter",
         "x": [
          0.5276396808291403,
          0.7914595212437103,
          0.9497514254924525,
          1.0552793616582805,
          1.1608072978241086,
          1.2663352339899365,
          1.3718631701557646,
          1.4773911063215925,
          1.5829190424874207,
          2.110558723316561,
          4.221117446633122
         ],
         "y": [
          0.048865028373163574,
          0.03184037859800136,
          0.02675593279648303,
          0.02675593245769073,
          0.026755932195401726,
          0.02675593211402857,
          0.026755931785128362,
          0.026755931309130985,
          0.02675593018164224,
          0.0067764592512277455,
          0.004926122044645757
         ]
        },
        {
         "line": {
          "color": "rgba(219, 64, 82, 0.7171717171717171)",
          "dash": "solid",
          "shape": "linear",
          "width": 1.3
         },
         "mode": "lines",
         "name": "MUFA 22:1 c",
         "text": "",
         "type": "scatter",
         "x": [
          0.5276396808291403,
          0.7914595212437103,
          0.9497514254924525,
          1.0552793616582805,
          1.1608072978241086,
          1.2663352339899365,
          1.3718631701557646,
          1.4773911063215925,
          1.5829190424874207,
          2.110558723316561,
          4.221117446633122
         ],
         "y": [
          1.4595583234457402e-09,
          3.9598509300634e-10,
          3.337458973732284e-10,
          3.650259692581247e-10,
          5.432241932675903e-14,
          2.228616869444485e-10,
          3.864086037235782e-10,
          2.663110342484647e-10,
          2.33755308547698e-10,
          1.7699075508190935e-12,
          4.021892115516498e-12
         ]
        },
        {
         "line": {
          "color": "rgba(0, 128, 128, 0.7171717171717171)",
          "dash": "solid",
          "shape": "linear",
          "width": 1.3
         },
         "mode": "lines",
         "name": "MUFA 22:1 n-11",
         "text": "",
         "type": "scatter",
         "x": [
          0.5276396808291403,
          0.7914595212437103,
          0.9497514254924525,
          1.0552793616582805,
          1.1608072978241086,
          1.2663352339899365,
          1.3718631701557646,
          1.4773911063215925,
          1.5829190424874207,
          2.110558723316561,
          4.221117446633122
         ],
         "y": [
          0,
          0,
          0,
          0,
          0,
          0,
          0,
          0,
          0,
          0,
          0
         ]
        },
        {
         "line": {
          "color": "rgba(255, 255, 51, 0.7171717171717171)",
          "dash": "solid",
          "shape": "linear",
          "width": 1.3
         },
         "mode": "lines",
         "name": "MUFA 22:1 n-9",
         "text": "",
         "type": "scatter",
         "x": [
          0.5276396808291403,
          0.7914595212437103,
          0.9497514254924525,
          1.0552793616582805,
          1.1608072978241086,
          1.2663352339899365,
          1.3718631701557646,
          1.4773911063215925,
          1.5829190424874207,
          2.110558723316561,
          4.221117446633122
         ],
         "y": [
          0,
          0,
          0,
          0,
          0,
          0,
          0,
          0,
          0,
          0,
          0
         ]
        },
        {
         "line": {
          "color": "rgba(128, 128, 0, 0.7171717171717171)",
          "dash": "solid",
          "shape": "linear",
          "width": 1.3
         },
         "mode": "lines",
         "name": "MUFA 24:1 c",
         "text": "",
         "type": "scatter",
         "x": [
          0.5276396808291403,
          0.7914595212437103,
          0.9497514254924525,
          1.0552793616582805,
          1.1608072978241086,
          1.2663352339899365,
          1.3718631701557646,
          1.4773911063215925,
          1.5829190424874207,
          2.110558723316561,
          4.221117446633122
         ],
         "y": [
          3.243462940990534e-10,
          8.799668733474222e-11,
          7.416575497182854e-11,
          8.111688205736104e-11,
          1.2071648739279786e-14,
          4.952481932098856e-11,
          8.58685786052396e-11,
          5.918022983299216e-11,
          5.1945624121710663e-11,
          3.933127890709097e-13,
          8.937538034481107e-13
         ]
        },
        {
         "line": {
          "color": "rgba(251, 128, 114, 0.7171717171717171)",
          "dash": "solid",
          "shape": "linear",
          "width": 1.3
         },
         "mode": "lines",
         "name": "Magnesium, Mg",
         "text": "",
         "type": "scatter",
         "x": [
          0.5276396808291403,
          0.7914595212437103,
          0.9497514254924525,
          1.0552793616582805,
          1.1608072978241086,
          1.2663352339899365,
          1.3718631701557646,
          1.4773911063215925,
          1.5829190424874207,
          2.110558723316561,
          4.221117446633122
         ],
         "y": [
          1609.1043817448513,
          1176.144393522874,
          1052.709789745375,
          1052.709782578233,
          1052.7097729616844,
          1052.7097775152974,
          1052.709782946098,
          1052.7097944116958,
          1052.7098172345488,
          523.5105164951958,
          626.5439003007368
         ]
        },
        {
         "line": {
          "color": "rgba(128, 177, 211, 0.7171717171717171)",
          "dash": "solid",
          "shape": "linear",
          "width": 1.3
         },
         "mode": "lines",
         "name": "Maltose",
         "text": "",
         "type": "scatter",
         "x": [
          0.5276396808291403,
          0.7914595212437103,
          0.9497514254924525,
          1.0552793616582805,
          1.1608072978241086,
          1.2663352339899365,
          1.3718631701557646,
          1.4773911063215925,
          1.5829190424874207,
          2.110558723316561,
          4.221117446633122
         ],
         "y": [
          0,
          0,
          0,
          0,
          0,
          0,
          0,
          0,
          0,
          0,
          0
         ]
        },
        {
         "line": {
          "color": "rgba(255, 153, 51, 0.7171717171717171)",
          "dash": "solid",
          "shape": "linear",
          "width": 1.3
         },
         "mode": "lines",
         "name": "Manganese, Mn",
         "text": "",
         "type": "scatter",
         "x": [
          0.5276396808291403,
          0.7914595212437103,
          0.9497514254924525,
          1.0552793616582805,
          1.1608072978241086,
          1.2663352339899365,
          1.3718631701557646,
          1.4773911063215925,
          1.5829190424874207,
          2.110558723316561,
          4.221117446633122
         ],
         "y": [
          0.7342418523727775,
          0.1698328356615639,
          0.16858000040306462,
          0.1685800043112196,
          0.16857994125685333,
          0.16857997916431974,
          0.16858000561293976,
          0.16858000772260395,
          0.16858001483208696,
          0.16027979229843267,
          0.16891402540756584
         ]
        },
        {
         "line": {
          "color": "rgba(55, 128, 191, 0.7171717171717171)",
          "dash": "solid",
          "shape": "linear",
          "width": 1.3
         },
         "mode": "lines",
         "name": "Methionine",
         "text": "",
         "type": "scatter",
         "x": [
          0.5276396808291403,
          0.7914595212437103,
          0.9497514254924525,
          1.0552793616582805,
          1.1608072978241086,
          1.2663352339899365,
          1.3718631701557646,
          1.4773911063215925,
          1.5829190424874207,
          2.110558723316561,
          4.221117446633122
         ],
         "y": [
          4.9990300823061514e-08,
          1.2337983404973333e-08,
          9.798455888385967e-09,
          1.0514946308190434e-08,
          1.410306316656696e-12,
          6.279681304769195e-09,
          1.059846491188725e-08,
          9.508531018607147e-09,
          9.25346782193565e-09,
          5.744078746779818e-10,
          1.114980122615693e-08
         ]
        },
        {
         "line": {
          "color": "rgba(50, 171, 96, 0.7171717171717171)",
          "dash": "solid",
          "shape": "linear",
          "width": 1.3
         },
         "mode": "lines",
         "name": "Minerals",
         "text": "",
         "type": "scatter",
         "x": [
          0.5276396808291403,
          0.7914595212437103,
          0.9497514254924525,
          1.0552793616582805,
          1.1608072978241086,
          1.2663352339899365,
          1.3718631701557646,
          1.4773911063215925,
          1.5829190424874207,
          2.110558723316561,
          4.221117446633122
         ],
         "y": [
          0,
          0,
          0,
          0,
          0,
          0,
          0,
          0,
          0,
          0,
          0
         ]
        },
        {
         "line": {
          "color": "rgba(50, 171, 96, 0.6767676767676767)",
          "dash": "solid",
          "shape": "linear",
          "width": 1.3
         },
         "mode": "lines",
         "name": "Molybdenum, Mo",
         "text": "",
         "type": "scatter",
         "x": [
          0.5276396808291403,
          0.7914595212437103,
          0.9497514254924525,
          1.0552793616582805,
          1.1608072978241086,
          1.2663352339899365,
          1.3718631701557646,
          1.4773911063215925,
          1.5829190424874207,
          2.110558723316561,
          4.221117446633122
         ],
         "y": [
          0,
          0,
          0,
          0,
          0,
          0,
          0,
          0,
          0,
          0,
          0
         ]
        },
        {
         "line": {
          "color": "rgba(128, 0, 128, 0.6767676767676767)",
          "dash": "solid",
          "shape": "linear",
          "width": 1.3
         },
         "mode": "lines",
         "name": "Niacin",
         "text": "",
         "type": "scatter",
         "x": [
          0.5276396808291403,
          0.7914595212437103,
          0.9497514254924525,
          1.0552793616582805,
          1.1608072978241086,
          1.2663352339899365,
          1.3718631701557646,
          1.4773911063215925,
          1.5829190424874207,
          2.110558723316561,
          4.221117446633122
         ],
         "y": [
          17.860850166339844,
          16.00000042990101,
          16.00000039641495,
          16.00000041825864,
          16.00000000006534,
          16.0000002427899,
          16.00000039754437,
          16.00000031147476,
          16.000000232322964,
          16.000000001776627,
          16.000000003706553
         ]
        },
        {
         "line": {
          "color": "rgba(219, 64, 82, 0.6767676767676767)",
          "dash": "solid",
          "shape": "linear",
          "width": 1.3
         },
         "mode": "lines",
         "name": "Nitrogen",
         "text": "",
         "type": "scatter",
         "x": [
          0.5276396808291403,
          0.7914595212437103,
          0.9497514254924525,
          1.0552793616582805,
          1.1608072978241086,
          1.2663352339899365,
          1.3718631701557646,
          1.4773911063215925,
          1.5829190424874207,
          2.110558723316561,
          4.221117446633122
         ],
         "y": [
          0.6252064313835475,
          0.3351714429077748,
          0.33269892083915514,
          0.33269892239036053,
          0.3326989056248526,
          0.3326989166129442,
          0.3326989259564661,
          0.3326989218164066,
          0.3326989284047536,
          0.3163182356849256,
          0.3333580035544931
         ]
        },
        {
         "line": {
          "color": "rgba(0, 128, 128, 0.6767676767676767)",
          "dash": "solid",
          "shape": "linear",
          "width": 1.3
         },
         "mode": "lines",
         "name": "Oligiosaccharides",
         "text": "",
         "type": "scatter",
         "x": [
          0.5276396808291403,
          0.7914595212437103,
          0.9497514254924525,
          1.0552793616582805,
          1.1608072978241086,
          1.2663352339899365,
          1.3718631701557646,
          1.4773911063215925,
          1.5829190424874207,
          2.110558723316561,
          4.221117446633122
         ],
         "y": [
          0,
          0,
          0,
          0,
          0,
          0,
          0,
          0,
          0,
          0,
          0
         ]
        },
        {
         "line": {
          "color": "rgba(255, 255, 51, 0.6767676767676767)",
          "dash": "solid",
          "shape": "linear",
          "width": 1.3
         },
         "mode": "lines",
         "name": "PUFA 18:2",
         "text": "",
         "type": "scatter",
         "x": [
          0.5276396808291403,
          0.7914595212437103,
          0.9497514254924525,
          1.0552793616582805,
          1.1608072978241086,
          1.2663352339899365,
          1.3718631701557646,
          1.4773911063215925,
          1.5829190424874207,
          2.110558723316561,
          4.221117446633122
         ],
         "y": [
          22.441169630678267,
          14.827849449201326,
          12.547760070662067,
          12.54775991123838,
          12.54775950583092,
          12.54775962359113,
          12.547759591884002,
          12.547759351690619,
          12.547758966744347,
          3.4987016823046186,
          3.0891516510612393
         ]
        },
        {
         "line": {
          "color": "rgba(128, 128, 0, 0.6767676767676767)",
          "dash": "solid",
          "shape": "linear",
          "width": 1.3
         },
         "mode": "lines",
         "name": "PUFA 18:2 CLAs",
         "text": "",
         "type": "scatter",
         "x": [
          0.5276396808291403,
          0.7914595212437103,
          0.9497514254924525,
          1.0552793616582805,
          1.1608072978241086,
          1.2663352339899365,
          1.3718631701557646,
          1.4773911063215925,
          1.5829190424874207,
          2.110558723316561,
          4.221117446633122
         ],
         "y": [
          2.585235887812322e-10,
          7.49935971556304e-11,
          5.562703154700119e-11,
          6.018315071321681e-11,
          8.775776101742707e-15,
          3.633301044422327e-11,
          6.182335458278847e-11,
          4.3789856699223804e-11,
          3.680623385616974e-11,
          2.859791787098048e-13,
          6.971751415553043e-13
         ]
        },
        {
         "line": {
          "color": "rgba(251, 128, 114, 0.6767676767676767)",
          "dash": "solid",
          "shape": "linear",
          "width": 1.3
         },
         "mode": "lines",
         "name": "PUFA 18:2 c",
         "text": "",
         "type": "scatter",
         "x": [
          0.5276396808291403,
          0.7914595212437103,
          0.9497514254924525,
          1.0552793616582805,
          1.1608072978241086,
          1.2663352339899365,
          1.3718631701557646,
          1.4773911063215925,
          1.5829190424874207,
          2.110558723316561,
          4.221117446633122
         ],
         "y": [
          1.0479298106492279,
          1.0408252940969833,
          1.0331472339422028,
          1.0331472351437823,
          1.0331472494572966,
          1.0331472453182495,
          1.0331472480564603,
          1.0331472623759834,
          1.0331472860163546,
          0.9822795013499968,
          1.035193979913459
         ]
        },
        {
         "line": {
          "color": "rgba(128, 177, 211, 0.6767676767676767)",
          "dash": "solid",
          "shape": "linear",
          "width": 1.3
         },
         "mode": "lines",
         "name": "PUFA 18:2 n-6 c,c",
         "text": "",
         "type": "scatter",
         "x": [
          0.5276396808291403,
          0.7914595212437103,
          0.9497514254924525,
          1.0552793616582805,
          1.1608072978241086,
          1.2663352339899365,
          1.3718631701557646,
          1.4773911063215925,
          1.5829190424874207,
          2.110558723316561,
          4.221117446633122
         ],
         "y": [
          1.0479298195604443,
          1.040825296790517,
          1.0331472357975409,
          1.0331472371398787,
          1.0331472494575853,
          1.033147246513768,
          1.0331472500701029,
          1.033147263816218,
          1.0331472872057343,
          0.9822795013592597,
          1.0351939799363141
         ]
        },
        {
         "line": {
          "color": "rgba(255, 153, 51, 0.6767676767676767)",
          "dash": "solid",
          "shape": "linear",
          "width": 1.3
         },
         "mode": "lines",
         "name": "PUFA 18:3",
         "text": "",
         "type": "scatter",
         "x": [
          0.5276396808291403,
          0.7914595212437103,
          0.9497514254924525,
          1.0552793616582805,
          1.1608072978241086,
          1.2663352339899365,
          1.3718631701557646,
          1.4773911063215925,
          1.5829190424874207,
          2.110558723316561,
          4.221117446633122
         ],
         "y": [
          85.83916808496649,
          56.08092625849237,
          47.19198931992112,
          47.19198867031905,
          47.19198882116465,
          47.19198830179266,
          47.19198744654456,
          47.191986827821125,
          47.191984920425156,
          12.241285791347202,
          9.081344199605507
         ]
        },
        {
         "line": {
          "color": "rgba(55, 128, 191, 0.6767676767676767)",
          "dash": "solid",
          "shape": "linear",
          "width": 1.3
         },
         "mode": "lines",
         "name": "PUFA 18:3 c",
         "text": "",
         "type": "scatter",
         "x": [
          0.5276396808291403,
          0.7914595212437103,
          0.9497514254924525,
          1.0552793616582805,
          1.1608072978241086,
          1.2663352339899365,
          1.3718631701557646,
          1.4773911063215925,
          1.5829190424874207,
          2.110558723316561,
          4.221117446633122
         ],
         "y": [
          0.002376473627197995,
          0.0023603621509819105,
          0.0023429500044044875,
          0.002342950007129404,
          0.0023429500395892974,
          0.002342950030202852,
          0.0023429500364125096,
          0.0023429500688860287,
          0.002342950122497176,
          0.0022275932087944413,
          0.002347591572735529
         ]
        },
        {
         "line": {
          "color": "rgba(55, 128, 191, 0.6363636363636362)",
          "dash": "solid",
          "shape": "linear",
          "width": 1.3
         },
         "mode": "lines",
         "name": "PUFA 18:3 n-3 c,c,c (ALA)",
         "text": "",
         "type": "scatter",
         "x": [
          0.5276396808291403,
          0.7914595212437103,
          0.9497514254924525,
          1.0552793616582805,
          1.1608072978241086,
          1.2663352339899365,
          1.3718631701557646,
          1.4773911063215925,
          1.5829190424874207,
          2.110558723316561,
          4.221117446633122
         ],
         "y": [
          0.002376482673780153,
          0.0023603649415082175,
          0.0023429519051285266,
          0.0023429520441377466,
          0.002342950039882935,
          0.002342951237025759,
          0.002342952062000201,
          0.002342951494113225,
          0.0023429513091740312,
          0.0022275932177222143,
          0.0023475915946348383
         ]
        },
        {
         "line": {
          "color": "rgba(50, 171, 96, 0.6363636363636362)",
          "dash": "solid",
          "shape": "linear",
          "width": 1.3
         },
         "mode": "lines",
         "name": "PUFA 18:3 n-6 c,c,c",
         "text": "",
         "type": "scatter",
         "x": [
          0.5276396808291403,
          0.7914595212437103,
          0.9497514254924525,
          1.0552793616582805,
          1.1608072978241086,
          1.2663352339899365,
          1.3718631701557646,
          1.4773911063215925,
          1.5829190424874207,
          2.110558723316561,
          4.221117446633122
         ],
         "y": [
          3.109236564049035e-10,
          9.736421100276856e-11,
          6.976873881216545e-11,
          7.443029482105106e-11,
          1.0571355145570589e-14,
          4.379385470045292e-11,
          7.331585204173583e-11,
          5.097113393763663e-11,
          4.236978679458682e-11,
          3.122384386251679e-13,
          8.534048036913623e-13
         ]
        },
        {
         "line": {
          "color": "rgba(128, 0, 128, 0.6363636363636362)",
          "dash": "solid",
          "shape": "linear",
          "width": 1.3
         },
         "mode": "lines",
         "name": "PUFA 18:4",
         "text": "",
         "type": "scatter",
         "x": [
          0.5276396808291403,
          0.7914595212437103,
          0.9497514254924525,
          1.0552793616582805,
          1.1608072978241086,
          1.2663352339899365,
          1.3718631701557646,
          1.4773911063215925,
          1.5829190424874207,
          2.110558723316561,
          4.221117446633122
         ],
         "y": [
          5.213197250448803e-09,
          1.4945867239728283e-09,
          1.183628803879846e-09,
          1.2829309139604667e-09,
          1.878084723148037e-13,
          7.730107791675321e-10,
          1.3240952063095328e-09,
          9.152211253053123e-10,
          7.887130866916578e-10,
          5.919159520745694e-12,
          1.4321965150993254e-11
         ]
        },
        {
         "line": {
          "color": "rgba(219, 64, 82, 0.6363636363636362)",
          "dash": "solid",
          "shape": "linear",
          "width": 1.3
         },
         "mode": "lines",
         "name": "PUFA 20:2 c",
         "text": "",
         "type": "scatter",
         "x": [
          0.5276396808291403,
          0.7914595212437103,
          0.9497514254924525,
          1.0552793616582805,
          1.1608072978241086,
          1.2663352339899365,
          1.3718631701557646,
          1.4773911063215925,
          1.5829190424874207,
          2.110558723316561,
          4.221117446633122
         ],
         "y": [
          0,
          0,
          0,
          0,
          0,
          0,
          0,
          0,
          0,
          0,
          0
         ]
        },
        {
         "line": {
          "color": "rgba(0, 128, 128, 0.6363636363636362)",
          "dash": "solid",
          "shape": "linear",
          "width": 1.3
         },
         "mode": "lines",
         "name": "PUFA 20:2 n-6 c,c",
         "text": "",
         "type": "scatter",
         "x": [
          0.5276396808291403,
          0.7914595212437103,
          0.9497514254924525,
          1.0552793616582805,
          1.1608072978241086,
          1.2663352339899365,
          1.3718631701557646,
          1.4773911063215925,
          1.5829190424874207,
          2.110558723316561,
          4.221117446633122
         ],
         "y": [
          1.2043095593606966e-09,
          3.6960801037465616e-10,
          2.6976872341258105e-10,
          2.8877868470592157e-10,
          4.129903917013323e-14,
          1.707541173362417e-10,
          2.872967723141523e-10,
          1.9958948457104586e-10,
          1.6719378296757244e-10,
          1.241248850661964e-12,
          3.2688956758415657e-12
         ]
        },
        {
         "line": {
          "color": "rgba(255, 255, 51, 0.6363636363636362)",
          "dash": "solid",
          "shape": "linear",
          "width": 1.3
         },
         "mode": "lines",
         "name": "PUFA 20:3",
         "text": "",
         "type": "scatter",
         "x": [
          0.5276396808291403,
          0.7914595212437103,
          0.9497514254924525,
          1.0552793616582805,
          1.1608072978241086,
          1.2663352339899365,
          1.3718631701557646,
          1.4773911063215925,
          1.5829190424874207,
          2.110558723316561,
          4.221117446633122
         ],
         "y": [
          1.5136514989931985e-09,
          4.339993775207955e-10,
          3.0766586783181164e-10,
          3.290430352248856e-10,
          4.7309467347713407e-14,
          1.939150883739575e-10,
          3.2564389858606505e-10,
          2.277075202196648e-10,
          1.8928751484781032e-10,
          1.4506134201214628e-12,
          3.51309355898536e-12
         ]
        },
        {
         "line": {
          "color": "rgba(128, 128, 0, 0.6363636363636362)",
          "dash": "solid",
          "shape": "linear",
          "width": 1.3
         },
         "mode": "lines",
         "name": "PUFA 20:3 c",
         "text": "",
         "type": "scatter",
         "x": [
          0.5276396808291403,
          0.7914595212437103,
          0.9497514254924525,
          1.0552793616582805,
          1.1608072978241086,
          1.2663352339899365,
          1.3718631701557646,
          1.4773911063215925,
          1.5829190424874207,
          2.110558723316561,
          4.221117446633122
         ],
         "y": [
          0,
          0,
          0,
          0,
          0,
          0,
          0,
          0,
          0,
          0,
          0
         ]
        },
        {
         "line": {
          "color": "rgba(251, 128, 114, 0.6363636363636362)",
          "dash": "solid",
          "shape": "linear",
          "width": 1.3
         },
         "mode": "lines",
         "name": "PUFA 20:3 n-3",
         "text": "",
         "type": "scatter",
         "x": [
          0.5276396808291403,
          0.7914595212437103,
          0.9497514254924525,
          1.0552793616582805,
          1.1608072978241086,
          1.2663352339899365,
          1.3718631701557646,
          1.4773911063215925,
          1.5829190424874207,
          2.110558723316561,
          4.221117446633122
         ],
         "y": [
          1.8920200489111448e-10,
          5.13314009452663e-11,
          4.3263357066899984e-11,
          4.731818120012727e-11,
          7.041795097913208e-15,
          2.8889477937243325e-11,
          5.009000418638977e-11,
          3.452180073591209e-11,
          3.030161407099789e-11,
          2.2943246029136397e-13,
          5.213563853447313e-13
         ]
        },
        {
         "line": {
          "color": "rgba(128, 177, 211, 0.6363636363636362)",
          "dash": "solid",
          "shape": "linear",
          "width": 1.3
         },
         "mode": "lines",
         "name": "PUFA 20:3 n-6",
         "text": "",
         "type": "scatter",
         "x": [
          0.5276396808291403,
          0.7914595212437103,
          0.9497514254924525,
          1.0552793616582805,
          1.1608072978241086,
          1.2663352339899365,
          1.3718631701557646,
          1.4773911063215925,
          1.5829190424874207,
          2.110558723316561,
          4.221117446633122
         ],
         "y": [
          1.8375781200896733e-10,
          5.0278715978424954e-11,
          4.1535215080006786e-11,
          4.5350320795969525e-11,
          6.726237747042665e-15,
          2.761880702502395e-11,
          4.7761785197654085e-11,
          3.301008537362588e-11,
          2.8822990537533826e-11,
          2.1946168542661282e-13,
          4.984958585775771e-13
         ]
        },
        {
         "line": {
          "color": "rgba(255, 153, 51, 0.6363636363636362)",
          "dash": "solid",
          "shape": "linear",
          "width": 1.3
         },
         "mode": "lines",
         "name": "PUFA 20:3 n-9",
         "text": "",
         "type": "scatter",
         "x": [
          0.5276396808291403,
          0.7914595212437103,
          0.9497514254924525,
          1.0552793616582805,
          1.1608072978241086,
          1.2663352339899365,
          1.3718631701557646,
          1.4773911063215925,
          1.5829190424874207,
          2.110558723316561,
          4.221117446633122
         ],
         "y": [
          0,
          0,
          0,
          0,
          0,
          0,
          0,
          0,
          0,
          0,
          0
         ]
        },
        {
         "line": {
          "color": "rgba(255, 153, 51, 0.5959595959595958)",
          "dash": "solid",
          "shape": "linear",
          "width": 1.3
         },
         "mode": "lines",
         "name": "PUFA 20:4",
         "text": "",
         "type": "scatter",
         "x": [
          0.5276396808291403,
          0.7914595212437103,
          0.9497514254924525,
          1.0552793616582805,
          1.1608072978241086,
          1.2663352339899365,
          1.3718631701557646,
          1.4773911063215925,
          1.5829190424874207,
          2.110558723316561,
          4.221117446633122
         ],
         "y": [
          2.1138229846170336e-09,
          6.478625376247391e-10,
          4.710219018668178e-10,
          5.03916541135375e-10,
          7.207229710928056e-14,
          2.973945476835206e-10,
          4.999931100020449e-10,
          3.47161191645111e-10,
          2.906038922698935e-10,
          2.162421779976401e-12,
          5.585125769245045e-12
         ]
        },
        {
         "line": {
          "color": "rgba(55, 128, 191, 0.5959595959595958)",
          "dash": "solid",
          "shape": "linear",
          "width": 1.3
         },
         "mode": "lines",
         "name": "PUFA 21:5",
         "text": "",
         "type": "scatter",
         "x": [
          0.5276396808291403,
          0.7914595212437103,
          0.9497514254924525,
          1.0552793616582805,
          1.1608072978241086,
          1.2663352339899365,
          1.3718631701557646,
          1.4773911063215925,
          1.5829190424874207,
          2.110558723316561,
          4.221117446633122
         ],
         "y": [
          0,
          0,
          0,
          0,
          0,
          0,
          0,
          0,
          0,
          0,
          0
         ]
        },
        {
         "line": {
          "color": "rgba(50, 171, 96, 0.5959595959595958)",
          "dash": "solid",
          "shape": "linear",
          "width": 1.3
         },
         "mode": "lines",
         "name": "PUFA 22:2",
         "text": "",
         "type": "scatter",
         "x": [
          0.5276396808291403,
          0.7914595212437103,
          0.9497514254924525,
          1.0552793616582805,
          1.1608072978241086,
          1.2663352339899365,
          1.3718631701557646,
          1.4773911063215925,
          1.5829190424874207,
          2.110558723316561,
          4.221117446633122
         ],
         "y": [
          0,
          0,
          0,
          0,
          0,
          0,
          0,
          0,
          0,
          0,
          0
         ]
        },
        {
         "line": {
          "color": "rgba(128, 0, 128, 0.5959595959595958)",
          "dash": "solid",
          "shape": "linear",
          "width": 1.3
         },
         "mode": "lines",
         "name": "PUFA 22:3",
         "text": "",
         "type": "scatter",
         "x": [
          0.5276396808291403,
          0.7914595212437103,
          0.9497514254924525,
          1.0552793616582805,
          1.1608072978241086,
          1.2663352339899365,
          1.3718631701557646,
          1.4773911063215925,
          1.5829190424874207,
          2.110558723316561,
          4.221117446633122
         ],
         "y": [
          0,
          0,
          0,
          0,
          0,
          0,
          0,
          0,
          0,
          0,
          0
         ]
        },
        {
         "line": {
          "color": "rgba(219, 64, 82, 0.5959595959595958)",
          "dash": "solid",
          "shape": "linear",
          "width": 1.3
         },
         "mode": "lines",
         "name": "PUFA 22:4",
         "text": "",
         "type": "scatter",
         "x": [
          0.5276396808291403,
          0.7914595212437103,
          0.9497514254924525,
          1.0552793616582805,
          1.1608072978241086,
          1.2663352339899365,
          1.3718631701557646,
          1.4773911063215925,
          1.5829190424874207,
          2.110558723316561,
          4.221117446633122
         ],
         "y": [
          1.0558771706818292e-10,
          2.9398059185451865e-11,
          2.3514789055789242e-11,
          2.5606765937538435e-11,
          3.7793324802297914e-15,
          1.5553588963676203e-11,
          2.6774757061486892e-11,
          1.863075686482891e-11,
          1.6096186802706574e-11,
          1.232973815944463e-13,
          2.8533434300566906e-13
         ]
        },
        {
         "line": {
          "color": "rgba(0, 128, 128, 0.5959595959595958)",
          "dash": "solid",
          "shape": "linear",
          "width": 1.3
         },
         "mode": "lines",
         "name": "PUFA 22:5 c",
         "text": "",
         "type": "scatter",
         "x": [
          0.5276396808291403,
          0.7914595212437103,
          0.9497514254924525,
          1.0552793616582805,
          1.1608072978241086,
          1.2663352339899365,
          1.3718631701557646,
          1.4773911063215925,
          1.5829190424874207,
          2.110558723316561,
          4.221117446633122
         ],
         "y": [
          0,
          0,
          0,
          0,
          0,
          0,
          0,
          0,
          0,
          0,
          0
         ]
        },
        {
         "line": {
          "color": "rgba(255, 255, 51, 0.5959595959595958)",
          "dash": "solid",
          "shape": "linear",
          "width": 1.3
         },
         "mode": "lines",
         "name": "PUFA 22:5 n-3 (DPA)",
         "text": "",
         "type": "scatter",
         "x": [
          0.5276396808291403,
          0.7914595212437103,
          0.9497514254924525,
          1.0552793616582805,
          1.1608072978241086,
          1.2663352339899365,
          1.3718631701557646,
          1.4773911063215925,
          1.5829190424874207,
          2.110558723316561,
          4.221117446633122
         ],
         "y": [
          7.497331842012696e-09,
          2.3118486157380934e-09,
          1.6820545920933799e-09,
          1.7988078609195168e-09,
          2.56911075403118e-13,
          1.0615945820916012e-09,
          1.7839295685708987e-09,
          1.2380510642488362e-09,
          1.0358930296907931e-09,
          7.664276136625325e-12,
          2.0256552968086636e-11
         ]
        },
        {
         "line": {
          "color": "rgba(128, 128, 0, 0.5959595959595958)",
          "dash": "solid",
          "shape": "linear",
          "width": 1.3
         },
         "mode": "lines",
         "name": "PUFA 22:6 c",
         "text": "",
         "type": "scatter",
         "x": [
          0.5276396808291403,
          0.7914595212437103,
          0.9497514254924525,
          1.0552793616582805,
          1.1608072978241086,
          1.2663352339899365,
          1.3718631701557646,
          1.4773911063215925,
          1.5829190424874207,
          2.110558723316561,
          4.221117446633122
         ],
         "y": [
          0,
          0,
          0,
          0,
          0,
          0,
          0,
          0,
          0,
          0,
          0
         ]
        },
        {
         "line": {
          "color": "rgba(251, 128, 114, 0.5959595959595958)",
          "dash": "solid",
          "shape": "linear",
          "width": 1.3
         },
         "mode": "lines",
         "name": "PUFA 22:6 n-3 (DHA)",
         "text": "",
         "type": "scatter",
         "x": [
          0.5276396808291403,
          0.7914595212437103,
          0.9497514254924525,
          1.0552793616582805,
          1.1608072978241086,
          1.2663352339899365,
          1.3718631701557646,
          1.4773911063215925,
          1.5829190424874207,
          2.110558723316561,
          4.221117446633122
         ],
         "y": [
          3.421177095926917e-08,
          1.0049963742474613e-08,
          7.730700776064348e-09,
          8.342561377041552e-09,
          1.211615935951532e-12,
          4.993005237903836e-09,
          8.500403688562563e-09,
          5.88387383366125e-09,
          5.0232323586974205e-09,
          3.755607368995325e-11,
          9.330733510936411e-11
         ]
        },
        {
         "line": {
          "color": "rgba(128, 177, 211, 0.5959595959595958)",
          "dash": "solid",
          "shape": "linear",
          "width": 1.3
         },
         "mode": "lines",
         "name": "PUFA 2:4 c",
         "text": "",
         "type": "scatter",
         "x": [
          0.5276396808291403,
          0.7914595212437103,
          0.9497514254924525,
          1.0552793616582805,
          1.1608072978241086,
          1.2663352339899365,
          1.3718631701557646,
          1.4773911063215925,
          1.5829190424874207,
          2.110558723316561,
          4.221117446633122
         ],
         "y": [
          0,
          0,
          0,
          0,
          0,
          0,
          0,
          0,
          0,
          0,
          0
         ]
        },
        {
         "line": {
          "color": "rgba(128, 177, 211, 0.5555555555555554)",
          "dash": "solid",
          "shape": "linear",
          "width": 1.3
         },
         "mode": "lines",
         "name": "PUFA 2:5 c",
         "text": "",
         "type": "scatter",
         "x": [
          0.5276396808291403,
          0.7914595212437103,
          0.9497514254924525,
          1.0552793616582805,
          1.1608072978241086,
          1.2663352339899365,
          1.3718631701557646,
          1.4773911063215925,
          1.5829190424874207,
          2.110558723316561,
          4.221117446633122
         ],
         "y": [
          0,
          0,
          0,
          0,
          0,
          0,
          0,
          0,
          0,
          0,
          0
         ]
        },
        {
         "line": {
          "color": "rgba(255, 153, 51, 0.5555555555555554)",
          "dash": "solid",
          "shape": "linear",
          "width": 1.3
         },
         "mode": "lines",
         "name": "PUFA 2:5 n-3 (EPA)",
         "text": "",
         "type": "scatter",
         "x": [
          0.5276396808291403,
          0.7914595212437103,
          0.9497514254924525,
          1.0552793616582805,
          1.1608072978241086,
          1.2663352339899365,
          1.3718631701557646,
          1.4773911063215925,
          1.5829190424874207,
          2.110558723316561,
          4.221117446633122
         ],
         "y": [
          1.932636103797331e-08,
          5.813099834226608e-09,
          4.353938432653982e-09,
          4.67944206890884e-09,
          6.741662874549146e-13,
          2.7843778506382513e-09,
          4.712415857735695e-09,
          3.2682465013408315e-09,
          2.763743409398592e-09,
          2.0573927832483585e-11,
          5.295324550942711e-11
         ]
        },
        {
         "line": {
          "color": "rgba(55, 128, 191, 0.5555555555555554)",
          "dash": "solid",
          "shape": "linear",
          "width": 1.3
         },
         "mode": "lines",
         "name": "Pantothenic acid",
         "text": "",
         "type": "scatter",
         "x": [
          0.5276396808291403,
          0.7914595212437103,
          0.9497514254924525,
          1.0552793616582805,
          1.1608072978241086,
          1.2663352339899365,
          1.3718631701557646,
          1.4773911063215925,
          1.5829190424874207,
          2.110558723316561,
          4.221117446633122
         ],
         "y": [
          0.22652459821858156,
          5.6910483720170086e-08,
          4.703451643521199e-08,
          4.984370510961388e-08,
          6.885573045611036e-12,
          2.906065478875487e-08,
          4.8482675179031885e-08,
          3.8216419924634394e-08,
          3.6368458230499925e-08,
          1.7725147796211733e-09,
          3.4295526620872185e-08
         ]
        },
        {
         "line": {
          "color": "rgba(50, 171, 96, 0.5555555555555554)",
          "dash": "solid",
          "shape": "linear",
          "width": 1.3
         },
         "mode": "lines",
         "name": "Phenylalanine",
         "text": "",
         "type": "scatter",
         "x": [
          0.5276396808291403,
          0.7914595212437103,
          0.9497514254924525,
          1.0552793616582805,
          1.1608072978241086,
          1.2663352339899365,
          1.3718631701557646,
          1.4773911063215925,
          1.5829190424874207,
          2.110558723316561,
          4.221117446633122
         ],
         "y": [
          1.1960058153974996e-07,
          2.3177296819407178e-08,
          1.9036304607371308e-08,
          2.0314873133264907e-08,
          2.5221807861826936e-12,
          1.2112786092508649e-08,
          2.0277413861727165e-08,
          2.1902104265794637e-08,
          2.2849199003127377e-08,
          2.007007379954857e-09,
          4.0375255806322824e-08
         ]
        },
        {
         "line": {
          "color": "rgba(128, 0, 128, 0.5555555555555554)",
          "dash": "solid",
          "shape": "linear",
          "width": 1.3
         },
         "mode": "lines",
         "name": "Phosphorus, P",
         "text": "",
         "type": "scatter",
         "x": [
          0.5276396808291403,
          0.7914595212437103,
          0.9497514254924525,
          1.0552793616582805,
          1.1608072978241086,
          1.2663352339899365,
          1.3718631701557646,
          1.4773911063215925,
          1.5829190424874207,
          2.110558723316561,
          4.221117446633122
         ],
         "y": [
          2650.997064097247,
          1871.7005454526038,
          1633.9305649085507,
          1633.9305512126016,
          1633.9305352359625,
          1633.9305399340353,
          1633.9305408183757,
          1633.930540290769,
          1633.9305384070535,
          1523.0754322063071,
          1546.9286174071901
         ]
        },
        {
         "line": {
          "color": "rgba(219, 64, 82, 0.5555555555555554)",
          "dash": "solid",
          "shape": "linear",
          "width": 1.3
         },
         "mode": "lines",
         "name": "Phytosterols",
         "text": "",
         "type": "scatter",
         "x": [
          0.5276396808291403,
          0.7914595212437103,
          0.9497514254924525,
          1.0552793616582805,
          1.1608072978241086,
          1.2663352339899365,
          1.3718631701557646,
          1.4773911063215925,
          1.5829190424874207,
          2.110558723316561,
          4.221117446633122
         ],
         "y": [
          4.872543766770662e-07,
          1.35917893746084e-07,
          8.996696254069587e-08,
          9.550705513864808e-08,
          1.3615919918491956e-11,
          5.561548662846572e-08,
          9.225832408747447e-08,
          6.529841570413814e-08,
          5.286773668326651e-08,
          4.1643449441391906e-10,
          9.973535793682773e-10
         ]
        },
        {
         "line": {
          "color": "rgba(0, 128, 128, 0.5555555555555554)",
          "dash": "solid",
          "shape": "linear",
          "width": 1.3
         },
         "mode": "lines",
         "name": "Potassium, K",
         "text": "",
         "type": "scatter",
         "x": [
          0.5276396808291403,
          0.7914595212437103,
          0.9497514254924525,
          1.0552793616582805,
          1.1608072978241086,
          1.2663352339899365,
          1.3718631701557646,
          1.4773911063215925,
          1.5829190424874207,
          2.110558723316561,
          4.221117446633122
         ],
         "y": [
          4700.000090098368,
          4700.000195420419,
          4700.000107964529,
          4700.000143323432,
          4700.000000043965,
          4700.000176227436,
          4700.000464078162,
          4700.0007766375575,
          4700.001607805024,
          4700.000000846653,
          7168.5768695062825
         ]
        },
        {
         "line": {
          "color": "rgba(255, 255, 51, 0.5555555555555554)",
          "dash": "solid",
          "shape": "linear",
          "width": 1.3
         },
         "mode": "lines",
         "name": "Proline",
         "text": "",
         "type": "scatter",
         "x": [
          0.5276396808291403,
          0.7914595212437103,
          0.9497514254924525,
          1.0552793616582805,
          1.1608072978241086,
          1.2663352339899365,
          1.3718631701557646,
          1.4773911063215925,
          1.5829190424874207,
          2.110558723316561,
          4.221117446633122
         ],
         "y": [
          2.0568470746974399e-07,
          3.2857695779609556e-08,
          2.6504160876259387e-08,
          2.817021420251931e-08,
          3.4964843681243226e-12,
          1.6664673898683705e-08,
          2.776051659296359e-08,
          2.996283252398146e-08,
          3.1411993474922994e-08,
          2.7945630260303122e-09,
          5.6373608051017714e-08
         ]
        },
        {
         "line": {
          "color": "rgba(128, 128, 0, 0.5555555555555554)",
          "dash": "solid",
          "shape": "linear",
          "width": 1.3
         },
         "mode": "lines",
         "name": "Protein",
         "text": "",
         "type": "scatter",
         "x": [
          0.5276396808291403,
          0.7914595212437103,
          0.9497514254924525,
          1.0552793616582805,
          1.1608072978241086,
          1.2663352339899365,
          1.3718631701557646,
          1.4773911063215925,
          1.5829190424874207,
          2.110558723316561,
          4.221117446633122
         ],
         "y": [
          77.04033036200167,
          56.000009732967975,
          56.00000097097716,
          56.000001027361826,
          56.00000000028007,
          56.00000060485142,
          56.00000094314337,
          56.00000063773751,
          56.00000054081244,
          88.18497901469146,
          88.01705640878167
         ]
        },
        {
         "line": {
          "color": "rgba(251, 128, 114, 0.5555555555555554)",
          "dash": "solid",
          "shape": "linear",
          "width": 1.3
         },
         "mode": "lines",
         "name": "Proximates",
         "text": "",
         "type": "scatter",
         "x": [
          0.5276396808291403,
          0.7914595212437103,
          0.9497514254924525,
          1.0552793616582805,
          1.1608072978241086,
          1.2663352339899365,
          1.3718631701557646,
          1.4773911063215925,
          1.5829190424874207,
          2.110558723316561,
          4.221117446633122
         ],
         "y": [
          0,
          0,
          0,
          0,
          0,
          0,
          0,
          0,
          0,
          0,
          0
         ]
        },
        {
         "line": {
          "color": "rgba(251, 128, 114, 0.5151515151515149)",
          "dash": "solid",
          "shape": "linear",
          "width": 1.3
         },
         "mode": "lines",
         "name": "Raffinose",
         "text": "",
         "type": "scatter",
         "x": [
          0.5276396808291403,
          0.7914595212437103,
          0.9497514254924525,
          1.0552793616582805,
          1.1608072978241086,
          1.2663352339899365,
          1.3718631701557646,
          1.4773911063215925,
          1.5829190424874207,
          2.110558723316561,
          4.221117446633122
         ],
         "y": [
          0.029943567702694737,
          0.02974056310237207,
          0.02952117005549654,
          0.029521170089830493,
          0.029521170498825147,
          0.029521170380555933,
          0.029521170458797617,
          0.029521170867963964,
          0.029521171543464415,
          0.028067674430809958,
          0.02957965381646767
         ]
        },
        {
         "line": {
          "color": "rgba(128, 177, 211, 0.5151515151515149)",
          "dash": "solid",
          "shape": "linear",
          "width": 1.3
         },
         "mode": "lines",
         "name": "Retinol",
         "text": "",
         "type": "scatter",
         "x": [
          0.5276396808291403,
          0.7914595212437103,
          0.9497514254924525,
          1.0552793616582805,
          1.1608072978241086,
          1.2663352339899365,
          1.3718631701557646,
          1.4773911063215925,
          1.5829190424874207,
          2.110558723316561,
          4.221117446633122
         ],
         "y": [
          158.18796731482215,
          156.4259261908243,
          155.27198845225885,
          155.27198857211343,
          155.2719850244514,
          155.2719873022821,
          155.27198947224306,
          155.27198977604772,
          155.27199285491577,
          147.6270571438128,
          155.5795887389675
         ]
        },
        {
         "line": {
          "color": "rgba(255, 153, 51, 0.5151515151515149)",
          "dash": "solid",
          "shape": "linear",
          "width": 1.3
         },
         "mode": "lines",
         "name": "Riboflavin",
         "text": "",
         "type": "scatter",
         "x": [
          0.5276396808291403,
          0.7914595212437103,
          0.9497514254924525,
          1.0552793616582805,
          1.1608072978241086,
          1.2663352339899365,
          1.3718631701557646,
          1.4773911063215925,
          1.5829190424874207,
          2.110558723316561,
          4.221117446633122
         ],
         "y": [
          1.6808190825398193,
          1.6429215234001877,
          1.7754481651949108,
          1.7754481597153766,
          1.7754482662154514,
          1.775448186902304,
          1.7754481050920747,
          1.7754481056548739,
          1.7754479498054225,
          4.2182190467882865,
          3.642981942641954
         ]
        },
        {
         "line": {
          "color": "rgba(55, 128, 191, 0.5151515151515149)",
          "dash": "solid",
          "shape": "linear",
          "width": 1.3
         },
         "mode": "lines",
         "name": "SFA 10:0",
         "text": "",
         "type": "scatter",
         "x": [
          0.5276396808291403,
          0.7914595212437103,
          0.9497514254924525,
          1.0552793616582805,
          1.1608072978241086,
          1.2663352339899365,
          1.3718631701557646,
          1.4773911063215925,
          1.5829190424874207,
          2.110558723316561,
          4.221117446633122
         ],
         "y": [
          0.004516682564518199,
          0.005965280683065209,
          0.006809858710324164,
          0.0068098588820939355,
          0.006809843558835802,
          0.006809851920151796,
          0.006809857655537038,
          0.006809854103336201,
          0.006809855454340927,
          0.007912761271666865,
          0.01604521048799988
         ]
        },
        {
         "line": {
          "color": "rgba(50, 171, 96, 0.5151515151515149)",
          "dash": "solid",
          "shape": "linear",
          "width": 1.3
         },
         "mode": "lines",
         "name": "SFA 11:0",
         "text": "",
         "type": "scatter",
         "x": [
          0.5276396808291403,
          0.7914595212437103,
          0.9497514254924525,
          1.0552793616582805,
          1.1608072978241086,
          1.2663352339899365,
          1.3718631701557646,
          1.4773911063215925,
          1.5829190424874207,
          2.110558723316561,
          4.221117446633122
         ],
         "y": [
          0,
          0,
          0,
          0,
          0,
          0,
          0,
          0,
          0,
          0,
          0
         ]
        },
        {
         "line": {
          "color": "rgba(128, 0, 128, 0.5151515151515149)",
          "dash": "solid",
          "shape": "linear",
          "width": 1.3
         },
         "mode": "lines",
         "name": "SFA 12:0",
         "text": "",
         "type": "scatter",
         "x": [
          0.5276396808291403,
          0.7914595212437103,
          0.9497514254924525,
          1.0552793616582805,
          1.1608072978241086,
          1.2663352339899365,
          1.3718631701557646,
          1.4773911063215925,
          1.5829190424874207,
          2.110558723316561,
          4.221117446633122
         ],
         "y": [
          0.007563038271170311,
          0.011930541556818487,
          0.013619700193058826,
          0.013619700348136062,
          0.013619687115259339,
          0.013619694519150561,
          0.013619700183522808,
          0.013619698364227733,
          0.013619702910518781,
          0.0158255224975731,
          0.032090420843851414
         ]
        },
        {
         "line": {
          "color": "rgba(219, 64, 82, 0.5151515151515149)",
          "dash": "solid",
          "shape": "linear",
          "width": 1.3
         },
         "mode": "lines",
         "name": "SFA 13:0",
         "text": "",
         "type": "scatter",
         "x": [
          0.5276396808291403,
          0.7914595212437103,
          0.9497514254924525,
          1.0552793616582805,
          1.1608072978241086,
          1.2663352339899365,
          1.3718631701557646,
          1.4773911063215925,
          1.5829190424874207,
          2.110558723316561,
          4.221117446633122
         ],
         "y": [
          0,
          0,
          0,
          0,
          0,
          0,
          0,
          0,
          0,
          0,
          0
         ]
        },
        {
         "line": {
          "color": "rgba(0, 128, 128, 0.5151515151515149)",
          "dash": "solid",
          "shape": "linear",
          "width": 1.3
         },
         "mode": "lines",
         "name": "SFA 14:0",
         "text": "",
         "type": "scatter",
         "x": [
          0.5276396808291403,
          0.7914595212437103,
          0.9497514254924525,
          1.0552793616582805,
          1.1608072978241086,
          1.2663352339899365,
          1.3718631701557646,
          1.4773911063215925,
          1.5829190424874207,
          2.110558723316561,
          4.221117446633122
         ],
         "y": [
          0.04948250302028885,
          0.04285425984215239,
          0.042466490493947,
          0.042466490189381506,
          0.042466452880216186,
          0.04246647210760908,
          0.04246648406967769,
          0.04246647322351779,
          0.04246647185092864,
          0.03826878085286145,
          0.04452446993108033
         ]
        },
        {
         "line": {
          "color": "rgba(255, 255, 51, 0.5151515151515149)",
          "dash": "solid",
          "shape": "linear",
          "width": 1.3
         },
         "mode": "lines",
         "name": "SFA 15:0",
         "text": "",
         "type": "scatter",
         "x": [
          0.5276396808291403,
          0.7914595212437103,
          0.9497514254924525,
          1.0552793616582805,
          1.1608072978241086,
          1.2663352339899365,
          1.3718631701557646,
          1.4773911063215925,
          1.5829190424874207,
          2.110558723316561,
          4.221117446633122
         ],
         "y": [
          0.004752948665570366,
          0.0047207247241897714,
          0.004685900322182987,
          0.004685900351547388,
          0.004685900079227337,
          0.004685900261747971,
          0.0046859004138714595,
          0.004685900375645943,
          0.004685900445760181,
          0.004455186419098242,
          0.004695183149294539
         ]
        },
        {
         "line": {
          "color": "rgba(128, 128, 0, 0.5151515151515149)",
          "dash": "solid",
          "shape": "linear",
          "width": 1.3
         },
         "mode": "lines",
         "name": "SFA 16:0",
         "text": "",
         "type": "scatter",
         "x": [
          0.5276396808291403,
          0.7914595212437103,
          0.9497514254924525,
          1.0552793616582805,
          1.1608072978241086,
          1.2663352339899365,
          1.3718631701557646,
          1.4773911063215925,
          1.5829190424874207,
          2.110558723316561,
          4.221117446633122
         ],
         "y": [
          8.78619998915613,
          6.2619674889811145,
          5.492796368066524,
          5.492796321639632,
          5.492796072206922,
          5.492796194409875,
          5.49279627536549,
          5.492796256053194,
          5.492796318004744,
          2.2706835530592926,
          2.7869082844781357
         ]
        },
        {
         "line": {
          "color": "rgba(128, 128, 0, 0.47474747474747453)",
          "dash": "solid",
          "shape": "linear",
          "width": 1.3
         },
         "mode": "lines",
         "name": "SFA 17:0",
         "text": "",
         "type": "scatter",
         "x": [
          0.5276396808291403,
          0.7914595212437103,
          0.9497514254924525,
          1.0552793616582805,
          1.1608072978241086,
          1.2663352339899365,
          1.3718631701557646,
          1.4773911063215925,
          1.5829190424874207,
          2.110558723316561,
          4.221117446633122
         ],
         "y": [
          0.003327064530543135,
          0.003304507454161306,
          0.003280130321410229,
          0.003280130348186002,
          0.0032801300554736045,
          0.0032801302434489086,
          0.0032801303896026527,
          0.0032801303348314187,
          0.0032801303698594473,
          0.0031186304938170062,
          0.0032866282056977906
         ]
        },
        {
         "line": {
          "color": "rgba(251, 128, 114, 0.47474747474747453)",
          "dash": "solid",
          "shape": "linear",
          "width": 1.3
         },
         "mode": "lines",
         "name": "SFA 18:0",
         "text": "",
         "type": "scatter",
         "x": [
          0.5276396808291403,
          0.7914595212437103,
          0.9497514254924525,
          1.0552793616582805,
          1.1608072978241086,
          1.2663352339899365,
          1.3718631701557646,
          1.4773911063215925,
          1.5829190424874207,
          2.110558723316561,
          4.221117446633122
         ],
         "y": [
          5.100675456134519,
          3.368700139713602,
          2.8502645264345547,
          2.8502644894368943,
          2.850264392919768,
          2.850264419226407,
          2.8502644066688703,
          2.850264341725975,
          2.850264230892116,
          0.8069155202281265,
          0.660506546667669
         ]
        },
        {
         "line": {
          "color": "rgba(128, 177, 211, 0.47474747474747453)",
          "dash": "solid",
          "shape": "linear",
          "width": 1.3
         },
         "mode": "lines",
         "name": "SFA 20:0",
         "text": "",
         "type": "scatter",
         "x": [
          0.5276396808291403,
          0.7914595212437103,
          0.9497514254924525,
          1.0552793616582805,
          1.1608072978241086,
          1.2663352339899365,
          1.3718631701557646,
          1.4773911063215925,
          1.5829190424874207,
          2.110558723316561,
          4.221117446633122
         ],
         "y": [
          1.9433126396200947e-09,
          6.006470593371428e-10,
          4.008842398367512e-10,
          4.2851815516957346e-10,
          6.107487892956345e-14,
          2.5479879162036237e-10,
          4.2486549559343953e-10,
          3.071910525636725e-10,
          2.477712849272309e-10,
          1.9504766806353174e-12,
          5.135100679219917e-12
         ]
        },
        {
         "line": {
          "color": "rgba(255, 153, 51, 0.47474747474747453)",
          "dash": "solid",
          "shape": "linear",
          "width": 1.3
         },
         "mode": "lines",
         "name": "SFA 21:0",
         "text": "",
         "type": "scatter",
         "x": [
          0.5276396808291403,
          0.7914595212437103,
          0.9497514254924525,
          1.0552793616582805,
          1.1608072978241086,
          1.2663352339899365,
          1.3718631701557646,
          1.4773911063215925,
          1.5829190424874207,
          2.110558723316561,
          4.221117446633122
         ],
         "y": [
          0,
          0,
          0,
          0,
          0,
          0,
          0,
          0,
          0,
          0,
          0
         ]
        },
        {
         "line": {
          "color": "rgba(55, 128, 191, 0.47474747474747453)",
          "dash": "solid",
          "shape": "linear",
          "width": 1.3
         },
         "mode": "lines",
         "name": "SFA 22:0",
         "text": "",
         "type": "scatter",
         "x": [
          0.5276396808291403,
          0.7914595212437103,
          0.9497514254924525,
          1.0552793616582805,
          1.1608072978241086,
          1.2663352339899365,
          1.3718631701557646,
          1.4773911063215925,
          1.5829190424874207,
          2.110558723316561,
          4.221117446633122
         ],
         "y": [
          7.034342938793745e-10,
          2.1824838391833405e-10,
          1.4716786589315304e-10,
          1.5761026195772584e-10,
          2.2607629526149154e-14,
          9.362598185211806e-11,
          1.5674773553488036e-10,
          1.1173153531288437e-10,
          9.17553089401691e-11,
          7.047034826993185e-13,
          1.789775449031275e-12
         ]
        },
        {
         "line": {
          "color": "rgba(50, 171, 96, 0.47474747474747453)",
          "dash": "solid",
          "shape": "linear",
          "width": 1.3
         },
         "mode": "lines",
         "name": "SFA 23:0",
         "text": "",
         "type": "scatter",
         "x": [
          0.5276396808291403,
          0.7914595212437103,
          0.9497514254924525,
          1.0552793616582805,
          1.1608072978241086,
          1.2663352339899365,
          1.3718631701557646,
          1.4773911063215925,
          1.5829190424874207,
          2.110558723316561,
          4.221117446633122
         ],
         "y": [
          0,
          0,
          0,
          0,
          0,
          0,
          0,
          0,
          0,
          0,
          0
         ]
        },
        {
         "line": {
          "color": "rgba(128, 0, 128, 0.47474747474747453)",
          "dash": "solid",
          "shape": "linear",
          "width": 1.3
         },
         "mode": "lines",
         "name": "SFA 24:0",
         "text": "",
         "type": "scatter",
         "x": [
          0.5276396808291403,
          0.7914595212437103,
          0.9497514254924525,
          1.0552793616582805,
          1.1608072978241086,
          1.2663352339899365,
          1.3718631701557646,
          1.4773911063215925,
          1.5829190424874207,
          2.110558723316561,
          4.221117446633122
         ],
         "y": [
          3.8091869666336694e-10,
          1.186413297830522e-10,
          7.797593317569149e-11,
          8.366702677877855e-11,
          1.2075965521417838e-14,
          4.9856808213898465e-11,
          8.352735715877598e-11,
          5.983565250056614e-11,
          4.9184045513061425e-11,
          3.787604710550518e-13,
          9.282152427184623e-13
         ]
        },
        {
         "line": {
          "color": "rgba(219, 64, 82, 0.47474747474747453)",
          "dash": "solid",
          "shape": "linear",
          "width": 1.3
         },
         "mode": "lines",
         "name": "SFA 4:0",
         "text": "",
         "type": "scatter",
         "x": [
          0.5276396808291403,
          0.7914595212437103,
          0.9497514254924525,
          1.0552793616582805,
          1.1608072978241086,
          1.2663352339899365,
          1.3718631701557646,
          1.4773911063215925,
          1.5829190424874207,
          2.110558723316561,
          4.221117446633122
         ],
         "y": [
          0.01590180687658666,
          0.013928039725993286,
          0.013825294384473583,
          0.013825294187310308,
          0.0138252795956483,
          0.013825287011734104,
          0.013825291537301198,
          0.013825286959061692,
          0.013825286028145695,
          0.013144582032234817,
          0.013852668428504333
         ]
        },
        {
         "line": {
          "color": "rgba(0, 128, 128, 0.47474747474747453)",
          "dash": "solid",
          "shape": "linear",
          "width": 1.3
         },
         "mode": "lines",
         "name": "SFA 5:0",
         "text": "",
         "type": "scatter",
         "x": [
          0.5276396808291403,
          0.7914595212437103,
          0.9497514254924525,
          1.0552793616582805,
          1.1608072978241086,
          1.2663352339899365,
          1.3718631701557646,
          1.4773911063215925,
          1.5829190424874207,
          2.110558723316561,
          4.221117446633122
         ],
         "y": [
          0,
          0,
          0,
          0,
          0,
          0,
          0,
          0,
          0,
          0,
          0
         ]
        },
        {
         "line": {
          "color": "rgba(255, 255, 51, 0.47474747474747453)",
          "dash": "solid",
          "shape": "linear",
          "width": 1.3
         },
         "mode": "lines",
         "name": "SFA 6:0",
         "text": "",
         "type": "scatter",
         "x": [
          0.5276396808291403,
          0.7914595212437103,
          0.9497514254924525,
          1.0552793616582805,
          1.1608072978241086,
          1.2663352339899365,
          1.3718631701557646,
          1.4773911063215925,
          1.5829190424874207,
          2.110558723316561,
          4.221117446633122
         ],
         "y": [
          0.0011844042225299454,
          9.165280813772279e-09,
          9.380679834668435e-09,
          9.244229338562548e-09,
          1.2780239334901748e-12,
          4.66365307721243e-09,
          7.466741021243712e-09,
          4.461279235606397e-09,
          3.704575560131106e-09,
          1.5984425785677486e-11,
          4.681364851592833e-11
         ]
        },
        {
         "line": {
          "color": "rgba(255, 255, 51, 0.4343434343434343)",
          "dash": "solid",
          "shape": "linear",
          "width": 1.3
         },
         "mode": "lines",
         "name": "SFA 7:0",
         "text": "",
         "type": "scatter",
         "x": [
          0.5276396808291403,
          0.7914595212437103,
          0.9497514254924525,
          1.0552793616582805,
          1.1608072978241086,
          1.2663352339899365,
          1.3718631701557646,
          1.4773911063215925,
          1.5829190424874207,
          2.110558723316561,
          4.221117446633122
         ],
         "y": [
          0,
          0,
          0,
          0,
          0,
          0,
          0,
          0,
          0,
          0,
          0
         ]
        },
        {
         "line": {
          "color": "rgba(128, 128, 0, 0.4343434343434343)",
          "dash": "solid",
          "shape": "linear",
          "width": 1.3
         },
         "mode": "lines",
         "name": "SFA 8:0",
         "text": "",
         "type": "scatter",
         "x": [
          0.5276396808291403,
          0.7914595212437103,
          0.9497514254924525,
          1.0552793616582805,
          1.1608072978241086,
          1.2663352339899365,
          1.3718631701557646,
          1.4773911063215925,
          1.5829190424874207,
          2.110558723316561,
          4.221117446633122
         ],
         "y": [
          0.0006943103524021063,
          6.54296650822377e-09,
          6.276750061173064e-09,
          6.246385141310381e-09,
          8.646075229474299e-13,
          3.2243288453094486e-09,
          5.190414144813438e-09,
          3.210576651351732e-09,
          2.6425464795489593e-09,
          1.2965956146889413e-11,
          3.761930500095856e-11
         ]
        },
        {
         "line": {
          "color": "rgba(251, 128, 114, 0.4343434343434343)",
          "dash": "solid",
          "shape": "linear",
          "width": 1.3
         },
         "mode": "lines",
         "name": "SFA 9:0",
         "text": "",
         "type": "scatter",
         "x": [
          0.5276396808291403,
          0.7914595212437103,
          0.9497514254924525,
          1.0552793616582805,
          1.1608072978241086,
          1.2663352339899365,
          1.3718631701557646,
          1.4773911063215925,
          1.5829190424874207,
          2.110558723316561,
          4.221117446633122
         ],
         "y": [
          0,
          0,
          0,
          0,
          0,
          0,
          0,
          0,
          0,
          0,
          0
         ]
        },
        {
         "line": {
          "color": "rgba(128, 177, 211, 0.4343434343434343)",
          "dash": "solid",
          "shape": "linear",
          "width": 1.3
         },
         "mode": "lines",
         "name": "Selenium, Se",
         "text": "",
         "type": "scatter",
         "x": [
          0.5276396808291403,
          0.7914595212437103,
          0.9497514254924525,
          1.0552793616582805,
          1.1608072978241086,
          1.2663352339899365,
          1.3718631701557646,
          1.4773911063215925,
          1.5829190424874207,
          2.110558723316561,
          4.221117446633122
         ],
         "y": [
          98.55490211805044,
          69.19069374227617,
          59.9064210591984,
          59.90642070801721,
          59.90641756124573,
          59.90641924655045,
          59.906420301519915,
          59.90641954907624,
          59.90641912358513,
          22.165927023822952,
          26.039651575491977
         ]
        },
        {
         "line": {
          "color": "rgba(255, 153, 51, 0.4343434343434343)",
          "dash": "solid",
          "shape": "linear",
          "width": 1.3
         },
         "mode": "lines",
         "name": "Serine",
         "text": "",
         "type": "scatter",
         "x": [
          0.5276396808291403,
          0.7914595212437103,
          0.9497514254924525,
          1.0552793616582805,
          1.1608072978241086,
          1.2663352339899365,
          1.3718631701557646,
          1.4773911063215925,
          1.5829190424874207,
          2.110558723316561,
          4.221117446633122
         ],
         "y": [
          1.1415353328317822e-07,
          2.3547282874353323e-08,
          1.9592548647766955e-08,
          2.0932981434312028e-08,
          2.570811737293748e-12,
          1.2523720747120235e-08,
          2.0989093503413694e-08,
          2.324248870305904e-08,
          2.4401615129809757e-08,
          2.2024139731762823e-09,
          4.4368583852661496e-08
         ]
        },
        {
         "line": {
          "color": "rgba(55, 128, 191, 0.4343434343434343)",
          "dash": "solid",
          "shape": "linear",
          "width": 1.3
         },
         "mode": "lines",
         "name": "Sodium, Na",
         "text": "",
         "type": "scatter",
         "x": [
          0.5276396808291403,
          0.7914595212437103,
          0.9497514254924525,
          1.0552793616582805,
          1.1608072978241086,
          1.2663352339899365,
          1.3718631701557646,
          1.4773911063215925,
          1.5829190424874207,
          2.110558723316561,
          4.221117446633122
         ],
         "y": [
          429.81315958801935,
          869.7398447804063,
          906.2449877183785,
          906.2548562922939,
          906.1165838766156,
          906.205073010187,
          906.2553823722719,
          906.1172219055949,
          906.1781762884281,
          1676.5633012973192,
          1027.8811150431293
         ]
        },
        {
         "line": {
          "color": "rgba(50, 171, 96, 0.4343434343434343)",
          "dash": "solid",
          "shape": "linear",
          "width": 1.3
         },
         "mode": "lines",
         "name": "Stachyose",
         "text": "",
         "type": "scatter",
         "x": [
          0.5276396808291403,
          0.7914595212437103,
          0.9497514254924525,
          1.0552793616582805,
          1.1608072978241086,
          1.2663352339899365,
          1.3718631701557646,
          1.4773911063215925,
          1.5829190424874207,
          2.110558723316561,
          4.221117446633122
         ],
         "y": [
          0.028517683526375938,
          0.028324345811782923,
          0.02811540005285385,
          0.02811540008555285,
          0.028115400475071568,
          0.028115400362434224,
          0.028115400436950114,
          0.028115400826632345,
          0.02811540146996611,
          0.026731118505533294,
          0.02817109887282635
         ]
        },
        {
         "line": {
          "color": "rgba(128, 0, 128, 0.4343434343434343)",
          "dash": "solid",
          "shape": "linear",
          "width": 1.3
         },
         "mode": "lines",
         "name": "Starch",
         "text": "",
         "type": "scatter",
         "x": [
          0.5276396808291403,
          0.7914595212437103,
          0.9497514254924525,
          1.0552793616582805,
          1.1608072978241086,
          1.2663352339899365,
          1.3718631701557646,
          1.4773911063215925,
          1.5829190424874207,
          2.110558723316561,
          4.221117446633122
         ],
         "y": [
          0,
          0,
          0,
          0,
          0,
          0,
          0,
          0,
          0,
          0,
          0
         ]
        },
        {
         "line": {
          "color": "rgba(219, 64, 82, 0.4343434343434343)",
          "dash": "solid",
          "shape": "linear",
          "width": 1.3
         },
         "mode": "lines",
         "name": "Stigmasterol",
         "text": "",
         "type": "scatter",
         "x": [
          0.5276396808291403,
          0.7914595212437103,
          0.9497514254924525,
          1.0552793616582805,
          1.1608072978241086,
          1.2663352339899365,
          1.3718631701557646,
          1.4773911063215925,
          1.5829190424874207,
          2.110558723316561,
          4.221117446633122
         ],
         "y": [
          1.1424009219749378e-07,
          3.548917663532821e-08,
          2.2893179298215405e-08,
          2.4430046162947264e-08,
          3.4684467225704913e-12,
          1.4534878759701893e-08,
          2.411553718883207e-08,
          1.771428481679976e-08,
          1.4039096116163855e-08,
          1.1305449067616585e-10,
          3.007201143073379e-10
         ]
        },
        {
         "line": {
          "color": "rgba(0, 128, 128, 0.4343434343434343)",
          "dash": "solid",
          "shape": "linear",
          "width": 1.3
         },
         "mode": "lines",
         "name": "Sucrose",
         "text": "",
         "type": "scatter",
         "x": [
          0.5276396808291403,
          0.7914595212437103,
          0.9497514254924525,
          1.0552793616582805,
          1.1608072978241086,
          1.2663352339899365,
          1.3718631701557646,
          1.4773911063215925,
          1.5829190424874207,
          2.110558723316561,
          4.221117446633122
         ],
         "y": [
          2.908687429667306e-06,
          3.0638960714620957e-07,
          2.0432660787340956e-07,
          2.1364802986619588e-07,
          3.069413830034855e-11,
          1.2061389778316263e-07,
          1.9698886690181444e-07,
          1.28698803654883e-07,
          1.104359322780408e-07,
          1.0708637831666187e-09,
          1.2937275984280338e-08
         ]
        },
        {
         "line": {
          "color": "rgba(0, 128, 128, 0.39393939393939387)",
          "dash": "solid",
          "shape": "linear",
          "width": 1.3
         },
         "mode": "lines",
         "name": "Sugars, Total NLEA",
         "text": "",
         "type": "scatter",
         "x": [
          0.5276396808291403,
          0.7914595212437103,
          0.9497514254924525,
          1.0552793616582805,
          1.1608072978241086,
          1.2663352339899365,
          1.3718631701557646,
          1.4773911063215925,
          1.5829190424874207,
          2.110558723316561,
          4.221117446633122
         ],
         "y": [
          0.48978805534764214,
          5.875234624497357e-07,
          4.0621893917695864e-07,
          4.2382224003375947e-07,
          6.133596625589273e-11,
          2.3742353561051983e-07,
          3.8800289411801445e-07,
          2.41835249659284e-07,
          2.086476226544308e-07,
          9.107857534290334e-10,
          2.8846065706932533e-09
         ]
        },
        {
         "line": {
          "color": "rgba(255, 255, 51, 0.39393939393939387)",
          "dash": "solid",
          "shape": "linear",
          "width": 1.3
         },
         "mode": "lines",
         "name": "Sugars, added",
         "text": "",
         "type": "scatter",
         "x": [
          0.5276396808291403,
          0.7914595212437103,
          0.9497514254924525,
          1.0552793616582805,
          1.1608072978241086,
          1.2663352339899365,
          1.3718631701557646,
          1.4773911063215925,
          1.5829190424874207,
          2.110558723316561,
          4.221117446633122
         ],
         "y": [
          0,
          0,
          0,
          0,
          0,
          0,
          0,
          0,
          0,
          0,
          0
         ]
        },
        {
         "line": {
          "color": "rgba(128, 128, 0, 0.39393939393939387)",
          "dash": "solid",
          "shape": "linear",
          "width": 1.3
         },
         "mode": "lines",
         "name": "Sugars, total including NLEA",
         "text": "",
         "type": "scatter",
         "x": [
          0.5276396808291403,
          0.7914595212437103,
          0.9497514254924525,
          1.0552793616582805,
          1.1608072978241086,
          1.2663352339899365,
          1.3718631701557646,
          1.4773911063215925,
          1.5829190424874207,
          2.110558723316561,
          4.221117446633122
         ],
         "y": [
          45.95591894280288,
          80.94438884616645,
          93.67827204812768,
          93.67827363562826,
          93.67827571000977,
          93.67827851230386,
          93.6782877106227,
          93.67830324076102,
          93.67833846100305,
          99.51828264058315,
          201.75898094699983
         ]
        },
        {
         "line": {
          "color": "rgba(251, 128, 114, 0.39393939393939387)",
          "dash": "solid",
          "shape": "linear",
          "width": 1.3
         },
         "mode": "lines",
         "name": "TFA 14:1 t",
         "text": "",
         "type": "scatter",
         "x": [
          0.5276396808291403,
          0.7914595212437103,
          0.9497514254924525,
          1.0552793616582805,
          1.1608072978241086,
          1.2663352339899365,
          1.3718631701557646,
          1.4773911063215925,
          1.5829190424874207,
          2.110558723316561,
          4.221117446633122
         ],
         "y": [
          0,
          0,
          0,
          0,
          0,
          0,
          0,
          0,
          0,
          0,
          0
         ]
        },
        {
         "line": {
          "color": "rgba(128, 177, 211, 0.39393939393939387)",
          "dash": "solid",
          "shape": "linear",
          "width": 1.3
         },
         "mode": "lines",
         "name": "TFA 16:1 t",
         "text": "",
         "type": "scatter",
         "x": [
          0.5276396808291403,
          0.7914595212437103,
          0.9497514254924525,
          1.0552793616582805,
          1.1608072978241086,
          1.2663352339899365,
          1.3718631701557646,
          1.4773911063215925,
          1.5829190424874207,
          2.110558723316561,
          4.221117446633122
         ],
         "y": [
          2.456903742498323e-10,
          6.86672577549245e-11,
          5.46467975832324e-11,
          5.948613954895068e-11,
          8.774380475642792e-15,
          3.6131628123388915e-11,
          6.214996700943975e-11,
          4.33174998911969e-11,
          3.734234175580268e-11,
          2.860569020074093e-13,
          6.674539094944273e-13
         ]
        },
        {
         "line": {
          "color": "rgba(255, 153, 51, 0.39393939393939387)",
          "dash": "solid",
          "shape": "linear",
          "width": 1.3
         },
         "mode": "lines",
         "name": "TFA 18:1 t",
         "text": "",
         "type": "scatter",
         "x": [
          0.5276396808291403,
          0.7914595212437103,
          0.9497514254924525,
          1.0552793616582805,
          1.1608072978241086,
          1.2663352339899365,
          1.3718631701557646,
          1.4773911063215925,
          1.5829190424874207,
          2.110558723316561,
          4.221117446633122
         ],
         "y": [
          6.212734731899113e-10,
          1.8300411891433453e-10,
          1.3150337323339598e-10,
          1.4185128533870525e-10,
          2.0565703706282543e-14,
          8.534883358554098e-11,
          1.4446940587812003e-10,
          1.0307371146028917e-10,
          8.561137645039272e-11,
          6.705198936039777e-13,
          1.660181066078499e-12
         ]
        },
        {
         "line": {
          "color": "rgba(55, 128, 191, 0.39393939393939387)",
          "dash": "solid",
          "shape": "linear",
          "width": 1.3
         },
         "mode": "lines",
         "name": "TFA 18:2 t",
         "text": "",
         "type": "scatter",
         "x": [
          0.5276396808291403,
          0.7914595212437103,
          0.9497514254924525,
          1.0552793616582805,
          1.1608072978241086,
          1.2663352339899365,
          1.3718631701557646,
          1.4773911063215925,
          1.5829190424874207,
          2.110558723316561,
          4.221117446633122
         ],
         "y": [
          0.000475294725439599,
          0.0004720724301963821,
          0.00046859000088089747,
          0.00046859000142588085,
          0.0004685900079178595,
          0.0004685900060405704,
          0.00046859000728250187,
          0.0004685900137772058,
          0.00046859002449943515,
          0.0004455186417588882,
          0.00046951831454710585
         ]
        },
        {
         "line": {
          "color": "rgba(50, 171, 96, 0.39393939393939387)",
          "dash": "solid",
          "shape": "linear",
          "width": 1.3
         },
         "mode": "lines",
         "name": "TFA 18:2 t not further defined",
         "text": "",
         "type": "scatter",
         "x": [
          0.5276396808291403,
          0.7914595212437103,
          0.9497514254924525,
          1.0552793616582805,
          1.1608072978241086,
          1.2663352339899365,
          1.3718631701557646,
          1.4773911063215925,
          1.5829190424874207,
          2.110558723316561,
          4.221117446633122
         ],
         "y": [
          0.0004752950891621406,
          0.0004720725334036933,
          0.00046859008070883465,
          0.00046859008811232664,
          0.00046859000793058816,
          0.0004685900585658672,
          0.0004685900972485995,
          0.00046859007687807683,
          0.0004685900783612748,
          0.0004455186421738078,
          0.000469518315531922
         ]
        },
        {
         "line": {
          "color": "rgba(128, 0, 128, 0.39393939393939387)",
          "dash": "solid",
          "shape": "linear",
          "width": 1.3
         },
         "mode": "lines",
         "name": "TFA 18:3 t",
         "text": "",
         "type": "scatter",
         "x": [
          0.5276396808291403,
          0.7914595212437103,
          0.9497514254924525,
          1.0552793616582805,
          1.1608072978241086,
          1.2663352339899365,
          1.3718631701557646,
          1.4773911063215925,
          1.5829190424874207,
          2.110558723316561,
          4.221117446633122
         ],
         "y": [
          0,
          0,
          0,
          0,
          0,
          0,
          0,
          0,
          0,
          0,
          0
         ]
        },
        {
         "line": {
          "color": "rgba(219, 64, 82, 0.39393939393939387)",
          "dash": "solid",
          "shape": "linear",
          "width": 1.3
         },
         "mode": "lines",
         "name": "TFA 20:1 t",
         "text": "",
         "type": "scatter",
         "x": [
          0.5276396808291403,
          0.7914595212437103,
          0.9497514254924525,
          1.0552793616582805,
          1.1608072978241086,
          1.2663352339899365,
          1.3718631701557646,
          1.4773911063215925,
          1.5829190424874207,
          2.110558723316561,
          4.221117446633122
         ],
         "y": [
          0,
          0,
          0,
          0,
          0,
          0,
          0,
          0,
          0,
          0,
          0
         ]
        },
        {
         "line": {
          "color": "rgba(219, 64, 82, 0.3535353535353534)",
          "dash": "solid",
          "shape": "linear",
          "width": 1.3
         },
         "mode": "lines",
         "name": "TFA 22:1 t",
         "text": "",
         "type": "scatter",
         "x": [
          0.5276396808291403,
          0.7914595212437103,
          0.9497514254924525,
          1.0552793616582805,
          1.1608072978241086,
          1.2663352339899365,
          1.3718631701557646,
          1.4773911063215925,
          1.5829190424874207,
          2.110558723316561,
          4.221117446633122
         ],
         "y": [
          2.7028857841587784e-11,
          7.333057277895186e-12,
          6.180479580985711e-12,
          6.759740171446753e-12,
          1.0059707282733155e-15,
          4.127068276749046e-12,
          7.155714883769967e-12,
          4.931685819416012e-12,
          4.328802010142555e-12,
          3.277606575590914e-14,
          7.44794836206759e-14
         ]
        },
        {
         "line": {
          "color": "rgba(0, 128, 128, 0.3535353535353534)",
          "dash": "solid",
          "shape": "linear",
          "width": 1.3
         },
         "mode": "lines",
         "name": "Theobromine",
         "text": "",
         "type": "scatter",
         "x": [
          0.5276396808291403,
          0.7914595212437103,
          0.9497514254924525,
          1.0552793616582805,
          1.1608072978241086,
          1.2663352339899365,
          1.3718631701557646,
          1.4773911063215925,
          1.5829190424874207,
          2.110558723316561,
          4.221117446633122
         ],
         "y": [
          2.2528146181345776e-06,
          6.998465632486723e-07,
          4.5145349576080775e-07,
          4.817605103333201e-07,
          6.839776936909009e-11,
          2.866278091413213e-07,
          4.755583933637684e-07,
          3.4932569658729127e-07,
          2.7685097541075125e-07,
          2.2294345561339905e-09,
          5.930200654140703e-09
         ]
        },
        {
         "line": {
          "color": "rgba(255, 255, 51, 0.3535353535353534)",
          "dash": "solid",
          "shape": "linear",
          "width": 1.3
         },
         "mode": "lines",
         "name": "Thiamin",
         "text": "",
         "type": "scatter",
         "x": [
          0.5276396808291403,
          0.7914595212437103,
          0.9497514254924525,
          1.0552793616582805,
          1.1608072978241086,
          1.2663352339899365,
          1.3718631701557646,
          1.4773911063215925,
          1.5829190424874207,
          2.110558723316561,
          4.221117446633122
         ],
         "y": [
          6.387918046644281,
          4.296962211226899,
          3.67677695366768,
          3.6767769124427945,
          3.676776905076542,
          3.6767768881963985,
          3.6767768572910926,
          3.6767768341679172,
          3.6767767716089312,
          1.2000000003787301,
          1.2000000000277975
         ]
        },
        {
         "line": {
          "color": "rgba(128, 128, 0, 0.3535353535353534)",
          "dash": "solid",
          "shape": "linear",
          "width": 1.3
         },
         "mode": "lines",
         "name": "Threonine",
         "text": "",
         "type": "scatter",
         "x": [
          0.5276396808291403,
          0.7914595212437103,
          0.9497514254924525,
          1.0552793616582805,
          1.1608072978241086,
          1.2663352339899365,
          1.3718631701557646,
          1.4773911063215925,
          1.5829190424874207,
          2.110558723316561,
          4.221117446633122
         ],
         "y": [
          9.848491004398429e-08,
          2.266965707718934e-08,
          1.8536397509046693e-08,
          1.987294047878975e-08,
          2.563113718664893e-12,
          1.1900847673914654e-08,
          2.005067194488197e-08,
          1.996955804956815e-08,
          2.0247530177147904e-08,
          1.5628465535068026e-09,
          3.104730175173885e-08
         ]
        },
        {
         "line": {
          "color": "rgba(251, 128, 114, 0.3535353535353534)",
          "dash": "solid",
          "shape": "linear",
          "width": 1.3
         },
         "mode": "lines",
         "name": "Tocopherol, beta",
         "text": "",
         "type": "scatter",
         "x": [
          0.5276396808291403,
          0.7914595212437103,
          0.9497514254924525,
          1.0552793616582805,
          1.1608072978241086,
          1.2663352339899365,
          1.3718631701557646,
          1.4773911063215925,
          1.5829190424874207,
          2.110558723316561,
          4.221117446633122
         ],
         "y": [
          2.410934275213939e-09,
          6.971976597923302e-10,
          4.2339210198680214e-10,
          4.4248608583164333e-10,
          6.17977854334424e-14,
          2.516880966549746e-10,
          4.077876805871387e-10,
          2.8546135377441085e-10,
          2.2784471128379556e-10,
          1.2179612604072723e-12,
          3.052978215083989e-12
         ]
        },
        {
         "line": {
          "color": "rgba(128, 177, 211, 0.3535353535353534)",
          "dash": "solid",
          "shape": "linear",
          "width": 1.3
         },
         "mode": "lines",
         "name": "Tocopherol, delta",
         "text": "",
         "type": "scatter",
         "x": [
          0.5276396808291403,
          0.7914595212437103,
          0.9497514254924525,
          1.0552793616582805,
          1.1608072978241086,
          1.2663352339899365,
          1.3718631701557646,
          1.4773911063215925,
          1.5829190424874207,
          2.110558723316561,
          4.221117446633122
         ],
         "y": [
          2.7226963582616547e-09,
          8.441232808152773e-10,
          5.45497731260411e-10,
          5.789355624432829e-10,
          8.165581272193672e-14,
          3.4002989772993555e-10,
          5.61610249280365e-10,
          4.046009418889839e-10,
          3.230418132616442e-10,
          2.4229310992939402e-12,
          6.525662088513226e-12
         ]
        },
        {
         "line": {
          "color": "rgba(255, 153, 51, 0.3535353535353534)",
          "dash": "solid",
          "shape": "linear",
          "width": 1.3
         },
         "mode": "lines",
         "name": "Tocopherol, gamma",
         "text": "",
         "type": "scatter",
         "x": [
          0.5276396808291403,
          0.7914595212437103,
          0.9497514254924525,
          1.0552793616582805,
          1.1608072978241086,
          1.2663352339899365,
          1.3718631701557646,
          1.4773911063215925,
          1.5829190424874207,
          2.110558723316561,
          4.221117446633122
         ],
         "y": [
          0.1901247191898913,
          0.10370489667974284,
          0.10293987057889732,
          0.10293987192695321,
          0.10293985294233476,
          0.10293986450525311,
          0.10293987281236651,
          0.10293986786511561,
          0.10293986790547009,
          0.09787153529764231,
          0.10314378356958606
         ]
        },
        {
         "line": {
          "color": "rgba(55, 128, 191, 0.3535353535353534)",
          "dash": "solid",
          "shape": "linear",
          "width": 1.3
         },
         "mode": "lines",
         "name": "Tocotrienol, alpha",
         "text": "",
         "type": "scatter",
         "x": [
          0.5276396808291403,
          0.7914595212437103,
          0.9497514254924525,
          1.0552793616582805,
          1.1608072978241086,
          1.2663352339899365,
          1.3718631701557646,
          1.4773911063215925,
          1.5829190424874207,
          2.110558723316561,
          4.221117446633122
         ],
         "y": [
          6.036538304807377e-09,
          1.7390760950641698e-09,
          1.1506893534499469e-09,
          1.2212749823178611e-09,
          1.734415708893038e-13,
          7.119989821305513e-10,
          1.1807109974711437e-09,
          8.354026472826824e-10,
          6.767336197451346e-10,
          5.291805802747601e-12,
          1.306303914365777e-11
         ]
        },
        {
         "line": {
          "color": "rgba(50, 171, 96, 0.3535353535353534)",
          "dash": "solid",
          "shape": "linear",
          "width": 1.3
         },
         "mode": "lines",
         "name": "Tocotrienol, beta",
         "text": "",
         "type": "scatter",
         "x": [
          0.5276396808291403,
          0.7914595212437103,
          0.9497514254924525,
          1.0552793616582805,
          1.1608072978241086,
          1.2663352339899365,
          1.3718631701557646,
          1.4773911063215925,
          1.5829190424874207,
          2.110558723316561,
          4.221117446633122
         ],
         "y": [
          0,
          0,
          0,
          0,
          0,
          0,
          0,
          0,
          0,
          0,
          0
         ]
        },
        {
         "line": {
          "color": "rgba(128, 0, 128, 0.3535353535353534)",
          "dash": "solid",
          "shape": "linear",
          "width": 1.3
         },
         "mode": "lines",
         "name": "Tocotrienol, delta",
         "text": "",
         "type": "scatter",
         "x": [
          0.5276396808291403,
          0.7914595212437103,
          0.9497514254924525,
          1.0552793616582805,
          1.1608072978241086,
          1.2663352339899365,
          1.3718631701557646,
          1.4773911063215925,
          1.5829190424874207,
          2.110558723316561,
          4.221117446633122
         ],
         "y": [
          0,
          0,
          0,
          0,
          0,
          0,
          0,
          0,
          0,
          0,
          0
         ]
        },
        {
         "line": {
          "color": "rgba(128, 0, 128, 0.313131313131313)",
          "dash": "solid",
          "shape": "linear",
          "width": 1.3
         },
         "mode": "lines",
         "name": "Tocotrienol, gamma",
         "text": "",
         "type": "scatter",
         "x": [
          0.5276396808291403,
          0.7914595212437103,
          0.9497514254924525,
          1.0552793616582805,
          1.1608072978241086,
          1.2663352339899365,
          1.3718631701557646,
          1.4773911063215925,
          1.5829190424874207,
          2.110558723316561,
          4.221117446633122
         ],
         "y": [
          3.655682950319801e-10,
          1.1356536523305027e-10,
          7.32581737542893e-11,
          7.817614772143126e-11,
          1.1099029512225573e-14,
          4.6511612031046056e-11,
          7.716971900426263e-11,
          5.668571141375923e-11,
          4.492510757172434e-11,
          3.617743701637307e-13,
          9.623043657834813e-13
         ]
        },
        {
         "line": {
          "color": "rgba(219, 64, 82, 0.313131313131313)",
          "dash": "solid",
          "shape": "linear",
          "width": 1.3
         },
         "mode": "lines",
         "name": "Total fat (NLEA)",
         "text": "",
         "type": "scatter",
         "x": [
          0.5276396808291403,
          0.7914595212437103,
          0.9497514254924525,
          1.0552793616582805,
          1.1608072978241086,
          1.2663352339899365,
          1.3718631701557646,
          1.4773911063215925,
          1.5829190424874207,
          2.110558723316561,
          4.221117446633122
         ],
         "y": [
          4.21643456831977,
          4.187848942758144,
          4.156955615814618,
          4.156955620649274,
          4.156955678240915,
          4.156955661587108,
          4.156955672604531,
          4.156955730220348,
          4.156955825339389,
          3.952284974771449,
          4.165190872010285
         ]
        },
        {
         "line": {
          "color": "rgba(0, 128, 128, 0.313131313131313)",
          "dash": "solid",
          "shape": "linear",
          "width": 1.3
         },
         "mode": "lines",
         "name": "Total lipid (fat)",
         "text": "",
         "type": "scatter",
         "x": [
          0.5276396808291403,
          0.7914595212437103,
          0.9497514254924525,
          1.0552793616582805,
          1.1608072978241086,
          1.2663352339899365,
          1.3718631701557646,
          1.4773911063215925,
          1.5829190424874207,
          2.110558723316561,
          4.221117446633122
         ],
         "y": [
          165.35412723760737,
          166.55115382640508,
          156.49232738793927,
          156.49232581892855,
          156.4923317681062,
          156.49232551372887,
          156.49231702771436,
          156.49230763625667,
          156.4922834007542,
          153.05618606790955,
          79.56075532332714
         ]
        },
        {
         "line": {
          "color": "rgba(255, 255, 51, 0.313131313131313)",
          "dash": "solid",
          "shape": "linear",
          "width": 1.3
         },
         "mode": "lines",
         "name": "Tryptophan",
         "text": "",
         "type": "scatter",
         "x": [
          0.5276396808291403,
          0.7914595212437103,
          0.9497514254924525,
          1.0552793616582805,
          1.1608072978241086,
          1.2663352339899365,
          1.3718631701557646,
          1.4773911063215925,
          1.5829190424874207,
          2.110558723316561,
          4.221117446633122
         ],
         "y": [
          2.7945330601911498e-08,
          5.7283516840590266e-09,
          4.7791480407686075e-09,
          5.1057246251315795e-09,
          6.254156695052433e-13,
          3.0549581889037735e-09,
          5.119609983085267e-09,
          5.699057375722631e-09,
          5.994337668385229e-09,
          5.446036450030598e-10,
          1.0976957987992561e-08
         ]
        },
        {
         "line": {
          "color": "rgba(128, 128, 0, 0.313131313131313)",
          "dash": "solid",
          "shape": "linear",
          "width": 1.3
         },
         "mode": "lines",
         "name": "Tyrosine",
         "text": "",
         "type": "scatter",
         "x": [
          0.5276396808291403,
          0.7914595212437103,
          0.9497514254924525,
          1.0552793616582805,
          1.1608072978241086,
          1.2663352339899365,
          1.3718631701557646,
          1.4773911063215925,
          1.5829190424874207,
          2.110558723316561,
          4.221117446633122
         ],
         "y": [
          7.868158640416379e-08,
          1.8018772582689976e-08,
          1.4785244121582274e-08,
          1.583332090593138e-08,
          2.005950961941144e-12,
          9.480207352979202e-09,
          1.5939690816729807e-08,
          1.6531945287796065e-08,
          1.6975336506234945e-08,
          1.3982739330627842e-09,
          2.7933978968158325e-08
         ]
        },
        {
         "line": {
          "color": "rgba(251, 128, 114, 0.313131313131313)",
          "dash": "solid",
          "shape": "linear",
          "width": 1.3
         },
         "mode": "lines",
         "name": "Valine",
         "text": "",
         "type": "scatter",
         "x": [
          0.5276396808291403,
          0.7914595212437103,
          0.9497514254924525,
          1.0552793616582805,
          1.1608072978241086,
          1.2663352339899365,
          1.3718631701557646,
          1.4773911063215925,
          1.5829190424874207,
          2.110558723316561,
          4.221117446633122
         ],
         "y": [
          1.1940329733655908e-07,
          2.7248083636512706e-08,
          2.204118975726694e-08,
          2.359962825890474e-08,
          3.026086261753066e-12,
          1.4111124537384255e-08,
          2.372351623056767e-08,
          2.3897146321911992e-08,
          2.427974690264901e-08,
          1.910902223009751e-09,
          3.802894315193253e-08
         ]
        },
        {
         "line": {
          "color": "rgba(128, 177, 211, 0.313131313131313)",
          "dash": "solid",
          "shape": "linear",
          "width": 1.3
         },
         "mode": "lines",
         "name": "Verbascose",
         "text": "",
         "type": "scatter",
         "x": [
          0.5276396808291403,
          0.7914595212437103,
          0.9497514254924525,
          1.0552793616582805,
          1.1608072978241086,
          1.2663352339899365,
          1.3718631701557646,
          1.4773911063215925,
          1.5829190424874207,
          2.110558723316561,
          4.221117446633122
         ],
         "y": [
          0,
          0,
          0,
          0,
          0,
          0,
          0,
          0,
          0,
          0,
          0
         ]
        },
        {
         "line": {
          "color": "rgba(255, 153, 51, 0.313131313131313)",
          "dash": "solid",
          "shape": "linear",
          "width": 1.3
         },
         "mode": "lines",
         "name": "Vitamin A, IU",
         "text": "",
         "type": "scatter",
         "x": [
          0.5276396808291403,
          0.7914595212437103,
          0.9497514254924525,
          1.0552793616582805,
          1.1608072978241086,
          1.2663352339899365,
          1.3718631701557646,
          1.4773911063215925,
          1.5829190424874207,
          2.110558723316561,
          4.221117446633122
         ],
         "y": [
          0.00018662181413020337,
          5.379633000319379e-05,
          3.5386743700823496e-05,
          3.7958692984089205e-05,
          5.500939678832042e-09,
          2.3280764106718142e-05,
          3.947839586118557e-05,
          2.97487209408697e-05,
          2.6408050004372505e-05,
          2121.5716642127304,
          1981.337066891853
         ]
        },
        {
         "line": {
          "color": "rgba(55, 128, 191, 0.313131313131313)",
          "dash": "solid",
          "shape": "linear",
          "width": 1.3
         },
         "mode": "lines",
         "name": "Vitamin A, RAE",
         "text": "",
         "type": "scatter",
         "x": [
          0.5276396808291403,
          0.7914595212437103,
          0.9497514254924525,
          1.0552793616582805,
          1.1608072978241086,
          1.2663352339899365,
          1.3718631701557646,
          1.4773911063215925,
          1.5829190424874207,
          2.110558723316561,
          4.221117446633122
         ],
         "y": [
          900.0001420880698,
          900.0000439701487,
          900.0000265553389,
          900.0000285719409,
          900.0000000040858,
          900.0000176168365,
          900.000029165485,
          900.0000204119094,
          900.0000165551899,
          900.0000001284668,
          900.0000009660944
         ]
        },
        {
         "line": {
          "color": "rgba(50, 171, 96, 0.313131313131313)",
          "dash": "solid",
          "shape": "linear",
          "width": 1.3
         },
         "mode": "lines",
         "name": "Vitamin B-12",
         "text": "",
         "type": "scatter",
         "x": [
          0.5276396808291403,
          0.7914595212437103,
          0.9497514254924525,
          1.0552793616582805,
          1.1608072978241086,
          1.2663352339899365,
          1.3718631701557646,
          1.4773911063215925,
          1.5829190424874207,
          2.110558723316561,
          4.221117446633122
         ],
         "y": [
          2.4000013468616834,
          2.6203340072624153,
          2.9114961217833084,
          2.9114960954083506,
          2.911496426320304,
          2.911496160124122,
          2.9114958528416506,
          2.911495745176024,
          2.911495065223321,
          8.386807975173111,
          6.055216328051653
         ]
        },
        {
         "line": {
          "color": "rgba(50, 171, 96, 0.27272727272727254)",
          "dash": "solid",
          "shape": "linear",
          "width": 1.3
         },
         "mode": "lines",
         "name": "Vitamin B-12, added",
         "text": "",
         "type": "scatter",
         "x": [
          0.5276396808291403,
          0.7914595212437103,
          0.9497514254924525,
          1.0552793616582805,
          1.1608072978241086,
          1.2663352339899365,
          1.3718631701557646,
          1.4773911063215925,
          1.5829190424874207,
          2.110558723316561,
          4.221117446633122
         ],
         "y": [
          0,
          0,
          0,
          0,
          0,
          0,
          0,
          0,
          0,
          0,
          0
         ]
        },
        {
         "line": {
          "color": "rgba(128, 0, 128, 0.27272727272727254)",
          "dash": "solid",
          "shape": "linear",
          "width": 1.3
         },
         "mode": "lines",
         "name": "Vitamin B-6",
         "text": "",
         "type": "scatter",
         "x": [
          0.5276396808291403,
          0.7914595212437103,
          0.9497514254924525,
          1.0552793616582805,
          1.1608072978241086,
          1.2663352339899365,
          1.3718631701557646,
          1.4773911063215925,
          1.5829190424874207,
          2.110558723316561,
          4.221117446633122
         ],
         "y": [
          3.6061486436009456,
          4.186074438696582,
          4.449188850846549,
          4.449188876058859,
          4.449188918047129,
          4.44918895445581,
          4.449189096070192,
          4.449189410129853,
          4.449189999413008,
          5.8478394282874495,
          7.58489717260288
         ]
        },
        {
         "line": {
          "color": "rgba(219, 64, 82, 0.27272727272727254)",
          "dash": "solid",
          "shape": "linear",
          "width": 1.3
         },
         "mode": "lines",
         "name": "Vitamin C, total ascorbic acid",
         "text": "",
         "type": "scatter",
         "x": [
          0.5276396808291403,
          0.7914595212437103,
          0.9497514254924525,
          1.0552793616582805,
          1.1608072978241086,
          1.2663352339899365,
          1.3718631701557646,
          1.4773911063215925,
          1.5829190424874207,
          2.110558723316561,
          4.221117446633122
         ],
         "y": [
          90.00000497683922,
          90.00000224864769,
          90.00000145642201,
          90.00000156947075,
          90.00000000008745,
          90.00000094872847,
          90.0000015855057,
          90.00000114161057,
          90.00000094442481,
          98.6136199201179,
          153.62761674498
         ]
        },
        {
         "line": {
          "color": "rgba(0, 128, 128, 0.27272727272727254)",
          "dash": "solid",
          "shape": "linear",
          "width": 1.3
         },
         "mode": "lines",
         "name": "Vitamin D (D2 + D3)",
         "text": "",
         "type": "scatter",
         "x": [
          0.5276396808291403,
          0.7914595212437103,
          0.9497514254924525,
          1.0552793616582805,
          1.1608072978241086,
          1.2663352339899365,
          1.3718631701557646,
          1.4773911063215925,
          1.5829190424874207,
          2.110558723316561,
          4.221117446633122
         ],
         "y": [
          3.5247863060115674,
          3.5008893212492724,
          3.475063585953778,
          3.4750636014603122,
          3.47506349874092,
          3.475063575416191,
          3.475063648871906,
          3.47506364911916,
          3.4750637136271556,
          3.3039662479772516,
          3.4819478223611515
         ]
        },
        {
         "line": {
          "color": "rgba(255, 255, 51, 0.27272727272727254)",
          "dash": "solid",
          "shape": "linear",
          "width": 1.3
         },
         "mode": "lines",
         "name": "Vitamin D (D2 + D3), International Units",
         "text": "",
         "type": "scatter",
         "x": [
          0.5276396808291403,
          0.7914595212437103,
          0.9497514254924525,
          1.0552793616582805,
          1.1608072978241086,
          1.2663352339899365,
          1.3718631701557646,
          1.4773911063215925,
          1.5829190424874207,
          2.110558723316561,
          4.221117446633122
         ],
         "y": [
          141.06750457049918,
          140.11110587882422,
          139.07751921806693,
          139.07752007474028,
          139.07751435116336,
          139.0775186557544,
          139.07752268794505,
          139.07752242181328,
          139.07752509830863,
          556.5442657269037,
          535.6204491598509
         ]
        },
        {
         "line": {
          "color": "rgba(128, 128, 0, 0.27272727272727254)",
          "dash": "solid",
          "shape": "linear",
          "width": 1.3
         },
         "mode": "lines",
         "name": "Vitamin D2 (ergocalciferol)",
         "text": "",
         "type": "scatter",
         "x": [
          0.5276396808291403,
          0.7914595212437103,
          0.9497514254924525,
          1.0552793616582805,
          1.1608072978241086,
          1.2663352339899365,
          1.3718631701557646,
          1.4773911063215925,
          1.5829190424874207,
          2.110558723316561,
          4.221117446633122
         ],
         "y": [
          3.523264744119541,
          3.499378511588612,
          3.4735639591930805,
          3.4735639632754483,
          3.4735640106936088,
          3.4735639971932293,
          3.4735640066748426,
          3.473564054621966,
          3.4735641340099392,
          3.302540587633497,
          3.48044536208262
         ]
        },
        {
         "line": {
          "color": "rgba(251, 128, 114, 0.27272727272727254)",
          "dash": "solid",
          "shape": "linear",
          "width": 1.3
         },
         "mode": "lines",
         "name": "Vitamin D3 (cholecalciferol)",
         "text": "",
         "type": "scatter",
         "x": [
          0.5276396808291403,
          0.7914595212437103,
          0.9497514254924525,
          1.0552793616582805,
          1.1608072978241086,
          1.2663352339899365,
          1.3718631701557646,
          1.4773911063215925,
          1.5829190424874207,
          2.110558723316561,
          4.221117446633122
         ],
         "y": [
          4.900039322384595e-07,
          1.358812459770256e-07,
          1.1023423735140473e-07,
          1.2003012461511903e-07,
          1.7771951493141425e-11,
          7.270660982886041e-08,
          1.252983265096495e-07,
          8.627165080126866e-08,
          7.517062926994602e-08,
          5.709573000131869e-10,
          1.3206481757106164e-09
         ]
        },
        {
         "line": {
          "color": "rgba(128, 177, 211, 0.27272727272727254)",
          "dash": "solid",
          "shape": "linear",
          "width": 1.3
         },
         "mode": "lines",
         "name": "Vitamin E",
         "text": "",
         "type": "scatter",
         "x": [
          0.5276396808291403,
          0.7914595212437103,
          0.9497514254924525,
          1.0552793616582805,
          1.1608072978241086,
          1.2663352339899365,
          1.3718631701557646,
          1.4773911063215925,
          1.5829190424874207,
          2.110558723316561,
          4.221117446633122
         ],
         "y": [
          2.6999662899753255e-07,
          6.925790189272144e-08,
          5.551057249250729e-08,
          5.8474683426840814e-08,
          8.283155812695283e-12,
          3.30386846348688e-08,
          5.4974396183254116e-08,
          3.6626092213635185e-08,
          3.0602533378322593e-08,
          2.0917213301919894e-10,
          4.696392831112967e-10
         ]
        },
        {
         "line": {
          "color": "rgba(255, 153, 51, 0.27272727272727254)",
          "dash": "solid",
          "shape": "linear",
          "width": 1.3
         },
         "mode": "lines",
         "name": "Vitamin E (alpha-tocopherol)",
         "text": "",
         "type": "scatter",
         "x": [
          0.5276396808291403,
          0.7914595212437103,
          0.9497514254924525,
          1.0552793616582805,
          1.1608072978241086,
          1.2663352339899365,
          1.3718631701557646,
          1.4773911063215925,
          1.5829190424874207,
          2.110558723316561,
          4.221117446633122
         ],
         "y": [
          15.000000451451676,
          15.000000132628099,
          15.000000091447085,
          15.00000009939582,
          15.000000000022327,
          15.000000060032967,
          15.000000100322026,
          15.000000078652159,
          15.00000006118001,
          15.000000000133479,
          15.000000001030102
         ]
        },
        {
         "line": {
          "color": "rgba(55, 128, 191, 0.27272727272727254)",
          "dash": "solid",
          "shape": "linear",
          "width": 1.3
         },
         "mode": "lines",
         "name": "Vitamin E, added",
         "text": "",
         "type": "scatter",
         "x": [
          0.5276396808291403,
          0.7914595212437103,
          0.9497514254924525,
          1.0552793616582805,
          1.1608072978241086,
          1.2663352339899365,
          1.3718631701557646,
          1.4773911063215925,
          1.5829190424874207,
          2.110558723316561,
          4.221117446633122
         ],
         "y": [
          0,
          0,
          0,
          0,
          0,
          0,
          0,
          0,
          0,
          0,
          0
         ]
        },
        {
         "line": {
          "color": "rgba(55, 128, 191, 0.2323232323232321)",
          "dash": "solid",
          "shape": "linear",
          "width": 1.3
         },
         "mode": "lines",
         "name": "Vitamin K (Dihydrophylloquinone)",
         "text": "",
         "type": "scatter",
         "x": [
          0.5276396808291403,
          0.7914595212437103,
          0.9497514254924525,
          1.0552793616582805,
          1.1608072978241086,
          1.2663352339899365,
          1.3718631701557646,
          1.4773911063215925,
          1.5829190424874207,
          2.110558723316561,
          4.221117446633122
         ],
         "y": [
          1.6904406302576892e-08,
          5.144356576318543e-09,
          3.3158190301526374e-09,
          3.5283923905956893e-09,
          4.996396378110021e-13,
          2.0784459473126245e-09,
          3.455563707224859e-09,
          2.4714767593865466e-09,
          2.002631248884331e-09,
          1.6051649344846635e-11,
          3.916920551577888e-11
         ]
        },
        {
         "line": {
          "color": "rgba(50, 171, 96, 0.2323232323232321)",
          "dash": "solid",
          "shape": "linear",
          "width": 1.3
         },
         "mode": "lines",
         "name": "Vitamin K (Menaquinone-4)",
         "text": "",
         "type": "scatter",
         "x": [
          0.5276396808291403,
          0.7914595212437103,
          0.9497514254924525,
          1.0552793616582805,
          1.1608072978241086,
          1.2663352339899365,
          1.3718631701557646,
          1.4773911063215925,
          1.5829190424874207,
          2.110558723316561,
          4.221117446633122
         ],
         "y": [
          1.3971389289583867e-08,
          3.808485345488905e-09,
          3.1818125076857174e-09,
          3.4775902703751656e-09,
          5.168591510269397e-13,
          2.1216736534133307e-09,
          3.6743195906403116e-09,
          2.5367000489752053e-09,
          2.2205573895359333e-09,
          1.6840250840659232e-11,
          3.84426222675673e-11
         ]
        },
        {
         "line": {
          "color": "rgba(128, 0, 128, 0.2323232323232321)",
          "dash": "solid",
          "shape": "linear",
          "width": 1.3
         },
         "mode": "lines",
         "name": "Vitamin K (phylloquinone)",
         "text": "",
         "type": "scatter",
         "x": [
          0.5276396808291403,
          0.7914595212437103,
          0.9497514254924525,
          1.0552793616582805,
          1.1608072978241086,
          1.2663352339899365,
          1.3718631701557646,
          1.4773911063215925,
          1.5829190424874207,
          2.110558723316561,
          4.221117446633122
         ],
         "y": [
          265.44242807554406,
          139.0492866041716,
          190.15170419313145,
          190.15170591474188,
          190.1516899709842,
          190.1516913490781,
          190.1516780414975,
          190.15161962158433,
          190.15152899414298,
          484.08712238443263,
          120.00000002080131
         ]
        },
        {
         "line": {
          "color": "rgba(219, 64, 82, 0.2323232323232321)",
          "dash": "solid",
          "shape": "linear",
          "width": 1.3
         },
         "mode": "lines",
         "name": "Vitamins and Other Components",
         "text": "",
         "type": "scatter",
         "x": [
          0.5276396808291403,
          0.7914595212437103,
          0.9497514254924525,
          1.0552793616582805,
          1.1608072978241086,
          1.2663352339899365,
          1.3718631701557646,
          1.4773911063215925,
          1.5829190424874207,
          2.110558723316561,
          4.221117446633122
         ],
         "y": [
          0,
          0,
          0,
          0,
          0,
          0,
          0,
          0,
          0,
          0,
          0
         ]
        },
        {
         "line": {
          "color": "rgba(0, 128, 128, 0.2323232323232321)",
          "dash": "solid",
          "shape": "linear",
          "width": 1.3
         },
         "mode": "lines",
         "name": "Water",
         "text": "",
         "type": "scatter",
         "x": [
          0.5276396808291403,
          0.7914595212437103,
          0.9497514254924525,
          1.0552793616582805,
          1.1608072978241086,
          1.2663352339899365,
          1.3718631701557646,
          1.4773911063215925,
          1.5829190424874207,
          2.110558723316561,
          4.221117446633122
         ],
         "y": [
          738.3022977479221,
          942.0619346862313,
          994.3262625553219,
          994.3262761660131,
          994.326238152319,
          994.3262869718365,
          994.3263664811876,
          994.3264387876742,
          994.3266550430541,
          1061.5798957493735,
          1684.791370777608
         ]
        },
        {
         "line": {
          "color": "rgba(255, 255, 51, 0.2323232323232321)",
          "dash": "solid",
          "shape": "linear",
          "width": 1.3
         },
         "mode": "lines",
         "name": "Zeaxanthin",
         "text": "",
         "type": "scatter",
         "x": [
          0.5276396808291403,
          0.7914595212437103,
          0.9497514254924525,
          1.0552793616582805,
          1.1608072978241086,
          1.2663352339899365,
          1.3718631701557646,
          1.4773911063215925,
          1.5829190424874207,
          2.110558723316561,
          4.221117446633122
         ],
         "y": [
          0,
          0,
          0,
          0,
          0,
          0,
          0,
          0,
          0,
          0,
          0
         ]
        },
        {
         "line": {
          "color": "rgba(128, 128, 0, 0.2323232323232321)",
          "dash": "solid",
          "shape": "linear",
          "width": 1.3
         },
         "mode": "lines",
         "name": "Zinc, Zn",
         "text": "",
         "type": "scatter",
         "x": [
          0.5276396808291403,
          0.7914595212437103,
          0.9497514254924525,
          1.0552793616582805,
          1.1608072978241086,
          1.2663352339899365,
          1.3718631701557646,
          1.4773911063215925,
          1.5829190424874207,
          2.110558723316561,
          4.221117446633122
         ],
         "y": [
          17.82347313272039,
          12.573599484897816,
          11.000000184007028,
          11.000000093896977,
          11.00000000007349,
          11.000000027044633,
          11.000000036278681,
          11.000000018294765,
          11.00000001469429,
          11.00000000007479,
          11.00000000012482
         ]
        },
        {
         "line": {
          "color": "rgba(251, 128, 114, 0.2323232323232321)",
          "dash": "solid",
          "shape": "linear",
          "width": 1.3
         },
         "mode": "lines",
         "name": "cis-Lutein/Zeaxanthin",
         "text": "",
         "type": "scatter",
         "x": [
          0.5276396808291403,
          0.7914595212437103,
          0.9497514254924525,
          1.0552793616582805,
          1.1608072978241086,
          1.2663352339899365,
          1.3718631701557646,
          1.4773911063215925,
          1.5829190424874207,
          2.110558723316561,
          4.221117446633122
         ],
         "y": [
          0,
          0,
          0,
          0,
          0,
          0,
          0,
          0,
          0,
          0,
          0
         ]
        }
       ],
       "layout": {
        "legend": {
         "bgcolor": "#F5F6F9",
         "font": {
          "color": "#4D5663"
         }
        },
        "paper_bgcolor": "#F5F6F9",
        "plot_bgcolor": "#F5F6F9",
        "template": {
         "data": {
          "bar": [
           {
            "error_x": {
             "color": "#2a3f5f"
            },
            "error_y": {
             "color": "#2a3f5f"
            },
            "marker": {
             "line": {
              "color": "#E5ECF6",
              "width": 0.5
             },
             "pattern": {
              "fillmode": "overlay",
              "size": 10,
              "solidity": 0.2
             }
            },
            "type": "bar"
           }
          ],
          "barpolar": [
           {
            "marker": {
             "line": {
              "color": "#E5ECF6",
              "width": 0.5
             },
             "pattern": {
              "fillmode": "overlay",
              "size": 10,
              "solidity": 0.2
             }
            },
            "type": "barpolar"
           }
          ],
          "carpet": [
           {
            "aaxis": {
             "endlinecolor": "#2a3f5f",
             "gridcolor": "white",
             "linecolor": "white",
             "minorgridcolor": "white",
             "startlinecolor": "#2a3f5f"
            },
            "baxis": {
             "endlinecolor": "#2a3f5f",
             "gridcolor": "white",
             "linecolor": "white",
             "minorgridcolor": "white",
             "startlinecolor": "#2a3f5f"
            },
            "type": "carpet"
           }
          ],
          "choropleth": [
           {
            "colorbar": {
             "outlinewidth": 0,
             "ticks": ""
            },
            "type": "choropleth"
           }
          ],
          "contour": [
           {
            "colorbar": {
             "outlinewidth": 0,
             "ticks": ""
            },
            "colorscale": [
             [
              0,
              "#0d0887"
             ],
             [
              0.1111111111111111,
              "#46039f"
             ],
             [
              0.2222222222222222,
              "#7201a8"
             ],
             [
              0.3333333333333333,
              "#9c179e"
             ],
             [
              0.4444444444444444,
              "#bd3786"
             ],
             [
              0.5555555555555556,
              "#d8576b"
             ],
             [
              0.6666666666666666,
              "#ed7953"
             ],
             [
              0.7777777777777778,
              "#fb9f3a"
             ],
             [
              0.8888888888888888,
              "#fdca26"
             ],
             [
              1,
              "#f0f921"
             ]
            ],
            "type": "contour"
           }
          ],
          "contourcarpet": [
           {
            "colorbar": {
             "outlinewidth": 0,
             "ticks": ""
            },
            "type": "contourcarpet"
           }
          ],
          "heatmap": [
           {
            "colorbar": {
             "outlinewidth": 0,
             "ticks": ""
            },
            "colorscale": [
             [
              0,
              "#0d0887"
             ],
             [
              0.1111111111111111,
              "#46039f"
             ],
             [
              0.2222222222222222,
              "#7201a8"
             ],
             [
              0.3333333333333333,
              "#9c179e"
             ],
             [
              0.4444444444444444,
              "#bd3786"
             ],
             [
              0.5555555555555556,
              "#d8576b"
             ],
             [
              0.6666666666666666,
              "#ed7953"
             ],
             [
              0.7777777777777778,
              "#fb9f3a"
             ],
             [
              0.8888888888888888,
              "#fdca26"
             ],
             [
              1,
              "#f0f921"
             ]
            ],
            "type": "heatmap"
           }
          ],
          "heatmapgl": [
           {
            "colorbar": {
             "outlinewidth": 0,
             "ticks": ""
            },
            "colorscale": [
             [
              0,
              "#0d0887"
             ],
             [
              0.1111111111111111,
              "#46039f"
             ],
             [
              0.2222222222222222,
              "#7201a8"
             ],
             [
              0.3333333333333333,
              "#9c179e"
             ],
             [
              0.4444444444444444,
              "#bd3786"
             ],
             [
              0.5555555555555556,
              "#d8576b"
             ],
             [
              0.6666666666666666,
              "#ed7953"
             ],
             [
              0.7777777777777778,
              "#fb9f3a"
             ],
             [
              0.8888888888888888,
              "#fdca26"
             ],
             [
              1,
              "#f0f921"
             ]
            ],
            "type": "heatmapgl"
           }
          ],
          "histogram": [
           {
            "marker": {
             "pattern": {
              "fillmode": "overlay",
              "size": 10,
              "solidity": 0.2
             }
            },
            "type": "histogram"
           }
          ],
          "histogram2d": [
           {
            "colorbar": {
             "outlinewidth": 0,
             "ticks": ""
            },
            "colorscale": [
             [
              0,
              "#0d0887"
             ],
             [
              0.1111111111111111,
              "#46039f"
             ],
             [
              0.2222222222222222,
              "#7201a8"
             ],
             [
              0.3333333333333333,
              "#9c179e"
             ],
             [
              0.4444444444444444,
              "#bd3786"
             ],
             [
              0.5555555555555556,
              "#d8576b"
             ],
             [
              0.6666666666666666,
              "#ed7953"
             ],
             [
              0.7777777777777778,
              "#fb9f3a"
             ],
             [
              0.8888888888888888,
              "#fdca26"
             ],
             [
              1,
              "#f0f921"
             ]
            ],
            "type": "histogram2d"
           }
          ],
          "histogram2dcontour": [
           {
            "colorbar": {
             "outlinewidth": 0,
             "ticks": ""
            },
            "colorscale": [
             [
              0,
              "#0d0887"
             ],
             [
              0.1111111111111111,
              "#46039f"
             ],
             [
              0.2222222222222222,
              "#7201a8"
             ],
             [
              0.3333333333333333,
              "#9c179e"
             ],
             [
              0.4444444444444444,
              "#bd3786"
             ],
             [
              0.5555555555555556,
              "#d8576b"
             ],
             [
              0.6666666666666666,
              "#ed7953"
             ],
             [
              0.7777777777777778,
              "#fb9f3a"
             ],
             [
              0.8888888888888888,
              "#fdca26"
             ],
             [
              1,
              "#f0f921"
             ]
            ],
            "type": "histogram2dcontour"
           }
          ],
          "mesh3d": [
           {
            "colorbar": {
             "outlinewidth": 0,
             "ticks": ""
            },
            "type": "mesh3d"
           }
          ],
          "parcoords": [
           {
            "line": {
             "colorbar": {
              "outlinewidth": 0,
              "ticks": ""
             }
            },
            "type": "parcoords"
           }
          ],
          "pie": [
           {
            "automargin": true,
            "type": "pie"
           }
          ],
          "scatter": [
           {
            "marker": {
             "colorbar": {
              "outlinewidth": 0,
              "ticks": ""
             }
            },
            "type": "scatter"
           }
          ],
          "scatter3d": [
           {
            "line": {
             "colorbar": {
              "outlinewidth": 0,
              "ticks": ""
             }
            },
            "marker": {
             "colorbar": {
              "outlinewidth": 0,
              "ticks": ""
             }
            },
            "type": "scatter3d"
           }
          ],
          "scattercarpet": [
           {
            "marker": {
             "colorbar": {
              "outlinewidth": 0,
              "ticks": ""
             }
            },
            "type": "scattercarpet"
           }
          ],
          "scattergeo": [
           {
            "marker": {
             "colorbar": {
              "outlinewidth": 0,
              "ticks": ""
             }
            },
            "type": "scattergeo"
           }
          ],
          "scattergl": [
           {
            "marker": {
             "colorbar": {
              "outlinewidth": 0,
              "ticks": ""
             }
            },
            "type": "scattergl"
           }
          ],
          "scattermapbox": [
           {
            "marker": {
             "colorbar": {
              "outlinewidth": 0,
              "ticks": ""
             }
            },
            "type": "scattermapbox"
           }
          ],
          "scatterpolar": [
           {
            "marker": {
             "colorbar": {
              "outlinewidth": 0,
              "ticks": ""
             }
            },
            "type": "scatterpolar"
           }
          ],
          "scatterpolargl": [
           {
            "marker": {
             "colorbar": {
              "outlinewidth": 0,
              "ticks": ""
             }
            },
            "type": "scatterpolargl"
           }
          ],
          "scatterternary": [
           {
            "marker": {
             "colorbar": {
              "outlinewidth": 0,
              "ticks": ""
             }
            },
            "type": "scatterternary"
           }
          ],
          "surface": [
           {
            "colorbar": {
             "outlinewidth": 0,
             "ticks": ""
            },
            "colorscale": [
             [
              0,
              "#0d0887"
             ],
             [
              0.1111111111111111,
              "#46039f"
             ],
             [
              0.2222222222222222,
              "#7201a8"
             ],
             [
              0.3333333333333333,
              "#9c179e"
             ],
             [
              0.4444444444444444,
              "#bd3786"
             ],
             [
              0.5555555555555556,
              "#d8576b"
             ],
             [
              0.6666666666666666,
              "#ed7953"
             ],
             [
              0.7777777777777778,
              "#fb9f3a"
             ],
             [
              0.8888888888888888,
              "#fdca26"
             ],
             [
              1,
              "#f0f921"
             ]
            ],
            "type": "surface"
           }
          ],
          "table": [
           {
            "cells": {
             "fill": {
              "color": "#EBF0F8"
             },
             "line": {
              "color": "white"
             }
            },
            "header": {
             "fill": {
              "color": "#C8D4E3"
             },
             "line": {
              "color": "white"
             }
            },
            "type": "table"
           }
          ]
         },
         "layout": {
          "annotationdefaults": {
           "arrowcolor": "#2a3f5f",
           "arrowhead": 0,
           "arrowwidth": 1
          },
          "autotypenumbers": "strict",
          "coloraxis": {
           "colorbar": {
            "outlinewidth": 0,
            "ticks": ""
           }
          },
          "colorscale": {
           "diverging": [
            [
             0,
             "#8e0152"
            ],
            [
             0.1,
             "#c51b7d"
            ],
            [
             0.2,
             "#de77ae"
            ],
            [
             0.3,
             "#f1b6da"
            ],
            [
             0.4,
             "#fde0ef"
            ],
            [
             0.5,
             "#f7f7f7"
            ],
            [
             0.6,
             "#e6f5d0"
            ],
            [
             0.7,
             "#b8e186"
            ],
            [
             0.8,
             "#7fbc41"
            ],
            [
             0.9,
             "#4d9221"
            ],
            [
             1,
             "#276419"
            ]
           ],
           "sequential": [
            [
             0,
             "#0d0887"
            ],
            [
             0.1111111111111111,
             "#46039f"
            ],
            [
             0.2222222222222222,
             "#7201a8"
            ],
            [
             0.3333333333333333,
             "#9c179e"
            ],
            [
             0.4444444444444444,
             "#bd3786"
            ],
            [
             0.5555555555555556,
             "#d8576b"
            ],
            [
             0.6666666666666666,
             "#ed7953"
            ],
            [
             0.7777777777777778,
             "#fb9f3a"
            ],
            [
             0.8888888888888888,
             "#fdca26"
            ],
            [
             1,
             "#f0f921"
            ]
           ],
           "sequentialminus": [
            [
             0,
             "#0d0887"
            ],
            [
             0.1111111111111111,
             "#46039f"
            ],
            [
             0.2222222222222222,
             "#7201a8"
            ],
            [
             0.3333333333333333,
             "#9c179e"
            ],
            [
             0.4444444444444444,
             "#bd3786"
            ],
            [
             0.5555555555555556,
             "#d8576b"
            ],
            [
             0.6666666666666666,
             "#ed7953"
            ],
            [
             0.7777777777777778,
             "#fb9f3a"
            ],
            [
             0.8888888888888888,
             "#fdca26"
            ],
            [
             1,
             "#f0f921"
            ]
           ]
          },
          "colorway": [
           "#636efa",
           "#EF553B",
           "#00cc96",
           "#ab63fa",
           "#FFA15A",
           "#19d3f3",
           "#FF6692",
           "#B6E880",
           "#FF97FF",
           "#FECB52"
          ],
          "font": {
           "color": "#2a3f5f"
          },
          "geo": {
           "bgcolor": "white",
           "lakecolor": "white",
           "landcolor": "#E5ECF6",
           "showlakes": true,
           "showland": true,
           "subunitcolor": "white"
          },
          "hoverlabel": {
           "align": "left"
          },
          "hovermode": "closest",
          "mapbox": {
           "style": "light"
          },
          "paper_bgcolor": "white",
          "plot_bgcolor": "#E5ECF6",
          "polar": {
           "angularaxis": {
            "gridcolor": "white",
            "linecolor": "white",
            "ticks": ""
           },
           "bgcolor": "#E5ECF6",
           "radialaxis": {
            "gridcolor": "white",
            "linecolor": "white",
            "ticks": ""
           }
          },
          "scene": {
           "xaxis": {
            "backgroundcolor": "#E5ECF6",
            "gridcolor": "white",
            "gridwidth": 2,
            "linecolor": "white",
            "showbackground": true,
            "ticks": "",
            "zerolinecolor": "white"
           },
           "yaxis": {
            "backgroundcolor": "#E5ECF6",
            "gridcolor": "white",
            "gridwidth": 2,
            "linecolor": "white",
            "showbackground": true,
            "ticks": "",
            "zerolinecolor": "white"
           },
           "zaxis": {
            "backgroundcolor": "#E5ECF6",
            "gridcolor": "white",
            "gridwidth": 2,
            "linecolor": "white",
            "showbackground": true,
            "ticks": "",
            "zerolinecolor": "white"
           }
          },
          "shapedefaults": {
           "line": {
            "color": "#2a3f5f"
           }
          },
          "ternary": {
           "aaxis": {
            "gridcolor": "white",
            "linecolor": "white",
            "ticks": ""
           },
           "baxis": {
            "gridcolor": "white",
            "linecolor": "white",
            "ticks": ""
           },
           "bgcolor": "#E5ECF6",
           "caxis": {
            "gridcolor": "white",
            "linecolor": "white",
            "ticks": ""
           }
          },
          "title": {
           "x": 0.05
          },
          "xaxis": {
           "automargin": true,
           "gridcolor": "white",
           "linecolor": "white",
           "ticks": "",
           "title": {
            "standoff": 15
           },
           "zerolinecolor": "white",
           "zerolinewidth": 2
          },
          "yaxis": {
           "automargin": true,
           "gridcolor": "white",
           "linecolor": "white",
           "ticks": "",
           "title": {
            "standoff": 15
           },
           "zerolinecolor": "white",
           "zerolinewidth": 2
          }
         }
        },
        "title": {
         "font": {
          "color": "#4D5663"
         }
        },
        "xaxis": {
         "gridcolor": "#E1E5ED",
         "showgrid": true,
         "tickfont": {
          "color": "#4D5663"
         },
         "title": {
          "font": {
           "color": "#4D5663"
          },
          "text": "Flax Seeds (NOW foods real food) Price"
         },
         "zerolinecolor": "#E1E5ED"
        },
        "yaxis": {
         "gridcolor": "#E1E5ED",
         "showgrid": true,
         "tickfont": {
          "color": "#4D5663"
         },
         "title": {
          "font": {
           "color": "#4D5663"
          },
          "text": "Hectograms"
         },
         "zerolinecolor": "#E1E5ED"
        }
       }
      },
      "text/html": [
       "<div>                            <div id=\"d4b0f14e-846e-432d-8884-594ae4693bbd\" class=\"plotly-graph-div\" style=\"height:525px; width:100%;\"></div>            <script type=\"text/javascript\">                require([\"plotly\"], function(Plotly) {                    window.PLOTLYENV=window.PLOTLYENV || {};\n",
       "                    window.PLOTLYENV.BASE_URL='https://plot.ly';                                    if (document.getElementById(\"d4b0f14e-846e-432d-8884-594ae4693bbd\")) {                    Plotly.newPlot(                        \"d4b0f14e-846e-432d-8884-594ae4693bbd\",                        [{\"line\":{\"color\":\"rgba(255, 153, 51, 1.0)\",\"dash\":\"solid\",\"shape\":\"linear\",\"width\":1.3},\"mode\":\"lines\",\"name\":\"Alanine\",\"text\":\"\",\"type\":\"scatter\",\"x\":[0.5276396808291403,0.7914595212437103,0.9497514254924525,1.0552793616582805,1.1608072978241086,1.2663352339899365,1.3718631701557646,1.4773911063215925,1.5829190424874207,2.110558723316561,4.221117446633122],\"y\":[1.2665629857305203e-07,2.913023220599789e-08,2.336640697913047e-08,2.5040814312176404e-08,3.281358627077771e-12,1.4961228430013948e-08,2.5197310776283452e-08,2.40419512272023e-08,2.3965569458201486e-08,1.7098445706696135e-09,3.371764030666573e-08]},{\"line\":{\"color\":\"rgba(55, 128, 191, 1.0)\",\"dash\":\"solid\",\"shape\":\"linear\",\"width\":1.3},\"mode\":\"lines\",\"name\":\"Alcohol, ethyl\",\"text\":\"\",\"type\":\"scatter\",\"x\":[0.5276396808291403,0.7914595212437103,0.9497514254924525,1.0552793616582805,1.1608072978241086,1.2663352339899365,1.3718631701557646,1.4773911063215925,1.5829190424874207,2.110558723316561,4.221117446633122],\"y\":[0.0,0.0,0.0,0.0,0.0,0.0,0.0,0.0,0.0,0.0,0.0]},{\"line\":{\"color\":\"rgba(50, 171, 96, 1.0)\",\"dash\":\"solid\",\"shape\":\"linear\",\"width\":1.3},\"mode\":\"lines\",\"name\":\"Amino acids\",\"text\":\"\",\"type\":\"scatter\",\"x\":[0.5276396808291403,0.7914595212437103,0.9497514254924525,1.0552793616582805,1.1608072978241086,1.2663352339899365,1.3718631701557646,1.4773911063215925,1.5829190424874207,2.110558723316561,4.221117446633122],\"y\":[0.0,0.0,0.0,0.0,0.0,0.0,0.0,0.0,0.0,0.0,0.0]},{\"line\":{\"color\":\"rgba(128, 0, 128, 1.0)\",\"dash\":\"solid\",\"shape\":\"linear\",\"width\":1.3},\"mode\":\"lines\",\"name\":\"Arginine\",\"text\":\"\",\"type\":\"scatter\",\"x\":[0.5276396808291403,0.7914595212437103,0.9497514254924525,1.0552793616582805,1.1608072978241086,1.2663352339899365,1.3718631701557646,1.4773911063215925,1.5829190424874207,2.110558723316561,4.221117446633122],\"y\":[1.7920302079872736e-07,3.272628705965972e-08,2.6827691073185984e-08,2.862579455467172e-08,3.598253109033917e-12,1.7038383549763895e-08,2.8538446285394358e-08,2.997159829184568e-08,3.107497632477493e-08,2.6384470817694005e-09,5.297166183588975e-08]},{\"line\":{\"color\":\"rgba(219, 64, 82, 1.0)\",\"dash\":\"solid\",\"shape\":\"linear\",\"width\":1.3},\"mode\":\"lines\",\"name\":\"Ash\",\"text\":\"\",\"type\":\"scatter\",\"x\":[0.5276396808291403,0.7914595212437103,0.9497514254924525,1.0552793616582805,1.1608072978241086,1.2663352339899365,1.3718631701557646,1.4773911063215925,1.5829190424874207,2.110558723316561,4.221117446633122],\"y\":[2.795341256325727,1.8399497402855127,1.826376670651232,1.8263766885910862,1.82637641488583,1.8263765886661398,1.8263767110915026,1.826376982692876,1.8263771262892228,1.7364535420720946,1.829996316652991]},{\"line\":{\"color\":\"rgba(0, 128, 128, 1.0)\",\"dash\":\"solid\",\"shape\":\"linear\",\"width\":1.3},\"mode\":\"lines\",\"name\":\"Aspartic acid\",\"text\":\"\",\"type\":\"scatter\",\"x\":[0.5276396808291403,0.7914595212437103,0.9497514254924525,1.0552793616582805,1.1608072978241086,1.2663352339899365,1.3718631701557646,1.4773911063215925,1.5829190424874207,2.110558723316561,4.221117446633122],\"y\":[3.019722793292662e-07,6.191052986454733e-08,4.9709488225099167e-08,5.3135879677038263e-08,6.846769773094752e-12,3.165752012676062e-08,5.313877425510844e-08,5.2776137506608086e-08,5.349841995595569e-08,4.137146584579129e-09,8.235222710116293e-08]},{\"line\":{\"color\":\"rgba(255, 255, 51, 1.0)\",\"dash\":\"solid\",\"shape\":\"linear\",\"width\":1.3},\"mode\":\"lines\",\"name\":\"Beta-sitosterol\",\"text\":\"\",\"type\":\"scatter\",\"x\":[0.5276396808291403,0.7914595212437103,0.9497514254924525,1.0552793616582805,1.1608072978241086,1.2663352339899365,1.3718631701557646,1.4773911063215925,1.5829190424874207,2.110558723316561,4.221117446633122],\"y\":[3.0159384340138356e-07,9.369142631726649e-08,6.043799334728867e-08,6.449532187018078e-08,9.156699347586096e-12,3.8372079925613e-08,6.366501817851666e-08,4.6765711916351365e-08,3.706321374667258e-08,2.9846385538507783e-10,7.93901101771372e-10]},{\"line\":{\"color\":\"rgba(128, 128, 0, 1.0)\",\"dash\":\"solid\",\"shape\":\"linear\",\"width\":1.3},\"mode\":\"lines\",\"name\":\"Betaine\",\"text\":\"\",\"type\":\"scatter\",\"x\":[0.5276396808291403,0.7914595212437103,0.9497514254924525,1.0552793616582805,1.1608072978241086,1.2663352339899365,1.3718631701557646,1.4773911063215925,1.5829190424874207,2.110558723316561,4.221117446633122],\"y\":[2.9268005190903885e-06,4.1914113820829496e-07,4.790837019893935e-07,5.064030899733984e-07,3.72605308857671e-11,3.097021513142192e-07,5.092850214652797e-07,1.0296539003357833e-06,1.2298640256701586e-06,1.645012910413872e-07,3.396189628032158e-06]},{\"line\":{\"color\":\"rgba(251, 128, 114, 1.0)\",\"dash\":\"solid\",\"shape\":\"linear\",\"width\":1.3},\"mode\":\"lines\",\"name\":\"Biotin\",\"text\":\"\",\"type\":\"scatter\",\"x\":[0.5276396808291403,0.7914595212437103,0.9497514254924525,1.0552793616582805,1.1608072978241086,1.2663352339899365,1.3718631701557646,1.4773911063215925,1.5829190424874207,2.110558723316561,4.221117446633122],\"y\":[3.8746026361101764,3.848334459197732,3.8199456925839,3.8199456973152484,3.8199457445471974,3.8199457325151625,3.8199457447692775,3.819945796076668,3.819945882776325,3.631867967639898,3.827513300245051]},{\"line\":{\"color\":\"rgba(128, 177, 211, 1.0)\",\"dash\":\"solid\",\"shape\":\"linear\",\"width\":1.3},\"mode\":\"lines\",\"name\":\"Caffeine\",\"text\":\"\",\"type\":\"scatter\",\"x\":[0.5276396808291403,0.7914595212437103,0.9497514254924525,1.0552793616582805,1.1608072978241086,1.2663352339899365,1.3718631701557646,1.4773911063215925,1.5829190424874207,2.110558723316561,4.221117446633122],\"y\":[1.964929585796893e-07,6.104138381276452e-08,3.93762683929305e-08,4.20196794002693e-08,5.9657283628212455e-12,2.4999991466687254e-08,4.147872396479116e-08,3.046856988489559e-08,2.4147245319801832e-08,1.9445372396300524e-10,5.172385966086211e-10]},{\"line\":{\"color\":\"rgba(128, 177, 211, 0.9595959595959596)\",\"dash\":\"solid\",\"shape\":\"linear\",\"width\":1.3},\"mode\":\"lines\",\"name\":\"Calcium, Ca\",\"text\":\"\",\"type\":\"scatter\",\"x\":[0.5276396808291403,0.7914595212437103,0.9497514254924525,1.0552793616582805,1.1608072978241086,1.2663352339899365,1.3718631701557646,1.4773911063215925,1.5829190424874207,2.110558723316561,4.221117446633122],\"y\":[1808.6959022263359,1363.339549879967,1303.2678134383825,1303.2678100367773,1303.267825026535,1303.2678163673247,1303.2678124966956,1303.267808142543,1303.267804074273,1105.5621080922128,1082.7509877062132]},{\"line\":{\"color\":\"rgba(255, 153, 51, 0.9595959595959596)\",\"dash\":\"solid\",\"shape\":\"linear\",\"width\":1.3},\"mode\":\"lines\",\"name\":\"Campesterol\",\"text\":\"\",\"type\":\"scatter\",\"x\":[0.5276396808291403,0.7914595212437103,0.9497514254924525,1.0552793616582805,1.1608072978241086,1.2663352339899365,1.3718631701557646,1.4773911063215925,1.5829190424874207,2.110558723316561,4.221117446633122],\"y\":[8.407445317205104e-08,2.59039508721815e-08,1.6704636951520053e-08,1.7806005092888176e-08,2.5253958335530206e-12,1.0552238548894083e-08,1.7521963777535827e-08,1.2737238838164987e-08,1.018246478888076e-08,8.184727458720623e-11,2.1065526132678644e-10]},{\"line\":{\"color\":\"rgba(55, 128, 191, 0.9595959595959596)\",\"dash\":\"solid\",\"shape\":\"linear\",\"width\":1.3},\"mode\":\"lines\",\"name\":\"Carbohydrate, by difference\",\"text\":\"\",\"type\":\"scatter\",\"x\":[0.5276396808291403,0.7914595212437103,0.9497514254924525,1.0552793616582805,1.1608072978241086,1.2663352339899365,1.3718631701557646,1.4773911063215925,1.5829190424874207,2.110558723316561,4.221117446633122],\"y\":[188.53991662289806,218.55231446542155,244.05251246736591,244.05251617107558,244.05250671588826,244.052519229906,244.0525388615259,244.0525622241791,244.05262330947548,204.5224504592452,390.2558909224271]},{\"line\":{\"color\":\"rgba(50, 171, 96, 0.9595959595959596)\",\"dash\":\"solid\",\"shape\":\"linear\",\"width\":1.3},\"mode\":\"lines\",\"name\":\"Carbohydrate, by summation\",\"text\":\"\",\"type\":\"scatter\",\"x\":[0.5276396808291403,0.7914595212437103,0.9497514254924525,1.0552793616582805,1.1608072978241086,1.2663352339899365,1.3718631701557646,1.4773911063215925,1.5829190424874207,2.110558723316561,4.221117446633122],\"y\":[7.127781116903087e-06,6.996592522761538e-07,4.666384875273628e-07,4.861539849842074e-07,7.02077069903052e-11,2.714802537538037e-07,4.422031046682565e-07,2.7704946461958996e-07,2.379474231491884e-07,1.0512140912957215e-09,3.1155168946615073e-09]},{\"line\":{\"color\":\"rgba(128, 0, 128, 0.9595959595959596)\",\"dash\":\"solid\",\"shape\":\"linear\",\"width\":1.3},\"mode\":\"lines\",\"name\":\"Carbohydrates\",\"text\":\"\",\"type\":\"scatter\",\"x\":[0.5276396808291403,0.7914595212437103,0.9497514254924525,1.0552793616582805,1.1608072978241086,1.2663352339899365,1.3718631701557646,1.4773911063215925,1.5829190424874207,2.110558723316561,4.221117446633122],\"y\":[0.0,0.0,0.0,0.0,0.0,0.0,0.0,0.0,0.0,0.0,0.0]},{\"line\":{\"color\":\"rgba(219, 64, 82, 0.9595959595959596)\",\"dash\":\"solid\",\"shape\":\"linear\",\"width\":1.3},\"mode\":\"lines\",\"name\":\"Carotene, alpha\",\"text\":\"\",\"type\":\"scatter\",\"x\":[0.5276396808291403,0.7914595212437103,0.9497514254924525,1.0552793616582805,1.1608072978241086,1.2663352339899365,1.3718631701557646,1.4773911063215925,1.5829190424874207,2.110558723316561,4.221117446633122],\"y\":[2385.4327479352933,2797.7558219038137,2557.509992367024,2557.5100377840436,2557.51074093639,2557.5104858829877,2557.5104796387295,2557.5109219151786,2557.511557321203,1316.6960958368331,3200.5226752465087]},{\"line\":{\"color\":\"rgba(0, 128, 128, 0.9595959595959596)\",\"dash\":\"solid\",\"shape\":\"linear\",\"width\":1.3},\"mode\":\"lines\",\"name\":\"Carotene, beta\",\"text\":\"\",\"type\":\"scatter\",\"x\":[0.5276396808291403,0.7914595212437103,0.9497514254924525,1.0552793616582805,1.1608072978241086,1.2663352339899365,1.3718631701557646,1.4773911063215925,1.5829190424874207,2.110558723316561,4.221117446633122],\"y\":[7706.476027904467,7542.597567936986,7677.941833902723,7677.941834129139,7677.941184505867,7677.941495539089,7677.941612233115,7677.94128633198,7677.9408926693595,8389.929189997607,7375.652537832637]},{\"line\":{\"color\":\"rgba(255, 255, 51, 0.9595959595959596)\",\"dash\":\"solid\",\"shape\":\"linear\",\"width\":1.3},\"mode\":\"lines\",\"name\":\"Carotene, gamma\",\"text\":\"\",\"type\":\"scatter\",\"x\":[0.5276396808291403,0.7914595212437103,0.9497514254924525,1.0552793616582805,1.1608072978241086,1.2663352339899365,1.3718631701557646,1.4773911063215925,1.5829190424874207,2.110558723316561,4.221117446633122],\"y\":[1.555971679971115e-07,3.7336295176764284e-08,2.44901915886208e-08,2.5798569293226663e-08,3.659718688591972e-12,1.4833448392251725e-08,2.448791562529361e-08,1.706566555099132e-08,1.3856604382672003e-08,9.719274518177332e-11,2.5857490815055595e-10]},{\"line\":{\"color\":\"rgba(128, 128, 0, 0.9595959595959596)\",\"dash\":\"solid\",\"shape\":\"linear\",\"width\":1.3},\"mode\":\"lines\",\"name\":\"Cholesterol\",\"text\":\"\",\"type\":\"scatter\",\"x\":[0.5276396808291403,0.7914595212437103,0.9497514254924525,1.0552793616582805,1.1608072978241086,1.2663352339899365,1.3718631701557646,1.4773911063215925,1.5829190424874207,2.110558723316561,4.221117446633122],\"y\":[0.12258473012247549,25.81769889258462,27.850455388747545,27.850456105186296,27.850452425400615,27.850454764444933,27.850455904373824,27.85045107880651,27.850441635700445,1785.78610990611,1639.3095526392049]},{\"line\":{\"color\":\"rgba(251, 128, 114, 0.9595959595959596)\",\"dash\":\"solid\",\"shape\":\"linear\",\"width\":1.3},\"mode\":\"lines\",\"name\":\"Choline, total\",\"text\":\"\",\"type\":\"scatter\",\"x\":[0.5276396808291403,0.7914595212437103,0.9497514254924525,1.0552793616582805,1.1608072978241086,1.2663352339899365,1.3718631701557646,1.4773911063215925,1.5829190424874207,2.110558723316561,4.221117446633122],\"y\":[331.5556361239762,266.9867416561196,244.05859932563752,244.05859837043064,244.05859498645285,244.05859775692835,244.05860182973993,244.05860779820168,244.05862114862921,140.33045898022291,196.8960051401048]},{\"line\":{\"color\":\"rgba(251, 128, 114, 0.9191919191919191)\",\"dash\":\"solid\",\"shape\":\"linear\",\"width\":1.3},\"mode\":\"lines\",\"name\":\"Copper, Cu\",\"text\":\"\",\"type\":\"scatter\",\"x\":[0.5276396808291403,0.7914595212437103,0.9497514254924525,1.0552793616582805,1.1608072978241086,1.2663352339899365,1.3718631701557646,1.4773911063215925,1.5829190424874207,2.110558723316561,4.221117446633122],\"y\":[4.967047580851987,3.6055635397347605,3.2018977572805936,3.20189773628482,3.2018976865768303,3.2018977164184688,3.201897752992031,3.201897784131756,3.201897887152397,1.470902126741656,1.8698944937223643]},{\"line\":{\"color\":\"rgba(128, 177, 211, 0.9191919191919191)\",\"dash\":\"solid\",\"shape\":\"linear\",\"width\":1.3},\"mode\":\"lines\",\"name\":\"Cryptoxanthin, alpha\",\"text\":\"\",\"type\":\"scatter\",\"x\":[0.5276396808291403,0.7914595212437103,0.9497514254924525,1.0552793616582805,1.1608072978241086,1.2663352339899365,1.3718631701557646,1.4773911063215925,1.5829190424874207,2.110558723316561,4.221117446633122],\"y\":[7.047636432810345e-07,1.6911145462416766e-07,1.1092616190140009e-07,1.1685234326932076e-07,1.657637288362246e-11,6.718679565902253e-08,1.1091585312632988e-07,7.729742631919598e-08,6.276226690974966e-08,4.4022596347038506e-10,1.171192231034871e-09]},{\"line\":{\"color\":\"rgba(255, 153, 51, 0.9191919191919191)\",\"dash\":\"solid\",\"shape\":\"linear\",\"width\":1.3},\"mode\":\"lines\",\"name\":\"Cryptoxanthin, beta\",\"text\":\"\",\"type\":\"scatter\",\"x\":[0.5276396808291403,0.7914595212437103,0.9497514254924525,1.0552793616582805,1.1608072978241086,1.2663352339899365,1.3718631701557646,1.4773911063215925,1.5829190424874207,2.110558723316561,4.221117446633122],\"y\":[16.530175930880553,0.30533089870103575,0.17532188113262026,0.17532208950720088,0.17531714945622862,0.17531994755871622,0.17532164214650262,0.17532014477402474,0.17531922057514213,1.191923285096936e-08,3.877107996549973e-08]},{\"line\":{\"color\":\"rgba(55, 128, 191, 0.9191919191919191)\",\"dash\":\"solid\",\"shape\":\"linear\",\"width\":1.3},\"mode\":\"lines\",\"name\":\"Cystine\",\"text\":\"\",\"type\":\"scatter\",\"x\":[0.5276396808291403,0.7914595212437103,0.9497514254924525,1.0552793616582805,1.1608072978241086,1.2663352339899365,1.3718631701557646,1.4773911063215925,1.5829190424874207,2.110558723316561,4.221117446633122],\"y\":[2.9089306072045603e-08,5.6461537763433905e-09,4.769483960724204e-09,5.077066006173453e-09,5.924282720374234e-13,3.0325239222322936e-09,5.053529837267666e-09,6.1516562156677685e-09,6.6291562268541625e-09,6.638247236077622e-10,1.3479311702823122e-08]},{\"line\":{\"color\":\"rgba(50, 171, 96, 0.9191919191919191)\",\"dash\":\"solid\",\"shape\":\"linear\",\"width\":1.3},\"mode\":\"lines\",\"name\":\"Energy\",\"text\":\"\",\"type\":\"scatter\",\"x\":[0.5276396808291403,0.7914595212437103,0.9497514254924525,1.0552793616582805,1.1608072978241086,1.2663352339899365,1.3718631701557646,1.4773911063215925,1.5829190424874207,2.110558723316561,4.221117446633122],\"y\":[2400.0000679562163,2400.0000191800023,2400.000011965362,2400.0000127122116,2400.000000005039,2400.0000075567345,2400.000012300547,2400.00000649278,2400.000006638811,2400.0000000466166,2400.000000088401]},{\"line\":{\"color\":\"rgba(128, 0, 128, 0.9191919191919191)\",\"dash\":\"solid\",\"shape\":\"linear\",\"width\":1.3},\"mode\":\"lines\",\"name\":\"Energy (Atwater General Factors)\",\"text\":\"\",\"type\":\"scatter\",\"x\":[0.5276396808291403,0.7914595212437103,0.9497514254924525,1.0552793616582805,1.1608072978241086,1.2663352339899365,1.3718631701557646,1.4773911063215925,1.5829190424874207,2.110558723316561,4.221117446633122],\"y\":[55.347884115487204,54.972646583890274,54.56711876206259,54.567118857978066,54.56711898612058,54.56711912873572,54.567119508276576,54.56712008719758,54.56712125538578,51.88046762787557,54.675219927872575]},{\"line\":{\"color\":\"rgba(219, 64, 82, 0.9191919191919191)\",\"dash\":\"solid\",\"shape\":\"linear\",\"width\":1.3},\"mode\":\"lines\",\"name\":\"Energy (Atwater Specific Factors)\",\"text\":\"\",\"type\":\"scatter\",\"x\":[0.5276396808291403,0.7914595212437103,0.9497514254924525,1.0552793616582805,1.1608072978241086,1.2663352339899365,1.3718631701557646,1.4773911063215925,1.5829190424874207,2.110558723316561,4.221117446633122],\"y\":[55.347883710862185,54.97264647807985,54.56711869322536,54.567118785399366,54.567118986110295,54.56711908697813,54.56711943936528,54.567120038840095,54.56712121628648,51.880467627587734,54.6752199271557]},{\"line\":{\"color\":\"rgba(0, 128, 128, 0.9191919191919191)\",\"dash\":\"solid\",\"shape\":\"linear\",\"width\":1.3},\"mode\":\"lines\",\"name\":\"Fatty acids, total monounsaturated\",\"text\":\"\",\"type\":\"scatter\",\"x\":[0.5276396808291403,0.7914595212437103,0.9497514254924525,1.0552793616582805,1.1608072978241086,1.2663352339899365,1.3718631701557646,1.4773911063215925,1.5829190424874207,2.110558723316561,4.221117446633122],\"y\":[31.230322971589057,21.39916914121436,18.458454983253077,18.45845483662919,18.45845340430895,18.458454109272022,18.45845432261907,18.458453821762163,18.45845319880654,28.003716599954366,25.939190079482675]},{\"line\":{\"color\":\"rgba(255, 255, 51, 0.9191919191919191)\",\"dash\":\"solid\",\"shape\":\"linear\",\"width\":1.3},\"mode\":\"lines\",\"name\":\"Fatty acids, total polyunsaturated\",\"text\":\"\",\"type\":\"scatter\",\"x\":[0.5276396808291403,0.7914595212437103,0.9497514254924525,1.0552793616582805,1.1608072978241086,1.2663352339899365,1.3718631701557646,1.4773911063215925,1.5829190424874207,2.110558723316561,4.221117446633122],\"y\":[109.38355399150574,71.986709441625,60.80464820771702,60.804647441961514,60.80464653465424,60.80464653438816,60.80464581497728,60.80464482853779,60.804642520782,27.317584779345104,23.09853658811584]},{\"line\":{\"color\":\"rgba(128, 128, 0, 0.9191919191919191)\",\"dash\":\"solid\",\"shape\":\"linear\",\"width\":1.3},\"mode\":\"lines\",\"name\":\"Fatty acids, total saturated\",\"text\":\"\",\"type\":\"scatter\",\"x\":[0.5276396808291403,0.7914595212437103,0.9497514254924525,1.0552793616582805,1.1608072978241086,1.2663352339899365,1.3718631701557646,1.4773911063215925,1.5829190424874207,2.110558723316561,4.221117446633122],\"y\":[14.570540537793006,17.78265909145774,17.037950327296684,17.037950284666774,17.03794898059622,17.03794940694035,17.037949192943078,17.037947316817014,17.037944234341605,30.216121121700446,20.351286431336316]},{\"line\":{\"color\":\"rgba(128, 128, 0, 0.8787878787878787)\",\"dash\":\"solid\",\"shape\":\"linear\",\"width\":1.3},\"mode\":\"lines\",\"name\":\"Fatty acids, total trans\",\"text\":\"\",\"type\":\"scatter\",\"x\":[0.5276396808291403,0.7914595212437103,0.9497514254924525,1.0552793616582805,1.1608072978241086,1.2663352339899365,1.3718631701557646,1.4773911063215925,1.5829190424874207,2.110558723316561,4.221117446633122],\"y\":[1.2847441046865236e-09,3.695448024515481e-10,2.7833906713080424e-10,3.0154335097364406e-10,4.4080677735300864e-14,1.8225989504474806e-10,3.1089690025782535e-10,2.1935545401775487e-10,1.8547316182762007e-10,1.4370484754210858e-12,3.4614100835621662e-12]},{\"line\":{\"color\":\"rgba(251, 128, 114, 0.8787878787878787)\",\"dash\":\"solid\",\"shape\":\"linear\",\"width\":1.3},\"mode\":\"lines\",\"name\":\"Fatty acids, total trans-monoenoic\",\"text\":\"\",\"type\":\"scatter\",\"x\":[0.5276396808291403,0.7914595212437103,0.9497514254924525,1.0552793616582805,1.1608072978241086,1.2663352339899365,1.3718631701557646,1.4773911063215925,1.5829190424874207,2.110558723316561,4.221117446633122],\"y\":[8.939927052813313e-10,2.590044339471542e-10,1.9233065039761409e-10,2.080971650591027e-10,3.034605491019865e-14,1.2560752998567895e-10,2.1377508777132974e-10,1.513228971709021e-10,1.2728252021633795e-10,9.893528613672962e-13,2.402114459193602e-12]},{\"line\":{\"color\":\"rgba(128, 177, 211, 0.8787878787878787)\",\"dash\":\"solid\",\"shape\":\"linear\",\"width\":1.3},\"mode\":\"lines\",\"name\":\"Fatty acids, total trans-polyenoic\",\"text\":\"\",\"type\":\"scatter\",\"x\":[0.5276396808291403,0.7914595212437103,0.9497514254924525,1.0552793616582805,1.1608072978241086,1.2663352339899365,1.3718631701557646,1.4773911063215925,1.5829190424874207,2.110558723316561,4.221117446633122],\"y\":[3.6372254156360437e-10,1.0320731122649866e-10,7.982793715220444e-11,8.668644574309466e-11,1.2728652096828897e-14,5.2525296782320065e-11,8.996609760272562e-11,6.310087102743678e-11,5.386183960113955e-11,4.1491954829788046e-13,9.848161407478882e-13]},{\"line\":{\"color\":\"rgba(255, 153, 51, 0.8787878787878787)\",\"dash\":\"solid\",\"shape\":\"linear\",\"width\":1.3},\"mode\":\"lines\",\"name\":\"Fiber, insoluble\",\"text\":\"\",\"type\":\"scatter\",\"x\":[0.5276396808291403,0.7914595212437103,0.9497514254924525,1.0552793616582805,1.1608072978241086,1.2663352339899365,1.3718631701557646,1.4773911063215925,1.5829190424874207,2.110558723316561,4.221117446633122],\"y\":[1.9361120761538984e-06,2.677369043595295e-07,1.0901249883238852e-06,1.1565561313448528e-06,1.8199128764937712e-10,6.916570330238106e-07,9.284187405284377e-07,6.824684388886566e-07,6.190882358825214e-07,9.902419057202766e-10,2.506793692744343e-09]},{\"line\":{\"color\":\"rgba(55, 128, 191, 0.8787878787878787)\",\"dash\":\"solid\",\"shape\":\"linear\",\"width\":1.3},\"mode\":\"lines\",\"name\":\"Fiber, soluble\",\"text\":\"\",\"type\":\"scatter\",\"x\":[0.5276396808291403,0.7914595212437103,0.9497514254924525,1.0552793616582805,1.1608072978241086,1.2663352339899365,1.3718631701557646,1.4773911063215925,1.5829190424874207,2.110558723316561,4.221117446633122],\"y\":[9.256992592329788e-07,1.8093017983832307e-07,1.031820860609251e-06,1.0959770466440056e-06,1.732076858338731e-10,6.580495710903559e-07,8.738303672791259e-07,6.492415253243372e-07,5.900894187464101e-07,8.849047374648128e-10,2.161098550342767e-09]},{\"line\":{\"color\":\"rgba(50, 171, 96, 0.8787878787878787)\",\"dash\":\"solid\",\"shape\":\"linear\",\"width\":1.3},\"mode\":\"lines\",\"name\":\"Fiber, total dietary\",\"text\":\"\",\"type\":\"scatter\",\"x\":[0.5276396808291403,0.7914595212437103,0.9497514254924525,1.0552793616582805,1.1608072978241086,1.2663352339899365,1.3718631701557646,1.4773911063215925,1.5829190424874207,2.110558723316561,4.221117446633122],\"y\":[115.04845434292332,85.85943720702664,82.45037243081428,82.45037209624199,82.45037518436942,82.45037376366795,82.45037374062703,82.45037662775819,82.45038122157733,38.31064238151424,55.73149282391874]},{\"line\":{\"color\":\"rgba(128, 0, 128, 0.8787878787878787)\",\"dash\":\"solid\",\"shape\":\"linear\",\"width\":1.3},\"mode\":\"lines\",\"name\":\"Fluoride, F\",\"text\":\"\",\"type\":\"scatter\",\"x\":[0.5276396808291403,0.7914595212437103,0.9497514254924525,1.0552793616582805,1.1608072978241086,1.2663352339899365,1.3718631701557646,1.4773911063215925,1.5829190424874207,2.110558723316561,4.221117446633122],\"y\":[1.8113151828647462e-07,5.0525999631696454e-08,3.344424042273695e-08,3.550370962762788e-08,5.061570230569836e-12,2.0674452637973128e-08,3.429602917164812e-08,2.4273976272625265e-08,1.965300646269255e-08,1.5480499683647863e-10,3.707553523303814e-10]},{\"line\":{\"color\":\"rgba(219, 64, 82, 0.8787878787878787)\",\"dash\":\"solid\",\"shape\":\"linear\",\"width\":1.3},\"mode\":\"lines\",\"name\":\"Folate, DFE\",\"text\":\"\",\"type\":\"scatter\",\"x\":[0.5276396808291403,0.7914595212437103,0.9497514254924525,1.0552793616582805,1.1608072978241086,1.2663352339899365,1.3718631701557646,1.4773911063215925,1.5829190424874207,2.110558723316561,4.221117446633122],\"y\":[400.0000477824344,400.0000015867899,400.00000125675655,400.00000133888955,400.00000000047584,400.00000078055876,400.0000013112586,400.0000008655429,400.0000007321084,400.0000000053271,400.0000000229576]},{\"line\":{\"color\":\"rgba(0, 128, 128, 0.8787878787878787)\",\"dash\":\"solid\",\"shape\":\"linear\",\"width\":1.3},\"mode\":\"lines\",\"name\":\"Folate, food\",\"text\":\"\",\"type\":\"scatter\",\"x\":[0.5276396808291403,0.7914595212437103,0.9497514254924525,1.0552793616582805,1.1608072978241086,1.2663352339899365,1.3718631701557646,1.4773911063215925,1.5829190424874207,2.110558723316561,4.221117446633122],\"y\":[400.0000477824344,400.0000015867899,400.00000125675655,400.00000133888955,400.00000000047584,400.00000078055876,400.0000013112586,400.0000008655429,400.0000007321084,400.0000000053271,400.0000000229576]},{\"line\":{\"color\":\"rgba(255, 255, 51, 0.8787878787878787)\",\"dash\":\"solid\",\"shape\":\"linear\",\"width\":1.3},\"mode\":\"lines\",\"name\":\"Folate, total\",\"text\":\"\",\"type\":\"scatter\",\"x\":[0.5276396808291403,0.7914595212437103,0.9497514254924525,1.0552793616582805,1.1608072978241086,1.2663352339899365,1.3718631701557646,1.4773911063215925,1.5829190424874207,2.110558723316561,4.221117446633122],\"y\":[437.958189651164,400.0000041441883,400.0000040950138,400.00000433645585,400.0000000009203,400.00000250334324,400.0000042098019,400.0000025424226,400.00000226535576,400.000000010253,400.00000005349193]},{\"line\":{\"color\":\"rgba(255, 255, 51, 0.8383838383838382)\",\"dash\":\"solid\",\"shape\":\"linear\",\"width\":1.3},\"mode\":\"lines\",\"name\":\"Folic acid\",\"text\":\"\",\"type\":\"scatter\",\"x\":[0.5276396808291403,0.7914595212437103,0.9497514254924525,1.0552793616582805,1.1608072978241086,1.2663352339899365,1.3718631701557646,1.4773911063215925,1.5829190424874207,2.110558723316561,4.221117446633122],\"y\":[34.99010104320538,42.166469195917976,51.58416267798311,51.58416162606491,51.58417335456578,51.58416394758395,51.584153281305895,51.584149899029434,51.58412780390259,105.29303002673578,38.125007900221064]},{\"line\":{\"color\":\"rgba(128, 128, 0, 0.8383838383838382)\",\"dash\":\"solid\",\"shape\":\"linear\",\"width\":1.3},\"mode\":\"lines\",\"name\":\"Fructose\",\"text\":\"\",\"type\":\"scatter\",\"x\":[0.5276396808291403,0.7914595212437103,0.9497514254924525,1.0552793616582805,1.1608072978241086,1.2663352339899365,1.3718631701557646,1.4773911063215925,1.5829190424874207,2.110558723316561,4.221117446633122],\"y\":[0.24489309100666415,2.723256689403998e-07,1.8526254092477496e-07,1.943906617495372e-07,2.7982574550299147e-11,1.1040516808259829e-07,1.8133536014328704e-07,1.1834009728712794e-07,9.986942101191232e-08,5.365096532903697e-10,1.518659753480337e-09]},{\"line\":{\"color\":\"rgba(251, 128, 114, 0.8383838383838382)\",\"dash\":\"solid\",\"shape\":\"linear\",\"width\":1.3},\"mode\":\"lines\",\"name\":\"Galactose\",\"text\":\"\",\"type\":\"scatter\",\"x\":[0.5276396808291403,0.7914595212437103,0.9497514254924525,1.0552793616582805,1.1608072978241086,1.2663352339899365,1.3718631701557646,1.4773911063215925,1.5829190424874207,2.110558723316561,4.221117446633122],\"y\":[7.944364837126079e-10,2.2160526154252827e-10,1.4668526501200414e-10,1.5571802468257838e-10,2.2199869432323838e-14,9.067742385075931e-11,1.5042118057740404e-10,1.0646480821326869e-10,8.61973967661954e-11,6.789692843705202e-13,1.6261199663613216e-12]},{\"line\":{\"color\":\"rgba(128, 177, 211, 0.8383838383838382)\",\"dash\":\"solid\",\"shape\":\"linear\",\"width\":1.3},\"mode\":\"lines\",\"name\":\"Glucose\",\"text\":\"\",\"type\":\"scatter\",\"x\":[0.5276396808291403,0.7914595212437103,0.9497514254924525,1.0552793616582805,1.1608072978241086,1.2663352339899365,1.3718631701557646,1.4773911063215925,1.5829190424874207,2.110558723316561,4.221117446633122],\"y\":[0.24489268580219173,1.9460240903999196e-07,1.3671369161160615e-07,1.433226656624366e-07,2.0340968353693283e-11,8.142205238098411e-08,1.3365288027660674e-07,9.259017130544647e-08,8.258620556824748e-08,1.993932913818129e-09,3.5224520718920086e-08]},{\"line\":{\"color\":\"rgba(255, 153, 51, 0.8383838383838382)\",\"dash\":\"solid\",\"shape\":\"linear\",\"width\":1.3},\"mode\":\"lines\",\"name\":\"Glutamic acid\",\"text\":\"\",\"type\":\"scatter\",\"x\":[0.5276396808291403,0.7914595212437103,0.9497514254924525,1.0552793616582805,1.1608072978241086,1.2663352339899365,1.3718631701557646,1.4773911063215925,1.5829190424874207,2.110558723316561,4.221117446633122],\"y\":[4.890590473786383e-07,8.843279166393055e-08,7.364000834763757e-08,7.843772919677422e-08,9.472588149976771e-12,4.673453893997476e-08,7.802512870684619e-08,8.914394221013905e-08,9.469446150422963e-08,8.920066445073137e-09,1.8046353136755103e-07]},{\"line\":{\"color\":\"rgba(55, 128, 191, 0.8383838383838382)\",\"dash\":\"solid\",\"shape\":\"linear\",\"width\":1.3},\"mode\":\"lines\",\"name\":\"Glycine\",\"text\":\"\",\"type\":\"scatter\",\"x\":[0.5276396808291403,0.7914595212437103,0.9497514254924525,1.0552793616582805,1.1608072978241086,1.2663352339899365,1.3718631701557646,1.4773911063215925,1.5829190424874207,2.110558723316561,4.221117446633122],\"y\":[1.0766823453236793e-07,2.4390385501666095e-08,2.0112022925893315e-08,2.157480470912999e-08,2.7805512859791883e-12,1.2936513738482226e-08,2.181720175541656e-08,2.1781981643346666e-08,2.2117404514166282e-08,1.7119522769047595e-09,3.402223961808072e-08]},{\"line\":{\"color\":\"rgba(50, 171, 96, 0.8383838383838382)\",\"dash\":\"solid\",\"shape\":\"linear\",\"width\":1.3},\"mode\":\"lines\",\"name\":\"Histidine\",\"text\":\"\",\"type\":\"scatter\",\"x\":[0.5276396808291403,0.7914595212437103,0.9497514254924525,1.0552793616582805,1.1608072978241086,1.2663352339899365,1.3718631701557646,1.4773911063215925,1.5829190424874207,2.110558723316561,4.221117446633122],\"y\":[5.6821155349809244e-08,1.2653704987852465e-08,1.0406580008385297e-08,1.1141417703257045e-08,1.408378596967798e-12,6.6705874250839524e-09,1.1213537087076641e-08,1.1677695682453775e-08,1.2014292444913674e-08,9.960168834066774e-10,1.9917224220637396e-08]},{\"line\":{\"color\":\"rgba(128, 0, 128, 0.8383838383838382)\",\"dash\":\"solid\",\"shape\":\"linear\",\"width\":1.3},\"mode\":\"lines\",\"name\":\"Hydroxyproline\",\"text\":\"\",\"type\":\"scatter\",\"x\":[0.5276396808291403,0.7914595212437103,0.9497514254924525,1.0552793616582805,1.1608072978241086,1.2663352339899365,1.3718631701557646,1.4773911063215925,1.5829190424874207,2.110558723316561,4.221117446633122],\"y\":[4.826578740482943e-10,1.5826658225507432e-10,1.0757733014533747e-10,1.1371725604409268e-10,1.586223021757635e-14,6.596656472743214e-11,1.0888228551989448e-10,7.596976060671606e-11,6.170509960473421e-11,4.4921150685062503e-13,1.3229293409416026e-12]},{\"line\":{\"color\":\"rgba(219, 64, 82, 0.8383838383838382)\",\"dash\":\"solid\",\"shape\":\"linear\",\"width\":1.3},\"mode\":\"lines\",\"name\":\"Iodine, I\",\"text\":\"\",\"type\":\"scatter\",\"x\":[0.5276396808291403,0.7914595212437103,0.9497514254924525,1.0552793616582805,1.1608072978241086,1.2663352339899365,1.3718631701557646,1.4773911063215925,1.5829190424874207,2.110558723316561,4.221117446633122],\"y\":[0.0,0.0,0.0,0.0,0.0,0.0,0.0,0.0,0.0,0.0,0.0]},{\"line\":{\"color\":\"rgba(0, 128, 128, 0.8383838383838382)\",\"dash\":\"solid\",\"shape\":\"linear\",\"width\":1.3},\"mode\":\"lines\",\"name\":\"Iron, Fe\",\"text\":\"\",\"type\":\"scatter\",\"x\":[0.5276396808291403,0.7914595212437103,0.9497514254924525,1.0552793616582805,1.1608072978241086,1.2663352339899365,1.3718631701557646,1.4773911063215925,1.5829190424874207,2.110558723316561,4.221117446633122],\"y\":[24.673694834488927,17.658782241979807,17.483129649484297,17.483129603211154,17.483129720529607,17.483129607826104,17.483129439361214,17.483129317850718,17.48312901633694,16.613400495425203,15.576649809848051]},{\"line\":{\"color\":\"rgba(0, 128, 128, 0.797979797979798)\",\"dash\":\"solid\",\"shape\":\"linear\",\"width\":1.3},\"mode\":\"lines\",\"name\":\"Isoleucine\",\"text\":\"\",\"type\":\"scatter\",\"x\":[0.5276396808291403,0.7914595212437103,0.9497514254924525,1.0552793616582805,1.1608072978241086,1.2663352339899365,1.3718631701557646,1.4773911063215925,1.5829190424874207,2.110558723316561,4.221117446633122],\"y\":[1.0057147313254938e-07,2.2981291524687048e-08,1.8902963338127263e-08,2.0240648720743074e-08,2.5563907727312575e-12,1.2120791325335774e-08,2.0376484808414887e-08,2.12716020401105e-08,2.189140780137776e-08,1.8204239381831592e-09,3.640074290171512e-08]},{\"line\":{\"color\":\"rgba(255, 255, 51, 0.797979797979798)\",\"dash\":\"solid\",\"shape\":\"linear\",\"width\":1.3},\"mode\":\"lines\",\"name\":\"Lactose\",\"text\":\"\",\"type\":\"scatter\",\"x\":[0.5276396808291403,0.7914595212437103,0.9497514254924525,1.0552793616582805,1.1608072978241086,1.2663352339899365,1.3718631701557646,1.4773911063215925,1.5829190424874207,2.110558723316561,4.221117446633122],\"y\":[7.53984608503459e-09,2.342285657931662e-09,1.5109498336822165e-09,1.6123830467545195e-09,2.289174836896524e-13,9.59301998140325e-10,1.5916254544629165e-09,1.169142797908784e-09,9.265803436668144e-10,7.461596384626945e-12,1.98475275442843e-11]},{\"line\":{\"color\":\"rgba(128, 128, 0, 0.797979797979798)\",\"dash\":\"solid\",\"shape\":\"linear\",\"width\":1.3},\"mode\":\"lines\",\"name\":\"Leucine\",\"text\":\"\",\"type\":\"scatter\",\"x\":[0.5276396808291403,0.7914595212437103,0.9497514254924525,1.0552793616582805,1.1608072978241086,1.2663352339899365,1.3718631701557646,1.4773911063215925,1.5829190424874207,2.110558723316561,4.221117446633122],\"y\":[1.6955692982887e-07,3.854098136782117e-08,3.166321119880113e-08,3.3890192519655775e-08,4.27210186806517e-12,2.028401552160711e-08,3.4081102620856686e-08,3.569785009471616e-08,3.676170085862736e-08,3.072441638343186e-09,6.146491627864684e-08]},{\"line\":{\"color\":\"rgba(251, 128, 114, 0.797979797979798)\",\"dash\":\"solid\",\"shape\":\"linear\",\"width\":1.3},\"mode\":\"lines\",\"name\":\"Lipids\",\"text\":\"\",\"type\":\"scatter\",\"x\":[0.5276396808291403,0.7914595212437103,0.9497514254924525,1.0552793616582805,1.1608072978241086,1.2663352339899365,1.3718631701557646,1.4773911063215925,1.5829190424874207,2.110558723316561,4.221117446633122],\"y\":[0.0,0.0,0.0,0.0,0.0,0.0,0.0,0.0,0.0,0.0,0.0]},{\"line\":{\"color\":\"rgba(128, 177, 211, 0.797979797979798)\",\"dash\":\"solid\",\"shape\":\"linear\",\"width\":1.3},\"mode\":\"lines\",\"name\":\"Lutein\",\"text\":\"\",\"type\":\"scatter\",\"x\":[0.5276396808291403,0.7914595212437103,0.9497514254924525,1.0552793616582805,1.1608072978241086,1.2663352339899365,1.3718631701557646,1.4773911063215925,1.5829190424874207,2.110558723316561,4.221117446633122],\"y\":[4.100443015453291e-06,9.839211905406118e-07,6.453885783354188e-07,6.798681790215026e-07,9.644435132289431e-11,3.9090499292522197e-07,6.453286000077374e-07,4.497304804025948e-07,3.6516228020217986e-07,2.5613146965549677e-09,6.814209344202886e-09]},{\"line\":{\"color\":\"rgba(255, 153, 51, 0.797979797979798)\",\"dash\":\"solid\",\"shape\":\"linear\",\"width\":1.3},\"mode\":\"lines\",\"name\":\"Lutein + zeaxanthin\",\"text\":\"\",\"type\":\"scatter\",\"x\":[0.5276396808291403,0.7914595212437103,0.9497514254924525,1.0552793616582805,1.1608072978241086,1.2663352339899365,1.3718631701557646,1.4773911063215925,1.5829190424874207,2.110558723316561,4.221117446633122],\"y\":[6515.780174164155,4482.671161728705,5726.292581739634,5726.29247816377,5726.292792853032,5726.29215425168,5726.290872076005,5726.289713121374,5726.285930448604,12559.93845239143,1353.5294640658362]},{\"line\":{\"color\":\"rgba(55, 128, 191, 0.797979797979798)\",\"dash\":\"solid\",\"shape\":\"linear\",\"width\":1.3},\"mode\":\"lines\",\"name\":\"Lycopene\",\"text\":\"\",\"type\":\"scatter\",\"x\":[0.5276396808291403,0.7914595212437103,0.9497514254924525,1.0552793616582805,1.1608072978241086,1.2663352339899365,1.3718631701557646,1.4773911063215925,1.5829190424874207,2.110558723316561,4.221117446633122],\"y\":[0.6646602796281724,0.7596106194835733,0.6853597256821851,0.6853615017623953,0.6853269313928987,0.6853468472831286,0.6853598552747814,0.6853499690084998,0.685345807218765,0.3217939374523445,0.8051175230355446]},{\"line\":{\"color\":\"rgba(50, 171, 96, 0.797979797979798)\",\"dash\":\"solid\",\"shape\":\"linear\",\"width\":1.3},\"mode\":\"lines\",\"name\":\"Lysine\",\"text\":\"\",\"type\":\"scatter\",\"x\":[0.5276396808291403,0.7914595212437103,0.9497514254924525,1.0552793616582805,1.1608072978241086,1.2663352339899365,1.3718631701557646,1.4773911063215925,1.5829190424874207,2.110558723316561,4.221117446633122],\"y\":[1.6858358940921484e-07,3.971080761267536e-08,3.180002778569237e-08,3.40880723610272e-08,4.4914735853761444e-12,2.0358193853345812e-08,3.430102656387896e-08,3.22717326178432e-08,3.2019732737503605e-08,2.2232856709035323e-09,4.3715234707324855e-08]},{\"line\":{\"color\":\"rgba(128, 0, 128, 0.797979797979798)\",\"dash\":\"solid\",\"shape\":\"linear\",\"width\":1.3},\"mode\":\"lines\",\"name\":\"MUFA 12:1\",\"text\":\"\",\"type\":\"scatter\",\"x\":[0.5276396808291403,0.7914595212437103,0.9497514254924525,1.0552793616582805,1.1608072978241086,1.2663352339899365,1.3718631701557646,1.4773911063215925,1.5829190424874207,2.110558723316561,4.221117446633122],\"y\":[0.0,0.0,0.0,0.0,0.0,0.0,0.0,0.0,0.0,0.0,0.0]},{\"line\":{\"color\":\"rgba(219, 64, 82, 0.797979797979798)\",\"dash\":\"solid\",\"shape\":\"linear\",\"width\":1.3},\"mode\":\"lines\",\"name\":\"MUFA 14:1\",\"text\":\"\",\"type\":\"scatter\",\"x\":[0.5276396808291403,0.7914595212437103,0.9497514254924525,1.0552793616582805,1.1608072978241086,1.2663352339899365,1.3718631701557646,1.4773911063215925,1.5829190424874207,2.110558723316561,4.221117446633122],\"y\":[3.701545628058068e-10,1.110899570583516e-10,7.495529598779377e-11,8.042372553407183e-11,1.1621186189188036e-14,4.783149323862396e-11,8.030616239158043e-11,5.7113690909675446e-11,4.719392483264531e-11,3.641096124170556e-13,8.795401318127903e-13]},{\"line\":{\"color\":\"rgba(219, 64, 82, 0.7575757575757576)\",\"dash\":\"solid\",\"shape\":\"linear\",\"width\":1.3},\"mode\":\"lines\",\"name\":\"MUFA 14:1 c\",\"text\":\"\",\"type\":\"scatter\",\"x\":[0.5276396808291403,0.7914595212437103,0.9497514254924525,1.0552793616582805,1.1608072978241086,1.2663352339899365,1.3718631701557646,1.4773911063215925,1.5829190424874207,2.110558723316561,4.221117446633122],\"y\":[0.0,0.0,0.0,0.0,0.0,0.0,0.0,0.0,0.0,0.0,0.0]},{\"line\":{\"color\":\"rgba(0, 128, 128, 0.7575757575757576)\",\"dash\":\"solid\",\"shape\":\"linear\",\"width\":1.3},\"mode\":\"lines\",\"name\":\"MUFA 15:1\",\"text\":\"\",\"type\":\"scatter\",\"x\":[0.5276396808291403,0.7914595212437103,0.9497514254924525,1.0552793616582805,1.1608072978241086,1.2663352339899365,1.3718631701557646,1.4773911063215925,1.5829190424874207,2.110558723316561,4.221117446633122],\"y\":[0.0,0.0,0.0,0.0,0.0,0.0,0.0,0.0,0.0,0.0,0.0]},{\"line\":{\"color\":\"rgba(255, 255, 51, 0.7575757575757576)\",\"dash\":\"solid\",\"shape\":\"linear\",\"width\":1.3},\"mode\":\"lines\",\"name\":\"MUFA 16:1\",\"text\":\"\",\"type\":\"scatter\",\"x\":[0.5276396808291403,0.7914595212437103,0.9497514254924525,1.0552793616582805,1.1608072978241086,1.2663352339899365,1.3718631701557646,1.4773911063215925,1.5829190424874207,2.110558723316561,4.221117446633122],\"y\":[0.12253596829372851,0.12082881878374635,0.1204285409746118,0.120428542269893,0.12042852268778284,0.12042853646749885,0.12042854981908639,0.12042855721151735,0.12042857815842666,0.09718572399282584,0.17115671753485365]},{\"line\":{\"color\":\"rgba(128, 128, 0, 0.7575757575757576)\",\"dash\":\"solid\",\"shape\":\"linear\",\"width\":1.3},\"mode\":\"lines\",\"name\":\"MUFA 16:1 c\",\"text\":\"\",\"type\":\"scatter\",\"x\":[0.5276396808291403,0.7914595212437103,0.9497514254924525,1.0552793616582805,1.1608072978241086,1.2663352339899365,1.3718631701557646,1.4773911063215925,1.5829190424874207,2.110558723316561,4.221117446633122],\"y\":[0.02210311022455611,0.021953257489458294,0.021791310369831805,0.02179131048280498,0.021791309728368534,0.02179131028379066,0.0217913108076482,0.02179131077023849,0.021791311167402277,0.020718398921441682,0.021834479711446985]},{\"line\":{\"color\":\"rgba(251, 128, 114, 0.7575757575757576)\",\"dash\":\"solid\",\"shape\":\"linear\",\"width\":1.3},\"mode\":\"lines\",\"name\":\"MUFA 17:1\",\"text\":\"\",\"type\":\"scatter\",\"x\":[0.5276396808291403,0.7914595212437103,0.9497514254924525,1.0552793616582805,1.1608072978241086,1.2663352339899365,1.3718631701557646,1.4773911063215925,1.5829190424874207,2.110558723316561,4.221117446633122],\"y\":[0.004752947551713426,0.0047207243826274505,0.0046859000767942504,0.00468590008861595,0.004685900079189661,0.004685900105803455,0.004685900151537883,0.0046859001920206015,0.004685900292611174,0.004455186417949419,0.004695183146290333]},{\"line\":{\"color\":\"rgba(128, 177, 211, 0.7575757575757576)\",\"dash\":\"solid\",\"shape\":\"linear\",\"width\":1.3},\"mode\":\"lines\",\"name\":\"MUFA 17:1 c\",\"text\":\"\",\"type\":\"scatter\",\"x\":[0.5276396808291403,0.7914595212437103,0.9497514254924525,1.0552793616582805,1.1608072978241086,1.2663352339899365,1.3718631701557646,1.4773911063215925,1.5829190424874207,2.110558723316561,4.221117446633122],\"y\":[0.00475294725439599,0.004720724301963821,0.004685900008808975,0.004685900014258808,0.004685900079178595,0.004685900060405704,0.004685900072825019,0.0046859001377720574,0.004685900244994352,0.004455186417588883,0.004695183145471058]},{\"line\":{\"color\":\"rgba(255, 153, 51, 0.7575757575757576)\",\"dash\":\"solid\",\"shape\":\"linear\",\"width\":1.3},\"mode\":\"lines\",\"name\":\"MUFA 18:1\",\"text\":\"\",\"type\":\"scatter\",\"x\":[0.5276396808291403,0.7914595212437103,0.9497514254924525,1.0552793616582805,1.1608072978241086,1.2663352339899365,1.3718631701557646,1.4773911063215925,1.5829190424874207,2.110558723316561,4.221117446633122],\"y\":[27.795486077971233,18.173424179043497,15.309919756226762,15.309919551717554,15.309918989170098,15.3099191538354,15.309919092499186,15.30991875060136,15.309918114969532,4.018521820220357,3.1634219518139917]},{\"line\":{\"color\":\"rgba(55, 128, 191, 0.7575757575757576)\",\"dash\":\"solid\",\"shape\":\"linear\",\"width\":1.3},\"mode\":\"lines\",\"name\":\"MUFA 18:1 c\",\"text\":\"\",\"type\":\"scatter\",\"x\":[0.5276396808291403,0.7914595212437103,0.9497514254924525,1.0552793616582805,1.1608072978241086,1.2663352339899365,1.3718631701557646,1.4773911063215925,1.5829190424874207,2.110558723316561,4.221117446633122],\"y\":[2.7403593308958105,2.7217808220657025,2.701702521858767,2.7017025259481415,2.701702549653186,2.7017025470446563,2.7017025597955144,2.7017025933733785,2.701702653378494,2.56868228098921,2.7070547945153094]},{\"line\":{\"color\":\"rgba(50, 171, 96, 0.7575757575757576)\",\"dash\":\"solid\",\"shape\":\"linear\",\"width\":1.3},\"mode\":\"lines\",\"name\":\"MUFA 20:1\",\"text\":\"\",\"type\":\"scatter\",\"x\":[0.5276396808291403,0.7914595212437103,0.9497514254924525,1.0552793616582805,1.1608072978241086,1.2663352339899365,1.3718631701557646,1.4773911063215925,1.5829190424874207,2.110558723316561,4.221117446633122],\"y\":[0.25237378579434916,0.16410041905788272,0.13789596713758903,0.13789596544902968,0.13789595823865633,0.1378959609361172,0.1378959611954483,0.13789595693697315,0.13789595054151038,0.03492482846273551,0.02538847519235727]},{\"line\":{\"color\":\"rgba(128, 0, 128, 0.7575757575757576)\",\"dash\":\"solid\",\"shape\":\"linear\",\"width\":1.3},\"mode\":\"lines\",\"name\":\"MUFA 20:1 c\",\"text\":\"\",\"type\":\"scatter\",\"x\":[0.5276396808291403,0.7914595212437103,0.9497514254924525,1.0552793616582805,1.1608072978241086,1.2663352339899365,1.3718631701557646,1.4773911063215925,1.5829190424874207,2.110558723316561,4.221117446633122],\"y\":[0.003327063078077193,0.0033045070113746746,0.0032801300061662824,0.003280130009981166,0.0032801300554250166,0.0032801300422839927,0.0032801300509775135,0.0032801300964404403,0.003280130171496046,0.0031186304923122177,0.003286628201829741]},{\"line\":{\"color\":\"rgba(128, 0, 128, 0.7171717171717171)\",\"dash\":\"solid\",\"shape\":\"linear\",\"width\":1.3},\"mode\":\"lines\",\"name\":\"MUFA 22:1\",\"text\":\"\",\"type\":\"scatter\",\"x\":[0.5276396808291403,0.7914595212437103,0.9497514254924525,1.0552793616582805,1.1608072978241086,1.2663352339899365,1.3718631701557646,1.4773911063215925,1.5829190424874207,2.110558723316561,4.221117446633122],\"y\":[0.048865028373163574,0.03184037859800136,0.02675593279648303,0.02675593245769073,0.026755932195401726,0.02675593211402857,0.026755931785128362,0.026755931309130985,0.02675593018164224,0.0067764592512277455,0.004926122044645757]},{\"line\":{\"color\":\"rgba(219, 64, 82, 0.7171717171717171)\",\"dash\":\"solid\",\"shape\":\"linear\",\"width\":1.3},\"mode\":\"lines\",\"name\":\"MUFA 22:1 c\",\"text\":\"\",\"type\":\"scatter\",\"x\":[0.5276396808291403,0.7914595212437103,0.9497514254924525,1.0552793616582805,1.1608072978241086,1.2663352339899365,1.3718631701557646,1.4773911063215925,1.5829190424874207,2.110558723316561,4.221117446633122],\"y\":[1.4595583234457402e-09,3.9598509300634e-10,3.337458973732284e-10,3.650259692581247e-10,5.432241932675903e-14,2.228616869444485e-10,3.864086037235782e-10,2.663110342484647e-10,2.33755308547698e-10,1.7699075508190935e-12,4.021892115516498e-12]},{\"line\":{\"color\":\"rgba(0, 128, 128, 0.7171717171717171)\",\"dash\":\"solid\",\"shape\":\"linear\",\"width\":1.3},\"mode\":\"lines\",\"name\":\"MUFA 22:1 n-11\",\"text\":\"\",\"type\":\"scatter\",\"x\":[0.5276396808291403,0.7914595212437103,0.9497514254924525,1.0552793616582805,1.1608072978241086,1.2663352339899365,1.3718631701557646,1.4773911063215925,1.5829190424874207,2.110558723316561,4.221117446633122],\"y\":[0.0,0.0,0.0,0.0,0.0,0.0,0.0,0.0,0.0,0.0,0.0]},{\"line\":{\"color\":\"rgba(255, 255, 51, 0.7171717171717171)\",\"dash\":\"solid\",\"shape\":\"linear\",\"width\":1.3},\"mode\":\"lines\",\"name\":\"MUFA 22:1 n-9\",\"text\":\"\",\"type\":\"scatter\",\"x\":[0.5276396808291403,0.7914595212437103,0.9497514254924525,1.0552793616582805,1.1608072978241086,1.2663352339899365,1.3718631701557646,1.4773911063215925,1.5829190424874207,2.110558723316561,4.221117446633122],\"y\":[0.0,0.0,0.0,0.0,0.0,0.0,0.0,0.0,0.0,0.0,0.0]},{\"line\":{\"color\":\"rgba(128, 128, 0, 0.7171717171717171)\",\"dash\":\"solid\",\"shape\":\"linear\",\"width\":1.3},\"mode\":\"lines\",\"name\":\"MUFA 24:1 c\",\"text\":\"\",\"type\":\"scatter\",\"x\":[0.5276396808291403,0.7914595212437103,0.9497514254924525,1.0552793616582805,1.1608072978241086,1.2663352339899365,1.3718631701557646,1.4773911063215925,1.5829190424874207,2.110558723316561,4.221117446633122],\"y\":[3.243462940990534e-10,8.799668733474222e-11,7.416575497182854e-11,8.111688205736104e-11,1.2071648739279786e-14,4.952481932098856e-11,8.58685786052396e-11,5.918022983299216e-11,5.1945624121710663e-11,3.933127890709097e-13,8.937538034481107e-13]},{\"line\":{\"color\":\"rgba(251, 128, 114, 0.7171717171717171)\",\"dash\":\"solid\",\"shape\":\"linear\",\"width\":1.3},\"mode\":\"lines\",\"name\":\"Magnesium, Mg\",\"text\":\"\",\"type\":\"scatter\",\"x\":[0.5276396808291403,0.7914595212437103,0.9497514254924525,1.0552793616582805,1.1608072978241086,1.2663352339899365,1.3718631701557646,1.4773911063215925,1.5829190424874207,2.110558723316561,4.221117446633122],\"y\":[1609.1043817448513,1176.144393522874,1052.709789745375,1052.709782578233,1052.7097729616844,1052.7097775152974,1052.709782946098,1052.7097944116958,1052.7098172345488,523.5105164951958,626.5439003007368]},{\"line\":{\"color\":\"rgba(128, 177, 211, 0.7171717171717171)\",\"dash\":\"solid\",\"shape\":\"linear\",\"width\":1.3},\"mode\":\"lines\",\"name\":\"Maltose\",\"text\":\"\",\"type\":\"scatter\",\"x\":[0.5276396808291403,0.7914595212437103,0.9497514254924525,1.0552793616582805,1.1608072978241086,1.2663352339899365,1.3718631701557646,1.4773911063215925,1.5829190424874207,2.110558723316561,4.221117446633122],\"y\":[0.0,0.0,0.0,0.0,0.0,0.0,0.0,0.0,0.0,0.0,0.0]},{\"line\":{\"color\":\"rgba(255, 153, 51, 0.7171717171717171)\",\"dash\":\"solid\",\"shape\":\"linear\",\"width\":1.3},\"mode\":\"lines\",\"name\":\"Manganese, Mn\",\"text\":\"\",\"type\":\"scatter\",\"x\":[0.5276396808291403,0.7914595212437103,0.9497514254924525,1.0552793616582805,1.1608072978241086,1.2663352339899365,1.3718631701557646,1.4773911063215925,1.5829190424874207,2.110558723316561,4.221117446633122],\"y\":[0.7342418523727775,0.1698328356615639,0.16858000040306462,0.1685800043112196,0.16857994125685333,0.16857997916431974,0.16858000561293976,0.16858000772260395,0.16858001483208696,0.16027979229843267,0.16891402540756584]},{\"line\":{\"color\":\"rgba(55, 128, 191, 0.7171717171717171)\",\"dash\":\"solid\",\"shape\":\"linear\",\"width\":1.3},\"mode\":\"lines\",\"name\":\"Methionine\",\"text\":\"\",\"type\":\"scatter\",\"x\":[0.5276396808291403,0.7914595212437103,0.9497514254924525,1.0552793616582805,1.1608072978241086,1.2663352339899365,1.3718631701557646,1.4773911063215925,1.5829190424874207,2.110558723316561,4.221117446633122],\"y\":[4.9990300823061514e-08,1.2337983404973333e-08,9.798455888385967e-09,1.0514946308190434e-08,1.410306316656696e-12,6.279681304769195e-09,1.059846491188725e-08,9.508531018607147e-09,9.25346782193565e-09,5.744078746779818e-10,1.114980122615693e-08]},{\"line\":{\"color\":\"rgba(50, 171, 96, 0.7171717171717171)\",\"dash\":\"solid\",\"shape\":\"linear\",\"width\":1.3},\"mode\":\"lines\",\"name\":\"Minerals\",\"text\":\"\",\"type\":\"scatter\",\"x\":[0.5276396808291403,0.7914595212437103,0.9497514254924525,1.0552793616582805,1.1608072978241086,1.2663352339899365,1.3718631701557646,1.4773911063215925,1.5829190424874207,2.110558723316561,4.221117446633122],\"y\":[0.0,0.0,0.0,0.0,0.0,0.0,0.0,0.0,0.0,0.0,0.0]},{\"line\":{\"color\":\"rgba(50, 171, 96, 0.6767676767676767)\",\"dash\":\"solid\",\"shape\":\"linear\",\"width\":1.3},\"mode\":\"lines\",\"name\":\"Molybdenum, Mo\",\"text\":\"\",\"type\":\"scatter\",\"x\":[0.5276396808291403,0.7914595212437103,0.9497514254924525,1.0552793616582805,1.1608072978241086,1.2663352339899365,1.3718631701557646,1.4773911063215925,1.5829190424874207,2.110558723316561,4.221117446633122],\"y\":[0.0,0.0,0.0,0.0,0.0,0.0,0.0,0.0,0.0,0.0,0.0]},{\"line\":{\"color\":\"rgba(128, 0, 128, 0.6767676767676767)\",\"dash\":\"solid\",\"shape\":\"linear\",\"width\":1.3},\"mode\":\"lines\",\"name\":\"Niacin\",\"text\":\"\",\"type\":\"scatter\",\"x\":[0.5276396808291403,0.7914595212437103,0.9497514254924525,1.0552793616582805,1.1608072978241086,1.2663352339899365,1.3718631701557646,1.4773911063215925,1.5829190424874207,2.110558723316561,4.221117446633122],\"y\":[17.860850166339844,16.00000042990101,16.00000039641495,16.00000041825864,16.00000000006534,16.0000002427899,16.00000039754437,16.00000031147476,16.000000232322964,16.000000001776627,16.000000003706553]},{\"line\":{\"color\":\"rgba(219, 64, 82, 0.6767676767676767)\",\"dash\":\"solid\",\"shape\":\"linear\",\"width\":1.3},\"mode\":\"lines\",\"name\":\"Nitrogen\",\"text\":\"\",\"type\":\"scatter\",\"x\":[0.5276396808291403,0.7914595212437103,0.9497514254924525,1.0552793616582805,1.1608072978241086,1.2663352339899365,1.3718631701557646,1.4773911063215925,1.5829190424874207,2.110558723316561,4.221117446633122],\"y\":[0.6252064313835475,0.3351714429077748,0.33269892083915514,0.33269892239036053,0.3326989056248526,0.3326989166129442,0.3326989259564661,0.3326989218164066,0.3326989284047536,0.3163182356849256,0.3333580035544931]},{\"line\":{\"color\":\"rgba(0, 128, 128, 0.6767676767676767)\",\"dash\":\"solid\",\"shape\":\"linear\",\"width\":1.3},\"mode\":\"lines\",\"name\":\"Oligiosaccharides\",\"text\":\"\",\"type\":\"scatter\",\"x\":[0.5276396808291403,0.7914595212437103,0.9497514254924525,1.0552793616582805,1.1608072978241086,1.2663352339899365,1.3718631701557646,1.4773911063215925,1.5829190424874207,2.110558723316561,4.221117446633122],\"y\":[0.0,0.0,0.0,0.0,0.0,0.0,0.0,0.0,0.0,0.0,0.0]},{\"line\":{\"color\":\"rgba(255, 255, 51, 0.6767676767676767)\",\"dash\":\"solid\",\"shape\":\"linear\",\"width\":1.3},\"mode\":\"lines\",\"name\":\"PUFA 18:2\",\"text\":\"\",\"type\":\"scatter\",\"x\":[0.5276396808291403,0.7914595212437103,0.9497514254924525,1.0552793616582805,1.1608072978241086,1.2663352339899365,1.3718631701557646,1.4773911063215925,1.5829190424874207,2.110558723316561,4.221117446633122],\"y\":[22.441169630678267,14.827849449201326,12.547760070662067,12.54775991123838,12.54775950583092,12.54775962359113,12.547759591884002,12.547759351690619,12.547758966744347,3.4987016823046186,3.0891516510612393]},{\"line\":{\"color\":\"rgba(128, 128, 0, 0.6767676767676767)\",\"dash\":\"solid\",\"shape\":\"linear\",\"width\":1.3},\"mode\":\"lines\",\"name\":\"PUFA 18:2 CLAs\",\"text\":\"\",\"type\":\"scatter\",\"x\":[0.5276396808291403,0.7914595212437103,0.9497514254924525,1.0552793616582805,1.1608072978241086,1.2663352339899365,1.3718631701557646,1.4773911063215925,1.5829190424874207,2.110558723316561,4.221117446633122],\"y\":[2.585235887812322e-10,7.49935971556304e-11,5.562703154700119e-11,6.018315071321681e-11,8.775776101742707e-15,3.633301044422327e-11,6.182335458278847e-11,4.3789856699223804e-11,3.680623385616974e-11,2.859791787098048e-13,6.971751415553043e-13]},{\"line\":{\"color\":\"rgba(251, 128, 114, 0.6767676767676767)\",\"dash\":\"solid\",\"shape\":\"linear\",\"width\":1.3},\"mode\":\"lines\",\"name\":\"PUFA 18:2 c\",\"text\":\"\",\"type\":\"scatter\",\"x\":[0.5276396808291403,0.7914595212437103,0.9497514254924525,1.0552793616582805,1.1608072978241086,1.2663352339899365,1.3718631701557646,1.4773911063215925,1.5829190424874207,2.110558723316561,4.221117446633122],\"y\":[1.0479298106492279,1.0408252940969833,1.0331472339422028,1.0331472351437823,1.0331472494572966,1.0331472453182495,1.0331472480564603,1.0331472623759834,1.0331472860163546,0.9822795013499968,1.035193979913459]},{\"line\":{\"color\":\"rgba(128, 177, 211, 0.6767676767676767)\",\"dash\":\"solid\",\"shape\":\"linear\",\"width\":1.3},\"mode\":\"lines\",\"name\":\"PUFA 18:2 n-6 c,c\",\"text\":\"\",\"type\":\"scatter\",\"x\":[0.5276396808291403,0.7914595212437103,0.9497514254924525,1.0552793616582805,1.1608072978241086,1.2663352339899365,1.3718631701557646,1.4773911063215925,1.5829190424874207,2.110558723316561,4.221117446633122],\"y\":[1.0479298195604443,1.040825296790517,1.0331472357975409,1.0331472371398787,1.0331472494575853,1.033147246513768,1.0331472500701029,1.033147263816218,1.0331472872057343,0.9822795013592597,1.0351939799363141]},{\"line\":{\"color\":\"rgba(255, 153, 51, 0.6767676767676767)\",\"dash\":\"solid\",\"shape\":\"linear\",\"width\":1.3},\"mode\":\"lines\",\"name\":\"PUFA 18:3\",\"text\":\"\",\"type\":\"scatter\",\"x\":[0.5276396808291403,0.7914595212437103,0.9497514254924525,1.0552793616582805,1.1608072978241086,1.2663352339899365,1.3718631701557646,1.4773911063215925,1.5829190424874207,2.110558723316561,4.221117446633122],\"y\":[85.83916808496649,56.08092625849237,47.19198931992112,47.19198867031905,47.19198882116465,47.19198830179266,47.19198744654456,47.191986827821125,47.191984920425156,12.241285791347202,9.081344199605507]},{\"line\":{\"color\":\"rgba(55, 128, 191, 0.6767676767676767)\",\"dash\":\"solid\",\"shape\":\"linear\",\"width\":1.3},\"mode\":\"lines\",\"name\":\"PUFA 18:3 c\",\"text\":\"\",\"type\":\"scatter\",\"x\":[0.5276396808291403,0.7914595212437103,0.9497514254924525,1.0552793616582805,1.1608072978241086,1.2663352339899365,1.3718631701557646,1.4773911063215925,1.5829190424874207,2.110558723316561,4.221117446633122],\"y\":[0.002376473627197995,0.0023603621509819105,0.0023429500044044875,0.002342950007129404,0.0023429500395892974,0.002342950030202852,0.0023429500364125096,0.0023429500688860287,0.002342950122497176,0.0022275932087944413,0.002347591572735529]},{\"line\":{\"color\":\"rgba(55, 128, 191, 0.6363636363636362)\",\"dash\":\"solid\",\"shape\":\"linear\",\"width\":1.3},\"mode\":\"lines\",\"name\":\"PUFA 18:3 n-3 c,c,c (ALA)\",\"text\":\"\",\"type\":\"scatter\",\"x\":[0.5276396808291403,0.7914595212437103,0.9497514254924525,1.0552793616582805,1.1608072978241086,1.2663352339899365,1.3718631701557646,1.4773911063215925,1.5829190424874207,2.110558723316561,4.221117446633122],\"y\":[0.002376482673780153,0.0023603649415082175,0.0023429519051285266,0.0023429520441377466,0.002342950039882935,0.002342951237025759,0.002342952062000201,0.002342951494113225,0.0023429513091740312,0.0022275932177222143,0.0023475915946348383]},{\"line\":{\"color\":\"rgba(50, 171, 96, 0.6363636363636362)\",\"dash\":\"solid\",\"shape\":\"linear\",\"width\":1.3},\"mode\":\"lines\",\"name\":\"PUFA 18:3 n-6 c,c,c\",\"text\":\"\",\"type\":\"scatter\",\"x\":[0.5276396808291403,0.7914595212437103,0.9497514254924525,1.0552793616582805,1.1608072978241086,1.2663352339899365,1.3718631701557646,1.4773911063215925,1.5829190424874207,2.110558723316561,4.221117446633122],\"y\":[3.109236564049035e-10,9.736421100276856e-11,6.976873881216545e-11,7.443029482105106e-11,1.0571355145570589e-14,4.379385470045292e-11,7.331585204173583e-11,5.097113393763663e-11,4.236978679458682e-11,3.122384386251679e-13,8.534048036913623e-13]},{\"line\":{\"color\":\"rgba(128, 0, 128, 0.6363636363636362)\",\"dash\":\"solid\",\"shape\":\"linear\",\"width\":1.3},\"mode\":\"lines\",\"name\":\"PUFA 18:4\",\"text\":\"\",\"type\":\"scatter\",\"x\":[0.5276396808291403,0.7914595212437103,0.9497514254924525,1.0552793616582805,1.1608072978241086,1.2663352339899365,1.3718631701557646,1.4773911063215925,1.5829190424874207,2.110558723316561,4.221117446633122],\"y\":[5.213197250448803e-09,1.4945867239728283e-09,1.183628803879846e-09,1.2829309139604667e-09,1.878084723148037e-13,7.730107791675321e-10,1.3240952063095328e-09,9.152211253053123e-10,7.887130866916578e-10,5.919159520745694e-12,1.4321965150993254e-11]},{\"line\":{\"color\":\"rgba(219, 64, 82, 0.6363636363636362)\",\"dash\":\"solid\",\"shape\":\"linear\",\"width\":1.3},\"mode\":\"lines\",\"name\":\"PUFA 20:2 c\",\"text\":\"\",\"type\":\"scatter\",\"x\":[0.5276396808291403,0.7914595212437103,0.9497514254924525,1.0552793616582805,1.1608072978241086,1.2663352339899365,1.3718631701557646,1.4773911063215925,1.5829190424874207,2.110558723316561,4.221117446633122],\"y\":[0.0,0.0,0.0,0.0,0.0,0.0,0.0,0.0,0.0,0.0,0.0]},{\"line\":{\"color\":\"rgba(0, 128, 128, 0.6363636363636362)\",\"dash\":\"solid\",\"shape\":\"linear\",\"width\":1.3},\"mode\":\"lines\",\"name\":\"PUFA 20:2 n-6 c,c\",\"text\":\"\",\"type\":\"scatter\",\"x\":[0.5276396808291403,0.7914595212437103,0.9497514254924525,1.0552793616582805,1.1608072978241086,1.2663352339899365,1.3718631701557646,1.4773911063215925,1.5829190424874207,2.110558723316561,4.221117446633122],\"y\":[1.2043095593606966e-09,3.6960801037465616e-10,2.6976872341258105e-10,2.8877868470592157e-10,4.129903917013323e-14,1.707541173362417e-10,2.872967723141523e-10,1.9958948457104586e-10,1.6719378296757244e-10,1.241248850661964e-12,3.2688956758415657e-12]},{\"line\":{\"color\":\"rgba(255, 255, 51, 0.6363636363636362)\",\"dash\":\"solid\",\"shape\":\"linear\",\"width\":1.3},\"mode\":\"lines\",\"name\":\"PUFA 20:3\",\"text\":\"\",\"type\":\"scatter\",\"x\":[0.5276396808291403,0.7914595212437103,0.9497514254924525,1.0552793616582805,1.1608072978241086,1.2663352339899365,1.3718631701557646,1.4773911063215925,1.5829190424874207,2.110558723316561,4.221117446633122],\"y\":[1.5136514989931985e-09,4.339993775207955e-10,3.0766586783181164e-10,3.290430352248856e-10,4.7309467347713407e-14,1.939150883739575e-10,3.2564389858606505e-10,2.277075202196648e-10,1.8928751484781032e-10,1.4506134201214628e-12,3.51309355898536e-12]},{\"line\":{\"color\":\"rgba(128, 128, 0, 0.6363636363636362)\",\"dash\":\"solid\",\"shape\":\"linear\",\"width\":1.3},\"mode\":\"lines\",\"name\":\"PUFA 20:3 c\",\"text\":\"\",\"type\":\"scatter\",\"x\":[0.5276396808291403,0.7914595212437103,0.9497514254924525,1.0552793616582805,1.1608072978241086,1.2663352339899365,1.3718631701557646,1.4773911063215925,1.5829190424874207,2.110558723316561,4.221117446633122],\"y\":[0.0,0.0,0.0,0.0,0.0,0.0,0.0,0.0,0.0,0.0,0.0]},{\"line\":{\"color\":\"rgba(251, 128, 114, 0.6363636363636362)\",\"dash\":\"solid\",\"shape\":\"linear\",\"width\":1.3},\"mode\":\"lines\",\"name\":\"PUFA 20:3 n-3\",\"text\":\"\",\"type\":\"scatter\",\"x\":[0.5276396808291403,0.7914595212437103,0.9497514254924525,1.0552793616582805,1.1608072978241086,1.2663352339899365,1.3718631701557646,1.4773911063215925,1.5829190424874207,2.110558723316561,4.221117446633122],\"y\":[1.8920200489111448e-10,5.13314009452663e-11,4.3263357066899984e-11,4.731818120012727e-11,7.041795097913208e-15,2.8889477937243325e-11,5.009000418638977e-11,3.452180073591209e-11,3.030161407099789e-11,2.2943246029136397e-13,5.213563853447313e-13]},{\"line\":{\"color\":\"rgba(128, 177, 211, 0.6363636363636362)\",\"dash\":\"solid\",\"shape\":\"linear\",\"width\":1.3},\"mode\":\"lines\",\"name\":\"PUFA 20:3 n-6\",\"text\":\"\",\"type\":\"scatter\",\"x\":[0.5276396808291403,0.7914595212437103,0.9497514254924525,1.0552793616582805,1.1608072978241086,1.2663352339899365,1.3718631701557646,1.4773911063215925,1.5829190424874207,2.110558723316561,4.221117446633122],\"y\":[1.8375781200896733e-10,5.0278715978424954e-11,4.1535215080006786e-11,4.5350320795969525e-11,6.726237747042665e-15,2.761880702502395e-11,4.7761785197654085e-11,3.301008537362588e-11,2.8822990537533826e-11,2.1946168542661282e-13,4.984958585775771e-13]},{\"line\":{\"color\":\"rgba(255, 153, 51, 0.6363636363636362)\",\"dash\":\"solid\",\"shape\":\"linear\",\"width\":1.3},\"mode\":\"lines\",\"name\":\"PUFA 20:3 n-9\",\"text\":\"\",\"type\":\"scatter\",\"x\":[0.5276396808291403,0.7914595212437103,0.9497514254924525,1.0552793616582805,1.1608072978241086,1.2663352339899365,1.3718631701557646,1.4773911063215925,1.5829190424874207,2.110558723316561,4.221117446633122],\"y\":[0.0,0.0,0.0,0.0,0.0,0.0,0.0,0.0,0.0,0.0,0.0]},{\"line\":{\"color\":\"rgba(255, 153, 51, 0.5959595959595958)\",\"dash\":\"solid\",\"shape\":\"linear\",\"width\":1.3},\"mode\":\"lines\",\"name\":\"PUFA 20:4\",\"text\":\"\",\"type\":\"scatter\",\"x\":[0.5276396808291403,0.7914595212437103,0.9497514254924525,1.0552793616582805,1.1608072978241086,1.2663352339899365,1.3718631701557646,1.4773911063215925,1.5829190424874207,2.110558723316561,4.221117446633122],\"y\":[2.1138229846170336e-09,6.478625376247391e-10,4.710219018668178e-10,5.03916541135375e-10,7.207229710928056e-14,2.973945476835206e-10,4.999931100020449e-10,3.47161191645111e-10,2.906038922698935e-10,2.162421779976401e-12,5.585125769245045e-12]},{\"line\":{\"color\":\"rgba(55, 128, 191, 0.5959595959595958)\",\"dash\":\"solid\",\"shape\":\"linear\",\"width\":1.3},\"mode\":\"lines\",\"name\":\"PUFA 21:5\",\"text\":\"\",\"type\":\"scatter\",\"x\":[0.5276396808291403,0.7914595212437103,0.9497514254924525,1.0552793616582805,1.1608072978241086,1.2663352339899365,1.3718631701557646,1.4773911063215925,1.5829190424874207,2.110558723316561,4.221117446633122],\"y\":[0.0,0.0,0.0,0.0,0.0,0.0,0.0,0.0,0.0,0.0,0.0]},{\"line\":{\"color\":\"rgba(50, 171, 96, 0.5959595959595958)\",\"dash\":\"solid\",\"shape\":\"linear\",\"width\":1.3},\"mode\":\"lines\",\"name\":\"PUFA 22:2\",\"text\":\"\",\"type\":\"scatter\",\"x\":[0.5276396808291403,0.7914595212437103,0.9497514254924525,1.0552793616582805,1.1608072978241086,1.2663352339899365,1.3718631701557646,1.4773911063215925,1.5829190424874207,2.110558723316561,4.221117446633122],\"y\":[0.0,0.0,0.0,0.0,0.0,0.0,0.0,0.0,0.0,0.0,0.0]},{\"line\":{\"color\":\"rgba(128, 0, 128, 0.5959595959595958)\",\"dash\":\"solid\",\"shape\":\"linear\",\"width\":1.3},\"mode\":\"lines\",\"name\":\"PUFA 22:3\",\"text\":\"\",\"type\":\"scatter\",\"x\":[0.5276396808291403,0.7914595212437103,0.9497514254924525,1.0552793616582805,1.1608072978241086,1.2663352339899365,1.3718631701557646,1.4773911063215925,1.5829190424874207,2.110558723316561,4.221117446633122],\"y\":[0.0,0.0,0.0,0.0,0.0,0.0,0.0,0.0,0.0,0.0,0.0]},{\"line\":{\"color\":\"rgba(219, 64, 82, 0.5959595959595958)\",\"dash\":\"solid\",\"shape\":\"linear\",\"width\":1.3},\"mode\":\"lines\",\"name\":\"PUFA 22:4\",\"text\":\"\",\"type\":\"scatter\",\"x\":[0.5276396808291403,0.7914595212437103,0.9497514254924525,1.0552793616582805,1.1608072978241086,1.2663352339899365,1.3718631701557646,1.4773911063215925,1.5829190424874207,2.110558723316561,4.221117446633122],\"y\":[1.0558771706818292e-10,2.9398059185451865e-11,2.3514789055789242e-11,2.5606765937538435e-11,3.7793324802297914e-15,1.5553588963676203e-11,2.6774757061486892e-11,1.863075686482891e-11,1.6096186802706574e-11,1.232973815944463e-13,2.8533434300566906e-13]},{\"line\":{\"color\":\"rgba(0, 128, 128, 0.5959595959595958)\",\"dash\":\"solid\",\"shape\":\"linear\",\"width\":1.3},\"mode\":\"lines\",\"name\":\"PUFA 22:5 c\",\"text\":\"\",\"type\":\"scatter\",\"x\":[0.5276396808291403,0.7914595212437103,0.9497514254924525,1.0552793616582805,1.1608072978241086,1.2663352339899365,1.3718631701557646,1.4773911063215925,1.5829190424874207,2.110558723316561,4.221117446633122],\"y\":[0.0,0.0,0.0,0.0,0.0,0.0,0.0,0.0,0.0,0.0,0.0]},{\"line\":{\"color\":\"rgba(255, 255, 51, 0.5959595959595958)\",\"dash\":\"solid\",\"shape\":\"linear\",\"width\":1.3},\"mode\":\"lines\",\"name\":\"PUFA 22:5 n-3 (DPA)\",\"text\":\"\",\"type\":\"scatter\",\"x\":[0.5276396808291403,0.7914595212437103,0.9497514254924525,1.0552793616582805,1.1608072978241086,1.2663352339899365,1.3718631701557646,1.4773911063215925,1.5829190424874207,2.110558723316561,4.221117446633122],\"y\":[7.497331842012696e-09,2.3118486157380934e-09,1.6820545920933799e-09,1.7988078609195168e-09,2.56911075403118e-13,1.0615945820916012e-09,1.7839295685708987e-09,1.2380510642488362e-09,1.0358930296907931e-09,7.664276136625325e-12,2.0256552968086636e-11]},{\"line\":{\"color\":\"rgba(128, 128, 0, 0.5959595959595958)\",\"dash\":\"solid\",\"shape\":\"linear\",\"width\":1.3},\"mode\":\"lines\",\"name\":\"PUFA 22:6 c\",\"text\":\"\",\"type\":\"scatter\",\"x\":[0.5276396808291403,0.7914595212437103,0.9497514254924525,1.0552793616582805,1.1608072978241086,1.2663352339899365,1.3718631701557646,1.4773911063215925,1.5829190424874207,2.110558723316561,4.221117446633122],\"y\":[0.0,0.0,0.0,0.0,0.0,0.0,0.0,0.0,0.0,0.0,0.0]},{\"line\":{\"color\":\"rgba(251, 128, 114, 0.5959595959595958)\",\"dash\":\"solid\",\"shape\":\"linear\",\"width\":1.3},\"mode\":\"lines\",\"name\":\"PUFA 22:6 n-3 (DHA)\",\"text\":\"\",\"type\":\"scatter\",\"x\":[0.5276396808291403,0.7914595212437103,0.9497514254924525,1.0552793616582805,1.1608072978241086,1.2663352339899365,1.3718631701557646,1.4773911063215925,1.5829190424874207,2.110558723316561,4.221117446633122],\"y\":[3.421177095926917e-08,1.0049963742474613e-08,7.730700776064348e-09,8.342561377041552e-09,1.211615935951532e-12,4.993005237903836e-09,8.500403688562563e-09,5.88387383366125e-09,5.0232323586974205e-09,3.755607368995325e-11,9.330733510936411e-11]},{\"line\":{\"color\":\"rgba(128, 177, 211, 0.5959595959595958)\",\"dash\":\"solid\",\"shape\":\"linear\",\"width\":1.3},\"mode\":\"lines\",\"name\":\"PUFA 2:4 c\",\"text\":\"\",\"type\":\"scatter\",\"x\":[0.5276396808291403,0.7914595212437103,0.9497514254924525,1.0552793616582805,1.1608072978241086,1.2663352339899365,1.3718631701557646,1.4773911063215925,1.5829190424874207,2.110558723316561,4.221117446633122],\"y\":[0.0,0.0,0.0,0.0,0.0,0.0,0.0,0.0,0.0,0.0,0.0]},{\"line\":{\"color\":\"rgba(128, 177, 211, 0.5555555555555554)\",\"dash\":\"solid\",\"shape\":\"linear\",\"width\":1.3},\"mode\":\"lines\",\"name\":\"PUFA 2:5 c\",\"text\":\"\",\"type\":\"scatter\",\"x\":[0.5276396808291403,0.7914595212437103,0.9497514254924525,1.0552793616582805,1.1608072978241086,1.2663352339899365,1.3718631701557646,1.4773911063215925,1.5829190424874207,2.110558723316561,4.221117446633122],\"y\":[0.0,0.0,0.0,0.0,0.0,0.0,0.0,0.0,0.0,0.0,0.0]},{\"line\":{\"color\":\"rgba(255, 153, 51, 0.5555555555555554)\",\"dash\":\"solid\",\"shape\":\"linear\",\"width\":1.3},\"mode\":\"lines\",\"name\":\"PUFA 2:5 n-3 (EPA)\",\"text\":\"\",\"type\":\"scatter\",\"x\":[0.5276396808291403,0.7914595212437103,0.9497514254924525,1.0552793616582805,1.1608072978241086,1.2663352339899365,1.3718631701557646,1.4773911063215925,1.5829190424874207,2.110558723316561,4.221117446633122],\"y\":[1.932636103797331e-08,5.813099834226608e-09,4.353938432653982e-09,4.67944206890884e-09,6.741662874549146e-13,2.7843778506382513e-09,4.712415857735695e-09,3.2682465013408315e-09,2.763743409398592e-09,2.0573927832483585e-11,5.295324550942711e-11]},{\"line\":{\"color\":\"rgba(55, 128, 191, 0.5555555555555554)\",\"dash\":\"solid\",\"shape\":\"linear\",\"width\":1.3},\"mode\":\"lines\",\"name\":\"Pantothenic acid\",\"text\":\"\",\"type\":\"scatter\",\"x\":[0.5276396808291403,0.7914595212437103,0.9497514254924525,1.0552793616582805,1.1608072978241086,1.2663352339899365,1.3718631701557646,1.4773911063215925,1.5829190424874207,2.110558723316561,4.221117446633122],\"y\":[0.22652459821858156,5.6910483720170086e-08,4.703451643521199e-08,4.984370510961388e-08,6.885573045611036e-12,2.906065478875487e-08,4.8482675179031885e-08,3.8216419924634394e-08,3.6368458230499925e-08,1.7725147796211733e-09,3.4295526620872185e-08]},{\"line\":{\"color\":\"rgba(50, 171, 96, 0.5555555555555554)\",\"dash\":\"solid\",\"shape\":\"linear\",\"width\":1.3},\"mode\":\"lines\",\"name\":\"Phenylalanine\",\"text\":\"\",\"type\":\"scatter\",\"x\":[0.5276396808291403,0.7914595212437103,0.9497514254924525,1.0552793616582805,1.1608072978241086,1.2663352339899365,1.3718631701557646,1.4773911063215925,1.5829190424874207,2.110558723316561,4.221117446633122],\"y\":[1.1960058153974996e-07,2.3177296819407178e-08,1.9036304607371308e-08,2.0314873133264907e-08,2.5221807861826936e-12,1.2112786092508649e-08,2.0277413861727165e-08,2.1902104265794637e-08,2.2849199003127377e-08,2.007007379954857e-09,4.0375255806322824e-08]},{\"line\":{\"color\":\"rgba(128, 0, 128, 0.5555555555555554)\",\"dash\":\"solid\",\"shape\":\"linear\",\"width\":1.3},\"mode\":\"lines\",\"name\":\"Phosphorus, P\",\"text\":\"\",\"type\":\"scatter\",\"x\":[0.5276396808291403,0.7914595212437103,0.9497514254924525,1.0552793616582805,1.1608072978241086,1.2663352339899365,1.3718631701557646,1.4773911063215925,1.5829190424874207,2.110558723316561,4.221117446633122],\"y\":[2650.997064097247,1871.7005454526038,1633.9305649085507,1633.9305512126016,1633.9305352359625,1633.9305399340353,1633.9305408183757,1633.930540290769,1633.9305384070535,1523.0754322063071,1546.9286174071901]},{\"line\":{\"color\":\"rgba(219, 64, 82, 0.5555555555555554)\",\"dash\":\"solid\",\"shape\":\"linear\",\"width\":1.3},\"mode\":\"lines\",\"name\":\"Phytosterols\",\"text\":\"\",\"type\":\"scatter\",\"x\":[0.5276396808291403,0.7914595212437103,0.9497514254924525,1.0552793616582805,1.1608072978241086,1.2663352339899365,1.3718631701557646,1.4773911063215925,1.5829190424874207,2.110558723316561,4.221117446633122],\"y\":[4.872543766770662e-07,1.35917893746084e-07,8.996696254069587e-08,9.550705513864808e-08,1.3615919918491956e-11,5.561548662846572e-08,9.225832408747447e-08,6.529841570413814e-08,5.286773668326651e-08,4.1643449441391906e-10,9.973535793682773e-10]},{\"line\":{\"color\":\"rgba(0, 128, 128, 0.5555555555555554)\",\"dash\":\"solid\",\"shape\":\"linear\",\"width\":1.3},\"mode\":\"lines\",\"name\":\"Potassium, K\",\"text\":\"\",\"type\":\"scatter\",\"x\":[0.5276396808291403,0.7914595212437103,0.9497514254924525,1.0552793616582805,1.1608072978241086,1.2663352339899365,1.3718631701557646,1.4773911063215925,1.5829190424874207,2.110558723316561,4.221117446633122],\"y\":[4700.000090098368,4700.000195420419,4700.000107964529,4700.000143323432,4700.000000043965,4700.000176227436,4700.000464078162,4700.0007766375575,4700.001607805024,4700.000000846653,7168.5768695062825]},{\"line\":{\"color\":\"rgba(255, 255, 51, 0.5555555555555554)\",\"dash\":\"solid\",\"shape\":\"linear\",\"width\":1.3},\"mode\":\"lines\",\"name\":\"Proline\",\"text\":\"\",\"type\":\"scatter\",\"x\":[0.5276396808291403,0.7914595212437103,0.9497514254924525,1.0552793616582805,1.1608072978241086,1.2663352339899365,1.3718631701557646,1.4773911063215925,1.5829190424874207,2.110558723316561,4.221117446633122],\"y\":[2.0568470746974399e-07,3.2857695779609556e-08,2.6504160876259387e-08,2.817021420251931e-08,3.4964843681243226e-12,1.6664673898683705e-08,2.776051659296359e-08,2.996283252398146e-08,3.1411993474922994e-08,2.7945630260303122e-09,5.6373608051017714e-08]},{\"line\":{\"color\":\"rgba(128, 128, 0, 0.5555555555555554)\",\"dash\":\"solid\",\"shape\":\"linear\",\"width\":1.3},\"mode\":\"lines\",\"name\":\"Protein\",\"text\":\"\",\"type\":\"scatter\",\"x\":[0.5276396808291403,0.7914595212437103,0.9497514254924525,1.0552793616582805,1.1608072978241086,1.2663352339899365,1.3718631701557646,1.4773911063215925,1.5829190424874207,2.110558723316561,4.221117446633122],\"y\":[77.04033036200167,56.000009732967975,56.00000097097716,56.000001027361826,56.00000000028007,56.00000060485142,56.00000094314337,56.00000063773751,56.00000054081244,88.18497901469146,88.01705640878167]},{\"line\":{\"color\":\"rgba(251, 128, 114, 0.5555555555555554)\",\"dash\":\"solid\",\"shape\":\"linear\",\"width\":1.3},\"mode\":\"lines\",\"name\":\"Proximates\",\"text\":\"\",\"type\":\"scatter\",\"x\":[0.5276396808291403,0.7914595212437103,0.9497514254924525,1.0552793616582805,1.1608072978241086,1.2663352339899365,1.3718631701557646,1.4773911063215925,1.5829190424874207,2.110558723316561,4.221117446633122],\"y\":[0.0,0.0,0.0,0.0,0.0,0.0,0.0,0.0,0.0,0.0,0.0]},{\"line\":{\"color\":\"rgba(251, 128, 114, 0.5151515151515149)\",\"dash\":\"solid\",\"shape\":\"linear\",\"width\":1.3},\"mode\":\"lines\",\"name\":\"Raffinose\",\"text\":\"\",\"type\":\"scatter\",\"x\":[0.5276396808291403,0.7914595212437103,0.9497514254924525,1.0552793616582805,1.1608072978241086,1.2663352339899365,1.3718631701557646,1.4773911063215925,1.5829190424874207,2.110558723316561,4.221117446633122],\"y\":[0.029943567702694737,0.02974056310237207,0.02952117005549654,0.029521170089830493,0.029521170498825147,0.029521170380555933,0.029521170458797617,0.029521170867963964,0.029521171543464415,0.028067674430809958,0.02957965381646767]},{\"line\":{\"color\":\"rgba(128, 177, 211, 0.5151515151515149)\",\"dash\":\"solid\",\"shape\":\"linear\",\"width\":1.3},\"mode\":\"lines\",\"name\":\"Retinol\",\"text\":\"\",\"type\":\"scatter\",\"x\":[0.5276396808291403,0.7914595212437103,0.9497514254924525,1.0552793616582805,1.1608072978241086,1.2663352339899365,1.3718631701557646,1.4773911063215925,1.5829190424874207,2.110558723316561,4.221117446633122],\"y\":[158.18796731482215,156.4259261908243,155.27198845225885,155.27198857211343,155.2719850244514,155.2719873022821,155.27198947224306,155.27198977604772,155.27199285491577,147.6270571438128,155.5795887389675]},{\"line\":{\"color\":\"rgba(255, 153, 51, 0.5151515151515149)\",\"dash\":\"solid\",\"shape\":\"linear\",\"width\":1.3},\"mode\":\"lines\",\"name\":\"Riboflavin\",\"text\":\"\",\"type\":\"scatter\",\"x\":[0.5276396808291403,0.7914595212437103,0.9497514254924525,1.0552793616582805,1.1608072978241086,1.2663352339899365,1.3718631701557646,1.4773911063215925,1.5829190424874207,2.110558723316561,4.221117446633122],\"y\":[1.6808190825398193,1.6429215234001877,1.7754481651949108,1.7754481597153766,1.7754482662154514,1.775448186902304,1.7754481050920747,1.7754481056548739,1.7754479498054225,4.2182190467882865,3.642981942641954]},{\"line\":{\"color\":\"rgba(55, 128, 191, 0.5151515151515149)\",\"dash\":\"solid\",\"shape\":\"linear\",\"width\":1.3},\"mode\":\"lines\",\"name\":\"SFA 10:0\",\"text\":\"\",\"type\":\"scatter\",\"x\":[0.5276396808291403,0.7914595212437103,0.9497514254924525,1.0552793616582805,1.1608072978241086,1.2663352339899365,1.3718631701557646,1.4773911063215925,1.5829190424874207,2.110558723316561,4.221117446633122],\"y\":[0.004516682564518199,0.005965280683065209,0.006809858710324164,0.0068098588820939355,0.006809843558835802,0.006809851920151796,0.006809857655537038,0.006809854103336201,0.006809855454340927,0.007912761271666865,0.01604521048799988]},{\"line\":{\"color\":\"rgba(50, 171, 96, 0.5151515151515149)\",\"dash\":\"solid\",\"shape\":\"linear\",\"width\":1.3},\"mode\":\"lines\",\"name\":\"SFA 11:0\",\"text\":\"\",\"type\":\"scatter\",\"x\":[0.5276396808291403,0.7914595212437103,0.9497514254924525,1.0552793616582805,1.1608072978241086,1.2663352339899365,1.3718631701557646,1.4773911063215925,1.5829190424874207,2.110558723316561,4.221117446633122],\"y\":[0.0,0.0,0.0,0.0,0.0,0.0,0.0,0.0,0.0,0.0,0.0]},{\"line\":{\"color\":\"rgba(128, 0, 128, 0.5151515151515149)\",\"dash\":\"solid\",\"shape\":\"linear\",\"width\":1.3},\"mode\":\"lines\",\"name\":\"SFA 12:0\",\"text\":\"\",\"type\":\"scatter\",\"x\":[0.5276396808291403,0.7914595212437103,0.9497514254924525,1.0552793616582805,1.1608072978241086,1.2663352339899365,1.3718631701557646,1.4773911063215925,1.5829190424874207,2.110558723316561,4.221117446633122],\"y\":[0.007563038271170311,0.011930541556818487,0.013619700193058826,0.013619700348136062,0.013619687115259339,0.013619694519150561,0.013619700183522808,0.013619698364227733,0.013619702910518781,0.0158255224975731,0.032090420843851414]},{\"line\":{\"color\":\"rgba(219, 64, 82, 0.5151515151515149)\",\"dash\":\"solid\",\"shape\":\"linear\",\"width\":1.3},\"mode\":\"lines\",\"name\":\"SFA 13:0\",\"text\":\"\",\"type\":\"scatter\",\"x\":[0.5276396808291403,0.7914595212437103,0.9497514254924525,1.0552793616582805,1.1608072978241086,1.2663352339899365,1.3718631701557646,1.4773911063215925,1.5829190424874207,2.110558723316561,4.221117446633122],\"y\":[0.0,0.0,0.0,0.0,0.0,0.0,0.0,0.0,0.0,0.0,0.0]},{\"line\":{\"color\":\"rgba(0, 128, 128, 0.5151515151515149)\",\"dash\":\"solid\",\"shape\":\"linear\",\"width\":1.3},\"mode\":\"lines\",\"name\":\"SFA 14:0\",\"text\":\"\",\"type\":\"scatter\",\"x\":[0.5276396808291403,0.7914595212437103,0.9497514254924525,1.0552793616582805,1.1608072978241086,1.2663352339899365,1.3718631701557646,1.4773911063215925,1.5829190424874207,2.110558723316561,4.221117446633122],\"y\":[0.04948250302028885,0.04285425984215239,0.042466490493947,0.042466490189381506,0.042466452880216186,0.04246647210760908,0.04246648406967769,0.04246647322351779,0.04246647185092864,0.03826878085286145,0.04452446993108033]},{\"line\":{\"color\":\"rgba(255, 255, 51, 0.5151515151515149)\",\"dash\":\"solid\",\"shape\":\"linear\",\"width\":1.3},\"mode\":\"lines\",\"name\":\"SFA 15:0\",\"text\":\"\",\"type\":\"scatter\",\"x\":[0.5276396808291403,0.7914595212437103,0.9497514254924525,1.0552793616582805,1.1608072978241086,1.2663352339899365,1.3718631701557646,1.4773911063215925,1.5829190424874207,2.110558723316561,4.221117446633122],\"y\":[0.004752948665570366,0.0047207247241897714,0.004685900322182987,0.004685900351547388,0.004685900079227337,0.004685900261747971,0.0046859004138714595,0.004685900375645943,0.004685900445760181,0.004455186419098242,0.004695183149294539]},{\"line\":{\"color\":\"rgba(128, 128, 0, 0.5151515151515149)\",\"dash\":\"solid\",\"shape\":\"linear\",\"width\":1.3},\"mode\":\"lines\",\"name\":\"SFA 16:0\",\"text\":\"\",\"type\":\"scatter\",\"x\":[0.5276396808291403,0.7914595212437103,0.9497514254924525,1.0552793616582805,1.1608072978241086,1.2663352339899365,1.3718631701557646,1.4773911063215925,1.5829190424874207,2.110558723316561,4.221117446633122],\"y\":[8.78619998915613,6.2619674889811145,5.492796368066524,5.492796321639632,5.492796072206922,5.492796194409875,5.49279627536549,5.492796256053194,5.492796318004744,2.2706835530592926,2.7869082844781357]},{\"line\":{\"color\":\"rgba(128, 128, 0, 0.47474747474747453)\",\"dash\":\"solid\",\"shape\":\"linear\",\"width\":1.3},\"mode\":\"lines\",\"name\":\"SFA 17:0\",\"text\":\"\",\"type\":\"scatter\",\"x\":[0.5276396808291403,0.7914595212437103,0.9497514254924525,1.0552793616582805,1.1608072978241086,1.2663352339899365,1.3718631701557646,1.4773911063215925,1.5829190424874207,2.110558723316561,4.221117446633122],\"y\":[0.003327064530543135,0.003304507454161306,0.003280130321410229,0.003280130348186002,0.0032801300554736045,0.0032801302434489086,0.0032801303896026527,0.0032801303348314187,0.0032801303698594473,0.0031186304938170062,0.0032866282056977906]},{\"line\":{\"color\":\"rgba(251, 128, 114, 0.47474747474747453)\",\"dash\":\"solid\",\"shape\":\"linear\",\"width\":1.3},\"mode\":\"lines\",\"name\":\"SFA 18:0\",\"text\":\"\",\"type\":\"scatter\",\"x\":[0.5276396808291403,0.7914595212437103,0.9497514254924525,1.0552793616582805,1.1608072978241086,1.2663352339899365,1.3718631701557646,1.4773911063215925,1.5829190424874207,2.110558723316561,4.221117446633122],\"y\":[5.100675456134519,3.368700139713602,2.8502645264345547,2.8502644894368943,2.850264392919768,2.850264419226407,2.8502644066688703,2.850264341725975,2.850264230892116,0.8069155202281265,0.660506546667669]},{\"line\":{\"color\":\"rgba(128, 177, 211, 0.47474747474747453)\",\"dash\":\"solid\",\"shape\":\"linear\",\"width\":1.3},\"mode\":\"lines\",\"name\":\"SFA 20:0\",\"text\":\"\",\"type\":\"scatter\",\"x\":[0.5276396808291403,0.7914595212437103,0.9497514254924525,1.0552793616582805,1.1608072978241086,1.2663352339899365,1.3718631701557646,1.4773911063215925,1.5829190424874207,2.110558723316561,4.221117446633122],\"y\":[1.9433126396200947e-09,6.006470593371428e-10,4.008842398367512e-10,4.2851815516957346e-10,6.107487892956345e-14,2.5479879162036237e-10,4.2486549559343953e-10,3.071910525636725e-10,2.477712849272309e-10,1.9504766806353174e-12,5.135100679219917e-12]},{\"line\":{\"color\":\"rgba(255, 153, 51, 0.47474747474747453)\",\"dash\":\"solid\",\"shape\":\"linear\",\"width\":1.3},\"mode\":\"lines\",\"name\":\"SFA 21:0\",\"text\":\"\",\"type\":\"scatter\",\"x\":[0.5276396808291403,0.7914595212437103,0.9497514254924525,1.0552793616582805,1.1608072978241086,1.2663352339899365,1.3718631701557646,1.4773911063215925,1.5829190424874207,2.110558723316561,4.221117446633122],\"y\":[0.0,0.0,0.0,0.0,0.0,0.0,0.0,0.0,0.0,0.0,0.0]},{\"line\":{\"color\":\"rgba(55, 128, 191, 0.47474747474747453)\",\"dash\":\"solid\",\"shape\":\"linear\",\"width\":1.3},\"mode\":\"lines\",\"name\":\"SFA 22:0\",\"text\":\"\",\"type\":\"scatter\",\"x\":[0.5276396808291403,0.7914595212437103,0.9497514254924525,1.0552793616582805,1.1608072978241086,1.2663352339899365,1.3718631701557646,1.4773911063215925,1.5829190424874207,2.110558723316561,4.221117446633122],\"y\":[7.034342938793745e-10,2.1824838391833405e-10,1.4716786589315304e-10,1.5761026195772584e-10,2.2607629526149154e-14,9.362598185211806e-11,1.5674773553488036e-10,1.1173153531288437e-10,9.17553089401691e-11,7.047034826993185e-13,1.789775449031275e-12]},{\"line\":{\"color\":\"rgba(50, 171, 96, 0.47474747474747453)\",\"dash\":\"solid\",\"shape\":\"linear\",\"width\":1.3},\"mode\":\"lines\",\"name\":\"SFA 23:0\",\"text\":\"\",\"type\":\"scatter\",\"x\":[0.5276396808291403,0.7914595212437103,0.9497514254924525,1.0552793616582805,1.1608072978241086,1.2663352339899365,1.3718631701557646,1.4773911063215925,1.5829190424874207,2.110558723316561,4.221117446633122],\"y\":[0.0,0.0,0.0,0.0,0.0,0.0,0.0,0.0,0.0,0.0,0.0]},{\"line\":{\"color\":\"rgba(128, 0, 128, 0.47474747474747453)\",\"dash\":\"solid\",\"shape\":\"linear\",\"width\":1.3},\"mode\":\"lines\",\"name\":\"SFA 24:0\",\"text\":\"\",\"type\":\"scatter\",\"x\":[0.5276396808291403,0.7914595212437103,0.9497514254924525,1.0552793616582805,1.1608072978241086,1.2663352339899365,1.3718631701557646,1.4773911063215925,1.5829190424874207,2.110558723316561,4.221117446633122],\"y\":[3.8091869666336694e-10,1.186413297830522e-10,7.797593317569149e-11,8.366702677877855e-11,1.2075965521417838e-14,4.9856808213898465e-11,8.352735715877598e-11,5.983565250056614e-11,4.9184045513061425e-11,3.787604710550518e-13,9.282152427184623e-13]},{\"line\":{\"color\":\"rgba(219, 64, 82, 0.47474747474747453)\",\"dash\":\"solid\",\"shape\":\"linear\",\"width\":1.3},\"mode\":\"lines\",\"name\":\"SFA 4:0\",\"text\":\"\",\"type\":\"scatter\",\"x\":[0.5276396808291403,0.7914595212437103,0.9497514254924525,1.0552793616582805,1.1608072978241086,1.2663352339899365,1.3718631701557646,1.4773911063215925,1.5829190424874207,2.110558723316561,4.221117446633122],\"y\":[0.01590180687658666,0.013928039725993286,0.013825294384473583,0.013825294187310308,0.0138252795956483,0.013825287011734104,0.013825291537301198,0.013825286959061692,0.013825286028145695,0.013144582032234817,0.013852668428504333]},{\"line\":{\"color\":\"rgba(0, 128, 128, 0.47474747474747453)\",\"dash\":\"solid\",\"shape\":\"linear\",\"width\":1.3},\"mode\":\"lines\",\"name\":\"SFA 5:0\",\"text\":\"\",\"type\":\"scatter\",\"x\":[0.5276396808291403,0.7914595212437103,0.9497514254924525,1.0552793616582805,1.1608072978241086,1.2663352339899365,1.3718631701557646,1.4773911063215925,1.5829190424874207,2.110558723316561,4.221117446633122],\"y\":[0.0,0.0,0.0,0.0,0.0,0.0,0.0,0.0,0.0,0.0,0.0]},{\"line\":{\"color\":\"rgba(255, 255, 51, 0.47474747474747453)\",\"dash\":\"solid\",\"shape\":\"linear\",\"width\":1.3},\"mode\":\"lines\",\"name\":\"SFA 6:0\",\"text\":\"\",\"type\":\"scatter\",\"x\":[0.5276396808291403,0.7914595212437103,0.9497514254924525,1.0552793616582805,1.1608072978241086,1.2663352339899365,1.3718631701557646,1.4773911063215925,1.5829190424874207,2.110558723316561,4.221117446633122],\"y\":[0.0011844042225299454,9.165280813772279e-09,9.380679834668435e-09,9.244229338562548e-09,1.2780239334901748e-12,4.66365307721243e-09,7.466741021243712e-09,4.461279235606397e-09,3.704575560131106e-09,1.5984425785677486e-11,4.681364851592833e-11]},{\"line\":{\"color\":\"rgba(255, 255, 51, 0.4343434343434343)\",\"dash\":\"solid\",\"shape\":\"linear\",\"width\":1.3},\"mode\":\"lines\",\"name\":\"SFA 7:0\",\"text\":\"\",\"type\":\"scatter\",\"x\":[0.5276396808291403,0.7914595212437103,0.9497514254924525,1.0552793616582805,1.1608072978241086,1.2663352339899365,1.3718631701557646,1.4773911063215925,1.5829190424874207,2.110558723316561,4.221117446633122],\"y\":[0.0,0.0,0.0,0.0,0.0,0.0,0.0,0.0,0.0,0.0,0.0]},{\"line\":{\"color\":\"rgba(128, 128, 0, 0.4343434343434343)\",\"dash\":\"solid\",\"shape\":\"linear\",\"width\":1.3},\"mode\":\"lines\",\"name\":\"SFA 8:0\",\"text\":\"\",\"type\":\"scatter\",\"x\":[0.5276396808291403,0.7914595212437103,0.9497514254924525,1.0552793616582805,1.1608072978241086,1.2663352339899365,1.3718631701557646,1.4773911063215925,1.5829190424874207,2.110558723316561,4.221117446633122],\"y\":[0.0006943103524021063,6.54296650822377e-09,6.276750061173064e-09,6.246385141310381e-09,8.646075229474299e-13,3.2243288453094486e-09,5.190414144813438e-09,3.210576651351732e-09,2.6425464795489593e-09,1.2965956146889413e-11,3.761930500095856e-11]},{\"line\":{\"color\":\"rgba(251, 128, 114, 0.4343434343434343)\",\"dash\":\"solid\",\"shape\":\"linear\",\"width\":1.3},\"mode\":\"lines\",\"name\":\"SFA 9:0\",\"text\":\"\",\"type\":\"scatter\",\"x\":[0.5276396808291403,0.7914595212437103,0.9497514254924525,1.0552793616582805,1.1608072978241086,1.2663352339899365,1.3718631701557646,1.4773911063215925,1.5829190424874207,2.110558723316561,4.221117446633122],\"y\":[0.0,0.0,0.0,0.0,0.0,0.0,0.0,0.0,0.0,0.0,0.0]},{\"line\":{\"color\":\"rgba(128, 177, 211, 0.4343434343434343)\",\"dash\":\"solid\",\"shape\":\"linear\",\"width\":1.3},\"mode\":\"lines\",\"name\":\"Selenium, Se\",\"text\":\"\",\"type\":\"scatter\",\"x\":[0.5276396808291403,0.7914595212437103,0.9497514254924525,1.0552793616582805,1.1608072978241086,1.2663352339899365,1.3718631701557646,1.4773911063215925,1.5829190424874207,2.110558723316561,4.221117446633122],\"y\":[98.55490211805044,69.19069374227617,59.9064210591984,59.90642070801721,59.90641756124573,59.90641924655045,59.906420301519915,59.90641954907624,59.90641912358513,22.165927023822952,26.039651575491977]},{\"line\":{\"color\":\"rgba(255, 153, 51, 0.4343434343434343)\",\"dash\":\"solid\",\"shape\":\"linear\",\"width\":1.3},\"mode\":\"lines\",\"name\":\"Serine\",\"text\":\"\",\"type\":\"scatter\",\"x\":[0.5276396808291403,0.7914595212437103,0.9497514254924525,1.0552793616582805,1.1608072978241086,1.2663352339899365,1.3718631701557646,1.4773911063215925,1.5829190424874207,2.110558723316561,4.221117446633122],\"y\":[1.1415353328317822e-07,2.3547282874353323e-08,1.9592548647766955e-08,2.0932981434312028e-08,2.570811737293748e-12,1.2523720747120235e-08,2.0989093503413694e-08,2.324248870305904e-08,2.4401615129809757e-08,2.2024139731762823e-09,4.4368583852661496e-08]},{\"line\":{\"color\":\"rgba(55, 128, 191, 0.4343434343434343)\",\"dash\":\"solid\",\"shape\":\"linear\",\"width\":1.3},\"mode\":\"lines\",\"name\":\"Sodium, Na\",\"text\":\"\",\"type\":\"scatter\",\"x\":[0.5276396808291403,0.7914595212437103,0.9497514254924525,1.0552793616582805,1.1608072978241086,1.2663352339899365,1.3718631701557646,1.4773911063215925,1.5829190424874207,2.110558723316561,4.221117446633122],\"y\":[429.81315958801935,869.7398447804063,906.2449877183785,906.2548562922939,906.1165838766156,906.205073010187,906.2553823722719,906.1172219055949,906.1781762884281,1676.5633012973192,1027.8811150431293]},{\"line\":{\"color\":\"rgba(50, 171, 96, 0.4343434343434343)\",\"dash\":\"solid\",\"shape\":\"linear\",\"width\":1.3},\"mode\":\"lines\",\"name\":\"Stachyose\",\"text\":\"\",\"type\":\"scatter\",\"x\":[0.5276396808291403,0.7914595212437103,0.9497514254924525,1.0552793616582805,1.1608072978241086,1.2663352339899365,1.3718631701557646,1.4773911063215925,1.5829190424874207,2.110558723316561,4.221117446633122],\"y\":[0.028517683526375938,0.028324345811782923,0.02811540005285385,0.02811540008555285,0.028115400475071568,0.028115400362434224,0.028115400436950114,0.028115400826632345,0.02811540146996611,0.026731118505533294,0.02817109887282635]},{\"line\":{\"color\":\"rgba(128, 0, 128, 0.4343434343434343)\",\"dash\":\"solid\",\"shape\":\"linear\",\"width\":1.3},\"mode\":\"lines\",\"name\":\"Starch\",\"text\":\"\",\"type\":\"scatter\",\"x\":[0.5276396808291403,0.7914595212437103,0.9497514254924525,1.0552793616582805,1.1608072978241086,1.2663352339899365,1.3718631701557646,1.4773911063215925,1.5829190424874207,2.110558723316561,4.221117446633122],\"y\":[0.0,0.0,0.0,0.0,0.0,0.0,0.0,0.0,0.0,0.0,0.0]},{\"line\":{\"color\":\"rgba(219, 64, 82, 0.4343434343434343)\",\"dash\":\"solid\",\"shape\":\"linear\",\"width\":1.3},\"mode\":\"lines\",\"name\":\"Stigmasterol\",\"text\":\"\",\"type\":\"scatter\",\"x\":[0.5276396808291403,0.7914595212437103,0.9497514254924525,1.0552793616582805,1.1608072978241086,1.2663352339899365,1.3718631701557646,1.4773911063215925,1.5829190424874207,2.110558723316561,4.221117446633122],\"y\":[1.1424009219749378e-07,3.548917663532821e-08,2.2893179298215405e-08,2.4430046162947264e-08,3.4684467225704913e-12,1.4534878759701893e-08,2.411553718883207e-08,1.771428481679976e-08,1.4039096116163855e-08,1.1305449067616585e-10,3.007201143073379e-10]},{\"line\":{\"color\":\"rgba(0, 128, 128, 0.4343434343434343)\",\"dash\":\"solid\",\"shape\":\"linear\",\"width\":1.3},\"mode\":\"lines\",\"name\":\"Sucrose\",\"text\":\"\",\"type\":\"scatter\",\"x\":[0.5276396808291403,0.7914595212437103,0.9497514254924525,1.0552793616582805,1.1608072978241086,1.2663352339899365,1.3718631701557646,1.4773911063215925,1.5829190424874207,2.110558723316561,4.221117446633122],\"y\":[2.908687429667306e-06,3.0638960714620957e-07,2.0432660787340956e-07,2.1364802986619588e-07,3.069413830034855e-11,1.2061389778316263e-07,1.9698886690181444e-07,1.28698803654883e-07,1.104359322780408e-07,1.0708637831666187e-09,1.2937275984280338e-08]},{\"line\":{\"color\":\"rgba(0, 128, 128, 0.39393939393939387)\",\"dash\":\"solid\",\"shape\":\"linear\",\"width\":1.3},\"mode\":\"lines\",\"name\":\"Sugars, Total NLEA\",\"text\":\"\",\"type\":\"scatter\",\"x\":[0.5276396808291403,0.7914595212437103,0.9497514254924525,1.0552793616582805,1.1608072978241086,1.2663352339899365,1.3718631701557646,1.4773911063215925,1.5829190424874207,2.110558723316561,4.221117446633122],\"y\":[0.48978805534764214,5.875234624497357e-07,4.0621893917695864e-07,4.2382224003375947e-07,6.133596625589273e-11,2.3742353561051983e-07,3.8800289411801445e-07,2.41835249659284e-07,2.086476226544308e-07,9.107857534290334e-10,2.8846065706932533e-09]},{\"line\":{\"color\":\"rgba(255, 255, 51, 0.39393939393939387)\",\"dash\":\"solid\",\"shape\":\"linear\",\"width\":1.3},\"mode\":\"lines\",\"name\":\"Sugars, added\",\"text\":\"\",\"type\":\"scatter\",\"x\":[0.5276396808291403,0.7914595212437103,0.9497514254924525,1.0552793616582805,1.1608072978241086,1.2663352339899365,1.3718631701557646,1.4773911063215925,1.5829190424874207,2.110558723316561,4.221117446633122],\"y\":[0.0,0.0,0.0,0.0,0.0,0.0,0.0,0.0,0.0,0.0,0.0]},{\"line\":{\"color\":\"rgba(128, 128, 0, 0.39393939393939387)\",\"dash\":\"solid\",\"shape\":\"linear\",\"width\":1.3},\"mode\":\"lines\",\"name\":\"Sugars, total including NLEA\",\"text\":\"\",\"type\":\"scatter\",\"x\":[0.5276396808291403,0.7914595212437103,0.9497514254924525,1.0552793616582805,1.1608072978241086,1.2663352339899365,1.3718631701557646,1.4773911063215925,1.5829190424874207,2.110558723316561,4.221117446633122],\"y\":[45.95591894280288,80.94438884616645,93.67827204812768,93.67827363562826,93.67827571000977,93.67827851230386,93.6782877106227,93.67830324076102,93.67833846100305,99.51828264058315,201.75898094699983]},{\"line\":{\"color\":\"rgba(251, 128, 114, 0.39393939393939387)\",\"dash\":\"solid\",\"shape\":\"linear\",\"width\":1.3},\"mode\":\"lines\",\"name\":\"TFA 14:1 t\",\"text\":\"\",\"type\":\"scatter\",\"x\":[0.5276396808291403,0.7914595212437103,0.9497514254924525,1.0552793616582805,1.1608072978241086,1.2663352339899365,1.3718631701557646,1.4773911063215925,1.5829190424874207,2.110558723316561,4.221117446633122],\"y\":[0.0,0.0,0.0,0.0,0.0,0.0,0.0,0.0,0.0,0.0,0.0]},{\"line\":{\"color\":\"rgba(128, 177, 211, 0.39393939393939387)\",\"dash\":\"solid\",\"shape\":\"linear\",\"width\":1.3},\"mode\":\"lines\",\"name\":\"TFA 16:1 t\",\"text\":\"\",\"type\":\"scatter\",\"x\":[0.5276396808291403,0.7914595212437103,0.9497514254924525,1.0552793616582805,1.1608072978241086,1.2663352339899365,1.3718631701557646,1.4773911063215925,1.5829190424874207,2.110558723316561,4.221117446633122],\"y\":[2.456903742498323e-10,6.86672577549245e-11,5.46467975832324e-11,5.948613954895068e-11,8.774380475642792e-15,3.6131628123388915e-11,6.214996700943975e-11,4.33174998911969e-11,3.734234175580268e-11,2.860569020074093e-13,6.674539094944273e-13]},{\"line\":{\"color\":\"rgba(255, 153, 51, 0.39393939393939387)\",\"dash\":\"solid\",\"shape\":\"linear\",\"width\":1.3},\"mode\":\"lines\",\"name\":\"TFA 18:1 t\",\"text\":\"\",\"type\":\"scatter\",\"x\":[0.5276396808291403,0.7914595212437103,0.9497514254924525,1.0552793616582805,1.1608072978241086,1.2663352339899365,1.3718631701557646,1.4773911063215925,1.5829190424874207,2.110558723316561,4.221117446633122],\"y\":[6.212734731899113e-10,1.8300411891433453e-10,1.3150337323339598e-10,1.4185128533870525e-10,2.0565703706282543e-14,8.534883358554098e-11,1.4446940587812003e-10,1.0307371146028917e-10,8.561137645039272e-11,6.705198936039777e-13,1.660181066078499e-12]},{\"line\":{\"color\":\"rgba(55, 128, 191, 0.39393939393939387)\",\"dash\":\"solid\",\"shape\":\"linear\",\"width\":1.3},\"mode\":\"lines\",\"name\":\"TFA 18:2 t\",\"text\":\"\",\"type\":\"scatter\",\"x\":[0.5276396808291403,0.7914595212437103,0.9497514254924525,1.0552793616582805,1.1608072978241086,1.2663352339899365,1.3718631701557646,1.4773911063215925,1.5829190424874207,2.110558723316561,4.221117446633122],\"y\":[0.000475294725439599,0.0004720724301963821,0.00046859000088089747,0.00046859000142588085,0.0004685900079178595,0.0004685900060405704,0.00046859000728250187,0.0004685900137772058,0.00046859002449943515,0.0004455186417588882,0.00046951831454710585]},{\"line\":{\"color\":\"rgba(50, 171, 96, 0.39393939393939387)\",\"dash\":\"solid\",\"shape\":\"linear\",\"width\":1.3},\"mode\":\"lines\",\"name\":\"TFA 18:2 t not further defined\",\"text\":\"\",\"type\":\"scatter\",\"x\":[0.5276396808291403,0.7914595212437103,0.9497514254924525,1.0552793616582805,1.1608072978241086,1.2663352339899365,1.3718631701557646,1.4773911063215925,1.5829190424874207,2.110558723316561,4.221117446633122],\"y\":[0.0004752950891621406,0.0004720725334036933,0.00046859008070883465,0.00046859008811232664,0.00046859000793058816,0.0004685900585658672,0.0004685900972485995,0.00046859007687807683,0.0004685900783612748,0.0004455186421738078,0.000469518315531922]},{\"line\":{\"color\":\"rgba(128, 0, 128, 0.39393939393939387)\",\"dash\":\"solid\",\"shape\":\"linear\",\"width\":1.3},\"mode\":\"lines\",\"name\":\"TFA 18:3 t\",\"text\":\"\",\"type\":\"scatter\",\"x\":[0.5276396808291403,0.7914595212437103,0.9497514254924525,1.0552793616582805,1.1608072978241086,1.2663352339899365,1.3718631701557646,1.4773911063215925,1.5829190424874207,2.110558723316561,4.221117446633122],\"y\":[0.0,0.0,0.0,0.0,0.0,0.0,0.0,0.0,0.0,0.0,0.0]},{\"line\":{\"color\":\"rgba(219, 64, 82, 0.39393939393939387)\",\"dash\":\"solid\",\"shape\":\"linear\",\"width\":1.3},\"mode\":\"lines\",\"name\":\"TFA 20:1 t\",\"text\":\"\",\"type\":\"scatter\",\"x\":[0.5276396808291403,0.7914595212437103,0.9497514254924525,1.0552793616582805,1.1608072978241086,1.2663352339899365,1.3718631701557646,1.4773911063215925,1.5829190424874207,2.110558723316561,4.221117446633122],\"y\":[0.0,0.0,0.0,0.0,0.0,0.0,0.0,0.0,0.0,0.0,0.0]},{\"line\":{\"color\":\"rgba(219, 64, 82, 0.3535353535353534)\",\"dash\":\"solid\",\"shape\":\"linear\",\"width\":1.3},\"mode\":\"lines\",\"name\":\"TFA 22:1 t\",\"text\":\"\",\"type\":\"scatter\",\"x\":[0.5276396808291403,0.7914595212437103,0.9497514254924525,1.0552793616582805,1.1608072978241086,1.2663352339899365,1.3718631701557646,1.4773911063215925,1.5829190424874207,2.110558723316561,4.221117446633122],\"y\":[2.7028857841587784e-11,7.333057277895186e-12,6.180479580985711e-12,6.759740171446753e-12,1.0059707282733155e-15,4.127068276749046e-12,7.155714883769967e-12,4.931685819416012e-12,4.328802010142555e-12,3.277606575590914e-14,7.44794836206759e-14]},{\"line\":{\"color\":\"rgba(0, 128, 128, 0.3535353535353534)\",\"dash\":\"solid\",\"shape\":\"linear\",\"width\":1.3},\"mode\":\"lines\",\"name\":\"Theobromine\",\"text\":\"\",\"type\":\"scatter\",\"x\":[0.5276396808291403,0.7914595212437103,0.9497514254924525,1.0552793616582805,1.1608072978241086,1.2663352339899365,1.3718631701557646,1.4773911063215925,1.5829190424874207,2.110558723316561,4.221117446633122],\"y\":[2.2528146181345776e-06,6.998465632486723e-07,4.5145349576080775e-07,4.817605103333201e-07,6.839776936909009e-11,2.866278091413213e-07,4.755583933637684e-07,3.4932569658729127e-07,2.7685097541075125e-07,2.2294345561339905e-09,5.930200654140703e-09]},{\"line\":{\"color\":\"rgba(255, 255, 51, 0.3535353535353534)\",\"dash\":\"solid\",\"shape\":\"linear\",\"width\":1.3},\"mode\":\"lines\",\"name\":\"Thiamin\",\"text\":\"\",\"type\":\"scatter\",\"x\":[0.5276396808291403,0.7914595212437103,0.9497514254924525,1.0552793616582805,1.1608072978241086,1.2663352339899365,1.3718631701557646,1.4773911063215925,1.5829190424874207,2.110558723316561,4.221117446633122],\"y\":[6.387918046644281,4.296962211226899,3.67677695366768,3.6767769124427945,3.676776905076542,3.6767768881963985,3.6767768572910926,3.6767768341679172,3.6767767716089312,1.2000000003787301,1.2000000000277975]},{\"line\":{\"color\":\"rgba(128, 128, 0, 0.3535353535353534)\",\"dash\":\"solid\",\"shape\":\"linear\",\"width\":1.3},\"mode\":\"lines\",\"name\":\"Threonine\",\"text\":\"\",\"type\":\"scatter\",\"x\":[0.5276396808291403,0.7914595212437103,0.9497514254924525,1.0552793616582805,1.1608072978241086,1.2663352339899365,1.3718631701557646,1.4773911063215925,1.5829190424874207,2.110558723316561,4.221117446633122],\"y\":[9.848491004398429e-08,2.266965707718934e-08,1.8536397509046693e-08,1.987294047878975e-08,2.563113718664893e-12,1.1900847673914654e-08,2.005067194488197e-08,1.996955804956815e-08,2.0247530177147904e-08,1.5628465535068026e-09,3.104730175173885e-08]},{\"line\":{\"color\":\"rgba(251, 128, 114, 0.3535353535353534)\",\"dash\":\"solid\",\"shape\":\"linear\",\"width\":1.3},\"mode\":\"lines\",\"name\":\"Tocopherol, beta\",\"text\":\"\",\"type\":\"scatter\",\"x\":[0.5276396808291403,0.7914595212437103,0.9497514254924525,1.0552793616582805,1.1608072978241086,1.2663352339899365,1.3718631701557646,1.4773911063215925,1.5829190424874207,2.110558723316561,4.221117446633122],\"y\":[2.410934275213939e-09,6.971976597923302e-10,4.2339210198680214e-10,4.4248608583164333e-10,6.17977854334424e-14,2.516880966549746e-10,4.077876805871387e-10,2.8546135377441085e-10,2.2784471128379556e-10,1.2179612604072723e-12,3.052978215083989e-12]},{\"line\":{\"color\":\"rgba(128, 177, 211, 0.3535353535353534)\",\"dash\":\"solid\",\"shape\":\"linear\",\"width\":1.3},\"mode\":\"lines\",\"name\":\"Tocopherol, delta\",\"text\":\"\",\"type\":\"scatter\",\"x\":[0.5276396808291403,0.7914595212437103,0.9497514254924525,1.0552793616582805,1.1608072978241086,1.2663352339899365,1.3718631701557646,1.4773911063215925,1.5829190424874207,2.110558723316561,4.221117446633122],\"y\":[2.7226963582616547e-09,8.441232808152773e-10,5.45497731260411e-10,5.789355624432829e-10,8.165581272193672e-14,3.4002989772993555e-10,5.61610249280365e-10,4.046009418889839e-10,3.230418132616442e-10,2.4229310992939402e-12,6.525662088513226e-12]},{\"line\":{\"color\":\"rgba(255, 153, 51, 0.3535353535353534)\",\"dash\":\"solid\",\"shape\":\"linear\",\"width\":1.3},\"mode\":\"lines\",\"name\":\"Tocopherol, gamma\",\"text\":\"\",\"type\":\"scatter\",\"x\":[0.5276396808291403,0.7914595212437103,0.9497514254924525,1.0552793616582805,1.1608072978241086,1.2663352339899365,1.3718631701557646,1.4773911063215925,1.5829190424874207,2.110558723316561,4.221117446633122],\"y\":[0.1901247191898913,0.10370489667974284,0.10293987057889732,0.10293987192695321,0.10293985294233476,0.10293986450525311,0.10293987281236651,0.10293986786511561,0.10293986790547009,0.09787153529764231,0.10314378356958606]},{\"line\":{\"color\":\"rgba(55, 128, 191, 0.3535353535353534)\",\"dash\":\"solid\",\"shape\":\"linear\",\"width\":1.3},\"mode\":\"lines\",\"name\":\"Tocotrienol, alpha\",\"text\":\"\",\"type\":\"scatter\",\"x\":[0.5276396808291403,0.7914595212437103,0.9497514254924525,1.0552793616582805,1.1608072978241086,1.2663352339899365,1.3718631701557646,1.4773911063215925,1.5829190424874207,2.110558723316561,4.221117446633122],\"y\":[6.036538304807377e-09,1.7390760950641698e-09,1.1506893534499469e-09,1.2212749823178611e-09,1.734415708893038e-13,7.119989821305513e-10,1.1807109974711437e-09,8.354026472826824e-10,6.767336197451346e-10,5.291805802747601e-12,1.306303914365777e-11]},{\"line\":{\"color\":\"rgba(50, 171, 96, 0.3535353535353534)\",\"dash\":\"solid\",\"shape\":\"linear\",\"width\":1.3},\"mode\":\"lines\",\"name\":\"Tocotrienol, beta\",\"text\":\"\",\"type\":\"scatter\",\"x\":[0.5276396808291403,0.7914595212437103,0.9497514254924525,1.0552793616582805,1.1608072978241086,1.2663352339899365,1.3718631701557646,1.4773911063215925,1.5829190424874207,2.110558723316561,4.221117446633122],\"y\":[0.0,0.0,0.0,0.0,0.0,0.0,0.0,0.0,0.0,0.0,0.0]},{\"line\":{\"color\":\"rgba(128, 0, 128, 0.3535353535353534)\",\"dash\":\"solid\",\"shape\":\"linear\",\"width\":1.3},\"mode\":\"lines\",\"name\":\"Tocotrienol, delta\",\"text\":\"\",\"type\":\"scatter\",\"x\":[0.5276396808291403,0.7914595212437103,0.9497514254924525,1.0552793616582805,1.1608072978241086,1.2663352339899365,1.3718631701557646,1.4773911063215925,1.5829190424874207,2.110558723316561,4.221117446633122],\"y\":[0.0,0.0,0.0,0.0,0.0,0.0,0.0,0.0,0.0,0.0,0.0]},{\"line\":{\"color\":\"rgba(128, 0, 128, 0.313131313131313)\",\"dash\":\"solid\",\"shape\":\"linear\",\"width\":1.3},\"mode\":\"lines\",\"name\":\"Tocotrienol, gamma\",\"text\":\"\",\"type\":\"scatter\",\"x\":[0.5276396808291403,0.7914595212437103,0.9497514254924525,1.0552793616582805,1.1608072978241086,1.2663352339899365,1.3718631701557646,1.4773911063215925,1.5829190424874207,2.110558723316561,4.221117446633122],\"y\":[3.655682950319801e-10,1.1356536523305027e-10,7.32581737542893e-11,7.817614772143126e-11,1.1099029512225573e-14,4.6511612031046056e-11,7.716971900426263e-11,5.668571141375923e-11,4.492510757172434e-11,3.617743701637307e-13,9.623043657834813e-13]},{\"line\":{\"color\":\"rgba(219, 64, 82, 0.313131313131313)\",\"dash\":\"solid\",\"shape\":\"linear\",\"width\":1.3},\"mode\":\"lines\",\"name\":\"Total fat (NLEA)\",\"text\":\"\",\"type\":\"scatter\",\"x\":[0.5276396808291403,0.7914595212437103,0.9497514254924525,1.0552793616582805,1.1608072978241086,1.2663352339899365,1.3718631701557646,1.4773911063215925,1.5829190424874207,2.110558723316561,4.221117446633122],\"y\":[4.21643456831977,4.187848942758144,4.156955615814618,4.156955620649274,4.156955678240915,4.156955661587108,4.156955672604531,4.156955730220348,4.156955825339389,3.952284974771449,4.165190872010285]},{\"line\":{\"color\":\"rgba(0, 128, 128, 0.313131313131313)\",\"dash\":\"solid\",\"shape\":\"linear\",\"width\":1.3},\"mode\":\"lines\",\"name\":\"Total lipid (fat)\",\"text\":\"\",\"type\":\"scatter\",\"x\":[0.5276396808291403,0.7914595212437103,0.9497514254924525,1.0552793616582805,1.1608072978241086,1.2663352339899365,1.3718631701557646,1.4773911063215925,1.5829190424874207,2.110558723316561,4.221117446633122],\"y\":[165.35412723760737,166.55115382640508,156.49232738793927,156.49232581892855,156.4923317681062,156.49232551372887,156.49231702771436,156.49230763625667,156.4922834007542,153.05618606790955,79.56075532332714]},{\"line\":{\"color\":\"rgba(255, 255, 51, 0.313131313131313)\",\"dash\":\"solid\",\"shape\":\"linear\",\"width\":1.3},\"mode\":\"lines\",\"name\":\"Tryptophan\",\"text\":\"\",\"type\":\"scatter\",\"x\":[0.5276396808291403,0.7914595212437103,0.9497514254924525,1.0552793616582805,1.1608072978241086,1.2663352339899365,1.3718631701557646,1.4773911063215925,1.5829190424874207,2.110558723316561,4.221117446633122],\"y\":[2.7945330601911498e-08,5.7283516840590266e-09,4.7791480407686075e-09,5.1057246251315795e-09,6.254156695052433e-13,3.0549581889037735e-09,5.119609983085267e-09,5.699057375722631e-09,5.994337668385229e-09,5.446036450030598e-10,1.0976957987992561e-08]},{\"line\":{\"color\":\"rgba(128, 128, 0, 0.313131313131313)\",\"dash\":\"solid\",\"shape\":\"linear\",\"width\":1.3},\"mode\":\"lines\",\"name\":\"Tyrosine\",\"text\":\"\",\"type\":\"scatter\",\"x\":[0.5276396808291403,0.7914595212437103,0.9497514254924525,1.0552793616582805,1.1608072978241086,1.2663352339899365,1.3718631701557646,1.4773911063215925,1.5829190424874207,2.110558723316561,4.221117446633122],\"y\":[7.868158640416379e-08,1.8018772582689976e-08,1.4785244121582274e-08,1.583332090593138e-08,2.005950961941144e-12,9.480207352979202e-09,1.5939690816729807e-08,1.6531945287796065e-08,1.6975336506234945e-08,1.3982739330627842e-09,2.7933978968158325e-08]},{\"line\":{\"color\":\"rgba(251, 128, 114, 0.313131313131313)\",\"dash\":\"solid\",\"shape\":\"linear\",\"width\":1.3},\"mode\":\"lines\",\"name\":\"Valine\",\"text\":\"\",\"type\":\"scatter\",\"x\":[0.5276396808291403,0.7914595212437103,0.9497514254924525,1.0552793616582805,1.1608072978241086,1.2663352339899365,1.3718631701557646,1.4773911063215925,1.5829190424874207,2.110558723316561,4.221117446633122],\"y\":[1.1940329733655908e-07,2.7248083636512706e-08,2.204118975726694e-08,2.359962825890474e-08,3.026086261753066e-12,1.4111124537384255e-08,2.372351623056767e-08,2.3897146321911992e-08,2.427974690264901e-08,1.910902223009751e-09,3.802894315193253e-08]},{\"line\":{\"color\":\"rgba(128, 177, 211, 0.313131313131313)\",\"dash\":\"solid\",\"shape\":\"linear\",\"width\":1.3},\"mode\":\"lines\",\"name\":\"Verbascose\",\"text\":\"\",\"type\":\"scatter\",\"x\":[0.5276396808291403,0.7914595212437103,0.9497514254924525,1.0552793616582805,1.1608072978241086,1.2663352339899365,1.3718631701557646,1.4773911063215925,1.5829190424874207,2.110558723316561,4.221117446633122],\"y\":[0.0,0.0,0.0,0.0,0.0,0.0,0.0,0.0,0.0,0.0,0.0]},{\"line\":{\"color\":\"rgba(255, 153, 51, 0.313131313131313)\",\"dash\":\"solid\",\"shape\":\"linear\",\"width\":1.3},\"mode\":\"lines\",\"name\":\"Vitamin A, IU\",\"text\":\"\",\"type\":\"scatter\",\"x\":[0.5276396808291403,0.7914595212437103,0.9497514254924525,1.0552793616582805,1.1608072978241086,1.2663352339899365,1.3718631701557646,1.4773911063215925,1.5829190424874207,2.110558723316561,4.221117446633122],\"y\":[0.00018662181413020337,5.379633000319379e-05,3.5386743700823496e-05,3.7958692984089205e-05,5.500939678832042e-09,2.3280764106718142e-05,3.947839586118557e-05,2.97487209408697e-05,2.6408050004372505e-05,2121.5716642127304,1981.337066891853]},{\"line\":{\"color\":\"rgba(55, 128, 191, 0.313131313131313)\",\"dash\":\"solid\",\"shape\":\"linear\",\"width\":1.3},\"mode\":\"lines\",\"name\":\"Vitamin A, RAE\",\"text\":\"\",\"type\":\"scatter\",\"x\":[0.5276396808291403,0.7914595212437103,0.9497514254924525,1.0552793616582805,1.1608072978241086,1.2663352339899365,1.3718631701557646,1.4773911063215925,1.5829190424874207,2.110558723316561,4.221117446633122],\"y\":[900.0001420880698,900.0000439701487,900.0000265553389,900.0000285719409,900.0000000040858,900.0000176168365,900.000029165485,900.0000204119094,900.0000165551899,900.0000001284668,900.0000009660944]},{\"line\":{\"color\":\"rgba(50, 171, 96, 0.313131313131313)\",\"dash\":\"solid\",\"shape\":\"linear\",\"width\":1.3},\"mode\":\"lines\",\"name\":\"Vitamin B-12\",\"text\":\"\",\"type\":\"scatter\",\"x\":[0.5276396808291403,0.7914595212437103,0.9497514254924525,1.0552793616582805,1.1608072978241086,1.2663352339899365,1.3718631701557646,1.4773911063215925,1.5829190424874207,2.110558723316561,4.221117446633122],\"y\":[2.4000013468616834,2.6203340072624153,2.9114961217833084,2.9114960954083506,2.911496426320304,2.911496160124122,2.9114958528416506,2.911495745176024,2.911495065223321,8.386807975173111,6.055216328051653]},{\"line\":{\"color\":\"rgba(50, 171, 96, 0.27272727272727254)\",\"dash\":\"solid\",\"shape\":\"linear\",\"width\":1.3},\"mode\":\"lines\",\"name\":\"Vitamin B-12, added\",\"text\":\"\",\"type\":\"scatter\",\"x\":[0.5276396808291403,0.7914595212437103,0.9497514254924525,1.0552793616582805,1.1608072978241086,1.2663352339899365,1.3718631701557646,1.4773911063215925,1.5829190424874207,2.110558723316561,4.221117446633122],\"y\":[0.0,0.0,0.0,0.0,0.0,0.0,0.0,0.0,0.0,0.0,0.0]},{\"line\":{\"color\":\"rgba(128, 0, 128, 0.27272727272727254)\",\"dash\":\"solid\",\"shape\":\"linear\",\"width\":1.3},\"mode\":\"lines\",\"name\":\"Vitamin B-6\",\"text\":\"\",\"type\":\"scatter\",\"x\":[0.5276396808291403,0.7914595212437103,0.9497514254924525,1.0552793616582805,1.1608072978241086,1.2663352339899365,1.3718631701557646,1.4773911063215925,1.5829190424874207,2.110558723316561,4.221117446633122],\"y\":[3.6061486436009456,4.186074438696582,4.449188850846549,4.449188876058859,4.449188918047129,4.44918895445581,4.449189096070192,4.449189410129853,4.449189999413008,5.8478394282874495,7.58489717260288]},{\"line\":{\"color\":\"rgba(219, 64, 82, 0.27272727272727254)\",\"dash\":\"solid\",\"shape\":\"linear\",\"width\":1.3},\"mode\":\"lines\",\"name\":\"Vitamin C, total ascorbic acid\",\"text\":\"\",\"type\":\"scatter\",\"x\":[0.5276396808291403,0.7914595212437103,0.9497514254924525,1.0552793616582805,1.1608072978241086,1.2663352339899365,1.3718631701557646,1.4773911063215925,1.5829190424874207,2.110558723316561,4.221117446633122],\"y\":[90.00000497683922,90.00000224864769,90.00000145642201,90.00000156947075,90.00000000008745,90.00000094872847,90.0000015855057,90.00000114161057,90.00000094442481,98.6136199201179,153.62761674498]},{\"line\":{\"color\":\"rgba(0, 128, 128, 0.27272727272727254)\",\"dash\":\"solid\",\"shape\":\"linear\",\"width\":1.3},\"mode\":\"lines\",\"name\":\"Vitamin D (D2 + D3)\",\"text\":\"\",\"type\":\"scatter\",\"x\":[0.5276396808291403,0.7914595212437103,0.9497514254924525,1.0552793616582805,1.1608072978241086,1.2663352339899365,1.3718631701557646,1.4773911063215925,1.5829190424874207,2.110558723316561,4.221117446633122],\"y\":[3.5247863060115674,3.5008893212492724,3.475063585953778,3.4750636014603122,3.47506349874092,3.475063575416191,3.475063648871906,3.47506364911916,3.4750637136271556,3.3039662479772516,3.4819478223611515]},{\"line\":{\"color\":\"rgba(255, 255, 51, 0.27272727272727254)\",\"dash\":\"solid\",\"shape\":\"linear\",\"width\":1.3},\"mode\":\"lines\",\"name\":\"Vitamin D (D2 + D3), International Units\",\"text\":\"\",\"type\":\"scatter\",\"x\":[0.5276396808291403,0.7914595212437103,0.9497514254924525,1.0552793616582805,1.1608072978241086,1.2663352339899365,1.3718631701557646,1.4773911063215925,1.5829190424874207,2.110558723316561,4.221117446633122],\"y\":[141.06750457049918,140.11110587882422,139.07751921806693,139.07752007474028,139.07751435116336,139.0775186557544,139.07752268794505,139.07752242181328,139.07752509830863,556.5442657269037,535.6204491598509]},{\"line\":{\"color\":\"rgba(128, 128, 0, 0.27272727272727254)\",\"dash\":\"solid\",\"shape\":\"linear\",\"width\":1.3},\"mode\":\"lines\",\"name\":\"Vitamin D2 (ergocalciferol)\",\"text\":\"\",\"type\":\"scatter\",\"x\":[0.5276396808291403,0.7914595212437103,0.9497514254924525,1.0552793616582805,1.1608072978241086,1.2663352339899365,1.3718631701557646,1.4773911063215925,1.5829190424874207,2.110558723316561,4.221117446633122],\"y\":[3.523264744119541,3.499378511588612,3.4735639591930805,3.4735639632754483,3.4735640106936088,3.4735639971932293,3.4735640066748426,3.473564054621966,3.4735641340099392,3.302540587633497,3.48044536208262]},{\"line\":{\"color\":\"rgba(251, 128, 114, 0.27272727272727254)\",\"dash\":\"solid\",\"shape\":\"linear\",\"width\":1.3},\"mode\":\"lines\",\"name\":\"Vitamin D3 (cholecalciferol)\",\"text\":\"\",\"type\":\"scatter\",\"x\":[0.5276396808291403,0.7914595212437103,0.9497514254924525,1.0552793616582805,1.1608072978241086,1.2663352339899365,1.3718631701557646,1.4773911063215925,1.5829190424874207,2.110558723316561,4.221117446633122],\"y\":[4.900039322384595e-07,1.358812459770256e-07,1.1023423735140473e-07,1.2003012461511903e-07,1.7771951493141425e-11,7.270660982886041e-08,1.252983265096495e-07,8.627165080126866e-08,7.517062926994602e-08,5.709573000131869e-10,1.3206481757106164e-09]},{\"line\":{\"color\":\"rgba(128, 177, 211, 0.27272727272727254)\",\"dash\":\"solid\",\"shape\":\"linear\",\"width\":1.3},\"mode\":\"lines\",\"name\":\"Vitamin E\",\"text\":\"\",\"type\":\"scatter\",\"x\":[0.5276396808291403,0.7914595212437103,0.9497514254924525,1.0552793616582805,1.1608072978241086,1.2663352339899365,1.3718631701557646,1.4773911063215925,1.5829190424874207,2.110558723316561,4.221117446633122],\"y\":[2.6999662899753255e-07,6.925790189272144e-08,5.551057249250729e-08,5.8474683426840814e-08,8.283155812695283e-12,3.30386846348688e-08,5.4974396183254116e-08,3.6626092213635185e-08,3.0602533378322593e-08,2.0917213301919894e-10,4.696392831112967e-10]},{\"line\":{\"color\":\"rgba(255, 153, 51, 0.27272727272727254)\",\"dash\":\"solid\",\"shape\":\"linear\",\"width\":1.3},\"mode\":\"lines\",\"name\":\"Vitamin E (alpha-tocopherol)\",\"text\":\"\",\"type\":\"scatter\",\"x\":[0.5276396808291403,0.7914595212437103,0.9497514254924525,1.0552793616582805,1.1608072978241086,1.2663352339899365,1.3718631701557646,1.4773911063215925,1.5829190424874207,2.110558723316561,4.221117446633122],\"y\":[15.000000451451676,15.000000132628099,15.000000091447085,15.00000009939582,15.000000000022327,15.000000060032967,15.000000100322026,15.000000078652159,15.00000006118001,15.000000000133479,15.000000001030102]},{\"line\":{\"color\":\"rgba(55, 128, 191, 0.27272727272727254)\",\"dash\":\"solid\",\"shape\":\"linear\",\"width\":1.3},\"mode\":\"lines\",\"name\":\"Vitamin E, added\",\"text\":\"\",\"type\":\"scatter\",\"x\":[0.5276396808291403,0.7914595212437103,0.9497514254924525,1.0552793616582805,1.1608072978241086,1.2663352339899365,1.3718631701557646,1.4773911063215925,1.5829190424874207,2.110558723316561,4.221117446633122],\"y\":[0.0,0.0,0.0,0.0,0.0,0.0,0.0,0.0,0.0,0.0,0.0]},{\"line\":{\"color\":\"rgba(55, 128, 191, 0.2323232323232321)\",\"dash\":\"solid\",\"shape\":\"linear\",\"width\":1.3},\"mode\":\"lines\",\"name\":\"Vitamin K (Dihydrophylloquinone)\",\"text\":\"\",\"type\":\"scatter\",\"x\":[0.5276396808291403,0.7914595212437103,0.9497514254924525,1.0552793616582805,1.1608072978241086,1.2663352339899365,1.3718631701557646,1.4773911063215925,1.5829190424874207,2.110558723316561,4.221117446633122],\"y\":[1.6904406302576892e-08,5.144356576318543e-09,3.3158190301526374e-09,3.5283923905956893e-09,4.996396378110021e-13,2.0784459473126245e-09,3.455563707224859e-09,2.4714767593865466e-09,2.002631248884331e-09,1.6051649344846635e-11,3.916920551577888e-11]},{\"line\":{\"color\":\"rgba(50, 171, 96, 0.2323232323232321)\",\"dash\":\"solid\",\"shape\":\"linear\",\"width\":1.3},\"mode\":\"lines\",\"name\":\"Vitamin K (Menaquinone-4)\",\"text\":\"\",\"type\":\"scatter\",\"x\":[0.5276396808291403,0.7914595212437103,0.9497514254924525,1.0552793616582805,1.1608072978241086,1.2663352339899365,1.3718631701557646,1.4773911063215925,1.5829190424874207,2.110558723316561,4.221117446633122],\"y\":[1.3971389289583867e-08,3.808485345488905e-09,3.1818125076857174e-09,3.4775902703751656e-09,5.168591510269397e-13,2.1216736534133307e-09,3.6743195906403116e-09,2.5367000489752053e-09,2.2205573895359333e-09,1.6840250840659232e-11,3.84426222675673e-11]},{\"line\":{\"color\":\"rgba(128, 0, 128, 0.2323232323232321)\",\"dash\":\"solid\",\"shape\":\"linear\",\"width\":1.3},\"mode\":\"lines\",\"name\":\"Vitamin K (phylloquinone)\",\"text\":\"\",\"type\":\"scatter\",\"x\":[0.5276396808291403,0.7914595212437103,0.9497514254924525,1.0552793616582805,1.1608072978241086,1.2663352339899365,1.3718631701557646,1.4773911063215925,1.5829190424874207,2.110558723316561,4.221117446633122],\"y\":[265.44242807554406,139.0492866041716,190.15170419313145,190.15170591474188,190.1516899709842,190.1516913490781,190.1516780414975,190.15161962158433,190.15152899414298,484.08712238443263,120.00000002080131]},{\"line\":{\"color\":\"rgba(219, 64, 82, 0.2323232323232321)\",\"dash\":\"solid\",\"shape\":\"linear\",\"width\":1.3},\"mode\":\"lines\",\"name\":\"Vitamins and Other Components\",\"text\":\"\",\"type\":\"scatter\",\"x\":[0.5276396808291403,0.7914595212437103,0.9497514254924525,1.0552793616582805,1.1608072978241086,1.2663352339899365,1.3718631701557646,1.4773911063215925,1.5829190424874207,2.110558723316561,4.221117446633122],\"y\":[0.0,0.0,0.0,0.0,0.0,0.0,0.0,0.0,0.0,0.0,0.0]},{\"line\":{\"color\":\"rgba(0, 128, 128, 0.2323232323232321)\",\"dash\":\"solid\",\"shape\":\"linear\",\"width\":1.3},\"mode\":\"lines\",\"name\":\"Water\",\"text\":\"\",\"type\":\"scatter\",\"x\":[0.5276396808291403,0.7914595212437103,0.9497514254924525,1.0552793616582805,1.1608072978241086,1.2663352339899365,1.3718631701557646,1.4773911063215925,1.5829190424874207,2.110558723316561,4.221117446633122],\"y\":[738.3022977479221,942.0619346862313,994.3262625553219,994.3262761660131,994.326238152319,994.3262869718365,994.3263664811876,994.3264387876742,994.3266550430541,1061.5798957493735,1684.791370777608]},{\"line\":{\"color\":\"rgba(255, 255, 51, 0.2323232323232321)\",\"dash\":\"solid\",\"shape\":\"linear\",\"width\":1.3},\"mode\":\"lines\",\"name\":\"Zeaxanthin\",\"text\":\"\",\"type\":\"scatter\",\"x\":[0.5276396808291403,0.7914595212437103,0.9497514254924525,1.0552793616582805,1.1608072978241086,1.2663352339899365,1.3718631701557646,1.4773911063215925,1.5829190424874207,2.110558723316561,4.221117446633122],\"y\":[0.0,0.0,0.0,0.0,0.0,0.0,0.0,0.0,0.0,0.0,0.0]},{\"line\":{\"color\":\"rgba(128, 128, 0, 0.2323232323232321)\",\"dash\":\"solid\",\"shape\":\"linear\",\"width\":1.3},\"mode\":\"lines\",\"name\":\"Zinc, Zn\",\"text\":\"\",\"type\":\"scatter\",\"x\":[0.5276396808291403,0.7914595212437103,0.9497514254924525,1.0552793616582805,1.1608072978241086,1.2663352339899365,1.3718631701557646,1.4773911063215925,1.5829190424874207,2.110558723316561,4.221117446633122],\"y\":[17.82347313272039,12.573599484897816,11.000000184007028,11.000000093896977,11.00000000007349,11.000000027044633,11.000000036278681,11.000000018294765,11.00000001469429,11.00000000007479,11.00000000012482]},{\"line\":{\"color\":\"rgba(251, 128, 114, 0.2323232323232321)\",\"dash\":\"solid\",\"shape\":\"linear\",\"width\":1.3},\"mode\":\"lines\",\"name\":\"cis-Lutein/Zeaxanthin\",\"text\":\"\",\"type\":\"scatter\",\"x\":[0.5276396808291403,0.7914595212437103,0.9497514254924525,1.0552793616582805,1.1608072978241086,1.2663352339899365,1.3718631701557646,1.4773911063215925,1.5829190424874207,2.110558723316561,4.221117446633122],\"y\":[0.0,0.0,0.0,0.0,0.0,0.0,0.0,0.0,0.0,0.0,0.0]}],                        {\"legend\":{\"bgcolor\":\"#F5F6F9\",\"font\":{\"color\":\"#4D5663\"}},\"paper_bgcolor\":\"#F5F6F9\",\"plot_bgcolor\":\"#F5F6F9\",\"template\":{\"data\":{\"bar\":[{\"error_x\":{\"color\":\"#2a3f5f\"},\"error_y\":{\"color\":\"#2a3f5f\"},\"marker\":{\"line\":{\"color\":\"#E5ECF6\",\"width\":0.5},\"pattern\":{\"fillmode\":\"overlay\",\"size\":10,\"solidity\":0.2}},\"type\":\"bar\"}],\"barpolar\":[{\"marker\":{\"line\":{\"color\":\"#E5ECF6\",\"width\":0.5},\"pattern\":{\"fillmode\":\"overlay\",\"size\":10,\"solidity\":0.2}},\"type\":\"barpolar\"}],\"carpet\":[{\"aaxis\":{\"endlinecolor\":\"#2a3f5f\",\"gridcolor\":\"white\",\"linecolor\":\"white\",\"minorgridcolor\":\"white\",\"startlinecolor\":\"#2a3f5f\"},\"baxis\":{\"endlinecolor\":\"#2a3f5f\",\"gridcolor\":\"white\",\"linecolor\":\"white\",\"minorgridcolor\":\"white\",\"startlinecolor\":\"#2a3f5f\"},\"type\":\"carpet\"}],\"choropleth\":[{\"colorbar\":{\"outlinewidth\":0,\"ticks\":\"\"},\"type\":\"choropleth\"}],\"contour\":[{\"colorbar\":{\"outlinewidth\":0,\"ticks\":\"\"},\"colorscale\":[[0.0,\"#0d0887\"],[0.1111111111111111,\"#46039f\"],[0.2222222222222222,\"#7201a8\"],[0.3333333333333333,\"#9c179e\"],[0.4444444444444444,\"#bd3786\"],[0.5555555555555556,\"#d8576b\"],[0.6666666666666666,\"#ed7953\"],[0.7777777777777778,\"#fb9f3a\"],[0.8888888888888888,\"#fdca26\"],[1.0,\"#f0f921\"]],\"type\":\"contour\"}],\"contourcarpet\":[{\"colorbar\":{\"outlinewidth\":0,\"ticks\":\"\"},\"type\":\"contourcarpet\"}],\"heatmap\":[{\"colorbar\":{\"outlinewidth\":0,\"ticks\":\"\"},\"colorscale\":[[0.0,\"#0d0887\"],[0.1111111111111111,\"#46039f\"],[0.2222222222222222,\"#7201a8\"],[0.3333333333333333,\"#9c179e\"],[0.4444444444444444,\"#bd3786\"],[0.5555555555555556,\"#d8576b\"],[0.6666666666666666,\"#ed7953\"],[0.7777777777777778,\"#fb9f3a\"],[0.8888888888888888,\"#fdca26\"],[1.0,\"#f0f921\"]],\"type\":\"heatmap\"}],\"heatmapgl\":[{\"colorbar\":{\"outlinewidth\":0,\"ticks\":\"\"},\"colorscale\":[[0.0,\"#0d0887\"],[0.1111111111111111,\"#46039f\"],[0.2222222222222222,\"#7201a8\"],[0.3333333333333333,\"#9c179e\"],[0.4444444444444444,\"#bd3786\"],[0.5555555555555556,\"#d8576b\"],[0.6666666666666666,\"#ed7953\"],[0.7777777777777778,\"#fb9f3a\"],[0.8888888888888888,\"#fdca26\"],[1.0,\"#f0f921\"]],\"type\":\"heatmapgl\"}],\"histogram\":[{\"marker\":{\"pattern\":{\"fillmode\":\"overlay\",\"size\":10,\"solidity\":0.2}},\"type\":\"histogram\"}],\"histogram2d\":[{\"colorbar\":{\"outlinewidth\":0,\"ticks\":\"\"},\"colorscale\":[[0.0,\"#0d0887\"],[0.1111111111111111,\"#46039f\"],[0.2222222222222222,\"#7201a8\"],[0.3333333333333333,\"#9c179e\"],[0.4444444444444444,\"#bd3786\"],[0.5555555555555556,\"#d8576b\"],[0.6666666666666666,\"#ed7953\"],[0.7777777777777778,\"#fb9f3a\"],[0.8888888888888888,\"#fdca26\"],[1.0,\"#f0f921\"]],\"type\":\"histogram2d\"}],\"histogram2dcontour\":[{\"colorbar\":{\"outlinewidth\":0,\"ticks\":\"\"},\"colorscale\":[[0.0,\"#0d0887\"],[0.1111111111111111,\"#46039f\"],[0.2222222222222222,\"#7201a8\"],[0.3333333333333333,\"#9c179e\"],[0.4444444444444444,\"#bd3786\"],[0.5555555555555556,\"#d8576b\"],[0.6666666666666666,\"#ed7953\"],[0.7777777777777778,\"#fb9f3a\"],[0.8888888888888888,\"#fdca26\"],[1.0,\"#f0f921\"]],\"type\":\"histogram2dcontour\"}],\"mesh3d\":[{\"colorbar\":{\"outlinewidth\":0,\"ticks\":\"\"},\"type\":\"mesh3d\"}],\"parcoords\":[{\"line\":{\"colorbar\":{\"outlinewidth\":0,\"ticks\":\"\"}},\"type\":\"parcoords\"}],\"pie\":[{\"automargin\":true,\"type\":\"pie\"}],\"scatter\":[{\"marker\":{\"colorbar\":{\"outlinewidth\":0,\"ticks\":\"\"}},\"type\":\"scatter\"}],\"scatter3d\":[{\"line\":{\"colorbar\":{\"outlinewidth\":0,\"ticks\":\"\"}},\"marker\":{\"colorbar\":{\"outlinewidth\":0,\"ticks\":\"\"}},\"type\":\"scatter3d\"}],\"scattercarpet\":[{\"marker\":{\"colorbar\":{\"outlinewidth\":0,\"ticks\":\"\"}},\"type\":\"scattercarpet\"}],\"scattergeo\":[{\"marker\":{\"colorbar\":{\"outlinewidth\":0,\"ticks\":\"\"}},\"type\":\"scattergeo\"}],\"scattergl\":[{\"marker\":{\"colorbar\":{\"outlinewidth\":0,\"ticks\":\"\"}},\"type\":\"scattergl\"}],\"scattermapbox\":[{\"marker\":{\"colorbar\":{\"outlinewidth\":0,\"ticks\":\"\"}},\"type\":\"scattermapbox\"}],\"scatterpolar\":[{\"marker\":{\"colorbar\":{\"outlinewidth\":0,\"ticks\":\"\"}},\"type\":\"scatterpolar\"}],\"scatterpolargl\":[{\"marker\":{\"colorbar\":{\"outlinewidth\":0,\"ticks\":\"\"}},\"type\":\"scatterpolargl\"}],\"scatterternary\":[{\"marker\":{\"colorbar\":{\"outlinewidth\":0,\"ticks\":\"\"}},\"type\":\"scatterternary\"}],\"surface\":[{\"colorbar\":{\"outlinewidth\":0,\"ticks\":\"\"},\"colorscale\":[[0.0,\"#0d0887\"],[0.1111111111111111,\"#46039f\"],[0.2222222222222222,\"#7201a8\"],[0.3333333333333333,\"#9c179e\"],[0.4444444444444444,\"#bd3786\"],[0.5555555555555556,\"#d8576b\"],[0.6666666666666666,\"#ed7953\"],[0.7777777777777778,\"#fb9f3a\"],[0.8888888888888888,\"#fdca26\"],[1.0,\"#f0f921\"]],\"type\":\"surface\"}],\"table\":[{\"cells\":{\"fill\":{\"color\":\"#EBF0F8\"},\"line\":{\"color\":\"white\"}},\"header\":{\"fill\":{\"color\":\"#C8D4E3\"},\"line\":{\"color\":\"white\"}},\"type\":\"table\"}]},\"layout\":{\"annotationdefaults\":{\"arrowcolor\":\"#2a3f5f\",\"arrowhead\":0,\"arrowwidth\":1},\"autotypenumbers\":\"strict\",\"coloraxis\":{\"colorbar\":{\"outlinewidth\":0,\"ticks\":\"\"}},\"colorscale\":{\"diverging\":[[0,\"#8e0152\"],[0.1,\"#c51b7d\"],[0.2,\"#de77ae\"],[0.3,\"#f1b6da\"],[0.4,\"#fde0ef\"],[0.5,\"#f7f7f7\"],[0.6,\"#e6f5d0\"],[0.7,\"#b8e186\"],[0.8,\"#7fbc41\"],[0.9,\"#4d9221\"],[1,\"#276419\"]],\"sequential\":[[0.0,\"#0d0887\"],[0.1111111111111111,\"#46039f\"],[0.2222222222222222,\"#7201a8\"],[0.3333333333333333,\"#9c179e\"],[0.4444444444444444,\"#bd3786\"],[0.5555555555555556,\"#d8576b\"],[0.6666666666666666,\"#ed7953\"],[0.7777777777777778,\"#fb9f3a\"],[0.8888888888888888,\"#fdca26\"],[1.0,\"#f0f921\"]],\"sequentialminus\":[[0.0,\"#0d0887\"],[0.1111111111111111,\"#46039f\"],[0.2222222222222222,\"#7201a8\"],[0.3333333333333333,\"#9c179e\"],[0.4444444444444444,\"#bd3786\"],[0.5555555555555556,\"#d8576b\"],[0.6666666666666666,\"#ed7953\"],[0.7777777777777778,\"#fb9f3a\"],[0.8888888888888888,\"#fdca26\"],[1.0,\"#f0f921\"]]},\"colorway\":[\"#636efa\",\"#EF553B\",\"#00cc96\",\"#ab63fa\",\"#FFA15A\",\"#19d3f3\",\"#FF6692\",\"#B6E880\",\"#FF97FF\",\"#FECB52\"],\"font\":{\"color\":\"#2a3f5f\"},\"geo\":{\"bgcolor\":\"white\",\"lakecolor\":\"white\",\"landcolor\":\"#E5ECF6\",\"showlakes\":true,\"showland\":true,\"subunitcolor\":\"white\"},\"hoverlabel\":{\"align\":\"left\"},\"hovermode\":\"closest\",\"mapbox\":{\"style\":\"light\"},\"paper_bgcolor\":\"white\",\"plot_bgcolor\":\"#E5ECF6\",\"polar\":{\"angularaxis\":{\"gridcolor\":\"white\",\"linecolor\":\"white\",\"ticks\":\"\"},\"bgcolor\":\"#E5ECF6\",\"radialaxis\":{\"gridcolor\":\"white\",\"linecolor\":\"white\",\"ticks\":\"\"}},\"scene\":{\"xaxis\":{\"backgroundcolor\":\"#E5ECF6\",\"gridcolor\":\"white\",\"gridwidth\":2,\"linecolor\":\"white\",\"showbackground\":true,\"ticks\":\"\",\"zerolinecolor\":\"white\"},\"yaxis\":{\"backgroundcolor\":\"#E5ECF6\",\"gridcolor\":\"white\",\"gridwidth\":2,\"linecolor\":\"white\",\"showbackground\":true,\"ticks\":\"\",\"zerolinecolor\":\"white\"},\"zaxis\":{\"backgroundcolor\":\"#E5ECF6\",\"gridcolor\":\"white\",\"gridwidth\":2,\"linecolor\":\"white\",\"showbackground\":true,\"ticks\":\"\",\"zerolinecolor\":\"white\"}},\"shapedefaults\":{\"line\":{\"color\":\"#2a3f5f\"}},\"ternary\":{\"aaxis\":{\"gridcolor\":\"white\",\"linecolor\":\"white\",\"ticks\":\"\"},\"baxis\":{\"gridcolor\":\"white\",\"linecolor\":\"white\",\"ticks\":\"\"},\"bgcolor\":\"#E5ECF6\",\"caxis\":{\"gridcolor\":\"white\",\"linecolor\":\"white\",\"ticks\":\"\"}},\"title\":{\"x\":0.05},\"xaxis\":{\"automargin\":true,\"gridcolor\":\"white\",\"linecolor\":\"white\",\"ticks\":\"\",\"title\":{\"standoff\":15},\"zerolinecolor\":\"white\",\"zerolinewidth\":2},\"yaxis\":{\"automargin\":true,\"gridcolor\":\"white\",\"linecolor\":\"white\",\"ticks\":\"\",\"title\":{\"standoff\":15},\"zerolinecolor\":\"white\",\"zerolinewidth\":2}}},\"title\":{\"font\":{\"color\":\"#4D5663\"}},\"xaxis\":{\"gridcolor\":\"#E1E5ED\",\"showgrid\":true,\"tickfont\":{\"color\":\"#4D5663\"},\"title\":{\"font\":{\"color\":\"#4D5663\"},\"text\":\"Flax Seeds (NOW foods real food) Price\"},\"zerolinecolor\":\"#E1E5ED\"},\"yaxis\":{\"gridcolor\":\"#E1E5ED\",\"showgrid\":true,\"tickfont\":{\"color\":\"#4D5663\"},\"title\":{\"font\":{\"color\":\"#4D5663\"},\"text\":\"Hectograms\"},\"zerolinecolor\":\"#E1E5ED\"}},                        {\"showLink\": true, \"linkText\": \"Export to plot.ly\", \"plotlyServerURL\": \"https://plot.ly\", \"responsive\": true}                    ).then(function(){\n",
       "                            \n",
       "var gd = document.getElementById('d4b0f14e-846e-432d-8884-594ae4693bbd');\n",
       "var x = new MutationObserver(function (mutations, observer) {{\n",
       "        var display = window.getComputedStyle(gd).display;\n",
       "        if (!display || display === 'none') {{\n",
       "            console.log([gd, 'removed!']);\n",
       "            Plotly.purge(gd);\n",
       "            observer.disconnect();\n",
       "        }}\n",
       "}});\n",
       "\n",
       "// Listen for the removal of the full notebook cells\n",
       "var notebookContainer = gd.closest('#notebook-container');\n",
       "if (notebookContainer) {{\n",
       "    x.observe(notebookContainer, {childList: true});\n",
       "}}\n",
       "\n",
       "// Listen for the clearing of the current output cell\n",
       "var outputEl = gd.closest('.output');\n",
       "if (outputEl) {{\n",
       "    x.observe(outputEl, {childList: true});\n",
       "}}\n",
       "\n",
       "                        })                };                });            </script>        </div>"
      ]
     },
     "metadata": {},
     "output_type": "display_data"
    }
   ],
   "source": [
    "# Matrix product maps quantities of food into quantities of nutrients\n",
    "NutrientResponse = Diet_response@D.T\n",
    "\n",
    "# Drop columns of missing nutrients\n",
    "NutrientResponse = NutrientResponse.loc[:,NutrientResponse.count()>0]\n",
    "NutrientResponse.iplot(xTitle='%s Price' % ReferenceGood,yTitle='Hectograms')"
   ]
  },
  {
   "cell_type": "markdown",
   "id": "357d1d07",
   "metadata": {},
   "source": [
    "This plot shows how the composition of the other food items changes with respect to the price of flax seeds. However, this plot includes the constraint that the total weight of the diet must be less that 12 hectograms (1.2 kg)."
   ]
  },
  {
   "cell_type": "code",
   "execution_count": 50,
   "id": "c5c9c894",
   "metadata": {},
   "outputs": [
    {
     "data": {
      "text/html": [
       "        <script type=\"text/javascript\">\n",
       "        window.PlotlyConfig = {MathJaxConfig: 'local'};\n",
       "        if (window.MathJax) {MathJax.Hub.Config({SVG: {font: \"STIX-Web\"}});}\n",
       "        if (typeof require !== 'undefined') {\n",
       "        require.undef(\"plotly\");\n",
       "        requirejs.config({\n",
       "            paths: {\n",
       "                'plotly': ['https://cdn.plot.ly/plotly-2.3.1.min']\n",
       "            }\n",
       "        });\n",
       "        require(['plotly'], function(Plotly) {\n",
       "            window._Plotly = Plotly;\n",
       "        });\n",
       "        }\n",
       "        </script>\n",
       "        "
      ]
     },
     "metadata": {},
     "output_type": "display_data"
    },
    {
     "data": {
      "application/vnd.plotly.v1+json": {
       "config": {
        "linkText": "Export to plot.ly",
        "plotlyServerURL": "https://plot.ly",
        "showLink": true
       },
       "data": [
        {
         "line": {
          "color": "rgba(255, 153, 51, 1.0)",
          "dash": "solid",
          "shape": "linear",
          "width": 1.3
         },
         "mode": "lines",
         "name": "Avocados",
         "text": "",
         "type": "scatter",
         "x": [
          0.5276396808291403,
          0.7914595212437103,
          0.9497514254924525,
          1.0552793616582805,
          1.1608072978241086,
          1.2663352339899365,
          1.3718631701557646,
          1.4773911063215925,
          1.5829190424874207,
          2.110558723316561,
          4.221117446633122
         ],
         "y": [
          2.555165923693888e-09,
          2.8865806586706615e-10,
          2.0230976078327214e-07,
          2.2057080943962552e-10,
          2.8646886084494605e-09,
          1.3942048155672067e-09,
          3.3075860351213027e-09,
          4.028786905502182e-09,
          7.092841298353683e-11,
          0.7078745764898848,
          1.1199785344462646e-08
         ]
        },
        {
         "line": {
          "color": "rgba(55, 128, 191, 1.0)",
          "dash": "solid",
          "shape": "linear",
          "width": 1.3
         },
         "mode": "lines",
         "name": "Sweet Potatoes ",
         "text": "",
         "type": "scatter",
         "x": [
          0.5276396808291403,
          0.7914595212437103,
          0.9497514254924525,
          1.0552793616582805,
          1.1608072978241086,
          1.2663352339899365,
          1.3718631701557646,
          1.4773911063215925,
          1.5829190424874207,
          2.110558723316561,
          4.221117446633122
         ],
         "y": [
          0.4955817867720661,
          3.767532379174105e-09,
          2.0936386295347467e-06,
          7.510167848752811e-10,
          1.6647223774373143e-08,
          6.259585345397326e-11,
          6.775508440113799e-10,
          0.046158816940959246,
          0.046159071784200714,
          2.1255707508609798e-10,
          1.952850004610576e-09
         ]
        },
        {
         "line": {
          "color": "rgba(50, 171, 96, 1.0)",
          "dash": "solid",
          "shape": "linear",
          "width": 1.3
         },
         "mode": "lines",
         "name": "Spinach ",
         "text": "",
         "type": "scatter",
         "x": [
          0.5276396808291403,
          0.7914595212437103,
          0.9497514254924525,
          1.0552793616582805,
          1.1608072978241086,
          1.2663352339899365,
          1.3718631701557646,
          1.4773911063215925,
          1.5829190424874207,
          2.110558723316561,
          4.221117446633122
         ],
         "y": [
          0.4277182383090869,
          0.49691893889903954,
          0.496924129044838,
          1.3103969929741293,
          1.3103970009578823,
          1.310397002968075,
          1.3103970036549386,
          1.323215771030976,
          1.3232158253043482,
          2.8301607113203673,
          2.527648762154366
         ]
        },
        {
         "line": {
          "color": "rgba(128, 0, 128, 1.0)",
          "dash": "solid",
          "shape": "linear",
          "width": 1.3
         },
         "mode": "lines",
         "name": "Whole Carrots ",
         "text": "",
         "type": "scatter",
         "x": [
          0.5276396808291403,
          0.7914595212437103,
          0.9497514254924525,
          1.0552793616582805,
          1.1608072978241086,
          1.2663352339899365,
          1.3718631701557646,
          1.4773911063215925,
          1.5829190424874207,
          2.110558723316561,
          4.221117446633122
         ],
         "y": [
          5.8365681093408784e-08,
          0.4049516653249801,
          0.4049479606784217,
          0.04621309244216168,
          0.046213075450185825,
          0.04621308933616602,
          0.04621308959209656,
          2.551525178381626e-07,
          4.325411147696542e-09,
          2.171125191502028e-10,
          8.661328661307008e-09
         ]
        },
        {
         "line": {
          "color": "rgba(219, 64, 82, 1.0)",
          "dash": "solid",
          "shape": "linear",
          "width": 1.3
         },
         "mode": "lines",
         "name": "Kale",
         "text": "",
         "type": "scatter",
         "x": [
          0.5276396808291403,
          0.7914595212437103,
          0.9497514254924525,
          1.0552793616582805,
          1.1608072978241086,
          1.2663352339899365,
          1.3718631701557646,
          1.4773911063215925,
          1.5829190424874207,
          2.110558723316561,
          4.221117446633122
         ],
         "y": [
          0.7393331821754615,
          0.7576757584808672,
          0.7576731342972612,
          0.46460133797733094,
          0.4646013309810001,
          0.46460133562011585,
          0.46460133351188687,
          0.45595253036801175,
          0.4559524892519948,
          1.3483454475762164e-08,
          1.299414986274877e-08
         ]
        },
        {
         "line": {
          "color": "rgba(0, 128, 128, 1.0)",
          "dash": "solid",
          "shape": "linear",
          "width": 1.3
         },
         "mode": "lines",
         "name": "Salmon in a can (Kroger® Wild Caught Canned Alaskan Pink Salmon)",
         "text": "",
         "type": "scatter",
         "x": [
          0.5276396808291403,
          0.7914595212437103,
          0.9497514254924525,
          1.0552793616582805,
          1.1608072978241086,
          1.2663352339899365,
          1.3718631701557646,
          1.4773911063215925,
          1.5829190424874207,
          2.110558723316561,
          4.221117446633122
         ],
         "y": [
          1.1171554467026704e-09,
          1.17925040399469e-10,
          4.076613841892054e-08,
          1.766460296185844e-11,
          2.2028335071576737e-10,
          2.9961965129844085e-10,
          4.595523915728004e-10,
          7.4410895169681e-10,
          1.953729370734829e-11,
          3.9241481853049757e-10,
          1.3592063387836755
         ]
        },
        {
         "line": {
          "color": "rgba(255, 255, 51, 1.0)",
          "dash": "solid",
          "shape": "linear",
          "width": 1.3
         },
         "mode": "lines",
         "name": "Almond flour ",
         "text": "",
         "type": "scatter",
         "x": [
          0.5276396808291403,
          0.7914595212437103,
          0.9497514254924525,
          1.0552793616582805,
          1.1608072978241086,
          1.2663352339899365,
          1.3718631701557646,
          1.4773911063215925,
          1.5829190424874207,
          2.110558723316561,
          4.221117446633122
         ],
         "y": [
          9.499185823777003e-10,
          9.690380421393615e-11,
          5.3407849660113084e-08,
          1.0121404804351375e-10,
          4.811889746798406e-10,
          7.093120083924405e-10,
          7.350452694810517e-10,
          8.017959387993265e-10,
          1.9907961719988272e-11,
          1.3777702718442437,
          1.490143803606298e-08
         ]
        },
        {
         "line": {
          "color": "rgba(128, 128, 0, 1.0)",
          "dash": "solid",
          "shape": "linear",
          "width": 1.3
         },
         "mode": "lines",
         "name": "Nutritional Yeast ",
         "text": "",
         "type": "scatter",
         "x": [
          0.5276396808291403,
          0.7914595212437103,
          0.9497514254924525,
          1.0552793616582805,
          1.1608072978241086,
          1.2663352339899365,
          1.3718631701557646,
          1.4773911063215925,
          1.5829190424874207,
          2.110558723316561,
          4.221117446633122
         ],
         "y": [
          0.008250201728996777,
          0.00805377637420046,
          0.008053840444709337,
          0.008801694850205261,
          0.008801695259822738,
          0.00880169513882244,
          0.008801695183052075,
          0.008837701919511515,
          0.008837701712593701,
          0.01658048437916094,
          0.003690930453046914
         ]
        },
        {
         "line": {
          "color": "rgba(251, 128, 114, 1.0)",
          "dash": "solid",
          "shape": "linear",
          "width": 1.3
         },
         "mode": "lines",
         "name": "Soy Sauce (Kroger® Lite Soy Sauce )",
         "text": "",
         "type": "scatter",
         "x": [
          0.5276396808291403,
          0.7914595212437103,
          0.9497514254924525,
          1.0552793616582805,
          1.1608072978241086,
          1.2663352339899365,
          1.3718631701557646,
          1.4773911063215925,
          1.5829190424874207,
          2.110558723316561,
          4.221117446633122
         ],
         "y": [
          2.9790942758958817e-09,
          3.812900152684448e-10,
          3.213354682189698e-07,
          3.217401710809246e-11,
          3.928167918390786e-09,
          7.291669334139697e-09,
          3.157700805645458e-09,
          3.0541889086308768e-09,
          4.582600369939889e-10,
          0.28895406268613877,
          0.2838975284156347
         ]
        },
        {
         "line": {
          "color": "rgba(128, 177, 211, 1.0)",
          "dash": "solid",
          "shape": "linear",
          "width": 1.3
         },
         "mode": "lines",
         "name": "Bananas",
         "text": "",
         "type": "scatter",
         "x": [
          0.5276396808291403,
          0.7914595212437103,
          0.9497514254924525,
          1.0552793616582805,
          1.1608072978241086,
          1.2663352339899365,
          1.3718631701557646,
          1.4773911063215925,
          1.5829190424874207,
          2.110558723316561,
          4.221117446633122
         ],
         "y": [
          3.1448507329014957e-09,
          6.192592968930396e-10,
          6.017870073105268e-07,
          0.8060466840714715,
          0.8060466753889407,
          0.8060466698592257,
          0.8060466700274289,
          0.8251348505703994,
          0.825134972680948,
          0.25681531159191817,
          4.009236001056128
         ]
        },
        {
         "line": {
          "color": "rgba(128, 177, 211, 0.8999999999999999)",
          "dash": "solid",
          "shape": "linear",
          "width": 1.3
         },
         "mode": "lines",
         "name": "Almond milk (Silk unsweetened)",
         "text": "",
         "type": "scatter",
         "x": [
          0.5276396808291403,
          0.7914595212437103,
          0.9497514254924525,
          1.0552793616582805,
          1.1608072978241086,
          1.2663352339899365,
          1.3718631701557646,
          1.4773911063215925,
          1.5829190424874207,
          2.110558723316561,
          4.221117446633122
         ],
         "y": [
          3.4443554735185997,
          3.531654992838873,
          3.531652037278958,
          3.1992467471615833,
          3.199246738059514,
          3.199246742034976,
          3.1992467399410396,
          3.183243765857054,
          3.1832436882679067,
          2.1561076978673044,
          3.3253275856073375e-09
         ]
        },
        {
         "line": {
          "color": "rgba(255, 153, 51, 0.8999999999999999)",
          "dash": "solid",
          "shape": "linear",
          "width": 1.3
         },
         "mode": "lines",
         "name": "Brazil Nuts (Torn and Glasser)",
         "text": "",
         "type": "scatter",
         "x": [
          0.5276396808291403,
          0.7914595212437103,
          0.9497514254924525,
          1.0552793616582805,
          1.1608072978241086,
          1.2663352339899365,
          1.3718631701557646,
          1.4773911063215925,
          1.5829190424874207,
          2.110558723316561,
          4.221117446633122
         ],
         "y": [
          6.082486784813682e-10,
          5.1720462090904796e-11,
          1.9269710524960825e-08,
          1.2350475952316592e-11,
          1.1735120695768877e-10,
          1.460065499262003e-10,
          1.9204206915470468e-10,
          2.201401999450438e-10,
          5.8201261586213626e-12,
          2.8323712765221637e-11,
          1.3417801395536615
         ]
        },
        {
         "line": {
          "color": "rgba(55, 128, 191, 0.8999999999999999)",
          "dash": "solid",
          "shape": "linear",
          "width": 1.3
         },
         "mode": "lines",
         "name": "Flax Seeds (NOW foods real food)",
         "text": "",
         "type": "scatter",
         "x": [
          0.5276396808291403,
          0.7914595212437103,
          0.9497514254924525,
          1.0552793616582805,
          1.1608072978241086,
          1.2663352339899365,
          1.3718631701557646,
          1.4773911063215925,
          1.5829190424874207,
          2.110558723316561,
          4.221117446633122
         ],
         "y": [
          4.884760986799758,
          4.800744855287795,
          4.800741988764428,
          4.164693447908758,
          4.164693443739655,
          4.164693441955786,
          4.164693441706449,
          4.157456276348076,
          4.15745624553864,
          1.9324063259816429,
          0.47454018867863335
         ]
        },
        {
         "line": {
          "color": "rgba(50, 171, 96, 0.8999999999999999)",
          "dash": "solid",
          "shape": "linear",
          "width": 1.3
         },
         "mode": "lines",
         "name": "Mayonaise (kroger)",
         "text": "",
         "type": "scatter",
         "x": [
          0.5276396808291403,
          0.7914595212437103,
          0.9497514254924525,
          1.0552793616582805,
          1.1608072978241086,
          1.2663352339899365,
          1.3718631701557646,
          1.4773911063215925,
          1.5829190424874207,
          2.110558723316561,
          4.221117446633122
         ],
         "y": [
          9.713295849702522e-10,
          1.1407960691631831e-10,
          3.8695055683854006e-08,
          3.350565524143127e-11,
          2.584050052361102e-10,
          4.0392720738947305e-10,
          5.552340059470764e-10,
          1.0646895581934664e-09,
          1.3838231178387592e-12,
          0.4333305419904647,
          1.4900518221892113e-09
         ]
        }
       ],
       "layout": {
        "legend": {
         "bgcolor": "#F5F6F9",
         "font": {
          "color": "#4D5663"
         }
        },
        "paper_bgcolor": "#F5F6F9",
        "plot_bgcolor": "#F5F6F9",
        "template": {
         "data": {
          "bar": [
           {
            "error_x": {
             "color": "#2a3f5f"
            },
            "error_y": {
             "color": "#2a3f5f"
            },
            "marker": {
             "line": {
              "color": "#E5ECF6",
              "width": 0.5
             },
             "pattern": {
              "fillmode": "overlay",
              "size": 10,
              "solidity": 0.2
             }
            },
            "type": "bar"
           }
          ],
          "barpolar": [
           {
            "marker": {
             "line": {
              "color": "#E5ECF6",
              "width": 0.5
             },
             "pattern": {
              "fillmode": "overlay",
              "size": 10,
              "solidity": 0.2
             }
            },
            "type": "barpolar"
           }
          ],
          "carpet": [
           {
            "aaxis": {
             "endlinecolor": "#2a3f5f",
             "gridcolor": "white",
             "linecolor": "white",
             "minorgridcolor": "white",
             "startlinecolor": "#2a3f5f"
            },
            "baxis": {
             "endlinecolor": "#2a3f5f",
             "gridcolor": "white",
             "linecolor": "white",
             "minorgridcolor": "white",
             "startlinecolor": "#2a3f5f"
            },
            "type": "carpet"
           }
          ],
          "choropleth": [
           {
            "colorbar": {
             "outlinewidth": 0,
             "ticks": ""
            },
            "type": "choropleth"
           }
          ],
          "contour": [
           {
            "colorbar": {
             "outlinewidth": 0,
             "ticks": ""
            },
            "colorscale": [
             [
              0,
              "#0d0887"
             ],
             [
              0.1111111111111111,
              "#46039f"
             ],
             [
              0.2222222222222222,
              "#7201a8"
             ],
             [
              0.3333333333333333,
              "#9c179e"
             ],
             [
              0.4444444444444444,
              "#bd3786"
             ],
             [
              0.5555555555555556,
              "#d8576b"
             ],
             [
              0.6666666666666666,
              "#ed7953"
             ],
             [
              0.7777777777777778,
              "#fb9f3a"
             ],
             [
              0.8888888888888888,
              "#fdca26"
             ],
             [
              1,
              "#f0f921"
             ]
            ],
            "type": "contour"
           }
          ],
          "contourcarpet": [
           {
            "colorbar": {
             "outlinewidth": 0,
             "ticks": ""
            },
            "type": "contourcarpet"
           }
          ],
          "heatmap": [
           {
            "colorbar": {
             "outlinewidth": 0,
             "ticks": ""
            },
            "colorscale": [
             [
              0,
              "#0d0887"
             ],
             [
              0.1111111111111111,
              "#46039f"
             ],
             [
              0.2222222222222222,
              "#7201a8"
             ],
             [
              0.3333333333333333,
              "#9c179e"
             ],
             [
              0.4444444444444444,
              "#bd3786"
             ],
             [
              0.5555555555555556,
              "#d8576b"
             ],
             [
              0.6666666666666666,
              "#ed7953"
             ],
             [
              0.7777777777777778,
              "#fb9f3a"
             ],
             [
              0.8888888888888888,
              "#fdca26"
             ],
             [
              1,
              "#f0f921"
             ]
            ],
            "type": "heatmap"
           }
          ],
          "heatmapgl": [
           {
            "colorbar": {
             "outlinewidth": 0,
             "ticks": ""
            },
            "colorscale": [
             [
              0,
              "#0d0887"
             ],
             [
              0.1111111111111111,
              "#46039f"
             ],
             [
              0.2222222222222222,
              "#7201a8"
             ],
             [
              0.3333333333333333,
              "#9c179e"
             ],
             [
              0.4444444444444444,
              "#bd3786"
             ],
             [
              0.5555555555555556,
              "#d8576b"
             ],
             [
              0.6666666666666666,
              "#ed7953"
             ],
             [
              0.7777777777777778,
              "#fb9f3a"
             ],
             [
              0.8888888888888888,
              "#fdca26"
             ],
             [
              1,
              "#f0f921"
             ]
            ],
            "type": "heatmapgl"
           }
          ],
          "histogram": [
           {
            "marker": {
             "pattern": {
              "fillmode": "overlay",
              "size": 10,
              "solidity": 0.2
             }
            },
            "type": "histogram"
           }
          ],
          "histogram2d": [
           {
            "colorbar": {
             "outlinewidth": 0,
             "ticks": ""
            },
            "colorscale": [
             [
              0,
              "#0d0887"
             ],
             [
              0.1111111111111111,
              "#46039f"
             ],
             [
              0.2222222222222222,
              "#7201a8"
             ],
             [
              0.3333333333333333,
              "#9c179e"
             ],
             [
              0.4444444444444444,
              "#bd3786"
             ],
             [
              0.5555555555555556,
              "#d8576b"
             ],
             [
              0.6666666666666666,
              "#ed7953"
             ],
             [
              0.7777777777777778,
              "#fb9f3a"
             ],
             [
              0.8888888888888888,
              "#fdca26"
             ],
             [
              1,
              "#f0f921"
             ]
            ],
            "type": "histogram2d"
           }
          ],
          "histogram2dcontour": [
           {
            "colorbar": {
             "outlinewidth": 0,
             "ticks": ""
            },
            "colorscale": [
             [
              0,
              "#0d0887"
             ],
             [
              0.1111111111111111,
              "#46039f"
             ],
             [
              0.2222222222222222,
              "#7201a8"
             ],
             [
              0.3333333333333333,
              "#9c179e"
             ],
             [
              0.4444444444444444,
              "#bd3786"
             ],
             [
              0.5555555555555556,
              "#d8576b"
             ],
             [
              0.6666666666666666,
              "#ed7953"
             ],
             [
              0.7777777777777778,
              "#fb9f3a"
             ],
             [
              0.8888888888888888,
              "#fdca26"
             ],
             [
              1,
              "#f0f921"
             ]
            ],
            "type": "histogram2dcontour"
           }
          ],
          "mesh3d": [
           {
            "colorbar": {
             "outlinewidth": 0,
             "ticks": ""
            },
            "type": "mesh3d"
           }
          ],
          "parcoords": [
           {
            "line": {
             "colorbar": {
              "outlinewidth": 0,
              "ticks": ""
             }
            },
            "type": "parcoords"
           }
          ],
          "pie": [
           {
            "automargin": true,
            "type": "pie"
           }
          ],
          "scatter": [
           {
            "marker": {
             "colorbar": {
              "outlinewidth": 0,
              "ticks": ""
             }
            },
            "type": "scatter"
           }
          ],
          "scatter3d": [
           {
            "line": {
             "colorbar": {
              "outlinewidth": 0,
              "ticks": ""
             }
            },
            "marker": {
             "colorbar": {
              "outlinewidth": 0,
              "ticks": ""
             }
            },
            "type": "scatter3d"
           }
          ],
          "scattercarpet": [
           {
            "marker": {
             "colorbar": {
              "outlinewidth": 0,
              "ticks": ""
             }
            },
            "type": "scattercarpet"
           }
          ],
          "scattergeo": [
           {
            "marker": {
             "colorbar": {
              "outlinewidth": 0,
              "ticks": ""
             }
            },
            "type": "scattergeo"
           }
          ],
          "scattergl": [
           {
            "marker": {
             "colorbar": {
              "outlinewidth": 0,
              "ticks": ""
             }
            },
            "type": "scattergl"
           }
          ],
          "scattermapbox": [
           {
            "marker": {
             "colorbar": {
              "outlinewidth": 0,
              "ticks": ""
             }
            },
            "type": "scattermapbox"
           }
          ],
          "scatterpolar": [
           {
            "marker": {
             "colorbar": {
              "outlinewidth": 0,
              "ticks": ""
             }
            },
            "type": "scatterpolar"
           }
          ],
          "scatterpolargl": [
           {
            "marker": {
             "colorbar": {
              "outlinewidth": 0,
              "ticks": ""
             }
            },
            "type": "scatterpolargl"
           }
          ],
          "scatterternary": [
           {
            "marker": {
             "colorbar": {
              "outlinewidth": 0,
              "ticks": ""
             }
            },
            "type": "scatterternary"
           }
          ],
          "surface": [
           {
            "colorbar": {
             "outlinewidth": 0,
             "ticks": ""
            },
            "colorscale": [
             [
              0,
              "#0d0887"
             ],
             [
              0.1111111111111111,
              "#46039f"
             ],
             [
              0.2222222222222222,
              "#7201a8"
             ],
             [
              0.3333333333333333,
              "#9c179e"
             ],
             [
              0.4444444444444444,
              "#bd3786"
             ],
             [
              0.5555555555555556,
              "#d8576b"
             ],
             [
              0.6666666666666666,
              "#ed7953"
             ],
             [
              0.7777777777777778,
              "#fb9f3a"
             ],
             [
              0.8888888888888888,
              "#fdca26"
             ],
             [
              1,
              "#f0f921"
             ]
            ],
            "type": "surface"
           }
          ],
          "table": [
           {
            "cells": {
             "fill": {
              "color": "#EBF0F8"
             },
             "line": {
              "color": "white"
             }
            },
            "header": {
             "fill": {
              "color": "#C8D4E3"
             },
             "line": {
              "color": "white"
             }
            },
            "type": "table"
           }
          ]
         },
         "layout": {
          "annotationdefaults": {
           "arrowcolor": "#2a3f5f",
           "arrowhead": 0,
           "arrowwidth": 1
          },
          "autotypenumbers": "strict",
          "coloraxis": {
           "colorbar": {
            "outlinewidth": 0,
            "ticks": ""
           }
          },
          "colorscale": {
           "diverging": [
            [
             0,
             "#8e0152"
            ],
            [
             0.1,
             "#c51b7d"
            ],
            [
             0.2,
             "#de77ae"
            ],
            [
             0.3,
             "#f1b6da"
            ],
            [
             0.4,
             "#fde0ef"
            ],
            [
             0.5,
             "#f7f7f7"
            ],
            [
             0.6,
             "#e6f5d0"
            ],
            [
             0.7,
             "#b8e186"
            ],
            [
             0.8,
             "#7fbc41"
            ],
            [
             0.9,
             "#4d9221"
            ],
            [
             1,
             "#276419"
            ]
           ],
           "sequential": [
            [
             0,
             "#0d0887"
            ],
            [
             0.1111111111111111,
             "#46039f"
            ],
            [
             0.2222222222222222,
             "#7201a8"
            ],
            [
             0.3333333333333333,
             "#9c179e"
            ],
            [
             0.4444444444444444,
             "#bd3786"
            ],
            [
             0.5555555555555556,
             "#d8576b"
            ],
            [
             0.6666666666666666,
             "#ed7953"
            ],
            [
             0.7777777777777778,
             "#fb9f3a"
            ],
            [
             0.8888888888888888,
             "#fdca26"
            ],
            [
             1,
             "#f0f921"
            ]
           ],
           "sequentialminus": [
            [
             0,
             "#0d0887"
            ],
            [
             0.1111111111111111,
             "#46039f"
            ],
            [
             0.2222222222222222,
             "#7201a8"
            ],
            [
             0.3333333333333333,
             "#9c179e"
            ],
            [
             0.4444444444444444,
             "#bd3786"
            ],
            [
             0.5555555555555556,
             "#d8576b"
            ],
            [
             0.6666666666666666,
             "#ed7953"
            ],
            [
             0.7777777777777778,
             "#fb9f3a"
            ],
            [
             0.8888888888888888,
             "#fdca26"
            ],
            [
             1,
             "#f0f921"
            ]
           ]
          },
          "colorway": [
           "#636efa",
           "#EF553B",
           "#00cc96",
           "#ab63fa",
           "#FFA15A",
           "#19d3f3",
           "#FF6692",
           "#B6E880",
           "#FF97FF",
           "#FECB52"
          ],
          "font": {
           "color": "#2a3f5f"
          },
          "geo": {
           "bgcolor": "white",
           "lakecolor": "white",
           "landcolor": "#E5ECF6",
           "showlakes": true,
           "showland": true,
           "subunitcolor": "white"
          },
          "hoverlabel": {
           "align": "left"
          },
          "hovermode": "closest",
          "mapbox": {
           "style": "light"
          },
          "paper_bgcolor": "white",
          "plot_bgcolor": "#E5ECF6",
          "polar": {
           "angularaxis": {
            "gridcolor": "white",
            "linecolor": "white",
            "ticks": ""
           },
           "bgcolor": "#E5ECF6",
           "radialaxis": {
            "gridcolor": "white",
            "linecolor": "white",
            "ticks": ""
           }
          },
          "scene": {
           "xaxis": {
            "backgroundcolor": "#E5ECF6",
            "gridcolor": "white",
            "gridwidth": 2,
            "linecolor": "white",
            "showbackground": true,
            "ticks": "",
            "zerolinecolor": "white"
           },
           "yaxis": {
            "backgroundcolor": "#E5ECF6",
            "gridcolor": "white",
            "gridwidth": 2,
            "linecolor": "white",
            "showbackground": true,
            "ticks": "",
            "zerolinecolor": "white"
           },
           "zaxis": {
            "backgroundcolor": "#E5ECF6",
            "gridcolor": "white",
            "gridwidth": 2,
            "linecolor": "white",
            "showbackground": true,
            "ticks": "",
            "zerolinecolor": "white"
           }
          },
          "shapedefaults": {
           "line": {
            "color": "#2a3f5f"
           }
          },
          "ternary": {
           "aaxis": {
            "gridcolor": "white",
            "linecolor": "white",
            "ticks": ""
           },
           "baxis": {
            "gridcolor": "white",
            "linecolor": "white",
            "ticks": ""
           },
           "bgcolor": "#E5ECF6",
           "caxis": {
            "gridcolor": "white",
            "linecolor": "white",
            "ticks": ""
           }
          },
          "title": {
           "x": 0.05
          },
          "xaxis": {
           "automargin": true,
           "gridcolor": "white",
           "linecolor": "white",
           "ticks": "",
           "title": {
            "standoff": 15
           },
           "zerolinecolor": "white",
           "zerolinewidth": 2
          },
          "yaxis": {
           "automargin": true,
           "gridcolor": "white",
           "linecolor": "white",
           "ticks": "",
           "title": {
            "standoff": 15
           },
           "zerolinecolor": "white",
           "zerolinewidth": 2
          }
         }
        },
        "title": {
         "font": {
          "color": "#4D5663"
         }
        },
        "xaxis": {
         "gridcolor": "#E1E5ED",
         "showgrid": true,
         "tickfont": {
          "color": "#4D5663"
         },
         "title": {
          "font": {
           "color": "#4D5663"
          },
          "text": "Flax Seeds (NOW foods real food) Price"
         },
         "zerolinecolor": "#E1E5ED"
        },
        "yaxis": {
         "gridcolor": "#E1E5ED",
         "showgrid": true,
         "tickfont": {
          "color": "#4D5663"
         },
         "title": {
          "font": {
           "color": "#4D5663"
          },
          "text": "Hectograms"
         },
         "zerolinecolor": "#E1E5ED"
        }
       }
      },
      "text/html": [
       "<div>                            <div id=\"592861e8-5e3f-4a82-971a-adf4ad3dd72b\" class=\"plotly-graph-div\" style=\"height:525px; width:100%;\"></div>            <script type=\"text/javascript\">                require([\"plotly\"], function(Plotly) {                    window.PLOTLYENV=window.PLOTLYENV || {};\n",
       "                    window.PLOTLYENV.BASE_URL='https://plot.ly';                                    if (document.getElementById(\"592861e8-5e3f-4a82-971a-adf4ad3dd72b\")) {                    Plotly.newPlot(                        \"592861e8-5e3f-4a82-971a-adf4ad3dd72b\",                        [{\"line\":{\"color\":\"rgba(255, 153, 51, 1.0)\",\"dash\":\"solid\",\"shape\":\"linear\",\"width\":1.3},\"mode\":\"lines\",\"name\":\"Avocados\",\"text\":\"\",\"type\":\"scatter\",\"x\":[0.5276396808291403,0.7914595212437103,0.9497514254924525,1.0552793616582805,1.1608072978241086,1.2663352339899365,1.3718631701557646,1.4773911063215925,1.5829190424874207,2.110558723316561,4.221117446633122],\"y\":[2.555165923693888e-09,2.8865806586706615e-10,2.0230976078327214e-07,2.2057080943962552e-10,2.8646886084494605e-09,1.3942048155672067e-09,3.3075860351213027e-09,4.028786905502182e-09,7.092841298353683e-11,0.7078745764898848,1.1199785344462646e-08]},{\"line\":{\"color\":\"rgba(55, 128, 191, 1.0)\",\"dash\":\"solid\",\"shape\":\"linear\",\"width\":1.3},\"mode\":\"lines\",\"name\":\"Sweet Potatoes \",\"text\":\"\",\"type\":\"scatter\",\"x\":[0.5276396808291403,0.7914595212437103,0.9497514254924525,1.0552793616582805,1.1608072978241086,1.2663352339899365,1.3718631701557646,1.4773911063215925,1.5829190424874207,2.110558723316561,4.221117446633122],\"y\":[0.4955817867720661,3.767532379174105e-09,2.0936386295347467e-06,7.510167848752811e-10,1.6647223774373143e-08,6.259585345397326e-11,6.775508440113799e-10,0.046158816940959246,0.046159071784200714,2.1255707508609798e-10,1.952850004610576e-09]},{\"line\":{\"color\":\"rgba(50, 171, 96, 1.0)\",\"dash\":\"solid\",\"shape\":\"linear\",\"width\":1.3},\"mode\":\"lines\",\"name\":\"Spinach \",\"text\":\"\",\"type\":\"scatter\",\"x\":[0.5276396808291403,0.7914595212437103,0.9497514254924525,1.0552793616582805,1.1608072978241086,1.2663352339899365,1.3718631701557646,1.4773911063215925,1.5829190424874207,2.110558723316561,4.221117446633122],\"y\":[0.4277182383090869,0.49691893889903954,0.496924129044838,1.3103969929741293,1.3103970009578823,1.310397002968075,1.3103970036549386,1.323215771030976,1.3232158253043482,2.8301607113203673,2.527648762154366]},{\"line\":{\"color\":\"rgba(128, 0, 128, 1.0)\",\"dash\":\"solid\",\"shape\":\"linear\",\"width\":1.3},\"mode\":\"lines\",\"name\":\"Whole Carrots \",\"text\":\"\",\"type\":\"scatter\",\"x\":[0.5276396808291403,0.7914595212437103,0.9497514254924525,1.0552793616582805,1.1608072978241086,1.2663352339899365,1.3718631701557646,1.4773911063215925,1.5829190424874207,2.110558723316561,4.221117446633122],\"y\":[5.8365681093408784e-08,0.4049516653249801,0.4049479606784217,0.04621309244216168,0.046213075450185825,0.04621308933616602,0.04621308959209656,2.551525178381626e-07,4.325411147696542e-09,2.171125191502028e-10,8.661328661307008e-09]},{\"line\":{\"color\":\"rgba(219, 64, 82, 1.0)\",\"dash\":\"solid\",\"shape\":\"linear\",\"width\":1.3},\"mode\":\"lines\",\"name\":\"Kale\",\"text\":\"\",\"type\":\"scatter\",\"x\":[0.5276396808291403,0.7914595212437103,0.9497514254924525,1.0552793616582805,1.1608072978241086,1.2663352339899365,1.3718631701557646,1.4773911063215925,1.5829190424874207,2.110558723316561,4.221117446633122],\"y\":[0.7393331821754615,0.7576757584808672,0.7576731342972612,0.46460133797733094,0.4646013309810001,0.46460133562011585,0.46460133351188687,0.45595253036801175,0.4559524892519948,1.3483454475762164e-08,1.299414986274877e-08]},{\"line\":{\"color\":\"rgba(0, 128, 128, 1.0)\",\"dash\":\"solid\",\"shape\":\"linear\",\"width\":1.3},\"mode\":\"lines\",\"name\":\"Salmon in a can (Kroger\\u00ae Wild Caught Canned Alaskan Pink Salmon)\",\"text\":\"\",\"type\":\"scatter\",\"x\":[0.5276396808291403,0.7914595212437103,0.9497514254924525,1.0552793616582805,1.1608072978241086,1.2663352339899365,1.3718631701557646,1.4773911063215925,1.5829190424874207,2.110558723316561,4.221117446633122],\"y\":[1.1171554467026704e-09,1.17925040399469e-10,4.076613841892054e-08,1.766460296185844e-11,2.2028335071576737e-10,2.9961965129844085e-10,4.595523915728004e-10,7.4410895169681e-10,1.953729370734829e-11,3.9241481853049757e-10,1.3592063387836755]},{\"line\":{\"color\":\"rgba(255, 255, 51, 1.0)\",\"dash\":\"solid\",\"shape\":\"linear\",\"width\":1.3},\"mode\":\"lines\",\"name\":\"Almond flour \",\"text\":\"\",\"type\":\"scatter\",\"x\":[0.5276396808291403,0.7914595212437103,0.9497514254924525,1.0552793616582805,1.1608072978241086,1.2663352339899365,1.3718631701557646,1.4773911063215925,1.5829190424874207,2.110558723316561,4.221117446633122],\"y\":[9.499185823777003e-10,9.690380421393615e-11,5.3407849660113084e-08,1.0121404804351375e-10,4.811889746798406e-10,7.093120083924405e-10,7.350452694810517e-10,8.017959387993265e-10,1.9907961719988272e-11,1.3777702718442437,1.490143803606298e-08]},{\"line\":{\"color\":\"rgba(128, 128, 0, 1.0)\",\"dash\":\"solid\",\"shape\":\"linear\",\"width\":1.3},\"mode\":\"lines\",\"name\":\"Nutritional Yeast \",\"text\":\"\",\"type\":\"scatter\",\"x\":[0.5276396808291403,0.7914595212437103,0.9497514254924525,1.0552793616582805,1.1608072978241086,1.2663352339899365,1.3718631701557646,1.4773911063215925,1.5829190424874207,2.110558723316561,4.221117446633122],\"y\":[0.008250201728996777,0.00805377637420046,0.008053840444709337,0.008801694850205261,0.008801695259822738,0.00880169513882244,0.008801695183052075,0.008837701919511515,0.008837701712593701,0.01658048437916094,0.003690930453046914]},{\"line\":{\"color\":\"rgba(251, 128, 114, 1.0)\",\"dash\":\"solid\",\"shape\":\"linear\",\"width\":1.3},\"mode\":\"lines\",\"name\":\"Soy Sauce (Kroger\\u00ae Lite Soy Sauce )\",\"text\":\"\",\"type\":\"scatter\",\"x\":[0.5276396808291403,0.7914595212437103,0.9497514254924525,1.0552793616582805,1.1608072978241086,1.2663352339899365,1.3718631701557646,1.4773911063215925,1.5829190424874207,2.110558723316561,4.221117446633122],\"y\":[2.9790942758958817e-09,3.812900152684448e-10,3.213354682189698e-07,3.217401710809246e-11,3.928167918390786e-09,7.291669334139697e-09,3.157700805645458e-09,3.0541889086308768e-09,4.582600369939889e-10,0.28895406268613877,0.2838975284156347]},{\"line\":{\"color\":\"rgba(128, 177, 211, 1.0)\",\"dash\":\"solid\",\"shape\":\"linear\",\"width\":1.3},\"mode\":\"lines\",\"name\":\"Bananas\",\"text\":\"\",\"type\":\"scatter\",\"x\":[0.5276396808291403,0.7914595212437103,0.9497514254924525,1.0552793616582805,1.1608072978241086,1.2663352339899365,1.3718631701557646,1.4773911063215925,1.5829190424874207,2.110558723316561,4.221117446633122],\"y\":[3.1448507329014957e-09,6.192592968930396e-10,6.017870073105268e-07,0.8060466840714715,0.8060466753889407,0.8060466698592257,0.8060466700274289,0.8251348505703994,0.825134972680948,0.25681531159191817,4.009236001056128]},{\"line\":{\"color\":\"rgba(128, 177, 211, 0.8999999999999999)\",\"dash\":\"solid\",\"shape\":\"linear\",\"width\":1.3},\"mode\":\"lines\",\"name\":\"Almond milk (Silk unsweetened)\",\"text\":\"\",\"type\":\"scatter\",\"x\":[0.5276396808291403,0.7914595212437103,0.9497514254924525,1.0552793616582805,1.1608072978241086,1.2663352339899365,1.3718631701557646,1.4773911063215925,1.5829190424874207,2.110558723316561,4.221117446633122],\"y\":[3.4443554735185997,3.531654992838873,3.531652037278958,3.1992467471615833,3.199246738059514,3.199246742034976,3.1992467399410396,3.183243765857054,3.1832436882679067,2.1561076978673044,3.3253275856073375e-09]},{\"line\":{\"color\":\"rgba(255, 153, 51, 0.8999999999999999)\",\"dash\":\"solid\",\"shape\":\"linear\",\"width\":1.3},\"mode\":\"lines\",\"name\":\"Brazil Nuts (Torn and Glasser)\",\"text\":\"\",\"type\":\"scatter\",\"x\":[0.5276396808291403,0.7914595212437103,0.9497514254924525,1.0552793616582805,1.1608072978241086,1.2663352339899365,1.3718631701557646,1.4773911063215925,1.5829190424874207,2.110558723316561,4.221117446633122],\"y\":[6.082486784813682e-10,5.1720462090904796e-11,1.9269710524960825e-08,1.2350475952316592e-11,1.1735120695768877e-10,1.460065499262003e-10,1.9204206915470468e-10,2.201401999450438e-10,5.8201261586213626e-12,2.8323712765221637e-11,1.3417801395536615]},{\"line\":{\"color\":\"rgba(55, 128, 191, 0.8999999999999999)\",\"dash\":\"solid\",\"shape\":\"linear\",\"width\":1.3},\"mode\":\"lines\",\"name\":\"Flax Seeds (NOW foods real food)\",\"text\":\"\",\"type\":\"scatter\",\"x\":[0.5276396808291403,0.7914595212437103,0.9497514254924525,1.0552793616582805,1.1608072978241086,1.2663352339899365,1.3718631701557646,1.4773911063215925,1.5829190424874207,2.110558723316561,4.221117446633122],\"y\":[4.884760986799758,4.800744855287795,4.800741988764428,4.164693447908758,4.164693443739655,4.164693441955786,4.164693441706449,4.157456276348076,4.15745624553864,1.9324063259816429,0.47454018867863335]},{\"line\":{\"color\":\"rgba(50, 171, 96, 0.8999999999999999)\",\"dash\":\"solid\",\"shape\":\"linear\",\"width\":1.3},\"mode\":\"lines\",\"name\":\"Mayonaise (kroger)\",\"text\":\"\",\"type\":\"scatter\",\"x\":[0.5276396808291403,0.7914595212437103,0.9497514254924525,1.0552793616582805,1.1608072978241086,1.2663352339899365,1.3718631701557646,1.4773911063215925,1.5829190424874207,2.110558723316561,4.221117446633122],\"y\":[9.713295849702522e-10,1.1407960691631831e-10,3.8695055683854006e-08,3.350565524143127e-11,2.584050052361102e-10,4.0392720738947305e-10,5.552340059470764e-10,1.0646895581934664e-09,1.3838231178387592e-12,0.4333305419904647,1.4900518221892113e-09]}],                        {\"legend\":{\"bgcolor\":\"#F5F6F9\",\"font\":{\"color\":\"#4D5663\"}},\"paper_bgcolor\":\"#F5F6F9\",\"plot_bgcolor\":\"#F5F6F9\",\"template\":{\"data\":{\"bar\":[{\"error_x\":{\"color\":\"#2a3f5f\"},\"error_y\":{\"color\":\"#2a3f5f\"},\"marker\":{\"line\":{\"color\":\"#E5ECF6\",\"width\":0.5},\"pattern\":{\"fillmode\":\"overlay\",\"size\":10,\"solidity\":0.2}},\"type\":\"bar\"}],\"barpolar\":[{\"marker\":{\"line\":{\"color\":\"#E5ECF6\",\"width\":0.5},\"pattern\":{\"fillmode\":\"overlay\",\"size\":10,\"solidity\":0.2}},\"type\":\"barpolar\"}],\"carpet\":[{\"aaxis\":{\"endlinecolor\":\"#2a3f5f\",\"gridcolor\":\"white\",\"linecolor\":\"white\",\"minorgridcolor\":\"white\",\"startlinecolor\":\"#2a3f5f\"},\"baxis\":{\"endlinecolor\":\"#2a3f5f\",\"gridcolor\":\"white\",\"linecolor\":\"white\",\"minorgridcolor\":\"white\",\"startlinecolor\":\"#2a3f5f\"},\"type\":\"carpet\"}],\"choropleth\":[{\"colorbar\":{\"outlinewidth\":0,\"ticks\":\"\"},\"type\":\"choropleth\"}],\"contour\":[{\"colorbar\":{\"outlinewidth\":0,\"ticks\":\"\"},\"colorscale\":[[0.0,\"#0d0887\"],[0.1111111111111111,\"#46039f\"],[0.2222222222222222,\"#7201a8\"],[0.3333333333333333,\"#9c179e\"],[0.4444444444444444,\"#bd3786\"],[0.5555555555555556,\"#d8576b\"],[0.6666666666666666,\"#ed7953\"],[0.7777777777777778,\"#fb9f3a\"],[0.8888888888888888,\"#fdca26\"],[1.0,\"#f0f921\"]],\"type\":\"contour\"}],\"contourcarpet\":[{\"colorbar\":{\"outlinewidth\":0,\"ticks\":\"\"},\"type\":\"contourcarpet\"}],\"heatmap\":[{\"colorbar\":{\"outlinewidth\":0,\"ticks\":\"\"},\"colorscale\":[[0.0,\"#0d0887\"],[0.1111111111111111,\"#46039f\"],[0.2222222222222222,\"#7201a8\"],[0.3333333333333333,\"#9c179e\"],[0.4444444444444444,\"#bd3786\"],[0.5555555555555556,\"#d8576b\"],[0.6666666666666666,\"#ed7953\"],[0.7777777777777778,\"#fb9f3a\"],[0.8888888888888888,\"#fdca26\"],[1.0,\"#f0f921\"]],\"type\":\"heatmap\"}],\"heatmapgl\":[{\"colorbar\":{\"outlinewidth\":0,\"ticks\":\"\"},\"colorscale\":[[0.0,\"#0d0887\"],[0.1111111111111111,\"#46039f\"],[0.2222222222222222,\"#7201a8\"],[0.3333333333333333,\"#9c179e\"],[0.4444444444444444,\"#bd3786\"],[0.5555555555555556,\"#d8576b\"],[0.6666666666666666,\"#ed7953\"],[0.7777777777777778,\"#fb9f3a\"],[0.8888888888888888,\"#fdca26\"],[1.0,\"#f0f921\"]],\"type\":\"heatmapgl\"}],\"histogram\":[{\"marker\":{\"pattern\":{\"fillmode\":\"overlay\",\"size\":10,\"solidity\":0.2}},\"type\":\"histogram\"}],\"histogram2d\":[{\"colorbar\":{\"outlinewidth\":0,\"ticks\":\"\"},\"colorscale\":[[0.0,\"#0d0887\"],[0.1111111111111111,\"#46039f\"],[0.2222222222222222,\"#7201a8\"],[0.3333333333333333,\"#9c179e\"],[0.4444444444444444,\"#bd3786\"],[0.5555555555555556,\"#d8576b\"],[0.6666666666666666,\"#ed7953\"],[0.7777777777777778,\"#fb9f3a\"],[0.8888888888888888,\"#fdca26\"],[1.0,\"#f0f921\"]],\"type\":\"histogram2d\"}],\"histogram2dcontour\":[{\"colorbar\":{\"outlinewidth\":0,\"ticks\":\"\"},\"colorscale\":[[0.0,\"#0d0887\"],[0.1111111111111111,\"#46039f\"],[0.2222222222222222,\"#7201a8\"],[0.3333333333333333,\"#9c179e\"],[0.4444444444444444,\"#bd3786\"],[0.5555555555555556,\"#d8576b\"],[0.6666666666666666,\"#ed7953\"],[0.7777777777777778,\"#fb9f3a\"],[0.8888888888888888,\"#fdca26\"],[1.0,\"#f0f921\"]],\"type\":\"histogram2dcontour\"}],\"mesh3d\":[{\"colorbar\":{\"outlinewidth\":0,\"ticks\":\"\"},\"type\":\"mesh3d\"}],\"parcoords\":[{\"line\":{\"colorbar\":{\"outlinewidth\":0,\"ticks\":\"\"}},\"type\":\"parcoords\"}],\"pie\":[{\"automargin\":true,\"type\":\"pie\"}],\"scatter\":[{\"marker\":{\"colorbar\":{\"outlinewidth\":0,\"ticks\":\"\"}},\"type\":\"scatter\"}],\"scatter3d\":[{\"line\":{\"colorbar\":{\"outlinewidth\":0,\"ticks\":\"\"}},\"marker\":{\"colorbar\":{\"outlinewidth\":0,\"ticks\":\"\"}},\"type\":\"scatter3d\"}],\"scattercarpet\":[{\"marker\":{\"colorbar\":{\"outlinewidth\":0,\"ticks\":\"\"}},\"type\":\"scattercarpet\"}],\"scattergeo\":[{\"marker\":{\"colorbar\":{\"outlinewidth\":0,\"ticks\":\"\"}},\"type\":\"scattergeo\"}],\"scattergl\":[{\"marker\":{\"colorbar\":{\"outlinewidth\":0,\"ticks\":\"\"}},\"type\":\"scattergl\"}],\"scattermapbox\":[{\"marker\":{\"colorbar\":{\"outlinewidth\":0,\"ticks\":\"\"}},\"type\":\"scattermapbox\"}],\"scatterpolar\":[{\"marker\":{\"colorbar\":{\"outlinewidth\":0,\"ticks\":\"\"}},\"type\":\"scatterpolar\"}],\"scatterpolargl\":[{\"marker\":{\"colorbar\":{\"outlinewidth\":0,\"ticks\":\"\"}},\"type\":\"scatterpolargl\"}],\"scatterternary\":[{\"marker\":{\"colorbar\":{\"outlinewidth\":0,\"ticks\":\"\"}},\"type\":\"scatterternary\"}],\"surface\":[{\"colorbar\":{\"outlinewidth\":0,\"ticks\":\"\"},\"colorscale\":[[0.0,\"#0d0887\"],[0.1111111111111111,\"#46039f\"],[0.2222222222222222,\"#7201a8\"],[0.3333333333333333,\"#9c179e\"],[0.4444444444444444,\"#bd3786\"],[0.5555555555555556,\"#d8576b\"],[0.6666666666666666,\"#ed7953\"],[0.7777777777777778,\"#fb9f3a\"],[0.8888888888888888,\"#fdca26\"],[1.0,\"#f0f921\"]],\"type\":\"surface\"}],\"table\":[{\"cells\":{\"fill\":{\"color\":\"#EBF0F8\"},\"line\":{\"color\":\"white\"}},\"header\":{\"fill\":{\"color\":\"#C8D4E3\"},\"line\":{\"color\":\"white\"}},\"type\":\"table\"}]},\"layout\":{\"annotationdefaults\":{\"arrowcolor\":\"#2a3f5f\",\"arrowhead\":0,\"arrowwidth\":1},\"autotypenumbers\":\"strict\",\"coloraxis\":{\"colorbar\":{\"outlinewidth\":0,\"ticks\":\"\"}},\"colorscale\":{\"diverging\":[[0,\"#8e0152\"],[0.1,\"#c51b7d\"],[0.2,\"#de77ae\"],[0.3,\"#f1b6da\"],[0.4,\"#fde0ef\"],[0.5,\"#f7f7f7\"],[0.6,\"#e6f5d0\"],[0.7,\"#b8e186\"],[0.8,\"#7fbc41\"],[0.9,\"#4d9221\"],[1,\"#276419\"]],\"sequential\":[[0.0,\"#0d0887\"],[0.1111111111111111,\"#46039f\"],[0.2222222222222222,\"#7201a8\"],[0.3333333333333333,\"#9c179e\"],[0.4444444444444444,\"#bd3786\"],[0.5555555555555556,\"#d8576b\"],[0.6666666666666666,\"#ed7953\"],[0.7777777777777778,\"#fb9f3a\"],[0.8888888888888888,\"#fdca26\"],[1.0,\"#f0f921\"]],\"sequentialminus\":[[0.0,\"#0d0887\"],[0.1111111111111111,\"#46039f\"],[0.2222222222222222,\"#7201a8\"],[0.3333333333333333,\"#9c179e\"],[0.4444444444444444,\"#bd3786\"],[0.5555555555555556,\"#d8576b\"],[0.6666666666666666,\"#ed7953\"],[0.7777777777777778,\"#fb9f3a\"],[0.8888888888888888,\"#fdca26\"],[1.0,\"#f0f921\"]]},\"colorway\":[\"#636efa\",\"#EF553B\",\"#00cc96\",\"#ab63fa\",\"#FFA15A\",\"#19d3f3\",\"#FF6692\",\"#B6E880\",\"#FF97FF\",\"#FECB52\"],\"font\":{\"color\":\"#2a3f5f\"},\"geo\":{\"bgcolor\":\"white\",\"lakecolor\":\"white\",\"landcolor\":\"#E5ECF6\",\"showlakes\":true,\"showland\":true,\"subunitcolor\":\"white\"},\"hoverlabel\":{\"align\":\"left\"},\"hovermode\":\"closest\",\"mapbox\":{\"style\":\"light\"},\"paper_bgcolor\":\"white\",\"plot_bgcolor\":\"#E5ECF6\",\"polar\":{\"angularaxis\":{\"gridcolor\":\"white\",\"linecolor\":\"white\",\"ticks\":\"\"},\"bgcolor\":\"#E5ECF6\",\"radialaxis\":{\"gridcolor\":\"white\",\"linecolor\":\"white\",\"ticks\":\"\"}},\"scene\":{\"xaxis\":{\"backgroundcolor\":\"#E5ECF6\",\"gridcolor\":\"white\",\"gridwidth\":2,\"linecolor\":\"white\",\"showbackground\":true,\"ticks\":\"\",\"zerolinecolor\":\"white\"},\"yaxis\":{\"backgroundcolor\":\"#E5ECF6\",\"gridcolor\":\"white\",\"gridwidth\":2,\"linecolor\":\"white\",\"showbackground\":true,\"ticks\":\"\",\"zerolinecolor\":\"white\"},\"zaxis\":{\"backgroundcolor\":\"#E5ECF6\",\"gridcolor\":\"white\",\"gridwidth\":2,\"linecolor\":\"white\",\"showbackground\":true,\"ticks\":\"\",\"zerolinecolor\":\"white\"}},\"shapedefaults\":{\"line\":{\"color\":\"#2a3f5f\"}},\"ternary\":{\"aaxis\":{\"gridcolor\":\"white\",\"linecolor\":\"white\",\"ticks\":\"\"},\"baxis\":{\"gridcolor\":\"white\",\"linecolor\":\"white\",\"ticks\":\"\"},\"bgcolor\":\"#E5ECF6\",\"caxis\":{\"gridcolor\":\"white\",\"linecolor\":\"white\",\"ticks\":\"\"}},\"title\":{\"x\":0.05},\"xaxis\":{\"automargin\":true,\"gridcolor\":\"white\",\"linecolor\":\"white\",\"ticks\":\"\",\"title\":{\"standoff\":15},\"zerolinecolor\":\"white\",\"zerolinewidth\":2},\"yaxis\":{\"automargin\":true,\"gridcolor\":\"white\",\"linecolor\":\"white\",\"ticks\":\"\",\"title\":{\"standoff\":15},\"zerolinecolor\":\"white\",\"zerolinewidth\":2}}},\"title\":{\"font\":{\"color\":\"#4D5663\"}},\"xaxis\":{\"gridcolor\":\"#E1E5ED\",\"showgrid\":true,\"tickfont\":{\"color\":\"#4D5663\"},\"title\":{\"font\":{\"color\":\"#4D5663\"},\"text\":\"Flax Seeds (NOW foods real food) Price\"},\"zerolinecolor\":\"#E1E5ED\"},\"yaxis\":{\"gridcolor\":\"#E1E5ED\",\"showgrid\":true,\"tickfont\":{\"color\":\"#4D5663\"},\"title\":{\"font\":{\"color\":\"#4D5663\"},\"text\":\"Hectograms\"},\"zerolinecolor\":\"#E1E5ED\"}},                        {\"showLink\": true, \"linkText\": \"Export to plot.ly\", \"plotlyServerURL\": \"https://plot.ly\", \"responsive\": true}                    ).then(function(){\n",
       "                            \n",
       "var gd = document.getElementById('592861e8-5e3f-4a82-971a-adf4ad3dd72b');\n",
       "var x = new MutationObserver(function (mutations, observer) {{\n",
       "        var display = window.getComputedStyle(gd).display;\n",
       "        if (!display || display === 'none') {{\n",
       "            console.log([gd, 'removed!']);\n",
       "            Plotly.purge(gd);\n",
       "            observer.disconnect();\n",
       "        }}\n",
       "}});\n",
       "\n",
       "// Listen for the removal of the full notebook cells\n",
       "var notebookContainer = gd.closest('#notebook-container');\n",
       "if (notebookContainer) {{\n",
       "    x.observe(notebookContainer, {childList: true});\n",
       "}}\n",
       "\n",
       "// Listen for the clearing of the current output cell\n",
       "var outputEl = gd.closest('.output');\n",
       "if (outputEl) {{\n",
       "    x.observe(outputEl, {childList: true});\n",
       "}}\n",
       "\n",
       "                        })                };                });            </script>        </div>"
      ]
     },
     "metadata": {},
     "output_type": "display_data"
    }
   ],
   "source": [
    "import cufflinks as cf\n",
    "cf.go_offline()\n",
    "\n",
    "ReferenceGood = 'Flax Seeds (NOW foods real food)'\n",
    "\n",
    "scale = [0.5,0.75,0.9,1.,1.1,1.2,1.3,1.4,1.5,2,4]\n",
    "\n",
    "cost0_AK = solve_subsistence_problem(D,Prices_AK,\n",
    "                                  diet_min[group],diet_max[group],max_weight=10,tol=tol).fun\n",
    "\n",
    "my_p_AK = Prices_AK.copy()\n",
    "\n",
    "diet = {}\n",
    "for s in scale:\n",
    "\n",
    "    my_p_AK[ReferenceGood] = Prices_AK[ReferenceGood]*s\n",
    "    result_AK = solve_subsistence_problem(D,my_p_AK,\n",
    "                                       diet_min[group],diet_max[group],max_weight=10,tol=tol)\n",
    "    diet[my_p_AK[ReferenceGood]] = result_AK.diet\n",
    "\n",
    "Diet_response = pd.DataFrame(diet).T\n",
    "Diet_response.index.name = '%s Price' % ReferenceGood\n",
    "\n",
    "Diet_response.reset_index(inplace=True)\n",
    "\n",
    "# Get rid of units for index (cufflinks chokes)\n",
    "Diet_response['%s Price' % ReferenceGood] = Diet_response['%s Price' % ReferenceGood].apply(lambda x: x.magnitude)\n",
    "\n",
    "Diet_response = Diet_response.set_index('%s Price' % ReferenceGood)\n",
    "\n",
    "# Just look at goods consumed in quantities greater than error tolerance\n",
    "Diet_response.loc[:,(Diet_response>tol).sum()>0].iplot(xTitle='%s Price' % ReferenceGood,yTitle='Hectograms')"
   ]
  },
  {
   "cell_type": "code",
   "execution_count": null,
   "id": "b80988a8",
   "metadata": {},
   "outputs": [],
   "source": []
  }
 ],
 "metadata": {
  "kernelspec": {
   "display_name": "Python 3 (ipykernel)",
   "language": "python",
   "name": "python3"
  },
  "language_info": {
   "codemirror_mode": {
    "name": "ipython",
    "version": 3
   },
   "file_extension": ".py",
   "mimetype": "text/x-python",
   "name": "python",
   "nbconvert_exporter": "python",
   "pygments_lexer": "ipython3",
   "version": "3.9.10"
  }
 },
 "nbformat": 4,
 "nbformat_minor": 5
}
